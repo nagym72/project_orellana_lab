{
 "cells": [
  {
   "cell_type": "markdown",
   "id": "0d76882f-629a-47ec-9fca-3e42eff41150",
   "metadata": {},
   "source": [
    "### List of Imports"
   ]
  },
  {
   "cell_type": "code",
   "execution_count": 59,
   "id": "91b45735-f5e8-4081-a9c8-60a0729c7ec2",
   "metadata": {},
   "outputs": [],
   "source": [
    "import os\n",
    "import subprocess\n",
    "import warnings\n",
    "import requests\n",
    "import pandas as pd\n",
    "import numpy as np\n",
    "import pandas as pd\n",
    "from Bio.PDB import Selection, NeighborSearch\n",
    "from collections import defaultdict\n",
    "from Bio.PDB import PDBParser\n",
    "import dask.dataframe as dd\n",
    "import matplotlib.pyplot as plt\n",
    "import plotly.express as px"
   ]
  },
  {
   "cell_type": "markdown",
   "id": "0b264d59-9364-4f0f-85b0-514f880e420f",
   "metadata": {},
   "source": [
    "# Paths definition"
   ]
  },
  {
   "cell_type": "code",
   "execution_count": 65,
   "id": "cbcfbb06-2ad3-453a-b971-43b391976fcd",
   "metadata": {},
   "outputs": [],
   "source": [
    "# User dependent paths (must be passed as arguments)\n",
    "work_dir= \"/Users/fede/Desktop/Lab/Git/project_orellana_lab/mutational_clustering_work\"\n",
    "out_dir= \"/Users/fede/Desktop/Lab/Projects/mutational_clustering\"\n",
    "cosmic_genome_screens_mutant_tsv=\"/Users/fede/Heavyfiles/Cosmic_GenomeScreensMutant_Tsv_v99_GRCh37/Cosmic_GenomeScreensMutant_v99_GRCh37.tsv\"\n",
    "clinvar_variant_summary_txt=\"/Users/fede/Heavyfiles/clinvar_variant_summary.txt\"\n",
    "pymol_executable= '/opt/homebrew/Caskroom/miniforge/base/envs/env_mutclust/bin/pymol'\n",
    "egfr_pdb= \"/Users/fede/Desktop/Lab/Projects/EGFR/data/models_Arkhipov/EGFR_monomer_nomem.pdb\"\n",
    "\n",
    "# User independent paths (repo files)\n",
    "cosmic_classification= f\"{work_dir}/Cosmic_Classification_v99_GRCh37.tsv\"\n",
    "\n",
    "# Other paths\n",
    "test_pdb=f\"{work_dir}/1yoh.pdb\"\n"
   ]
  },
  {
   "cell_type": "markdown",
   "id": "7d958fc9-7d66-4fad-b288-da0b3ca7336e",
   "metadata": {},
   "source": [
    "# Class object that we utilize as framework\n",
    "\n",
    "Initialized with either:\n",
    "- gene_name\n",
    "- uniprot_id"
   ]
  },
  {
   "cell_type": "code",
   "execution_count": 3,
   "id": "78f13819-7199-4034-82b6-ea0f04df25bb",
   "metadata": {},
   "outputs": [],
   "source": [
    "class MutationalClusterer:\n",
    "    def __init__(self, work_dir, out_dir,\n",
    "                 cosmic_classification=None, \n",
    "                 cosmic_genome_screens_mutant_tsv=None, \n",
    "                 clinvar_variant_summary_txt=None, \n",
    "                 uniprot_id= None,\n",
    "                 gene_name= None,\n",
    "                 logging=True):\n",
    "        '''\n",
    "        General File structure should be something like:\n",
    "        https://tree.nathanfriend.io/?s=(%27opGHs!(%27fancy8~fullPath!fJse~trailingSlash8~rootDot8)~K(%27K%27work_dir5C0QD64Swissprot.DB4OthA_files_for_Mlookup_in_d6.DB--IntAmediates4F_protein_mulGple_seq2.Ji4summary_staGsGcs29quJity2_df93-Results4*Mdf9*MplotsL*4*additHJ4*5Pymol_output-Example4screenshotL35PDBsQ4D6_parsA_s7%204NeighbFhood_clustAA.py43-3-%27)~vAsiH!%271%27)*%20%20-5*0HsAvaGH2_Jignment3...%2F4-*5%5Cn*6atabase7cripts8!true9.csv4AerFourGtiHonJalKsFce!L.png4Mc0_Q-S7-%01QMLKJHGFA987654320-*\n",
    "        .\n",
    "        └── work_dir/\n",
    "            ├── Conservation/\n",
    "            │   ├── Scripts\n",
    "            │   ├── Database/\n",
    "            │   │   ├── Swissprot.DB\n",
    "            │   │   └── Other_files_for_conservation_lookup_in_database.DB\n",
    "            │   ├── Intermediates/\n",
    "            │   │   ├── our_protein_multiple_seq_alignment.ali\n",
    "            │   │   ├── summary_statistics_alignment.csv\n",
    "            │   │   ├── quality_alignment_df.csv\n",
    "            │   │   └── .../\n",
    "            │   └── Results/\n",
    "            │       ├── conservation_df.csv\n",
    "            │       ├── conservation_plots.png\n",
    "            │       └── additonal\n",
    "            ├── Pymol_output/\n",
    "            │   └── Example/\n",
    "            │       ├── screenshot.png\n",
    "            │       └── .../\n",
    "            └── PDBs/\n",
    "                ├── Scripts/\n",
    "                │   ├── Database_parser_scripts \n",
    "                │   ├── Neighbourhood_clusterer.py\n",
    "                │   └── .../\n",
    "                └── .../\n",
    "        \n",
    "        '''\n",
    "        self.work_dir = work_dir #the directory we want to work in\n",
    "        self.log_dir = logging # we want to store log results for whatever we do.\n",
    "        self.cosmic_classification = cosmic_classification\n",
    "        self.cosmic_genome_screens_mutant_tsv= cosmic_genome_screens_mutant_tsv\n",
    "        self.clinvar_variant_summary_txt= clinvar_variant_summary_txt\n",
    "        self.uniprot_id= uniprot_id\n",
    "        self.gene_name= gene_name\n",
    "        self.out_dir= out_dir\n",
    "        #Your other features of the class that we need.\n",
    "\n",
    "        self.genename_or_uniprotid()\n",
    "        \n",
    "    def genename_or_uniprotid(self):\n",
    "        \"\"\"\n",
    "        if uniprot_id is provided to the class, this is always converted \n",
    "        to gene name\n",
    "        \"\"\"\n",
    "        if self.gene_name is not None:\n",
    "            pass\n",
    "        elif self.uniprot_id is not None:\n",
    "            self.gene_name = self._get_gene_name(self.uniprot_id)\n",
    "        else:\n",
    "            raise ValueError(\"Either uniprot_id or gene_name must be provided\")\n",
    "\n",
    "    def _get_gene_name(self, uniprot_id:str):\n",
    "        \"\"\"\n",
    "        returns gene name from uniprot id\n",
    "        \"\"\"\n",
    "    \n",
    "        fields = \"id\"\n",
    "        \n",
    "        URL = f\"https://rest.uniprot.org/uniprotkb/search?format=tsv&fields={fields}&query={uniprot_id}\"\n",
    "        resp = self._get_url(URL)\n",
    "        resp = resp.text\n",
    "        resp = resp.split(\"\\n\")\n",
    "\n",
    "        if not resp[1]:\n",
    "            raise ValueError(\"No gene name found for this Uniprot ID\")\n",
    "\n",
    "        if resp[2]:\n",
    "            #ambigous result\n",
    "            warnings.warn(\"Gene name search resulted in more than one hit:\\n\" + str(resp[1:]))\n",
    "        \n",
    "        #don't care about organism specification e.g. EFGR_HUMAN -> EGFR\n",
    "        return resp[1].split(\"_\")[0]\n",
    "\n",
    "    def _visualize_clusters_pymol(self, pdb:str) -> None:\n",
    "        \"\"\"\n",
    "        Utility function to visualize cluster in pymol.\n",
    "        \"\"\"\n",
    "        \n",
    "        #from pymol import cmd\n",
    "        pass\n",
    "\n",
    "    def _plot_clusters(self, pdb:str) -> object:\n",
    "        \"\"\"\n",
    "        Helper function to plot some statistics or quick interactive plots to investigate clustering.\n",
    "        Mostly thought about pyplot or plotly interactive plots i.e alignment where we can see the conservation etc.\n",
    "        https://plotly.com/python/alignment-chart/\n",
    "        \"\"\"\n",
    "\n",
    "    def compute_neighbours(self, pdb:str, cutoff=8.0) -> pd.DataFrame:\n",
    "\n",
    "        parser= PDBParser()\n",
    "        # Initialize parser and retrieve structure\n",
    "        structure = parser.get_structure(\"default\", pdb)\n",
    "        atom_list = Selection.unfold_entities(structure, \"A\")  # Retrieve all atoms\n",
    "    \n",
    "        # Initialize NeighborSearch with all atoms and prepare to store results\n",
    "        ns = NeighborSearch(atom_list)\n",
    "        neighbour_dict = defaultdict(set)  # Use set to avoid duplicates\n",
    "    \n",
    "        # Define list of standard amino acids to exclude solvents and ligands\n",
    "        aa_lst = [\n",
    "            \"VAL\", \"ALA\", \"GLY\", \"TRP\", \"ARG\", \"LYS\", \"LEU\", \"ILE\", \"ASP\", \"ASN\",\n",
    "            \"GLN\", \"GLU\", \"PRO\", \"TYR\", \"PHE\", \"SER\", \"THR\", \"CYS\", \"MET\", \"HIS\"\n",
    "        ]\n",
    "    \n",
    "        # Search for neighboring residues for each atom\n",
    "        for atom in atom_list:\n",
    "            residue = atom.get_parent()\n",
    "            res_name = residue.get_resname()\n",
    "            res_id = residue.get_id()[1]\n",
    "    \n",
    "            # Skip non-amino acid residues\n",
    "            if res_name not in aa_lst:\n",
    "                continue\n",
    "    \n",
    "            # Search for neighboring residues within the cutoff distance\n",
    "            for neighbour in ns.search(atom.get_coord(), cutoff, \"R\"):\n",
    "                neighbour_id = neighbour.get_id()[1]\n",
    "                if neighbour_id != res_id:  # Exclude the residue itself\n",
    "                    neighbour_dict[res_name + str(res_id)].add(neighbour_id)\n",
    "    \n",
    "            \n",
    "        # Convert the neighbor dictionary to a list of tuples\n",
    "        neighbour_data = [(res_id, ' '.join(map(str, sorted(neighbours)))) for res_id, neighbours in neighbour_dict.items()]\n",
    "\n",
    "        # Create a pandas DataFrame\n",
    "        df_neighbours = pd.DataFrame(neighbour_data, columns=['Residue_ID', 'Neighbours'])\n",
    "        return df_neighbours\n",
    "    \n",
    "\n",
    "    def conservation(self, uniprot_id):\n",
    "        '''Gets 3 different types of Conservation:\n",
    "        - Shannon conservation: \n",
    "        Shannon entropy. \n",
    "        Higher values indicate lower conservation and greater variability at the site.\n",
    "        \n",
    "        - Relative conservation:\n",
    "        Kullback-Leibler divergence.\n",
    "        Higher values indicate greater conservation and lower variability at the site.\n",
    "        \n",
    "        - Lockless conservation\n",
    "        Evolutionary conservation parameter defined by Lockless and Ranganathan (1999). \n",
    "        Higher values indicate greater conservation and lower variability at the site.\n",
    "        '''\n",
    "\n",
    "        if self.log_dir and not os.path.exists(self.log_dir):\n",
    "            os.makedirs(self.log_dir)\n",
    "        \n",
    "        mmseq_fasta_result = self._mmseq_multi_fasta(uniprot_id=uniprot_id, outdir=self.work_dir)\n",
    "        #get 3 different conservation scores in a pandas df.\n",
    "        conserv_df = self._get_conservation(path_to_msa=mmseq_fasta_result)\n",
    "        self.conservation_df = conserv_df\n",
    "\n",
    "        conserv_df.to_csv(f\"{self.log_dir}/conservation_df.csv\")\n",
    "\n",
    "        \n",
    "    def _mmseq_multi_fasta(self, uniprot_id:str, outdir:str, \n",
    "                      sensitivity=7, filter_msa=0,\n",
    "                     query_id = 0.6):\n",
    "        \"\"\"\n",
    "        uniprot_id: The unique uniprot identifier used to fetch the corresponding fasta file that will be used as a template for mmseq2\n",
    "        outdir: location where result files will be stored.\n",
    "        sensitivity: mmseq2 specific parameter that goes from 1-7. The higher the more sensitive the search.\n",
    "        filter_msa = 0 default. if 1 hits are stricter.\n",
    "        query_id = 0.6 [0, 1]  the higher the more identity with query is retrieved. 1 means ONLY the query hits while 0 means take everything possible.\n",
    "        \"\"\"\n",
    "\n",
    "        #we blast with this fasta as query.\n",
    "        trgt_fasta_seq = self._get_gene_fasta(uniprot_id)\n",
    "        #Make outdir for all required files.\n",
    "        #we need to write it out to file.\n",
    "        with open(f\"{self.work_dir}/{uniprot_id}_fasta.fa\", \"w\") as fasta_out:\n",
    "            fasta_out.write(f\">{uniprot_id}\\n\")\n",
    "            fasta_out.write(trgt_fasta_seq)\n",
    "\n",
    "        #fetch pre downloaded database from a parent folder.\n",
    "        msa_file = None\n",
    "        new_location = None\n",
    "        try:\n",
    "            DB_storage_location = f\"{work_dir}\"\n",
    "            #shutil.copy(previous_path, savepath)\n",
    "            bash_curl_cmd = f\"mmseqs createdb {self.work_dir}/{uniprot_id}_fasta.fa {DB_storage_location}/query_fastaDB\" \n",
    "            bash_curl_cmd_rdy = bash_curl_cmd.split()\n",
    "            #run first cmd which setups query database based on our input fasta file\n",
    "            result_setup_query_db = run(bash_curl_cmd_rdy, stdout=PIPE, stderr=PIPE, \n",
    "                                 universal_newlines=True)\n",
    "            bash_curl_cmd_2 = f\"mmseqs search {DB_storage_location}/query_fastaDB {DB_storage_location}/swiss_DB {DB_storage_location}/result_DB {DB_storage_location}/tmp -s {sensitivity}\"    \n",
    "            bash_curl_cmd_rdy_2 = bash_curl_cmd_2.split()\n",
    "            #run 2nd cmd which blasts against swiss_DB and generates the resultDB (i.e our hits that were found)\n",
    "            result_setup_blast_db = run(bash_curl_cmd_rdy_2, stdout=PIPE, stderr=PIPE, \n",
    "                                 universal_newlines=True)\n",
    "            #mmseqs convert2fasta DB_clu_rep DB_clu_rep.fasta\n",
    "            bash_curl_cmd_5 = f\"mmseqs result2msa {DB_storage_location}/query_fastaDB {DB_storage_location}/swiss_DB {DB_storage_location}/result_DB {DB_storage_location}/{uniprot_id}_out.fasta --msa-format-mode 3 --filter-msa {filter_msa} --qid {query_id}\" \n",
    "            bash_curl_cmd_5_rdy = bash_curl_cmd_5.split()\n",
    "            result_setup_msa_convert = run(bash_curl_cmd_5_rdy, stdout=PIPE, stderr=PIPE, \n",
    "                                 universal_newlines=True)\n",
    "            #delete last line.. required.\n",
    "            sed_cmd = f'sed -e 1,4d -e $d {DB_storage_location}/{uniprot_id}_out.fasta'        \n",
    "            bash_curl_cmd_6_rdy = sed_cmd.split()\n",
    "            #f\"{DB_storage_location}/{uniprot_id}_new_out.fasta\"\n",
    "            with open(f\"{DB_storage_location}/{uniprot_id}_new_out.fasta\", \"w\") as new_fasta:\n",
    "                result_truncation = run(bash_curl_cmd_6_rdy, stdout=new_fasta, stderr=PIPE, \n",
    "                                 universal_newlines=True)\n",
    "            # Specify the path to your MSA file\n",
    "            msa_file = f\"{DB_storage_location}/{uniprot_id}_new_out.fasta\"\n",
    "            #transfer the meta file to another location and delete useless files.\n",
    "            # we need to delete : all uniprot* files. \n",
    "            # all query*. All result* \n",
    "            new_location = f\"{self.work_dir}/{uniprot_id}.fasta\"\n",
    "            shutil.copy(msa_file, new_location)\n",
    "            #remove_files_and_dirs_msa(DB_storage_location, uniprot_id=uniprot_id)\n",
    "            \n",
    "        except Exception as error:\n",
    "            print(error)\n",
    "        #we want the path to msa_file for downstream analysis.\n",
    "        return new_location\n",
    "\n",
    "    def _get_gene_fasta(self, uniprot_id:str):\n",
    "        '''\n",
    "        Helper function to grab the sequence \n",
    "        based on the Uniprot ID\n",
    "        '''\n",
    "        fields = \"sequence\"\n",
    "        URL = f\"https://rest.uniprot.org/uniprotkb/search?format=fasta&fields={fields}&query={uniprot_id}\"\n",
    "        resp = self._get_url(URL)\n",
    "        resp = resp.iter_lines(decode_unicode=True)\n",
    "        seq = \"\"\n",
    "        i = 0\n",
    "        for lines in resp:\n",
    "            if i > 0:\n",
    "                seq += lines\n",
    "            i += 1\n",
    "        return seq\n",
    "\n",
    "    def _get_conservation(self, path_to_msa:str):    \n",
    "        '''\n",
    "        Helper function to compute 3 different types of conservation.\n",
    "        \n",
    "        - Shannon conservation: \n",
    "        Shannon entropy. \n",
    "        Higher values indicate lower conservation and greater variability at the site.\n",
    "        \n",
    "        - Relative conservation:\n",
    "        Kullback-Leibler divergence.\n",
    "        Higher values indicate greater conservation and lower variability at the site.\n",
    "        \n",
    "        - Lockless conservation\n",
    "        Evolutionary conservation parameter defined by Lockless and Ranganathan (1999). \n",
    "        Higher values indicate greater conservation and lower variability at the site.\n",
    "        '''\n",
    "        canal = Canal(fastafile=path_to_msa, #Multiple sequence alignment (MSA) of homologous sequences\n",
    "          ref=0, #Position of reference sequence in MSA, use first sequence always\n",
    "          startcount=0, # ALways 0 because our seqs are always from 1 - end\n",
    "          verbose=False) # no verbosity \n",
    "    \n",
    "        result_cons = canal.analysis(method=\"all\")\n",
    "        return result_cons\n",
    "\n",
    "    def _get_url(self, url):\n",
    "        '''Helper function that uses requests for Downloads.'''\n",
    "        try:\n",
    "            response = requests.get(url)  \n",
    "            if not response.ok:\n",
    "                print(response.text)\n",
    "        except:\n",
    "            response.raise_for_status()\n",
    "            #sys.exit() \n",
    "        return response\n",
    "\n",
    "    def _get_cosmic_mutations(self, **kwargs)->pd.DataFrame:\n",
    "        \"\"\"\n",
    "        retrieves mutations from cosmic database from gene name (or uniprot id from higher level)\n",
    "        \"\"\"\n",
    "            \n",
    "        path=self.cosmic_genome_screens_mutant_tsv             \n",
    "\n",
    "            \n",
    "        #default columns we want to retrieve. can be changed / added through kwargs later\n",
    "        usecols=['GENE_SYMBOL',\n",
    "         'MUTATION_AA', 'MUTATION_DESCRIPTION', 'CHROMOSOME', \n",
    "                 'GENOME_START', 'GENOME_STOP', 'COSMIC_PHENOTYPE_ID', 'MUTATION_SOMATIC_STATUS', 'GENOMIC_MUTATION_ID', 'MUTATION_ID']\n",
    "\n",
    "        df = dd.read_csv(path, sep=\"\\t\", dtype={'CHROMOSOME': 'object', \n",
    "        'GENOME_START': 'float64',\n",
    "       'GENOME_STOP': 'float64'}, usecols=usecols)  #specify dtype / usecols to minimize memory usage required through load in.\n",
    "\n",
    "\n",
    "        #we need to switch these tuples and then map the 1letter aa code to 3letter aa \n",
    "        #for later compatibility.\n",
    "        lst =  [('Val',\"V\"), ('Ile',\"I\"), ('Leu',\"L\"), ('Glu',\"E\"), ('Gln',\"Q\"),\n",
    "                    ('Asp',\"D\"), ('Asn',\"N\"), ('His',\"H\"), ('Trp',\"W\"), ('Phe',\"F\"), ('Tyr',\"Y\"), \n",
    "                    ('Arg',\"R\"), ('Lys',\"K\"), ('Ser',\"S\"), ('Thr',\"T\"), ('Met',\"M\"), ('Ala',\"A\"), \n",
    "                    ('Gly',\"G\"), ('Pro',\"P\"), ('Cys',\"C\")]\n",
    "        \n",
    "        lst = [(y, x) for x, y in lst] #switch y and x position for convinience\n",
    "\n",
    "        canonical_aas = defaultdict(lambda: \"X\", lst) #default if key not found = \"X\"\n",
    "\n",
    "        #filtering based on \"missense\" mutation. this can be tricky and sometimes messy but lets stick with that\n",
    "        df_re = df[df[\"MUTATION_DESCRIPTION\"].str.contains(\"missense\")]\n",
    "\n",
    "        #now lets filter our uniprot gene name\n",
    "        df_re = df_re[df_re[\"GENE_SYMBOL\"] == f\"{self.gene_name}\"]\n",
    "\n",
    "        #retrieve relevant information\n",
    "        meta = ('Gene name', 'str') \n",
    "        df_re['CHROMOSOME'] = df_re['CHROMOSOME'].astype('object')\n",
    "        df_re['WT_AA'] = df_re['MUTATION_AA'].str[2].apply(lambda x: canonical_aas[x], meta=meta)\n",
    "        df_re['MUTATION_POSITION'] = df_re['MUTATION_AA'].str[3:-1]\n",
    "        df_re['MUTATED_AA'] = df_re['MUTATION_AA'].str[-1].apply(lambda x: canonical_aas[x], meta=meta)\n",
    "\n",
    "        #redundant so we drop it\n",
    "        df_re = df_re.drop(\"MUTATION_AA\", axis=1)\n",
    "\n",
    "        #now we use compute() which finally does the computation (before all actions were \"lazy\" computations\n",
    "        # so we dont actually need the RAM. now we do it though.)\n",
    "        cosmic_df = df_re.compute()\n",
    "    \n",
    "        cosmic_df[\"GENOME_START\"] = cosmic_df[\"GENOME_START\"].astype(int)\n",
    "        cosmic_df[\"GENOME_STOP\"] = cosmic_df[\"GENOME_STOP\"].astype(int)\n",
    "\n",
    "\n",
    "        #Primary site is not directly retrievable\n",
    "        #Fetch primary site from classification file based on cosmic_phenotype_id and merge\n",
    "        classification_df = pd.read_csv(self.cosmic_classification, sep='\\t')\n",
    "        cosmic_df = pd.merge(cosmic_df, classification_df[['COSMIC_PHENOTYPE_ID', 'PRIMARY_SITE']], on='COSMIC_PHENOTYPE_ID', how='left')\n",
    "        cosmic_df = cosmic_df.drop('COSMIC_PHENOTYPE_ID', axis=1)\n",
    "\n",
    "        #Drop when ambigous position (more than one position reported, very rare) \n",
    "        cosmic_df['MUTATION_POSITION'] = pd.to_numeric(cosmic_df['MUTATION_POSITION'], errors='coerce')\n",
    "        cosmic_df = cosmic_df.dropna(subset=['MUTATION_POSITION'])\n",
    "\n",
    "        #Drop when MUTATION_SOMATIC_STATUS = Variant of unknown origin (lack of normal tissue control) \n",
    "        cosmic_df = cosmic_df.drop(cosmic_df[cosmic_df['MUTATION_SOMATIC_STATUS'] == 'Variant of unknown origin'].index)\n",
    "        \n",
    "\n",
    "        \n",
    "        #Sorting rules\n",
    "        cosmic_df['MUTATION_POSITION'] = cosmic_df['MUTATION_POSITION'].astype(int)\n",
    "        cosmic_df = cosmic_df.sort_values(['MUTATION_POSITION', 'GENOMIC_MUTATION_ID', 'MUTATION_ID'], ascending=True)\n",
    "\n",
    "        \n",
    "        \n",
    "        #return df\n",
    "        return cosmic_df\n",
    "\n",
    "\n",
    "    def _get_gnomad_mutations(self, gnomad_data_table_path:str, **kwargs)-> pd.DataFrame:\n",
    "        \"\"\"Documentation.\n",
    "        Currently this part does not convert the result to a df.\n",
    "        I will implement it and return a pandas DF\n",
    "        \"\"\"\n",
    "        mt = hl.read_matrix_table(path)  #matrix table because df would not work with such large data.\n",
    "\n",
    "\n",
    "        #string based search because there is NO API for gnomAD.\n",
    "        substring1 = self.gene_name\n",
    "        substring2 = \"missense\"\n",
    "        \n",
    "        mt = mt.annotate_rows(Gene_names=mt.info.vep.map(\n",
    "            lambda x: x.split(\"\\|\")[3]) ,\n",
    "                          type_of_change = mt.info.vep.map(\n",
    "            lambda x: x.split(\"\\|\")[1]) , \n",
    "                          AA_change = mt.info.vep.map(\n",
    "            lambda x: x.split(\"\\|\")[11]) , \n",
    "                          ENST_identifier= mt.info.vep.map(\n",
    "            lambda x: x.split(\"\\|\")[6])\n",
    "    \n",
    "        ) \n",
    "                 \n",
    "        filtered_mt_2 = mt.filter_rows(\n",
    "        #hl.any(lambda x: hl.str(x).contains(substring3), mt.AA_change)\n",
    "        hl.any(lambda x: hl.str(x).contains(substring1), mt.info.vep) &\n",
    "        hl.any(lambda x: hl.str(x).contains(substring2), mt.info.vep)\n",
    "        \n",
    "        )\n",
    "                         \n",
    "        filtered_mt_3 = filtered_mt_2.annotate_rows(\n",
    "            Allele_count_int = filtered_mt_2.info.AC,\n",
    "            Allele_frequency_float = filtered_mt_2.info.AF,\n",
    "            Allele_number_int = filtered_mt_2.info.AN,\n",
    "            Gene_name_str = _replace_empty(filtered_mt_2.Gene_names), \n",
    "            Mutation_change_str = _replace_empty(filtered_mt_2.AA_change),\n",
    "            Type_of_change_str = _replace_empty(filtered_mt_2.type_of_change))\n",
    "        \n",
    "        #this can be again regulated later trough kwargs**\n",
    "        rows_to_keep = [\"Gene_name_str\", \"Mutation_change_str\", \"Type_of_change_str\", \"Allele_count_int\",\n",
    "                    \"Allele_frequency_float\", \"Allele_number_int\"]\n",
    "    \n",
    "    \n",
    "        selected_rows = filtered_mt_3.select_rows(\n",
    "            Allele_count_int=filtered_mt_3.Allele_count_int,\n",
    "            Allele_frequency_float=filtered_mt_3.Allele_frequency_float,\n",
    "            Allele_number_int=filtered_mt_3.Allele_number_int,\n",
    "            Gene_name_str=hl.str(filtered_mt_3.Gene_name_str),\n",
    "            Mutation_change_str=hl.str(filtered_mt_3.Mutation_change_str),\n",
    "            Type_of_change_str=hl.str(filtered_mt_3.Type_of_change_str)\n",
    "                )\n",
    "    \n",
    "        save_buffer = selected_rows.select_rows(*rows_to_keep)\n",
    "        select_rows_out = save_buffer.rows()\n",
    "\n",
    "        return (select_rows_out)\n",
    "        #part missing to convert to pandas DF.\n",
    "        \n",
    "        #return pd.DataFrame() \n",
    "\n",
    "    def _get_clinvar_mutations(self, **kwargs)-> pd.DataFrame:\n",
    "        \"\"\"\n",
    "        Documentation missing.\n",
    "        \"\"\"\n",
    "        \n",
    "        #can be regulated through kwargs\n",
    "        use_cols = [\"Type\", \"Name\", \"GeneSymbol\",\n",
    "           \"ClinicalSignificance\", \"PhenotypeList\",\n",
    "           \"Assembly\", \"ChromosomeAccession\", \n",
    "           \"Chromosome\", \"Start\", \"Stop\"]\n",
    "        \n",
    "        #this here as well / mapping needed to save memory at load in.\n",
    "        column_data_types = {\n",
    "        \"Type\": str,\n",
    "        \"Name\": str,\n",
    "        \"GeneSymbol\": str,\n",
    "        \"ClinicalSignificance\": str,\n",
    "        \"PhenotypeList\": str,\n",
    "        \"Assembly\": str,\n",
    "        \"ChromosomeAccession\": str,\n",
    "        \"Chromosome\": str,\n",
    "        \"Start\": int,\n",
    "        \"Stop\": int\n",
    "        }\n",
    "\n",
    "        #lets read in the clinvar all var file.\n",
    "        df_work = pd.read_csv(self.clinvar_variant_summary_txt, sep=\"\\t\", usecols=use_cols, dtype=column_data_types)\n",
    "    \n",
    "        df_work.loc[:, \"AA_change\"] = df_work[\"Name\"].str.split().str.get(-1)\n",
    "        df_work.loc[:, \"AA_change\"] = df_work[\"AA_change\"].str.replace(\"(\", \"\")\n",
    "        df_work.loc[:, \"AA_change\"] = df_work[\"AA_change\"].str.replace(\")\", \"\")\n",
    "        \n",
    "        df_work.loc[:,\"Original_AA\"] = df_work[\"AA_change\"].str[2:5]\n",
    "        df_work.loc[:,\"Modified_AA\"] = df_work[\"AA_change\"].str[-3:]\n",
    "        df_work['Position'] = pd.to_numeric(df_work['AA_change'].str[5:-3], errors='coerce')\n",
    "        \n",
    "        # Drop rows with NaN values in the 'Position' column\n",
    "        df_work.dropna(subset=['Position'], inplace=True)\n",
    "        df_work['Position'] = df_work['Position'].astype(int)\n",
    "        \n",
    "        df_work[\"Genomic_location\"] = df_work[\"Chromosome\"] + \":\" + df_work[\"Start\"].astype(str)\n",
    "        df_work[\"gnomad_aa_change\"] = \"p.\" + df_work[\"Original_AA\"] + df_work[\"Position\"].astype(str) + df_work[\"Modified_AA\"]\n",
    "        \n",
    "        df_work = df_work.drop(\"AA_change\", axis=1)\n",
    "        df_work = df_work.drop(\"Name\", axis=1)\n",
    "        df_work = df_work.drop(\"Chromosome\", axis=1)\n",
    "        df_work = df_work.drop(\"Start\", axis=1)\n",
    "        df_work = df_work.drop(\"Stop\", axis=1)\n",
    "        \n",
    "        \n",
    "        accepted_residues = [\"Ala\", \"Gly\", \"Ser\", \"Leu\", \"Pro\",\n",
    "                        \"Ile\", \"Val\", \"Phe\", \"Tyr\", \"Trp\",\n",
    "                         \"His\", \"Thr\", \"Asn\", \"Gln\", \"Asp\", \n",
    "                         \"Glu\",\"Cys\", \"Met\", \"Lys\", \"Arg\"]\n",
    "        \n",
    "        #filtering based on our Gene name.\n",
    "        df_clinvar = df_work[(df_work[\"Type\"] == \"single nucleotide variant\") & \n",
    "            (df_work[\"GeneSymbol\"] == self.gene_name) &\n",
    "            (df_work[\"Assembly\"] == \"GRCh37\") & \n",
    "            (df_work['Original_AA'].isin(accepted_residues)) &\n",
    "            (df_work['Modified_AA'].isin(accepted_residues)) ]\n",
    "        \n",
    "        #export\n",
    "\n",
    "        df_clinvar=df_clinvar.sort_values('Position', ascending=True)\n",
    "        \n",
    "        return df_clinvar\n",
    "\n",
    "    def export(self, **kwargs):\n",
    "        #cosmic\n",
    "        if 'cosmic' in kwargs and kwargs['cosmic']:\n",
    "            self._get_cosmic_mutations().to_csv(os.path.join(self.out_dir, f'df_cosmic_{self.gene_name}.tsv'), sep='\\t', index=False)\n",
    "      \n",
    "        #clinvar\n",
    "        if 'clinvar' in kwargs and kwargs['clinvar']:\n",
    "            self._get_clinvar_mutations().to_csv(os.path.join(self.out_dir, f'df_clinvar_{self.gene_name}.tsv'), sep='\\t', index=False)\n",
    "\n",
    "\n",
    "mmcluster = MutationalClusterer(work_dir=work_dir, out_dir=out_dir,\n",
    "                                cosmic_classification=cosmic_classification, \n",
    "                                cosmic_genome_screens_mutant_tsv=cosmic_genome_screens_mutant_tsv,\n",
    "                                clinvar_variant_summary_txt=clinvar_variant_summary_txt,\n",
    "                                gene_name=\"EGFR\"\n",
    "                               )"
   ]
  },
  {
   "cell_type": "code",
   "execution_count": 11,
   "id": "803c86a7-0a54-4eb2-a2f8-227680a4686d",
   "metadata": {},
   "outputs": [],
   "source": [
    "mmcluster.export(cosmic=True)"
   ]
  },
  {
   "cell_type": "code",
   "execution_count": 68,
   "id": "3e4bb835-2b01-4aaa-a529-7d9cd69bce17",
   "metadata": {
    "collapsed": true,
    "jupyter": {
     "outputs_hidden": true
    },
    "scrolled": true
   },
   "outputs": [
    {
     "data": {
      "text/html": [
       "<div>\n",
       "<style scoped>\n",
       "    .dataframe tbody tr th:only-of-type {\n",
       "        vertical-align: middle;\n",
       "    }\n",
       "\n",
       "    .dataframe tbody tr th {\n",
       "        vertical-align: top;\n",
       "    }\n",
       "\n",
       "    .dataframe thead th {\n",
       "        text-align: right;\n",
       "    }\n",
       "</style>\n",
       "<table border=\"1\" class=\"dataframe\">\n",
       "  <thead>\n",
       "    <tr style=\"text-align: right;\">\n",
       "      <th></th>\n",
       "      <th>Residue_ID</th>\n",
       "      <th>Neighbours</th>\n",
       "    </tr>\n",
       "  </thead>\n",
       "  <tbody>\n",
       "    <tr>\n",
       "      <th>0</th>\n",
       "      <td>VAL1</td>\n",
       "      <td>2 3 4 6 7 79 80 133 134 137 140 235 240 246 25...</td>\n",
       "    </tr>\n",
       "    <tr>\n",
       "      <th>1</th>\n",
       "      <td>LEU2</td>\n",
       "      <td>1 3 4 5 6 7 8 9 10 11 76 79 80 127 129 130 131...</td>\n",
       "    </tr>\n",
       "    <tr>\n",
       "      <th>2</th>\n",
       "      <td>SER3</td>\n",
       "      <td>1 2 4 5 6 7 8 9 10 79 130 133 211 242 246 251 ...</td>\n",
       "    </tr>\n",
       "    <tr>\n",
       "      <th>3</th>\n",
       "      <td>GLU4</td>\n",
       "      <td>1 2 3 5 6 7 8 9 10 11 79 81 242 246 251 274 29...</td>\n",
       "    </tr>\n",
       "    <tr>\n",
       "      <th>4</th>\n",
       "      <td>GLY5</td>\n",
       "      <td>2 3 4 6 7 8 9 10 11 12 79 126 127 130 211 242 ...</td>\n",
       "    </tr>\n",
       "    <tr>\n",
       "      <th>...</th>\n",
       "      <td>...</td>\n",
       "      <td>...</td>\n",
       "    </tr>\n",
       "    <tr>\n",
       "      <th>148</th>\n",
       "      <td>LEU149</td>\n",
       "      <td>87 90 91 92 93 94 95 142 143 144 145 146 147 1...</td>\n",
       "    </tr>\n",
       "    <tr>\n",
       "      <th>149</th>\n",
       "      <td>GLY150</td>\n",
       "      <td>94 95 143 144 145 146 147 148 149 151 152 153 ...</td>\n",
       "    </tr>\n",
       "    <tr>\n",
       "      <th>150</th>\n",
       "      <td>TYR151</td>\n",
       "      <td>90 91 92 93 94 95 96 97 98 99 100 101 142 143 ...</td>\n",
       "    </tr>\n",
       "    <tr>\n",
       "      <th>151</th>\n",
       "      <td>GLN152</td>\n",
       "      <td>94 100 101 139 140 141 142 143 144 145 146 147...</td>\n",
       "    </tr>\n",
       "    <tr>\n",
       "      <th>152</th>\n",
       "      <td>GLY153</td>\n",
       "      <td>94 98 99 100 101 102 103 104 143 146 147 150 1...</td>\n",
       "    </tr>\n",
       "  </tbody>\n",
       "</table>\n",
       "<p>153 rows × 2 columns</p>\n",
       "</div>"
      ],
      "text/plain": [
       "    Residue_ID                                         Neighbours\n",
       "0         VAL1  2 3 4 6 7 79 80 133 134 137 140 235 240 246 25...\n",
       "1         LEU2  1 3 4 5 6 7 8 9 10 11 76 79 80 127 129 130 131...\n",
       "2         SER3  1 2 4 5 6 7 8 9 10 79 130 133 211 242 246 251 ...\n",
       "3         GLU4  1 2 3 5 6 7 8 9 10 11 79 81 242 246 251 274 29...\n",
       "4         GLY5  2 3 4 6 7 8 9 10 11 12 79 126 127 130 211 242 ...\n",
       "..         ...                                                ...\n",
       "148     LEU149  87 90 91 92 93 94 95 142 143 144 145 146 147 1...\n",
       "149     GLY150  94 95 143 144 145 146 147 148 149 151 152 153 ...\n",
       "150     TYR151  90 91 92 93 94 95 96 97 98 99 100 101 142 143 ...\n",
       "151     GLN152  94 100 101 139 140 141 142 143 144 145 146 147...\n",
       "152     GLY153  94 98 99 100 101 102 103 104 143 146 147 150 1...\n",
       "\n",
       "[153 rows x 2 columns]"
      ]
     },
     "execution_count": 68,
     "metadata": {},
     "output_type": "execute_result"
    }
   ],
   "source": [
    "mmcluster.compute_neighbours(test_pdb)"
   ]
  },
  {
   "cell_type": "code",
   "execution_count": 4,
   "id": "bbdf3412-c3bb-4218-8e2b-a24f037195c8",
   "metadata": {},
   "outputs": [],
   "source": [
    "cosmic_originale=mmcluster._get_cosmic_mutations()\n",
    "#DROP MUTATION_SOMATIC_STATUS (we keep both confirmed and reported in another sample as somatic. Unknown was previously filtered out)\n",
    "cosmic_originale=cosmic_originale.drop(\"MUTATION_SOMATIC_STATUS\", axis=1)"
   ]
  },
  {
   "cell_type": "code",
   "execution_count": 5,
   "id": "e575a29e-7f5e-4987-8448-77ea4f93c052",
   "metadata": {},
   "outputs": [
    {
     "data": {
      "text/html": [
       "<div>\n",
       "<style scoped>\n",
       "    .dataframe tbody tr th:only-of-type {\n",
       "        vertical-align: middle;\n",
       "    }\n",
       "\n",
       "    .dataframe tbody tr th {\n",
       "        vertical-align: top;\n",
       "    }\n",
       "\n",
       "    .dataframe thead th {\n",
       "        text-align: right;\n",
       "    }\n",
       "</style>\n",
       "<table border=\"1\" class=\"dataframe\">\n",
       "  <thead>\n",
       "    <tr style=\"text-align: right;\">\n",
       "      <th></th>\n",
       "      <th>GENE_SYMBOL</th>\n",
       "      <th>GENOMIC_MUTATION_ID</th>\n",
       "      <th>MUTATION_ID</th>\n",
       "      <th>MUTATION_DESCRIPTION</th>\n",
       "      <th>CHROMOSOME</th>\n",
       "      <th>GENOME_START</th>\n",
       "      <th>GENOME_STOP</th>\n",
       "      <th>WT_AA</th>\n",
       "      <th>MUTATION_POSITION</th>\n",
       "      <th>MUTATED_AA</th>\n",
       "      <th>PRIMARY_SITE</th>\n",
       "    </tr>\n",
       "  </thead>\n",
       "  <tbody>\n",
       "    <tr>\n",
       "      <th>4799</th>\n",
       "      <td>EGFR</td>\n",
       "      <td>COSV51765770</td>\n",
       "      <td>61642373</td>\n",
       "      <td>missense_variant</td>\n",
       "      <td>7</td>\n",
       "      <td>55210075</td>\n",
       "      <td>55210075</td>\n",
       "      <td>Leu</td>\n",
       "      <td>62</td>\n",
       "      <td>Arg</td>\n",
       "      <td>central_nervous_system</td>\n",
       "    </tr>\n",
       "    <tr>\n",
       "      <th>4800</th>\n",
       "      <td>EGFR</td>\n",
       "      <td>COSV51765770</td>\n",
       "      <td>61642373</td>\n",
       "      <td>missense_variant</td>\n",
       "      <td>7</td>\n",
       "      <td>55210075</td>\n",
       "      <td>55210075</td>\n",
       "      <td>Leu</td>\n",
       "      <td>62</td>\n",
       "      <td>Arg</td>\n",
       "      <td>lung</td>\n",
       "    </tr>\n",
       "    <tr>\n",
       "      <th>4801</th>\n",
       "      <td>EGFR</td>\n",
       "      <td>COSV51765770</td>\n",
       "      <td>61642373</td>\n",
       "      <td>missense_variant</td>\n",
       "      <td>7</td>\n",
       "      <td>55210075</td>\n",
       "      <td>55210075</td>\n",
       "      <td>Leu</td>\n",
       "      <td>62</td>\n",
       "      <td>Arg</td>\n",
       "      <td>lung</td>\n",
       "    </tr>\n",
       "    <tr>\n",
       "      <th>4802</th>\n",
       "      <td>EGFR</td>\n",
       "      <td>COSV51765770</td>\n",
       "      <td>61642373</td>\n",
       "      <td>missense_variant</td>\n",
       "      <td>7</td>\n",
       "      <td>55210075</td>\n",
       "      <td>55210075</td>\n",
       "      <td>Leu</td>\n",
       "      <td>62</td>\n",
       "      <td>Arg</td>\n",
       "      <td>central_nervous_system</td>\n",
       "    </tr>\n",
       "    <tr>\n",
       "      <th>4803</th>\n",
       "      <td>EGFR</td>\n",
       "      <td>COSV51765770</td>\n",
       "      <td>61642373</td>\n",
       "      <td>missense_variant</td>\n",
       "      <td>7</td>\n",
       "      <td>55210075</td>\n",
       "      <td>55210075</td>\n",
       "      <td>Leu</td>\n",
       "      <td>62</td>\n",
       "      <td>Arg</td>\n",
       "      <td>central_nervous_system</td>\n",
       "    </tr>\n",
       "    <tr>\n",
       "      <th>4804</th>\n",
       "      <td>EGFR</td>\n",
       "      <td>COSV51765770</td>\n",
       "      <td>61642373</td>\n",
       "      <td>missense_variant</td>\n",
       "      <td>7</td>\n",
       "      <td>55210075</td>\n",
       "      <td>55210075</td>\n",
       "      <td>Leu</td>\n",
       "      <td>62</td>\n",
       "      <td>Arg</td>\n",
       "      <td>breast</td>\n",
       "    </tr>\n",
       "    <tr>\n",
       "      <th>4805</th>\n",
       "      <td>EGFR</td>\n",
       "      <td>COSV51765770</td>\n",
       "      <td>61642373</td>\n",
       "      <td>missense_variant</td>\n",
       "      <td>7</td>\n",
       "      <td>55210075</td>\n",
       "      <td>55210075</td>\n",
       "      <td>Leu</td>\n",
       "      <td>62</td>\n",
       "      <td>Arg</td>\n",
       "      <td>central_nervous_system</td>\n",
       "    </tr>\n",
       "    <tr>\n",
       "      <th>4806</th>\n",
       "      <td>EGFR</td>\n",
       "      <td>COSV51765770</td>\n",
       "      <td>61642373</td>\n",
       "      <td>missense_variant</td>\n",
       "      <td>7</td>\n",
       "      <td>55210075</td>\n",
       "      <td>55210075</td>\n",
       "      <td>Leu</td>\n",
       "      <td>62</td>\n",
       "      <td>Arg</td>\n",
       "      <td>central_nervous_system</td>\n",
       "    </tr>\n",
       "    <tr>\n",
       "      <th>4807</th>\n",
       "      <td>EGFR</td>\n",
       "      <td>COSV51765770</td>\n",
       "      <td>61642373</td>\n",
       "      <td>missense_variant</td>\n",
       "      <td>7</td>\n",
       "      <td>55210075</td>\n",
       "      <td>55210075</td>\n",
       "      <td>Leu</td>\n",
       "      <td>62</td>\n",
       "      <td>Arg</td>\n",
       "      <td>lung</td>\n",
       "    </tr>\n",
       "    <tr>\n",
       "      <th>4808</th>\n",
       "      <td>EGFR</td>\n",
       "      <td>COSV51765770</td>\n",
       "      <td>61642373</td>\n",
       "      <td>missense_variant</td>\n",
       "      <td>7</td>\n",
       "      <td>55210075</td>\n",
       "      <td>55210075</td>\n",
       "      <td>Leu</td>\n",
       "      <td>62</td>\n",
       "      <td>Arg</td>\n",
       "      <td>central_nervous_system</td>\n",
       "    </tr>\n",
       "    <tr>\n",
       "      <th>4809</th>\n",
       "      <td>EGFR</td>\n",
       "      <td>COSV51765770</td>\n",
       "      <td>61642373</td>\n",
       "      <td>missense_variant</td>\n",
       "      <td>7</td>\n",
       "      <td>55210075</td>\n",
       "      <td>55210075</td>\n",
       "      <td>Leu</td>\n",
       "      <td>62</td>\n",
       "      <td>Arg</td>\n",
       "      <td>central_nervous_system</td>\n",
       "    </tr>\n",
       "    <tr>\n",
       "      <th>4810</th>\n",
       "      <td>EGFR</td>\n",
       "      <td>COSV51765770</td>\n",
       "      <td>61642373</td>\n",
       "      <td>missense_variant</td>\n",
       "      <td>7</td>\n",
       "      <td>55210075</td>\n",
       "      <td>55210075</td>\n",
       "      <td>Leu</td>\n",
       "      <td>62</td>\n",
       "      <td>Arg</td>\n",
       "      <td>central_nervous_system</td>\n",
       "    </tr>\n",
       "    <tr>\n",
       "      <th>4811</th>\n",
       "      <td>EGFR</td>\n",
       "      <td>COSV51765770</td>\n",
       "      <td>61642373</td>\n",
       "      <td>missense_variant</td>\n",
       "      <td>7</td>\n",
       "      <td>55210075</td>\n",
       "      <td>55210075</td>\n",
       "      <td>Leu</td>\n",
       "      <td>62</td>\n",
       "      <td>Arg</td>\n",
       "      <td>central_nervous_system</td>\n",
       "    </tr>\n",
       "  </tbody>\n",
       "</table>\n",
       "</div>"
      ],
      "text/plain": [
       "     GENE_SYMBOL GENOMIC_MUTATION_ID  MUTATION_ID MUTATION_DESCRIPTION  \\\n",
       "4799        EGFR        COSV51765770     61642373     missense_variant   \n",
       "4800        EGFR        COSV51765770     61642373     missense_variant   \n",
       "4801        EGFR        COSV51765770     61642373     missense_variant   \n",
       "4802        EGFR        COSV51765770     61642373     missense_variant   \n",
       "4803        EGFR        COSV51765770     61642373     missense_variant   \n",
       "4804        EGFR        COSV51765770     61642373     missense_variant   \n",
       "4805        EGFR        COSV51765770     61642373     missense_variant   \n",
       "4806        EGFR        COSV51765770     61642373     missense_variant   \n",
       "4807        EGFR        COSV51765770     61642373     missense_variant   \n",
       "4808        EGFR        COSV51765770     61642373     missense_variant   \n",
       "4809        EGFR        COSV51765770     61642373     missense_variant   \n",
       "4810        EGFR        COSV51765770     61642373     missense_variant   \n",
       "4811        EGFR        COSV51765770     61642373     missense_variant   \n",
       "\n",
       "     CHROMOSOME  GENOME_START  GENOME_STOP WT_AA  MUTATION_POSITION  \\\n",
       "4799          7      55210075     55210075   Leu                 62   \n",
       "4800          7      55210075     55210075   Leu                 62   \n",
       "4801          7      55210075     55210075   Leu                 62   \n",
       "4802          7      55210075     55210075   Leu                 62   \n",
       "4803          7      55210075     55210075   Leu                 62   \n",
       "4804          7      55210075     55210075   Leu                 62   \n",
       "4805          7      55210075     55210075   Leu                 62   \n",
       "4806          7      55210075     55210075   Leu                 62   \n",
       "4807          7      55210075     55210075   Leu                 62   \n",
       "4808          7      55210075     55210075   Leu                 62   \n",
       "4809          7      55210075     55210075   Leu                 62   \n",
       "4810          7      55210075     55210075   Leu                 62   \n",
       "4811          7      55210075     55210075   Leu                 62   \n",
       "\n",
       "     MUTATED_AA            PRIMARY_SITE  \n",
       "4799        Arg  central_nervous_system  \n",
       "4800        Arg                    lung  \n",
       "4801        Arg                    lung  \n",
       "4802        Arg  central_nervous_system  \n",
       "4803        Arg  central_nervous_system  \n",
       "4804        Arg                  breast  \n",
       "4805        Arg  central_nervous_system  \n",
       "4806        Arg  central_nervous_system  \n",
       "4807        Arg                    lung  \n",
       "4808        Arg  central_nervous_system  \n",
       "4809        Arg  central_nervous_system  \n",
       "4810        Arg  central_nervous_system  \n",
       "4811        Arg  central_nervous_system  "
      ]
     },
     "execution_count": 5,
     "metadata": {},
     "output_type": "execute_result"
    }
   ],
   "source": [
    "\n",
    "#test\n",
    "filtered_df = cosmic_originale[cosmic_originale[\"GENOMIC_MUTATION_ID\"] == \"COSV51765770\"]\n",
    "\n",
    "\n",
    "last_30_with_header = pd.concat([filtered_df.head(0), filtered_df.tail(13)])\n",
    "last_30_with_header"
   ]
  },
  {
   "cell_type": "code",
   "execution_count": 15,
   "id": "230ab6d8-bb0e-471e-89b6-d4b6578847f1",
   "metadata": {},
   "outputs": [
    {
     "data": {
      "text/html": [
       "<div>\n",
       "<style scoped>\n",
       "    .dataframe tbody tr th:only-of-type {\n",
       "        vertical-align: middle;\n",
       "    }\n",
       "\n",
       "    .dataframe tbody tr th {\n",
       "        vertical-align: top;\n",
       "    }\n",
       "\n",
       "    .dataframe thead th {\n",
       "        text-align: right;\n",
       "    }\n",
       "</style>\n",
       "<table border=\"1\" class=\"dataframe\">\n",
       "  <thead>\n",
       "    <tr style=\"text-align: right;\">\n",
       "      <th></th>\n",
       "      <th>GENE_SYMBOL</th>\n",
       "      <th>GENOMIC_MUTATION_ID</th>\n",
       "      <th>MUTATION_ID</th>\n",
       "      <th>MUTATION_DESCRIPTION</th>\n",
       "      <th>CHROMOSOME</th>\n",
       "      <th>GENOME_START</th>\n",
       "      <th>GENOME_STOP</th>\n",
       "      <th>WT_AA</th>\n",
       "      <th>MUTATION_POSITION</th>\n",
       "      <th>MUTATED_AA</th>\n",
       "      <th>PRIMARY_SITE</th>\n",
       "      <th>SAMPLES</th>\n",
       "    </tr>\n",
       "  </thead>\n",
       "  <tbody>\n",
       "    <tr>\n",
       "      <th>0</th>\n",
       "      <td>EGFR</td>\n",
       "      <td>COSV104369087</td>\n",
       "      <td>24048398</td>\n",
       "      <td>missense_variant</td>\n",
       "      <td>7</td>\n",
       "      <td>55233087</td>\n",
       "      <td>55233087</td>\n",
       "      <td>Ala</td>\n",
       "      <td>613</td>\n",
       "      <td>Thr</td>\n",
       "      <td>large_intestine</td>\n",
       "      <td>1</td>\n",
       "    </tr>\n",
       "    <tr>\n",
       "      <th>1</th>\n",
       "      <td>EGFR</td>\n",
       "      <td>COSV104369087</td>\n",
       "      <td>31976698</td>\n",
       "      <td>missense_variant</td>\n",
       "      <td>7</td>\n",
       "      <td>55233087</td>\n",
       "      <td>55233087</td>\n",
       "      <td>Ala</td>\n",
       "      <td>613</td>\n",
       "      <td>Thr</td>\n",
       "      <td>large_intestine</td>\n",
       "      <td>1</td>\n",
       "    </tr>\n",
       "    <tr>\n",
       "      <th>2</th>\n",
       "      <td>EGFR</td>\n",
       "      <td>COSV104369087</td>\n",
       "      <td>32446995</td>\n",
       "      <td>missense_variant</td>\n",
       "      <td>7</td>\n",
       "      <td>55233087</td>\n",
       "      <td>55233087</td>\n",
       "      <td>Ala</td>\n",
       "      <td>613</td>\n",
       "      <td>Thr</td>\n",
       "      <td>large_intestine</td>\n",
       "      <td>1</td>\n",
       "    </tr>\n",
       "    <tr>\n",
       "      <th>3</th>\n",
       "      <td>EGFR</td>\n",
       "      <td>COSV104369087</td>\n",
       "      <td>56938494</td>\n",
       "      <td>missense_variant</td>\n",
       "      <td>7</td>\n",
       "      <td>55233087</td>\n",
       "      <td>55233087</td>\n",
       "      <td>Ala</td>\n",
       "      <td>613</td>\n",
       "      <td>Thr</td>\n",
       "      <td>large_intestine</td>\n",
       "      <td>1</td>\n",
       "    </tr>\n",
       "    <tr>\n",
       "      <th>4</th>\n",
       "      <td>EGFR</td>\n",
       "      <td>COSV104369087</td>\n",
       "      <td>60960030</td>\n",
       "      <td>missense_variant</td>\n",
       "      <td>7</td>\n",
       "      <td>55233087</td>\n",
       "      <td>55233087</td>\n",
       "      <td>Ala</td>\n",
       "      <td>560</td>\n",
       "      <td>Thr</td>\n",
       "      <td>large_intestine</td>\n",
       "      <td>1</td>\n",
       "    </tr>\n",
       "    <tr>\n",
       "      <th>...</th>\n",
       "      <td>...</td>\n",
       "      <td>...</td>\n",
       "      <td>...</td>\n",
       "      <td>...</td>\n",
       "      <td>...</td>\n",
       "      <td>...</td>\n",
       "      <td>...</td>\n",
       "      <td>...</td>\n",
       "      <td>...</td>\n",
       "      <td>...</td>\n",
       "      <td>...</td>\n",
       "      <td>...</td>\n",
       "    </tr>\n",
       "    <tr>\n",
       "      <th>2598</th>\n",
       "      <td>EGFR</td>\n",
       "      <td>COSV99297135</td>\n",
       "      <td>32445985</td>\n",
       "      <td>missense_variant</td>\n",
       "      <td>7</td>\n",
       "      <td>55221821</td>\n",
       "      <td>55221821</td>\n",
       "      <td>Ala</td>\n",
       "      <td>289</td>\n",
       "      <td>Ser</td>\n",
       "      <td>central_nervous_system</td>\n",
       "      <td>3</td>\n",
       "    </tr>\n",
       "    <tr>\n",
       "      <th>2599</th>\n",
       "      <td>EGFR</td>\n",
       "      <td>COSV99297135</td>\n",
       "      <td>49698847</td>\n",
       "      <td>missense_variant</td>\n",
       "      <td>7</td>\n",
       "      <td>55221821</td>\n",
       "      <td>55221821</td>\n",
       "      <td>Ala</td>\n",
       "      <td>289</td>\n",
       "      <td>Ser</td>\n",
       "      <td>central_nervous_system</td>\n",
       "      <td>3</td>\n",
       "    </tr>\n",
       "    <tr>\n",
       "      <th>2600</th>\n",
       "      <td>EGFR</td>\n",
       "      <td>COSV99297135</td>\n",
       "      <td>56880832</td>\n",
       "      <td>missense_variant</td>\n",
       "      <td>7</td>\n",
       "      <td>55221821</td>\n",
       "      <td>55221821</td>\n",
       "      <td>Ala</td>\n",
       "      <td>289</td>\n",
       "      <td>Ser</td>\n",
       "      <td>central_nervous_system</td>\n",
       "      <td>3</td>\n",
       "    </tr>\n",
       "    <tr>\n",
       "      <th>2601</th>\n",
       "      <td>EGFR</td>\n",
       "      <td>COSV99297135</td>\n",
       "      <td>60893373</td>\n",
       "      <td>missense_variant</td>\n",
       "      <td>7</td>\n",
       "      <td>55221821</td>\n",
       "      <td>55221821</td>\n",
       "      <td>Ala</td>\n",
       "      <td>236</td>\n",
       "      <td>Ser</td>\n",
       "      <td>central_nervous_system</td>\n",
       "      <td>3</td>\n",
       "    </tr>\n",
       "    <tr>\n",
       "      <th>2602</th>\n",
       "      <td>EGFR</td>\n",
       "      <td>COSV99297135</td>\n",
       "      <td>61637280</td>\n",
       "      <td>missense_variant</td>\n",
       "      <td>7</td>\n",
       "      <td>55221821</td>\n",
       "      <td>55221821</td>\n",
       "      <td>Ala</td>\n",
       "      <td>244</td>\n",
       "      <td>Ser</td>\n",
       "      <td>central_nervous_system</td>\n",
       "      <td>3</td>\n",
       "    </tr>\n",
       "  </tbody>\n",
       "</table>\n",
       "<p>2603 rows × 12 columns</p>\n",
       "</div>"
      ],
      "text/plain": [
       "     GENE_SYMBOL GENOMIC_MUTATION_ID  MUTATION_ID MUTATION_DESCRIPTION  \\\n",
       "0           EGFR       COSV104369087     24048398     missense_variant   \n",
       "1           EGFR       COSV104369087     31976698     missense_variant   \n",
       "2           EGFR       COSV104369087     32446995     missense_variant   \n",
       "3           EGFR       COSV104369087     56938494     missense_variant   \n",
       "4           EGFR       COSV104369087     60960030     missense_variant   \n",
       "...          ...                 ...          ...                  ...   \n",
       "2598        EGFR        COSV99297135     32445985     missense_variant   \n",
       "2599        EGFR        COSV99297135     49698847     missense_variant   \n",
       "2600        EGFR        COSV99297135     56880832     missense_variant   \n",
       "2601        EGFR        COSV99297135     60893373     missense_variant   \n",
       "2602        EGFR        COSV99297135     61637280     missense_variant   \n",
       "\n",
       "     CHROMOSOME  GENOME_START  GENOME_STOP WT_AA  MUTATION_POSITION  \\\n",
       "0             7      55233087     55233087   Ala                613   \n",
       "1             7      55233087     55233087   Ala                613   \n",
       "2             7      55233087     55233087   Ala                613   \n",
       "3             7      55233087     55233087   Ala                613   \n",
       "4             7      55233087     55233087   Ala                560   \n",
       "...         ...           ...          ...   ...                ...   \n",
       "2598          7      55221821     55221821   Ala                289   \n",
       "2599          7      55221821     55221821   Ala                289   \n",
       "2600          7      55221821     55221821   Ala                289   \n",
       "2601          7      55221821     55221821   Ala                236   \n",
       "2602          7      55221821     55221821   Ala                244   \n",
       "\n",
       "     MUTATED_AA            PRIMARY_SITE  SAMPLES  \n",
       "0           Thr         large_intestine        1  \n",
       "1           Thr         large_intestine        1  \n",
       "2           Thr         large_intestine        1  \n",
       "3           Thr         large_intestine        1  \n",
       "4           Thr         large_intestine        1  \n",
       "...         ...                     ...      ...  \n",
       "2598        Ser  central_nervous_system        3  \n",
       "2599        Ser  central_nervous_system        3  \n",
       "2600        Ser  central_nervous_system        3  \n",
       "2601        Ser  central_nervous_system        3  \n",
       "2602        Ser  central_nervous_system        3  \n",
       "\n",
       "[2603 rows x 12 columns]"
      ]
     },
     "execution_count": 15,
     "metadata": {},
     "output_type": "execute_result"
    }
   ],
   "source": [
    "# Collapse duplicate rows based on all columns (these are just different samples) \n",
    "duplicate_mask = cosmic_originale.duplicated()\n",
    "cosmic_samples = cosmic_originale.groupby(cosmic_originale.columns.tolist()).size().reset_index(name='SAMPLES')\n",
    "\n",
    "cosmic_samples"
   ]
  },
  {
   "cell_type": "code",
   "execution_count": 84,
   "id": "3797c588-e446-4f4a-b279-7cee2126e905",
   "metadata": {},
   "outputs": [
    {
     "data": {
      "text/html": [
       "<div>\n",
       "<style scoped>\n",
       "    .dataframe tbody tr th:only-of-type {\n",
       "        vertical-align: middle;\n",
       "    }\n",
       "\n",
       "    .dataframe tbody tr th {\n",
       "        vertical-align: top;\n",
       "    }\n",
       "\n",
       "    .dataframe thead th {\n",
       "        text-align: right;\n",
       "    }\n",
       "</style>\n",
       "<table border=\"1\" class=\"dataframe\">\n",
       "  <thead>\n",
       "    <tr style=\"text-align: right;\">\n",
       "      <th></th>\n",
       "      <th>MUTATION_POSITION</th>\n",
       "      <th>PRIMARY_SITE</th>\n",
       "      <th>COUNT_MUTATION_IDs</th>\n",
       "      <th>SAMPLES_TOT</th>\n",
       "      <th>SAMPLES_DIV_COUNT</th>\n",
       "    </tr>\n",
       "  </thead>\n",
       "  <tbody>\n",
       "    <tr>\n",
       "      <th>0</th>\n",
       "      <td>2</td>\n",
       "      <td>thyroid</td>\n",
       "      <td>6</td>\n",
       "      <td>12</td>\n",
       "      <td>2.0</td>\n",
       "    </tr>\n",
       "    <tr>\n",
       "      <th>1</th>\n",
       "      <td>6</td>\n",
       "      <td>urinary_tract</td>\n",
       "      <td>1</td>\n",
       "      <td>1</td>\n",
       "      <td>1.0</td>\n",
       "    </tr>\n",
       "    <tr>\n",
       "      <th>2</th>\n",
       "      <td>7</td>\n",
       "      <td>central_nervous_system</td>\n",
       "      <td>1</td>\n",
       "      <td>1</td>\n",
       "      <td>1.0</td>\n",
       "    </tr>\n",
       "    <tr>\n",
       "      <th>3</th>\n",
       "      <td>9</td>\n",
       "      <td>breast</td>\n",
       "      <td>1</td>\n",
       "      <td>1</td>\n",
       "      <td>1.0</td>\n",
       "    </tr>\n",
       "    <tr>\n",
       "      <th>4</th>\n",
       "      <td>9</td>\n",
       "      <td>central_nervous_system</td>\n",
       "      <td>1</td>\n",
       "      <td>9</td>\n",
       "      <td>9.0</td>\n",
       "    </tr>\n",
       "    <tr>\n",
       "      <th>5</th>\n",
       "      <td>9</td>\n",
       "      <td>lung</td>\n",
       "      <td>1</td>\n",
       "      <td>3</td>\n",
       "      <td>3.0</td>\n",
       "    </tr>\n",
       "    <tr>\n",
       "      <th>6</th>\n",
       "      <td>10</td>\n",
       "      <td>central_nervous_system</td>\n",
       "      <td>1</td>\n",
       "      <td>2</td>\n",
       "      <td>2.0</td>\n",
       "    </tr>\n",
       "    <tr>\n",
       "      <th>7</th>\n",
       "      <td>12</td>\n",
       "      <td>large_intestine</td>\n",
       "      <td>1</td>\n",
       "      <td>1</td>\n",
       "      <td>1.0</td>\n",
       "    </tr>\n",
       "    <tr>\n",
       "      <th>8</th>\n",
       "      <td>16</td>\n",
       "      <td>large_intestine</td>\n",
       "      <td>6</td>\n",
       "      <td>6</td>\n",
       "      <td>1.0</td>\n",
       "    </tr>\n",
       "    <tr>\n",
       "      <th>9</th>\n",
       "      <td>18</td>\n",
       "      <td>breast</td>\n",
       "      <td>1</td>\n",
       "      <td>1</td>\n",
       "      <td>1.0</td>\n",
       "    </tr>\n",
       "  </tbody>\n",
       "</table>\n",
       "</div>"
      ],
      "text/plain": [
       "   MUTATION_POSITION            PRIMARY_SITE  COUNT_MUTATION_IDs  SAMPLES_TOT  \\\n",
       "0                  2                 thyroid                   6           12   \n",
       "1                  6           urinary_tract                   1            1   \n",
       "2                  7  central_nervous_system                   1            1   \n",
       "3                  9                  breast                   1            1   \n",
       "4                  9  central_nervous_system                   1            9   \n",
       "5                  9                    lung                   1            3   \n",
       "6                 10  central_nervous_system                   1            2   \n",
       "7                 12         large_intestine                   1            1   \n",
       "8                 16         large_intestine                   6            6   \n",
       "9                 18                  breast                   1            1   \n",
       "\n",
       "   SAMPLES_DIV_COUNT  \n",
       "0                2.0  \n",
       "1                1.0  \n",
       "2                1.0  \n",
       "3                1.0  \n",
       "4                9.0  \n",
       "5                3.0  \n",
       "6                2.0  \n",
       "7                1.0  \n",
       "8                1.0  \n",
       "9                1.0  "
      ]
     },
     "execution_count": 84,
     "metadata": {},
     "output_type": "execute_result"
    }
   ],
   "source": [
    "# create tissue specific dataframec\n",
    "selected_columns = [\"MUTATION_ID\", \"MUTATION_POSITION\", \"PRIMARY_SITE\", \"SAMPLES\"]\n",
    "cosmic_tissue_spec = cosmic_samples[selected_columns]\n",
    "cosmic_tissue_spec = cosmic_tissue_spec.sort_values([\"PRIMARY_SITE\", 'MUTATION_POSITION', \"MUTATION_ID\"], ascending=True)\n",
    "# Group by mutation position and primary site, count how many unique MUTATION_IDs were collapsed, sum SAMPLES\n",
    "cosmic_tissue_spec = cosmic_tissue_spec.groupby(['MUTATION_POSITION', 'PRIMARY_SITE']).agg(\n",
    "    {'MUTATION_ID': 'nunique', 'SAMPLES': 'sum'}).reset_index().rename(columns={'MUTATION_ID': 'COUNT_MUTATION_IDs', 'SAMPLES': 'SAMPLES_TOT'})\n",
    "#Introduce samples per mutation\n",
    "cosmic_tissue_spec['SAMPLES_DIV_COUNT'] = cosmic_tissue_spec['SAMPLES_TOT'] / cosmic_tissue_spec['COUNT_MUTATION_IDs']\n",
    "cosmic_tissue_spec.head(10)"
   ]
  },
  {
   "cell_type": "code",
   "execution_count": 83,
   "id": "6069981c-e960-4383-91c7-3d78ae93f976",
   "metadata": {},
   "outputs": [
    {
     "data": {
      "text/html": [
       "<div>\n",
       "<style scoped>\n",
       "    .dataframe tbody tr th:only-of-type {\n",
       "        vertical-align: middle;\n",
       "    }\n",
       "\n",
       "    .dataframe tbody tr th {\n",
       "        vertical-align: top;\n",
       "    }\n",
       "\n",
       "    .dataframe thead th {\n",
       "        text-align: right;\n",
       "    }\n",
       "</style>\n",
       "<table border=\"1\" class=\"dataframe\">\n",
       "  <thead>\n",
       "    <tr style=\"text-align: right;\">\n",
       "      <th></th>\n",
       "      <th>MUTATION_POSITION</th>\n",
       "      <th>COUNT_MUTATION_IDs</th>\n",
       "      <th>SAMPLES_TOT</th>\n",
       "    </tr>\n",
       "  </thead>\n",
       "  <tbody>\n",
       "    <tr>\n",
       "      <th>0</th>\n",
       "      <td>2</td>\n",
       "      <td>6</td>\n",
       "      <td>12</td>\n",
       "    </tr>\n",
       "    <tr>\n",
       "      <th>1</th>\n",
       "      <td>6</td>\n",
       "      <td>1</td>\n",
       "      <td>1</td>\n",
       "    </tr>\n",
       "    <tr>\n",
       "      <th>2</th>\n",
       "      <td>7</td>\n",
       "      <td>1</td>\n",
       "      <td>1</td>\n",
       "    </tr>\n",
       "    <tr>\n",
       "      <th>3</th>\n",
       "      <td>9</td>\n",
       "      <td>3</td>\n",
       "      <td>13</td>\n",
       "    </tr>\n",
       "    <tr>\n",
       "      <th>4</th>\n",
       "      <td>10</td>\n",
       "      <td>1</td>\n",
       "      <td>2</td>\n",
       "    </tr>\n",
       "    <tr>\n",
       "      <th>...</th>\n",
       "      <td>...</td>\n",
       "      <td>...</td>\n",
       "      <td>...</td>\n",
       "    </tr>\n",
       "    <tr>\n",
       "      <th>760</th>\n",
       "      <td>1189</td>\n",
       "      <td>1</td>\n",
       "      <td>1</td>\n",
       "    </tr>\n",
       "    <tr>\n",
       "      <th>761</th>\n",
       "      <td>1197</td>\n",
       "      <td>1</td>\n",
       "      <td>1</td>\n",
       "    </tr>\n",
       "    <tr>\n",
       "      <th>762</th>\n",
       "      <td>1198</td>\n",
       "      <td>1</td>\n",
       "      <td>1</td>\n",
       "    </tr>\n",
       "    <tr>\n",
       "      <th>763</th>\n",
       "      <td>1201</td>\n",
       "      <td>2</td>\n",
       "      <td>2</td>\n",
       "    </tr>\n",
       "    <tr>\n",
       "      <th>764</th>\n",
       "      <td>1204</td>\n",
       "      <td>1</td>\n",
       "      <td>2</td>\n",
       "    </tr>\n",
       "  </tbody>\n",
       "</table>\n",
       "<p>765 rows × 3 columns</p>\n",
       "</div>"
      ],
      "text/plain": [
       "     MUTATION_POSITION  COUNT_MUTATION_IDs  SAMPLES_TOT\n",
       "0                    2                   6           12\n",
       "1                    6                   1            1\n",
       "2                    7                   1            1\n",
       "3                    9                   3           13\n",
       "4                   10                   1            2\n",
       "..                 ...                 ...          ...\n",
       "760               1189                   1            1\n",
       "761               1197                   1            1\n",
       "762               1198                   1            1\n",
       "763               1201                   2            2\n",
       "764               1204                   1            2\n",
       "\n",
       "[765 rows x 3 columns]"
      ]
     },
     "execution_count": 83,
     "metadata": {},
     "output_type": "execute_result"
    }
   ],
   "source": [
    "# Tissue ASPECIFIC dataframe\n",
    "cosmic_tissue_aspecific= cosmic_tissue_spec.drop(['PRIMARY_SITE', 'SAMPLES_DIV_COUNT'], axis=1)\n",
    "cosmic_tissue_aspecific = cosmic_tissue_aspecific.groupby('MUTATION_POSITION').agg({\n",
    "    'COUNT_MUTATION_IDs': 'sum',\n",
    "    'SAMPLES_TOT': 'sum'\n",
    "}).reset_index()\n",
    "cosmic_tissue_aspecific"
   ]
  },
  {
   "cell_type": "code",
   "execution_count": 88,
   "id": "3e84e688-8c8d-47eb-86ac-2a87284a526f",
   "metadata": {
    "scrolled": true
   },
   "outputs": [],
   "source": [
    "# Define a function to generate PyMOL commands for each row in the dataframe\n",
    "def generate_pymol_commands(row):\n",
    "    position = row['MUTATION_POSITION']\n",
    "    count_mutations = row['COUNT_MUTATION_IDs']\n",
    "    return f\"cmd.pseudoatom('mut_{position}', pos=[{position}, 0, 0], color='red', label='{count_mutations}')\"\n",
    "\n",
    "# Open a new PyMOL session\n",
    "pymol_script = ['''\\\n",
    "from pymol import cmd\n",
    "cmd.set('sphere_scale', 0.5)\n",
    "''']\n",
    "\n",
    "# Iterate over each row in the dataframe to generate PyMOL commands\n",
    "for index, row in cosmic_tissue_aspecific.iterrows():\n",
    "    cmd.pseudoatom('sphere_' + str(index), pos=[row['MUTATION_POSITION'], 0, 0], color=colors[index], name=str(index), radius=row['COUNT_MUTATION_IDs'])\n",
    "\n",
    "# Show spheres\n",
    "cmd.show_as('spheres')\n",
    "\n",
    "# Combine all PyMOL commands into a single script\n",
    "pymol_script_str = '\\n'.join(pymol_script)\n",
    "\n",
    "print pymol_\n",
    "#with open(f'{out_dir}/mutations_script.py', 'w') as file:\n",
    "#     file.write(pymol_script_str)"
   ]
  },
  {
   "cell_type": "code",
   "execution_count": 90,
   "id": "3be6bf4e-2a40-4a4d-890e-10324d837f9c",
   "metadata": {},
   "outputs": [
    {
     "name": "stdout",
     "output_type": "stream",
     "text": [
      "/opt/homebrew/Caskroom/miniforge/base/envs/env_mutclust/bin/pymol -d set defer_builds_mode, 3; load /Users/fede/Desktop/Lab/Projects/EGFR/data/models_Arkhipov/EGFR_monomer_nomem.pdb\n"
     ]
    }
   ],
   "source": [
    "def pymol_clust(pdb= egfr_pdb, pymol_ex= pymol_executable):\n",
    "    memory_opt= 'set defer_builds_mode, 3'\n",
    "    pymol_script= \"\"\n",
    "    py_command = [\n",
    "            pymol_ex,\n",
    "            '-d',\n",
    "            f'{memory_opt}; load {egfr_pdb}'\n",
    "        ]\n",
    "    print (\" \".join(py_command))\n",
    "    # Start pymol as a separate process and detach it from the Python script, then wait for it to complete\n",
    "    process = subprocess.run(py_command, text=True, stdout=subprocess.PIPE, stderr=subprocess.PIPE, stdin=subprocess.PIPE, preexec_fn=os.setpgrp)\n",
    "    #process.wait()\n",
    "\n",
    "pymol_clust()"
   ]
  },
  {
   "cell_type": "code",
   "execution_count": 75,
   "id": "03a62c56-a101-442f-baf9-994fd305b02c",
   "metadata": {},
   "outputs": [
    {
     "data": {
      "text/html": [
       "<div>\n",
       "<style scoped>\n",
       "    .dataframe tbody tr th:only-of-type {\n",
       "        vertical-align: middle;\n",
       "    }\n",
       "\n",
       "    .dataframe tbody tr th {\n",
       "        vertical-align: top;\n",
       "    }\n",
       "\n",
       "    .dataframe thead th {\n",
       "        text-align: right;\n",
       "    }\n",
       "</style>\n",
       "<table border=\"1\" class=\"dataframe\">\n",
       "  <thead>\n",
       "    <tr style=\"text-align: right;\">\n",
       "      <th></th>\n",
       "      <th>MUTATION_POSITION</th>\n",
       "      <th>PRIMARY_SITE</th>\n",
       "      <th>COUNT_MUTATION_IDs</th>\n",
       "      <th>SAMPLES_TOT</th>\n",
       "      <th>SAMPLES_DIV_COUNT</th>\n",
       "    </tr>\n",
       "  </thead>\n",
       "  <tbody>\n",
       "    <tr>\n",
       "      <th>134</th>\n",
       "      <td>175</td>\n",
       "      <td>NS</td>\n",
       "      <td>1</td>\n",
       "      <td>1</td>\n",
       "      <td>1.0</td>\n",
       "    </tr>\n",
       "    <tr>\n",
       "      <th>154</th>\n",
       "      <td>183</td>\n",
       "      <td>NS</td>\n",
       "      <td>1</td>\n",
       "      <td>1</td>\n",
       "      <td>1.0</td>\n",
       "    </tr>\n",
       "    <tr>\n",
       "      <th>211</th>\n",
       "      <td>228</td>\n",
       "      <td>NS</td>\n",
       "      <td>5</td>\n",
       "      <td>5</td>\n",
       "      <td>1.0</td>\n",
       "    </tr>\n",
       "    <tr>\n",
       "      <th>546</th>\n",
       "      <td>492</td>\n",
       "      <td>NS</td>\n",
       "      <td>1</td>\n",
       "      <td>1</td>\n",
       "      <td>1.0</td>\n",
       "    </tr>\n",
       "    <tr>\n",
       "      <th>552</th>\n",
       "      <td>500</td>\n",
       "      <td>NS</td>\n",
       "      <td>1</td>\n",
       "      <td>1</td>\n",
       "      <td>1.0</td>\n",
       "    </tr>\n",
       "    <tr>\n",
       "      <th>...</th>\n",
       "      <td>...</td>\n",
       "      <td>...</td>\n",
       "      <td>...</td>\n",
       "      <td>...</td>\n",
       "      <td>...</td>\n",
       "    </tr>\n",
       "    <tr>\n",
       "      <th>1287</th>\n",
       "      <td>1026</td>\n",
       "      <td>urinary_tract</td>\n",
       "      <td>1</td>\n",
       "      <td>1</td>\n",
       "      <td>1.0</td>\n",
       "    </tr>\n",
       "    <tr>\n",
       "      <th>1296</th>\n",
       "      <td>1034</td>\n",
       "      <td>urinary_tract</td>\n",
       "      <td>1</td>\n",
       "      <td>1</td>\n",
       "      <td>1.0</td>\n",
       "    </tr>\n",
       "    <tr>\n",
       "      <th>1318</th>\n",
       "      <td>1065</td>\n",
       "      <td>urinary_tract</td>\n",
       "      <td>1</td>\n",
       "      <td>1</td>\n",
       "      <td>1.0</td>\n",
       "    </tr>\n",
       "    <tr>\n",
       "      <th>1324</th>\n",
       "      <td>1079</td>\n",
       "      <td>urinary_tract</td>\n",
       "      <td>1</td>\n",
       "      <td>1</td>\n",
       "      <td>1.0</td>\n",
       "    </tr>\n",
       "    <tr>\n",
       "      <th>1357</th>\n",
       "      <td>1118</td>\n",
       "      <td>urinary_tract</td>\n",
       "      <td>1</td>\n",
       "      <td>1</td>\n",
       "      <td>1.0</td>\n",
       "    </tr>\n",
       "  </tbody>\n",
       "</table>\n",
       "<p>1399 rows × 5 columns</p>\n",
       "</div>"
      ],
      "text/plain": [
       "      MUTATION_POSITION   PRIMARY_SITE  COUNT_MUTATION_IDs  SAMPLES_TOT  \\\n",
       "134                 175             NS                   1            1   \n",
       "154                 183             NS                   1            1   \n",
       "211                 228             NS                   5            5   \n",
       "546                 492             NS                   1            1   \n",
       "552                 500             NS                   1            1   \n",
       "...                 ...            ...                 ...          ...   \n",
       "1287               1026  urinary_tract                   1            1   \n",
       "1296               1034  urinary_tract                   1            1   \n",
       "1318               1065  urinary_tract                   1            1   \n",
       "1324               1079  urinary_tract                   1            1   \n",
       "1357               1118  urinary_tract                   1            1   \n",
       "\n",
       "      SAMPLES_DIV_COUNT  \n",
       "134                 1.0  \n",
       "154                 1.0  \n",
       "211                 1.0  \n",
       "546                 1.0  \n",
       "552                 1.0  \n",
       "...                 ...  \n",
       "1287                1.0  \n",
       "1296                1.0  \n",
       "1318                1.0  \n",
       "1324                1.0  \n",
       "1357                1.0  \n",
       "\n",
       "[1399 rows x 5 columns]"
      ]
     },
     "execution_count": 75,
     "metadata": {},
     "output_type": "execute_result"
    }
   ],
   "source": [
    "\n",
    "#PYMOL OUT HERE FOR TISSUE SPECIFIC\n",
    "cosmic_tissue_spec= cosmic_tissue_spec.sort_values([\"PRIMARY_SITE\", \"MUTATION_POSITION\"], ascending=True)\n",
    "cosmic_tissue_spec"
   ]
  },
  {
   "cell_type": "code",
   "execution_count": 76,
   "id": "db0b6017-8805-45bc-8d24-ded54c7dacde",
   "metadata": {},
   "outputs": [],
   "source": [
    "cosmic_tissue_spec = cosmic_tissue_spec.drop(columns=['SAMPLES_DIV_COUNT'])\n",
    "grouped_data = cosmic_tissue_spec.groupby('PRIMARY_SITE').agg(\n",
    "    MUTATION_POSITIONS=('MUTATION_POSITION', 'nunique'),\n",
    "    COUNT_MUTATION_IDs=('COUNT_MUTATION_IDs', 'sum'),\n",
    "    SAMPLES_TOT=('SAMPLES_TOT', 'sum')\n",
    ").reset_index()\n",
    "    \n",
    "grouped_data.rename(columns={'MUTATION_POSITION': 'MUTATION_POSITIONS'}, inplace=True)\n",
    "grouped_data[\"SAMPLES_DIV_COUNT\"]= (grouped_data[\"SAMPLES_TOT\"]/grouped_data[\"COUNT_MUTATION_IDs\"]).round(2)"
   ]
  },
  {
   "cell_type": "code",
   "execution_count": 77,
   "id": "b79b168b-f7e1-49ef-87a1-c8e1774dd6d4",
   "metadata": {},
   "outputs": [
    {
     "data": {
      "text/html": [
       "<div>\n",
       "<style scoped>\n",
       "    .dataframe tbody tr th:only-of-type {\n",
       "        vertical-align: middle;\n",
       "    }\n",
       "\n",
       "    .dataframe tbody tr th {\n",
       "        vertical-align: top;\n",
       "    }\n",
       "\n",
       "    .dataframe thead th {\n",
       "        text-align: right;\n",
       "    }\n",
       "</style>\n",
       "<table border=\"1\" class=\"dataframe\">\n",
       "  <thead>\n",
       "    <tr style=\"text-align: right;\">\n",
       "      <th></th>\n",
       "      <th>PRIMARY_SITE</th>\n",
       "      <th>MUTATION_POSITIONS</th>\n",
       "      <th>COUNT_MUTATION_IDs</th>\n",
       "      <th>SAMPLES_TOT</th>\n",
       "      <th>SAMPLES_DIV_COUNT</th>\n",
       "    </tr>\n",
       "  </thead>\n",
       "  <tbody>\n",
       "    <tr>\n",
       "      <th>0</th>\n",
       "      <td>NS</td>\n",
       "      <td>14</td>\n",
       "      <td>21</td>\n",
       "      <td>24</td>\n",
       "      <td>1.14</td>\n",
       "    </tr>\n",
       "    <tr>\n",
       "      <th>1</th>\n",
       "      <td>autonomic_ganglia</td>\n",
       "      <td>6</td>\n",
       "      <td>6</td>\n",
       "      <td>9</td>\n",
       "      <td>1.50</td>\n",
       "    </tr>\n",
       "    <tr>\n",
       "      <th>2</th>\n",
       "      <td>biliary_tract</td>\n",
       "      <td>15</td>\n",
       "      <td>25</td>\n",
       "      <td>32</td>\n",
       "      <td>1.28</td>\n",
       "    </tr>\n",
       "    <tr>\n",
       "      <th>3</th>\n",
       "      <td>bone</td>\n",
       "      <td>6</td>\n",
       "      <td>6</td>\n",
       "      <td>6</td>\n",
       "      <td>1.00</td>\n",
       "    </tr>\n",
       "    <tr>\n",
       "      <th>4</th>\n",
       "      <td>breast</td>\n",
       "      <td>69</td>\n",
       "      <td>129</td>\n",
       "      <td>139</td>\n",
       "      <td>1.08</td>\n",
       "    </tr>\n",
       "    <tr>\n",
       "      <th>5</th>\n",
       "      <td>central_nervous_system</td>\n",
       "      <td>186</td>\n",
       "      <td>472</td>\n",
       "      <td>1599</td>\n",
       "      <td>3.39</td>\n",
       "    </tr>\n",
       "    <tr>\n",
       "      <th>6</th>\n",
       "      <td>cervix</td>\n",
       "      <td>21</td>\n",
       "      <td>33</td>\n",
       "      <td>33</td>\n",
       "      <td>1.00</td>\n",
       "    </tr>\n",
       "    <tr>\n",
       "      <th>7</th>\n",
       "      <td>endometrium</td>\n",
       "      <td>60</td>\n",
       "      <td>102</td>\n",
       "      <td>102</td>\n",
       "      <td>1.00</td>\n",
       "    </tr>\n",
       "    <tr>\n",
       "      <th>8</th>\n",
       "      <td>haematopoietic_and_lymphoid_tissue</td>\n",
       "      <td>60</td>\n",
       "      <td>90</td>\n",
       "      <td>120</td>\n",
       "      <td>1.33</td>\n",
       "    </tr>\n",
       "    <tr>\n",
       "      <th>9</th>\n",
       "      <td>kidney</td>\n",
       "      <td>26</td>\n",
       "      <td>41</td>\n",
       "      <td>44</td>\n",
       "      <td>1.07</td>\n",
       "    </tr>\n",
       "    <tr>\n",
       "      <th>10</th>\n",
       "      <td>large_intestine</td>\n",
       "      <td>171</td>\n",
       "      <td>326</td>\n",
       "      <td>403</td>\n",
       "      <td>1.24</td>\n",
       "    </tr>\n",
       "    <tr>\n",
       "      <th>11</th>\n",
       "      <td>liver</td>\n",
       "      <td>85</td>\n",
       "      <td>156</td>\n",
       "      <td>163</td>\n",
       "      <td>1.04</td>\n",
       "    </tr>\n",
       "    <tr>\n",
       "      <th>12</th>\n",
       "      <td>lung</td>\n",
       "      <td>155</td>\n",
       "      <td>273</td>\n",
       "      <td>692</td>\n",
       "      <td>2.53</td>\n",
       "    </tr>\n",
       "    <tr>\n",
       "      <th>13</th>\n",
       "      <td>oesophagus</td>\n",
       "      <td>27</td>\n",
       "      <td>37</td>\n",
       "      <td>37</td>\n",
       "      <td>1.00</td>\n",
       "    </tr>\n",
       "    <tr>\n",
       "      <th>14</th>\n",
       "      <td>ovary</td>\n",
       "      <td>19</td>\n",
       "      <td>27</td>\n",
       "      <td>40</td>\n",
       "      <td>1.48</td>\n",
       "    </tr>\n",
       "    <tr>\n",
       "      <th>15</th>\n",
       "      <td>pancreas</td>\n",
       "      <td>17</td>\n",
       "      <td>31</td>\n",
       "      <td>37</td>\n",
       "      <td>1.19</td>\n",
       "    </tr>\n",
       "    <tr>\n",
       "      <th>16</th>\n",
       "      <td>placenta</td>\n",
       "      <td>2</td>\n",
       "      <td>6</td>\n",
       "      <td>6</td>\n",
       "      <td>1.00</td>\n",
       "    </tr>\n",
       "    <tr>\n",
       "      <th>17</th>\n",
       "      <td>prostate</td>\n",
       "      <td>25</td>\n",
       "      <td>36</td>\n",
       "      <td>36</td>\n",
       "      <td>1.00</td>\n",
       "    </tr>\n",
       "    <tr>\n",
       "      <th>18</th>\n",
       "      <td>salivary_gland</td>\n",
       "      <td>3</td>\n",
       "      <td>7</td>\n",
       "      <td>7</td>\n",
       "      <td>1.00</td>\n",
       "    </tr>\n",
       "    <tr>\n",
       "      <th>19</th>\n",
       "      <td>skin</td>\n",
       "      <td>217</td>\n",
       "      <td>392</td>\n",
       "      <td>516</td>\n",
       "      <td>1.32</td>\n",
       "    </tr>\n",
       "    <tr>\n",
       "      <th>20</th>\n",
       "      <td>small_intestine</td>\n",
       "      <td>12</td>\n",
       "      <td>15</td>\n",
       "      <td>15</td>\n",
       "      <td>1.00</td>\n",
       "    </tr>\n",
       "    <tr>\n",
       "      <th>21</th>\n",
       "      <td>soft_tissue</td>\n",
       "      <td>14</td>\n",
       "      <td>21</td>\n",
       "      <td>39</td>\n",
       "      <td>1.86</td>\n",
       "    </tr>\n",
       "    <tr>\n",
       "      <th>22</th>\n",
       "      <td>stomach</td>\n",
       "      <td>100</td>\n",
       "      <td>173</td>\n",
       "      <td>187</td>\n",
       "      <td>1.08</td>\n",
       "    </tr>\n",
       "    <tr>\n",
       "      <th>23</th>\n",
       "      <td>testis</td>\n",
       "      <td>3</td>\n",
       "      <td>3</td>\n",
       "      <td>3</td>\n",
       "      <td>1.00</td>\n",
       "    </tr>\n",
       "    <tr>\n",
       "      <th>24</th>\n",
       "      <td>thyroid</td>\n",
       "      <td>4</td>\n",
       "      <td>12</td>\n",
       "      <td>18</td>\n",
       "      <td>1.50</td>\n",
       "    </tr>\n",
       "    <tr>\n",
       "      <th>25</th>\n",
       "      <td>upper_aerodigestive_tract</td>\n",
       "      <td>54</td>\n",
       "      <td>110</td>\n",
       "      <td>123</td>\n",
       "      <td>1.12</td>\n",
       "    </tr>\n",
       "    <tr>\n",
       "      <th>26</th>\n",
       "      <td>urinary_tract</td>\n",
       "      <td>28</td>\n",
       "      <td>53</td>\n",
       "      <td>66</td>\n",
       "      <td>1.25</td>\n",
       "    </tr>\n",
       "  </tbody>\n",
       "</table>\n",
       "</div>"
      ],
      "text/plain": [
       "                          PRIMARY_SITE  MUTATION_POSITIONS  \\\n",
       "0                                   NS                  14   \n",
       "1                    autonomic_ganglia                   6   \n",
       "2                        biliary_tract                  15   \n",
       "3                                 bone                   6   \n",
       "4                               breast                  69   \n",
       "5               central_nervous_system                 186   \n",
       "6                               cervix                  21   \n",
       "7                          endometrium                  60   \n",
       "8   haematopoietic_and_lymphoid_tissue                  60   \n",
       "9                               kidney                  26   \n",
       "10                     large_intestine                 171   \n",
       "11                               liver                  85   \n",
       "12                                lung                 155   \n",
       "13                          oesophagus                  27   \n",
       "14                               ovary                  19   \n",
       "15                            pancreas                  17   \n",
       "16                            placenta                   2   \n",
       "17                            prostate                  25   \n",
       "18                      salivary_gland                   3   \n",
       "19                                skin                 217   \n",
       "20                     small_intestine                  12   \n",
       "21                         soft_tissue                  14   \n",
       "22                             stomach                 100   \n",
       "23                              testis                   3   \n",
       "24                             thyroid                   4   \n",
       "25           upper_aerodigestive_tract                  54   \n",
       "26                       urinary_tract                  28   \n",
       "\n",
       "    COUNT_MUTATION_IDs  SAMPLES_TOT  SAMPLES_DIV_COUNT  \n",
       "0                   21           24               1.14  \n",
       "1                    6            9               1.50  \n",
       "2                   25           32               1.28  \n",
       "3                    6            6               1.00  \n",
       "4                  129          139               1.08  \n",
       "5                  472         1599               3.39  \n",
       "6                   33           33               1.00  \n",
       "7                  102          102               1.00  \n",
       "8                   90          120               1.33  \n",
       "9                   41           44               1.07  \n",
       "10                 326          403               1.24  \n",
       "11                 156          163               1.04  \n",
       "12                 273          692               2.53  \n",
       "13                  37           37               1.00  \n",
       "14                  27           40               1.48  \n",
       "15                  31           37               1.19  \n",
       "16                   6            6               1.00  \n",
       "17                  36           36               1.00  \n",
       "18                   7            7               1.00  \n",
       "19                 392          516               1.32  \n",
       "20                  15           15               1.00  \n",
       "21                  21           39               1.86  \n",
       "22                 173          187               1.08  \n",
       "23                   3            3               1.00  \n",
       "24                  12           18               1.50  \n",
       "25                 110          123               1.12  \n",
       "26                  53           66               1.25  "
      ]
     },
     "execution_count": 77,
     "metadata": {},
     "output_type": "execute_result"
    }
   ],
   "source": [
    "grouped_data"
   ]
  },
  {
   "cell_type": "code",
   "execution_count": 44,
   "id": "28e9214e-c752-48f3-bde2-a3e13c4cd384",
   "metadata": {},
   "outputs": [
    {
     "data": {
      "application/vnd.plotly.v1+json": {
       "config": {
        "plotlyServerURL": "https://plot.ly"
       },
       "data": [
        {
         "domain": {
          "x": [
           0,
           1
          ],
          "y": [
           0,
           1
          ]
         },
         "hovertemplate": "PRIMARY_SITE=%{label}<br>COUNT_MUTATION_IDs=%{value}<extra></extra>",
         "labels": [
          "NS",
          "autonomic_ganglia",
          "biliary_tract",
          "bone",
          "breast",
          "central_nervous_system",
          "cervix",
          "endometrium",
          "haematopoietic_and_lymphoid_tissue",
          "kidney",
          "large_intestine",
          "liver",
          "lung",
          "oesophagus",
          "ovary",
          "pancreas",
          "placenta",
          "prostate",
          "salivary_gland",
          "skin",
          "small_intestine",
          "soft_tissue",
          "stomach",
          "testis",
          "thyroid",
          "upper_aerodigestive_tract",
          "urinary_tract"
         ],
         "legendgroup": "",
         "name": "",
         "showlegend": true,
         "textinfo": "value+percent",
         "type": "pie",
         "values": [
          21,
          6,
          25,
          6,
          129,
          472,
          33,
          102,
          90,
          41,
          326,
          156,
          273,
          37,
          27,
          31,
          6,
          36,
          7,
          392,
          15,
          21,
          173,
          3,
          12,
          110,
          53
         ]
        }
       ],
       "layout": {
        "height": 600,
        "legend": {
         "tracegroupgap": 0
        },
        "template": {
         "data": {
          "bar": [
           {
            "error_x": {
             "color": "#2a3f5f"
            },
            "error_y": {
             "color": "#2a3f5f"
            },
            "marker": {
             "line": {
              "color": "#E5ECF6",
              "width": 0.5
             },
             "pattern": {
              "fillmode": "overlay",
              "size": 10,
              "solidity": 0.2
             }
            },
            "type": "bar"
           }
          ],
          "barpolar": [
           {
            "marker": {
             "line": {
              "color": "#E5ECF6",
              "width": 0.5
             },
             "pattern": {
              "fillmode": "overlay",
              "size": 10,
              "solidity": 0.2
             }
            },
            "type": "barpolar"
           }
          ],
          "carpet": [
           {
            "aaxis": {
             "endlinecolor": "#2a3f5f",
             "gridcolor": "white",
             "linecolor": "white",
             "minorgridcolor": "white",
             "startlinecolor": "#2a3f5f"
            },
            "baxis": {
             "endlinecolor": "#2a3f5f",
             "gridcolor": "white",
             "linecolor": "white",
             "minorgridcolor": "white",
             "startlinecolor": "#2a3f5f"
            },
            "type": "carpet"
           }
          ],
          "choropleth": [
           {
            "colorbar": {
             "outlinewidth": 0,
             "ticks": ""
            },
            "type": "choropleth"
           }
          ],
          "contour": [
           {
            "colorbar": {
             "outlinewidth": 0,
             "ticks": ""
            },
            "colorscale": [
             [
              0,
              "#0d0887"
             ],
             [
              0.1111111111111111,
              "#46039f"
             ],
             [
              0.2222222222222222,
              "#7201a8"
             ],
             [
              0.3333333333333333,
              "#9c179e"
             ],
             [
              0.4444444444444444,
              "#bd3786"
             ],
             [
              0.5555555555555556,
              "#d8576b"
             ],
             [
              0.6666666666666666,
              "#ed7953"
             ],
             [
              0.7777777777777778,
              "#fb9f3a"
             ],
             [
              0.8888888888888888,
              "#fdca26"
             ],
             [
              1,
              "#f0f921"
             ]
            ],
            "type": "contour"
           }
          ],
          "contourcarpet": [
           {
            "colorbar": {
             "outlinewidth": 0,
             "ticks": ""
            },
            "type": "contourcarpet"
           }
          ],
          "heatmap": [
           {
            "colorbar": {
             "outlinewidth": 0,
             "ticks": ""
            },
            "colorscale": [
             [
              0,
              "#0d0887"
             ],
             [
              0.1111111111111111,
              "#46039f"
             ],
             [
              0.2222222222222222,
              "#7201a8"
             ],
             [
              0.3333333333333333,
              "#9c179e"
             ],
             [
              0.4444444444444444,
              "#bd3786"
             ],
             [
              0.5555555555555556,
              "#d8576b"
             ],
             [
              0.6666666666666666,
              "#ed7953"
             ],
             [
              0.7777777777777778,
              "#fb9f3a"
             ],
             [
              0.8888888888888888,
              "#fdca26"
             ],
             [
              1,
              "#f0f921"
             ]
            ],
            "type": "heatmap"
           }
          ],
          "heatmapgl": [
           {
            "colorbar": {
             "outlinewidth": 0,
             "ticks": ""
            },
            "colorscale": [
             [
              0,
              "#0d0887"
             ],
             [
              0.1111111111111111,
              "#46039f"
             ],
             [
              0.2222222222222222,
              "#7201a8"
             ],
             [
              0.3333333333333333,
              "#9c179e"
             ],
             [
              0.4444444444444444,
              "#bd3786"
             ],
             [
              0.5555555555555556,
              "#d8576b"
             ],
             [
              0.6666666666666666,
              "#ed7953"
             ],
             [
              0.7777777777777778,
              "#fb9f3a"
             ],
             [
              0.8888888888888888,
              "#fdca26"
             ],
             [
              1,
              "#f0f921"
             ]
            ],
            "type": "heatmapgl"
           }
          ],
          "histogram": [
           {
            "marker": {
             "pattern": {
              "fillmode": "overlay",
              "size": 10,
              "solidity": 0.2
             }
            },
            "type": "histogram"
           }
          ],
          "histogram2d": [
           {
            "colorbar": {
             "outlinewidth": 0,
             "ticks": ""
            },
            "colorscale": [
             [
              0,
              "#0d0887"
             ],
             [
              0.1111111111111111,
              "#46039f"
             ],
             [
              0.2222222222222222,
              "#7201a8"
             ],
             [
              0.3333333333333333,
              "#9c179e"
             ],
             [
              0.4444444444444444,
              "#bd3786"
             ],
             [
              0.5555555555555556,
              "#d8576b"
             ],
             [
              0.6666666666666666,
              "#ed7953"
             ],
             [
              0.7777777777777778,
              "#fb9f3a"
             ],
             [
              0.8888888888888888,
              "#fdca26"
             ],
             [
              1,
              "#f0f921"
             ]
            ],
            "type": "histogram2d"
           }
          ],
          "histogram2dcontour": [
           {
            "colorbar": {
             "outlinewidth": 0,
             "ticks": ""
            },
            "colorscale": [
             [
              0,
              "#0d0887"
             ],
             [
              0.1111111111111111,
              "#46039f"
             ],
             [
              0.2222222222222222,
              "#7201a8"
             ],
             [
              0.3333333333333333,
              "#9c179e"
             ],
             [
              0.4444444444444444,
              "#bd3786"
             ],
             [
              0.5555555555555556,
              "#d8576b"
             ],
             [
              0.6666666666666666,
              "#ed7953"
             ],
             [
              0.7777777777777778,
              "#fb9f3a"
             ],
             [
              0.8888888888888888,
              "#fdca26"
             ],
             [
              1,
              "#f0f921"
             ]
            ],
            "type": "histogram2dcontour"
           }
          ],
          "mesh3d": [
           {
            "colorbar": {
             "outlinewidth": 0,
             "ticks": ""
            },
            "type": "mesh3d"
           }
          ],
          "parcoords": [
           {
            "line": {
             "colorbar": {
              "outlinewidth": 0,
              "ticks": ""
             }
            },
            "type": "parcoords"
           }
          ],
          "pie": [
           {
            "automargin": true,
            "type": "pie"
           }
          ],
          "scatter": [
           {
            "fillpattern": {
             "fillmode": "overlay",
             "size": 10,
             "solidity": 0.2
            },
            "type": "scatter"
           }
          ],
          "scatter3d": [
           {
            "line": {
             "colorbar": {
              "outlinewidth": 0,
              "ticks": ""
             }
            },
            "marker": {
             "colorbar": {
              "outlinewidth": 0,
              "ticks": ""
             }
            },
            "type": "scatter3d"
           }
          ],
          "scattercarpet": [
           {
            "marker": {
             "colorbar": {
              "outlinewidth": 0,
              "ticks": ""
             }
            },
            "type": "scattercarpet"
           }
          ],
          "scattergeo": [
           {
            "marker": {
             "colorbar": {
              "outlinewidth": 0,
              "ticks": ""
             }
            },
            "type": "scattergeo"
           }
          ],
          "scattergl": [
           {
            "marker": {
             "colorbar": {
              "outlinewidth": 0,
              "ticks": ""
             }
            },
            "type": "scattergl"
           }
          ],
          "scattermapbox": [
           {
            "marker": {
             "colorbar": {
              "outlinewidth": 0,
              "ticks": ""
             }
            },
            "type": "scattermapbox"
           }
          ],
          "scatterpolar": [
           {
            "marker": {
             "colorbar": {
              "outlinewidth": 0,
              "ticks": ""
             }
            },
            "type": "scatterpolar"
           }
          ],
          "scatterpolargl": [
           {
            "marker": {
             "colorbar": {
              "outlinewidth": 0,
              "ticks": ""
             }
            },
            "type": "scatterpolargl"
           }
          ],
          "scatterternary": [
           {
            "marker": {
             "colorbar": {
              "outlinewidth": 0,
              "ticks": ""
             }
            },
            "type": "scatterternary"
           }
          ],
          "surface": [
           {
            "colorbar": {
             "outlinewidth": 0,
             "ticks": ""
            },
            "colorscale": [
             [
              0,
              "#0d0887"
             ],
             [
              0.1111111111111111,
              "#46039f"
             ],
             [
              0.2222222222222222,
              "#7201a8"
             ],
             [
              0.3333333333333333,
              "#9c179e"
             ],
             [
              0.4444444444444444,
              "#bd3786"
             ],
             [
              0.5555555555555556,
              "#d8576b"
             ],
             [
              0.6666666666666666,
              "#ed7953"
             ],
             [
              0.7777777777777778,
              "#fb9f3a"
             ],
             [
              0.8888888888888888,
              "#fdca26"
             ],
             [
              1,
              "#f0f921"
             ]
            ],
            "type": "surface"
           }
          ],
          "table": [
           {
            "cells": {
             "fill": {
              "color": "#EBF0F8"
             },
             "line": {
              "color": "white"
             }
            },
            "header": {
             "fill": {
              "color": "#C8D4E3"
             },
             "line": {
              "color": "white"
             }
            },
            "type": "table"
           }
          ]
         },
         "layout": {
          "annotationdefaults": {
           "arrowcolor": "#2a3f5f",
           "arrowhead": 0,
           "arrowwidth": 1
          },
          "autotypenumbers": "strict",
          "coloraxis": {
           "colorbar": {
            "outlinewidth": 0,
            "ticks": ""
           }
          },
          "colorscale": {
           "diverging": [
            [
             0,
             "#8e0152"
            ],
            [
             0.1,
             "#c51b7d"
            ],
            [
             0.2,
             "#de77ae"
            ],
            [
             0.3,
             "#f1b6da"
            ],
            [
             0.4,
             "#fde0ef"
            ],
            [
             0.5,
             "#f7f7f7"
            ],
            [
             0.6,
             "#e6f5d0"
            ],
            [
             0.7,
             "#b8e186"
            ],
            [
             0.8,
             "#7fbc41"
            ],
            [
             0.9,
             "#4d9221"
            ],
            [
             1,
             "#276419"
            ]
           ],
           "sequential": [
            [
             0,
             "#0d0887"
            ],
            [
             0.1111111111111111,
             "#46039f"
            ],
            [
             0.2222222222222222,
             "#7201a8"
            ],
            [
             0.3333333333333333,
             "#9c179e"
            ],
            [
             0.4444444444444444,
             "#bd3786"
            ],
            [
             0.5555555555555556,
             "#d8576b"
            ],
            [
             0.6666666666666666,
             "#ed7953"
            ],
            [
             0.7777777777777778,
             "#fb9f3a"
            ],
            [
             0.8888888888888888,
             "#fdca26"
            ],
            [
             1,
             "#f0f921"
            ]
           ],
           "sequentialminus": [
            [
             0,
             "#0d0887"
            ],
            [
             0.1111111111111111,
             "#46039f"
            ],
            [
             0.2222222222222222,
             "#7201a8"
            ],
            [
             0.3333333333333333,
             "#9c179e"
            ],
            [
             0.4444444444444444,
             "#bd3786"
            ],
            [
             0.5555555555555556,
             "#d8576b"
            ],
            [
             0.6666666666666666,
             "#ed7953"
            ],
            [
             0.7777777777777778,
             "#fb9f3a"
            ],
            [
             0.8888888888888888,
             "#fdca26"
            ],
            [
             1,
             "#f0f921"
            ]
           ]
          },
          "colorway": [
           "#636efa",
           "#EF553B",
           "#00cc96",
           "#ab63fa",
           "#FFA15A",
           "#19d3f3",
           "#FF6692",
           "#B6E880",
           "#FF97FF",
           "#FECB52"
          ],
          "font": {
           "color": "#2a3f5f"
          },
          "geo": {
           "bgcolor": "white",
           "lakecolor": "white",
           "landcolor": "#E5ECF6",
           "showlakes": true,
           "showland": true,
           "subunitcolor": "white"
          },
          "hoverlabel": {
           "align": "left"
          },
          "hovermode": "closest",
          "mapbox": {
           "style": "light"
          },
          "paper_bgcolor": "white",
          "plot_bgcolor": "#E5ECF6",
          "polar": {
           "angularaxis": {
            "gridcolor": "white",
            "linecolor": "white",
            "ticks": ""
           },
           "bgcolor": "#E5ECF6",
           "radialaxis": {
            "gridcolor": "white",
            "linecolor": "white",
            "ticks": ""
           }
          },
          "scene": {
           "xaxis": {
            "backgroundcolor": "#E5ECF6",
            "gridcolor": "white",
            "gridwidth": 2,
            "linecolor": "white",
            "showbackground": true,
            "ticks": "",
            "zerolinecolor": "white"
           },
           "yaxis": {
            "backgroundcolor": "#E5ECF6",
            "gridcolor": "white",
            "gridwidth": 2,
            "linecolor": "white",
            "showbackground": true,
            "ticks": "",
            "zerolinecolor": "white"
           },
           "zaxis": {
            "backgroundcolor": "#E5ECF6",
            "gridcolor": "white",
            "gridwidth": 2,
            "linecolor": "white",
            "showbackground": true,
            "ticks": "",
            "zerolinecolor": "white"
           }
          },
          "shapedefaults": {
           "line": {
            "color": "#2a3f5f"
           }
          },
          "ternary": {
           "aaxis": {
            "gridcolor": "white",
            "linecolor": "white",
            "ticks": ""
           },
           "baxis": {
            "gridcolor": "white",
            "linecolor": "white",
            "ticks": ""
           },
           "bgcolor": "#E5ECF6",
           "caxis": {
            "gridcolor": "white",
            "linecolor": "white",
            "ticks": ""
           }
          },
          "title": {
           "x": 0.05
          },
          "xaxis": {
           "automargin": true,
           "gridcolor": "white",
           "linecolor": "white",
           "ticks": "",
           "title": {
            "standoff": 15
           },
           "zerolinecolor": "white",
           "zerolinewidth": 2
          },
          "yaxis": {
           "automargin": true,
           "gridcolor": "white",
           "linecolor": "white",
           "ticks": "",
           "title": {
            "standoff": 15
           },
           "zerolinecolor": "white",
           "zerolinewidth": 2
          }
         }
        },
        "title": {
         "text": "Distribution of mutations by primary site"
        },
        "width": 800
       }
      },
      "image/png": "[encoded data removed]",
      "text/html": [
       "<div>                            <div id=\"fde68abf-5a7a-45b0-a2d1-b5e8011b455b\" class=\"plotly-graph-div\" style=\"height:600px; width:800px;\"></div>            <script type=\"text/javascript\">                require([\"plotly\"], function(Plotly) {                    window.PLOTLYENV=window.PLOTLYENV || {};                                    if (document.getElementById(\"fde68abf-5a7a-45b0-a2d1-b5e8011b455b\")) {                    Plotly.newPlot(                        \"fde68abf-5a7a-45b0-a2d1-b5e8011b455b\",                        [{\"domain\":{\"x\":[0.0,1.0],\"y\":[0.0,1.0]},\"hovertemplate\":\"PRIMARY_SITE=%{label}\\u003cbr\\u003eCOUNT_MUTATION_IDs=%{value}\\u003cextra\\u003e\\u003c\\u002fextra\\u003e\",\"labels\":[\"NS\",\"autonomic_ganglia\",\"biliary_tract\",\"bone\",\"breast\",\"central_nervous_system\",\"cervix\",\"endometrium\",\"haematopoietic_and_lymphoid_tissue\",\"kidney\",\"large_intestine\",\"liver\",\"lung\",\"oesophagus\",\"ovary\",\"pancreas\",\"placenta\",\"prostate\",\"salivary_gland\",\"skin\",\"small_intestine\",\"soft_tissue\",\"stomach\",\"testis\",\"thyroid\",\"upper_aerodigestive_tract\",\"urinary_tract\"],\"legendgroup\":\"\",\"name\":\"\",\"showlegend\":true,\"values\":[21,6,25,6,129,472,33,102,90,41,326,156,273,37,27,31,6,36,7,392,15,21,173,3,12,110,53],\"type\":\"pie\",\"textinfo\":\"value+percent\"}],                        {\"template\":{\"data\":{\"histogram2dcontour\":[{\"type\":\"histogram2dcontour\",\"colorbar\":{\"outlinewidth\":0,\"ticks\":\"\"},\"colorscale\":[[0.0,\"#0d0887\"],[0.1111111111111111,\"#46039f\"],[0.2222222222222222,\"#7201a8\"],[0.3333333333333333,\"#9c179e\"],[0.4444444444444444,\"#bd3786\"],[0.5555555555555556,\"#d8576b\"],[0.6666666666666666,\"#ed7953\"],[0.7777777777777778,\"#fb9f3a\"],[0.8888888888888888,\"#fdca26\"],[1.0,\"#f0f921\"]]}],\"choropleth\":[{\"type\":\"choropleth\",\"colorbar\":{\"outlinewidth\":0,\"ticks\":\"\"}}],\"histogram2d\":[{\"type\":\"histogram2d\",\"colorbar\":{\"outlinewidth\":0,\"ticks\":\"\"},\"colorscale\":[[0.0,\"#0d0887\"],[0.1111111111111111,\"#46039f\"],[0.2222222222222222,\"#7201a8\"],[0.3333333333333333,\"#9c179e\"],[0.4444444444444444,\"#bd3786\"],[0.5555555555555556,\"#d8576b\"],[0.6666666666666666,\"#ed7953\"],[0.7777777777777778,\"#fb9f3a\"],[0.8888888888888888,\"#fdca26\"],[1.0,\"#f0f921\"]]}],\"heatmap\":[{\"type\":\"heatmap\",\"colorbar\":{\"outlinewidth\":0,\"ticks\":\"\"},\"colorscale\":[[0.0,\"#0d0887\"],[0.1111111111111111,\"#46039f\"],[0.2222222222222222,\"#7201a8\"],[0.3333333333333333,\"#9c179e\"],[0.4444444444444444,\"#bd3786\"],[0.5555555555555556,\"#d8576b\"],[0.6666666666666666,\"#ed7953\"],[0.7777777777777778,\"#fb9f3a\"],[0.8888888888888888,\"#fdca26\"],[1.0,\"#f0f921\"]]}],\"heatmapgl\":[{\"type\":\"heatmapgl\",\"colorbar\":{\"outlinewidth\":0,\"ticks\":\"\"},\"colorscale\":[[0.0,\"#0d0887\"],[0.1111111111111111,\"#46039f\"],[0.2222222222222222,\"#7201a8\"],[0.3333333333333333,\"#9c179e\"],[0.4444444444444444,\"#bd3786\"],[0.5555555555555556,\"#d8576b\"],[0.6666666666666666,\"#ed7953\"],[0.7777777777777778,\"#fb9f3a\"],[0.8888888888888888,\"#fdca26\"],[1.0,\"#f0f921\"]]}],\"contourcarpet\":[{\"type\":\"contourcarpet\",\"colorbar\":{\"outlinewidth\":0,\"ticks\":\"\"}}],\"contour\":[{\"type\":\"contour\",\"colorbar\":{\"outlinewidth\":0,\"ticks\":\"\"},\"colorscale\":[[0.0,\"#0d0887\"],[0.1111111111111111,\"#46039f\"],[0.2222222222222222,\"#7201a8\"],[0.3333333333333333,\"#9c179e\"],[0.4444444444444444,\"#bd3786\"],[0.5555555555555556,\"#d8576b\"],[0.6666666666666666,\"#ed7953\"],[0.7777777777777778,\"#fb9f3a\"],[0.8888888888888888,\"#fdca26\"],[1.0,\"#f0f921\"]]}],\"surface\":[{\"type\":\"surface\",\"colorbar\":{\"outlinewidth\":0,\"ticks\":\"\"},\"colorscale\":[[0.0,\"#0d0887\"],[0.1111111111111111,\"#46039f\"],[0.2222222222222222,\"#7201a8\"],[0.3333333333333333,\"#9c179e\"],[0.4444444444444444,\"#bd3786\"],[0.5555555555555556,\"#d8576b\"],[0.6666666666666666,\"#ed7953\"],[0.7777777777777778,\"#fb9f3a\"],[0.8888888888888888,\"#fdca26\"],[1.0,\"#f0f921\"]]}],\"mesh3d\":[{\"type\":\"mesh3d\",\"colorbar\":{\"outlinewidth\":0,\"ticks\":\"\"}}],\"scatter\":[{\"fillpattern\":{\"fillmode\":\"overlay\",\"size\":10,\"solidity\":0.2},\"type\":\"scatter\"}],\"parcoords\":[{\"type\":\"parcoords\",\"line\":{\"colorbar\":{\"outlinewidth\":0,\"ticks\":\"\"}}}],\"scatterpolargl\":[{\"type\":\"scatterpolargl\",\"marker\":{\"colorbar\":{\"outlinewidth\":0,\"ticks\":\"\"}}}],\"bar\":[{\"error_x\":{\"color\":\"#2a3f5f\"},\"error_y\":{\"color\":\"#2a3f5f\"},\"marker\":{\"line\":{\"color\":\"#E5ECF6\",\"width\":0.5},\"pattern\":{\"fillmode\":\"overlay\",\"size\":10,\"solidity\":0.2}},\"type\":\"bar\"}],\"scattergeo\":[{\"type\":\"scattergeo\",\"marker\":{\"colorbar\":{\"outlinewidth\":0,\"ticks\":\"\"}}}],\"scatterpolar\":[{\"type\":\"scatterpolar\",\"marker\":{\"colorbar\":{\"outlinewidth\":0,\"ticks\":\"\"}}}],\"histogram\":[{\"marker\":{\"pattern\":{\"fillmode\":\"overlay\",\"size\":10,\"solidity\":0.2}},\"type\":\"histogram\"}],\"scattergl\":[{\"type\":\"scattergl\",\"marker\":{\"colorbar\":{\"outlinewidth\":0,\"ticks\":\"\"}}}],\"scatter3d\":[{\"type\":\"scatter3d\",\"line\":{\"colorbar\":{\"outlinewidth\":0,\"ticks\":\"\"}},\"marker\":{\"colorbar\":{\"outlinewidth\":0,\"ticks\":\"\"}}}],\"scattermapbox\":[{\"type\":\"scattermapbox\",\"marker\":{\"colorbar\":{\"outlinewidth\":0,\"ticks\":\"\"}}}],\"scatterternary\":[{\"type\":\"scatterternary\",\"marker\":{\"colorbar\":{\"outlinewidth\":0,\"ticks\":\"\"}}}],\"scattercarpet\":[{\"type\":\"scattercarpet\",\"marker\":{\"colorbar\":{\"outlinewidth\":0,\"ticks\":\"\"}}}],\"carpet\":[{\"aaxis\":{\"endlinecolor\":\"#2a3f5f\",\"gridcolor\":\"white\",\"linecolor\":\"white\",\"minorgridcolor\":\"white\",\"startlinecolor\":\"#2a3f5f\"},\"baxis\":{\"endlinecolor\":\"#2a3f5f\",\"gridcolor\":\"white\",\"linecolor\":\"white\",\"minorgridcolor\":\"white\",\"startlinecolor\":\"#2a3f5f\"},\"type\":\"carpet\"}],\"table\":[{\"cells\":{\"fill\":{\"color\":\"#EBF0F8\"},\"line\":{\"color\":\"white\"}},\"header\":{\"fill\":{\"color\":\"#C8D4E3\"},\"line\":{\"color\":\"white\"}},\"type\":\"table\"}],\"barpolar\":[{\"marker\":{\"line\":{\"color\":\"#E5ECF6\",\"width\":0.5},\"pattern\":{\"fillmode\":\"overlay\",\"size\":10,\"solidity\":0.2}},\"type\":\"barpolar\"}],\"pie\":[{\"automargin\":true,\"type\":\"pie\"}]},\"layout\":{\"autotypenumbers\":\"strict\",\"colorway\":[\"#636efa\",\"#EF553B\",\"#00cc96\",\"#ab63fa\",\"#FFA15A\",\"#19d3f3\",\"#FF6692\",\"#B6E880\",\"#FF97FF\",\"#FECB52\"],\"font\":{\"color\":\"#2a3f5f\"},\"hovermode\":\"closest\",\"hoverlabel\":{\"align\":\"left\"},\"paper_bgcolor\":\"white\",\"plot_bgcolor\":\"#E5ECF6\",\"polar\":{\"bgcolor\":\"#E5ECF6\",\"angularaxis\":{\"gridcolor\":\"white\",\"linecolor\":\"white\",\"ticks\":\"\"},\"radialaxis\":{\"gridcolor\":\"white\",\"linecolor\":\"white\",\"ticks\":\"\"}},\"ternary\":{\"bgcolor\":\"#E5ECF6\",\"aaxis\":{\"gridcolor\":\"white\",\"linecolor\":\"white\",\"ticks\":\"\"},\"baxis\":{\"gridcolor\":\"white\",\"linecolor\":\"white\",\"ticks\":\"\"},\"caxis\":{\"gridcolor\":\"white\",\"linecolor\":\"white\",\"ticks\":\"\"}},\"coloraxis\":{\"colorbar\":{\"outlinewidth\":0,\"ticks\":\"\"}},\"colorscale\":{\"sequential\":[[0.0,\"#0d0887\"],[0.1111111111111111,\"#46039f\"],[0.2222222222222222,\"#7201a8\"],[0.3333333333333333,\"#9c179e\"],[0.4444444444444444,\"#bd3786\"],[0.5555555555555556,\"#d8576b\"],[0.6666666666666666,\"#ed7953\"],[0.7777777777777778,\"#fb9f3a\"],[0.8888888888888888,\"#fdca26\"],[1.0,\"#f0f921\"]],\"sequentialminus\":[[0.0,\"#0d0887\"],[0.1111111111111111,\"#46039f\"],[0.2222222222222222,\"#7201a8\"],[0.3333333333333333,\"#9c179e\"],[0.4444444444444444,\"#bd3786\"],[0.5555555555555556,\"#d8576b\"],[0.6666666666666666,\"#ed7953\"],[0.7777777777777778,\"#fb9f3a\"],[0.8888888888888888,\"#fdca26\"],[1.0,\"#f0f921\"]],\"diverging\":[[0,\"#8e0152\"],[0.1,\"#c51b7d\"],[0.2,\"#de77ae\"],[0.3,\"#f1b6da\"],[0.4,\"#fde0ef\"],[0.5,\"#f7f7f7\"],[0.6,\"#e6f5d0\"],[0.7,\"#b8e186\"],[0.8,\"#7fbc41\"],[0.9,\"#4d9221\"],[1,\"#276419\"]]},\"xaxis\":{\"gridcolor\":\"white\",\"linecolor\":\"white\",\"ticks\":\"\",\"title\":{\"standoff\":15},\"zerolinecolor\":\"white\",\"automargin\":true,\"zerolinewidth\":2},\"yaxis\":{\"gridcolor\":\"white\",\"linecolor\":\"white\",\"ticks\":\"\",\"title\":{\"standoff\":15},\"zerolinecolor\":\"white\",\"automargin\":true,\"zerolinewidth\":2},\"scene\":{\"xaxis\":{\"backgroundcolor\":\"#E5ECF6\",\"gridcolor\":\"white\",\"linecolor\":\"white\",\"showbackground\":true,\"ticks\":\"\",\"zerolinecolor\":\"white\",\"gridwidth\":2},\"yaxis\":{\"backgroundcolor\":\"#E5ECF6\",\"gridcolor\":\"white\",\"linecolor\":\"white\",\"showbackground\":true,\"ticks\":\"\",\"zerolinecolor\":\"white\",\"gridwidth\":2},\"zaxis\":{\"backgroundcolor\":\"#E5ECF6\",\"gridcolor\":\"white\",\"linecolor\":\"white\",\"showbackground\":true,\"ticks\":\"\",\"zerolinecolor\":\"white\",\"gridwidth\":2}},\"shapedefaults\":{\"line\":{\"color\":\"#2a3f5f\"}},\"annotationdefaults\":{\"arrowcolor\":\"#2a3f5f\",\"arrowhead\":0,\"arrowwidth\":1},\"geo\":{\"bgcolor\":\"white\",\"landcolor\":\"#E5ECF6\",\"subunitcolor\":\"white\",\"showland\":true,\"showlakes\":true,\"lakecolor\":\"white\"},\"title\":{\"x\":0.05},\"mapbox\":{\"style\":\"light\"}}},\"legend\":{\"tracegroupgap\":0},\"title\":{\"text\":\"Distribution of mutations by primary site\"},\"width\":800,\"height\":600},                        {\"responsive\": true}                    ).then(function(){\n",
       "                            \n",
       "var gd = document.getElementById('fde68abf-5a7a-45b0-a2d1-b5e8011b455b');\n",
       "var x = new MutationObserver(function (mutations, observer) {{\n",
       "        var display = window.getComputedStyle(gd).display;\n",
       "        if (!display || display === 'none') {{\n",
       "            console.log([gd, 'removed!']);\n",
       "            Plotly.purge(gd);\n",
       "            observer.disconnect();\n",
       "        }}\n",
       "}});\n",
       "\n",
       "// Listen for the removal of the full notebook cells\n",
       "var notebookContainer = gd.closest('#notebook-container');\n",
       "if (notebookContainer) {{\n",
       "    x.observe(notebookContainer, {childList: true});\n",
       "}}\n",
       "\n",
       "// Listen for the clearing of the current output cell\n",
       "var outputEl = gd.closest('.output');\n",
       "if (outputEl) {{\n",
       "    x.observe(outputEl, {childList: true});\n",
       "}}\n",
       "\n",
       "                        })                };                });            </script>        </div>"
      ]
     },
     "metadata": {},
     "output_type": "display_data"
    }
   ],
   "source": [
    "fig = px.pie(grouped_data, values='COUNT_MUTATION_IDs', names='PRIMARY_SITE', title='Distribution of mutations by primary site')\n",
    "fig.update_traces(textinfo='value+percent')\n",
    "fig.update_layout(width=800, height=600)\n",
    "fig.show()"
   ]
  },
  {
   "cell_type": "code",
   "execution_count": 54,
   "id": "f356027c-a994-4afe-a096-8f796e81b2b1",
   "metadata": {},
   "outputs": [
    {
     "data": {
      "application/vnd.plotly.v1+json": {
       "config": {
        "plotlyServerURL": "https://plot.ly"
       },
       "data": [
        {
         "alignmentgroup": "True",
         "hovertemplate": "Primary Site=%{x}<br>Count Mutation IDs=%{y}<extra></extra>",
         "legendgroup": "central_nervous_system",
         "marker": {
          "color": "#636efa",
          "pattern": {
           "shape": ""
          }
         },
         "name": "central_nervous_system",
         "offsetgroup": "central_nervous_system",
         "orientation": "v",
         "showlegend": true,
         "textposition": "auto",
         "type": "bar",
         "x": [
          "central_nervous_system"
         ],
         "xaxis": "x",
         "y": [
          472
         ],
         "yaxis": "y"
        },
        {
         "alignmentgroup": "True",
         "hovertemplate": "Primary Site=%{x}<br>Count Mutation IDs=%{y}<extra></extra>",
         "legendgroup": "skin",
         "marker": {
          "color": "#EF553B",
          "pattern": {
           "shape": ""
          }
         },
         "name": "skin",
         "offsetgroup": "skin",
         "orientation": "v",
         "showlegend": true,
         "textposition": "auto",
         "type": "bar",
         "x": [
          "skin"
         ],
         "xaxis": "x",
         "y": [
          392
         ],
         "yaxis": "y"
        },
        {
         "alignmentgroup": "True",
         "hovertemplate": "Primary Site=%{x}<br>Count Mutation IDs=%{y}<extra></extra>",
         "legendgroup": "large_intestine",
         "marker": {
          "color": "#00cc96",
          "pattern": {
           "shape": ""
          }
         },
         "name": "large_intestine",
         "offsetgroup": "large_intestine",
         "orientation": "v",
         "showlegend": true,
         "textposition": "auto",
         "type": "bar",
         "x": [
          "large_intestine"
         ],
         "xaxis": "x",
         "y": [
          326
         ],
         "yaxis": "y"
        },
        {
         "alignmentgroup": "True",
         "hovertemplate": "Primary Site=%{x}<br>Count Mutation IDs=%{y}<extra></extra>",
         "legendgroup": "lung",
         "marker": {
          "color": "#ab63fa",
          "pattern": {
           "shape": ""
          }
         },
         "name": "lung",
         "offsetgroup": "lung",
         "orientation": "v",
         "showlegend": true,
         "textposition": "auto",
         "type": "bar",
         "x": [
          "lung"
         ],
         "xaxis": "x",
         "y": [
          273
         ],
         "yaxis": "y"
        },
        {
         "alignmentgroup": "True",
         "hovertemplate": "Primary Site=%{x}<br>Count Mutation IDs=%{y}<extra></extra>",
         "legendgroup": "stomach",
         "marker": {
          "color": "#FFA15A",
          "pattern": {
           "shape": ""
          }
         },
         "name": "stomach",
         "offsetgroup": "stomach",
         "orientation": "v",
         "showlegend": true,
         "textposition": "auto",
         "type": "bar",
         "x": [
          "stomach"
         ],
         "xaxis": "x",
         "y": [
          173
         ],
         "yaxis": "y"
        },
        {
         "alignmentgroup": "True",
         "hovertemplate": "Primary Site=%{x}<br>Count Mutation IDs=%{y}<extra></extra>",
         "legendgroup": "liver",
         "marker": {
          "color": "#19d3f3",
          "pattern": {
           "shape": ""
          }
         },
         "name": "liver",
         "offsetgroup": "liver",
         "orientation": "v",
         "showlegend": true,
         "textposition": "auto",
         "type": "bar",
         "x": [
          "liver"
         ],
         "xaxis": "x",
         "y": [
          156
         ],
         "yaxis": "y"
        },
        {
         "alignmentgroup": "True",
         "hovertemplate": "Primary Site=%{x}<br>Count Mutation IDs=%{y}<extra></extra>",
         "legendgroup": "breast",
         "marker": {
          "color": "#FF6692",
          "pattern": {
           "shape": ""
          }
         },
         "name": "breast",
         "offsetgroup": "breast",
         "orientation": "v",
         "showlegend": true,
         "textposition": "auto",
         "type": "bar",
         "x": [
          "breast"
         ],
         "xaxis": "x",
         "y": [
          129
         ],
         "yaxis": "y"
        },
        {
         "alignmentgroup": "True",
         "hovertemplate": "Primary Site=%{x}<br>Count Mutation IDs=%{y}<extra></extra>",
         "legendgroup": "upper_aerodigestive_tract",
         "marker": {
          "color": "#B6E880",
          "pattern": {
           "shape": ""
          }
         },
         "name": "upper_aerodigestive_tract",
         "offsetgroup": "upper_aerodigestive_tract",
         "orientation": "v",
         "showlegend": true,
         "textposition": "auto",
         "type": "bar",
         "x": [
          "upper_aerodigestive_tract"
         ],
         "xaxis": "x",
         "y": [
          110
         ],
         "yaxis": "y"
        },
        {
         "alignmentgroup": "True",
         "hovertemplate": "Primary Site=%{x}<br>Count Mutation IDs=%{y}<extra></extra>",
         "legendgroup": "endometrium",
         "marker": {
          "color": "#FF97FF",
          "pattern": {
           "shape": ""
          }
         },
         "name": "endometrium",
         "offsetgroup": "endometrium",
         "orientation": "v",
         "showlegend": true,
         "textposition": "auto",
         "type": "bar",
         "x": [
          "endometrium"
         ],
         "xaxis": "x",
         "y": [
          102
         ],
         "yaxis": "y"
        },
        {
         "alignmentgroup": "True",
         "hovertemplate": "Primary Site=%{x}<br>Count Mutation IDs=%{y}<extra></extra>",
         "legendgroup": "haematopoietic_and_lymphoid_tissue",
         "marker": {
          "color": "#FECB52",
          "pattern": {
           "shape": ""
          }
         },
         "name": "haematopoietic_and_lymphoid_tissue",
         "offsetgroup": "haematopoietic_and_lymphoid_tissue",
         "orientation": "v",
         "showlegend": true,
         "textposition": "auto",
         "type": "bar",
         "x": [
          "haematopoietic_and_lymphoid_tissue"
         ],
         "xaxis": "x",
         "y": [
          90
         ],
         "yaxis": "y"
        },
        {
         "alignmentgroup": "True",
         "hovertemplate": "Primary Site=%{x}<br>Count Mutation IDs=%{y}<extra></extra>",
         "legendgroup": "urinary_tract",
         "marker": {
          "color": "#636efa",
          "pattern": {
           "shape": ""
          }
         },
         "name": "urinary_tract",
         "offsetgroup": "urinary_tract",
         "orientation": "v",
         "showlegend": true,
         "textposition": "auto",
         "type": "bar",
         "x": [
          "urinary_tract"
         ],
         "xaxis": "x",
         "y": [
          53
         ],
         "yaxis": "y"
        },
        {
         "alignmentgroup": "True",
         "hovertemplate": "Primary Site=%{x}<br>Count Mutation IDs=%{y}<extra></extra>",
         "legendgroup": "kidney",
         "marker": {
          "color": "#EF553B",
          "pattern": {
           "shape": ""
          }
         },
         "name": "kidney",
         "offsetgroup": "kidney",
         "orientation": "v",
         "showlegend": true,
         "textposition": "auto",
         "type": "bar",
         "x": [
          "kidney"
         ],
         "xaxis": "x",
         "y": [
          41
         ],
         "yaxis": "y"
        },
        {
         "alignmentgroup": "True",
         "hovertemplate": "Primary Site=%{x}<br>Count Mutation IDs=%{y}<extra></extra>",
         "legendgroup": "oesophagus",
         "marker": {
          "color": "#00cc96",
          "pattern": {
           "shape": ""
          }
         },
         "name": "oesophagus",
         "offsetgroup": "oesophagus",
         "orientation": "v",
         "showlegend": true,
         "textposition": "auto",
         "type": "bar",
         "x": [
          "oesophagus"
         ],
         "xaxis": "x",
         "y": [
          37
         ],
         "yaxis": "y"
        },
        {
         "alignmentgroup": "True",
         "hovertemplate": "Primary Site=%{x}<br>Count Mutation IDs=%{y}<extra></extra>",
         "legendgroup": "prostate",
         "marker": {
          "color": "#ab63fa",
          "pattern": {
           "shape": ""
          }
         },
         "name": "prostate",
         "offsetgroup": "prostate",
         "orientation": "v",
         "showlegend": true,
         "textposition": "auto",
         "type": "bar",
         "x": [
          "prostate"
         ],
         "xaxis": "x",
         "y": [
          36
         ],
         "yaxis": "y"
        },
        {
         "alignmentgroup": "True",
         "hovertemplate": "Primary Site=%{x}<br>Count Mutation IDs=%{y}<extra></extra>",
         "legendgroup": "cervix",
         "marker": {
          "color": "#FFA15A",
          "pattern": {
           "shape": ""
          }
         },
         "name": "cervix",
         "offsetgroup": "cervix",
         "orientation": "v",
         "showlegend": true,
         "textposition": "auto",
         "type": "bar",
         "x": [
          "cervix"
         ],
         "xaxis": "x",
         "y": [
          33
         ],
         "yaxis": "y"
        },
        {
         "alignmentgroup": "True",
         "hovertemplate": "Primary Site=%{x}<br>Count Mutation IDs=%{y}<extra></extra>",
         "legendgroup": "pancreas",
         "marker": {
          "color": "#19d3f3",
          "pattern": {
           "shape": ""
          }
         },
         "name": "pancreas",
         "offsetgroup": "pancreas",
         "orientation": "v",
         "showlegend": true,
         "textposition": "auto",
         "type": "bar",
         "x": [
          "pancreas"
         ],
         "xaxis": "x",
         "y": [
          31
         ],
         "yaxis": "y"
        },
        {
         "alignmentgroup": "True",
         "hovertemplate": "Primary Site=%{x}<br>Count Mutation IDs=%{y}<extra></extra>",
         "legendgroup": "ovary",
         "marker": {
          "color": "#FF6692",
          "pattern": {
           "shape": ""
          }
         },
         "name": "ovary",
         "offsetgroup": "ovary",
         "orientation": "v",
         "showlegend": true,
         "textposition": "auto",
         "type": "bar",
         "x": [
          "ovary"
         ],
         "xaxis": "x",
         "y": [
          27
         ],
         "yaxis": "y"
        },
        {
         "alignmentgroup": "True",
         "hovertemplate": "Primary Site=%{x}<br>Count Mutation IDs=%{y}<extra></extra>",
         "legendgroup": "biliary_tract",
         "marker": {
          "color": "#B6E880",
          "pattern": {
           "shape": ""
          }
         },
         "name": "biliary_tract",
         "offsetgroup": "biliary_tract",
         "orientation": "v",
         "showlegend": true,
         "textposition": "auto",
         "type": "bar",
         "x": [
          "biliary_tract"
         ],
         "xaxis": "x",
         "y": [
          25
         ],
         "yaxis": "y"
        },
        {
         "alignmentgroup": "True",
         "hovertemplate": "Primary Site=%{x}<br>Count Mutation IDs=%{y}<extra></extra>",
         "legendgroup": "soft_tissue",
         "marker": {
          "color": "#FF97FF",
          "pattern": {
           "shape": ""
          }
         },
         "name": "soft_tissue",
         "offsetgroup": "soft_tissue",
         "orientation": "v",
         "showlegend": true,
         "textposition": "auto",
         "type": "bar",
         "x": [
          "soft_tissue"
         ],
         "xaxis": "x",
         "y": [
          21
         ],
         "yaxis": "y"
        },
        {
         "alignmentgroup": "True",
         "hovertemplate": "Primary Site=%{x}<br>Count Mutation IDs=%{y}<extra></extra>",
         "legendgroup": "NS",
         "marker": {
          "color": "#FECB52",
          "pattern": {
           "shape": ""
          }
         },
         "name": "NS",
         "offsetgroup": "NS",
         "orientation": "v",
         "showlegend": true,
         "textposition": "auto",
         "type": "bar",
         "x": [
          "NS"
         ],
         "xaxis": "x",
         "y": [
          21
         ],
         "yaxis": "y"
        },
        {
         "alignmentgroup": "True",
         "hovertemplate": "Primary Site=%{x}<br>Count Mutation IDs=%{y}<extra></extra>",
         "legendgroup": "small_intestine",
         "marker": {
          "color": "#636efa",
          "pattern": {
           "shape": ""
          }
         },
         "name": "small_intestine",
         "offsetgroup": "small_intestine",
         "orientation": "v",
         "showlegend": true,
         "textposition": "auto",
         "type": "bar",
         "x": [
          "small_intestine"
         ],
         "xaxis": "x",
         "y": [
          15
         ],
         "yaxis": "y"
        },
        {
         "alignmentgroup": "True",
         "hovertemplate": "Primary Site=%{x}<br>Count Mutation IDs=%{y}<extra></extra>",
         "legendgroup": "thyroid",
         "marker": {
          "color": "#EF553B",
          "pattern": {
           "shape": ""
          }
         },
         "name": "thyroid",
         "offsetgroup": "thyroid",
         "orientation": "v",
         "showlegend": true,
         "textposition": "auto",
         "type": "bar",
         "x": [
          "thyroid"
         ],
         "xaxis": "x",
         "y": [
          12
         ],
         "yaxis": "y"
        },
        {
         "alignmentgroup": "True",
         "hovertemplate": "Primary Site=%{x}<br>Count Mutation IDs=%{y}<extra></extra>",
         "legendgroup": "salivary_gland",
         "marker": {
          "color": "#00cc96",
          "pattern": {
           "shape": ""
          }
         },
         "name": "salivary_gland",
         "offsetgroup": "salivary_gland",
         "orientation": "v",
         "showlegend": true,
         "textposition": "auto",
         "type": "bar",
         "x": [
          "salivary_gland"
         ],
         "xaxis": "x",
         "y": [
          7
         ],
         "yaxis": "y"
        },
        {
         "alignmentgroup": "True",
         "hovertemplate": "Primary Site=%{x}<br>Count Mutation IDs=%{y}<extra></extra>",
         "legendgroup": "autonomic_ganglia",
         "marker": {
          "color": "#ab63fa",
          "pattern": {
           "shape": ""
          }
         },
         "name": "autonomic_ganglia",
         "offsetgroup": "autonomic_ganglia",
         "orientation": "v",
         "showlegend": true,
         "textposition": "auto",
         "type": "bar",
         "x": [
          "autonomic_ganglia"
         ],
         "xaxis": "x",
         "y": [
          6
         ],
         "yaxis": "y"
        },
        {
         "alignmentgroup": "True",
         "hovertemplate": "Primary Site=%{x}<br>Count Mutation IDs=%{y}<extra></extra>",
         "legendgroup": "placenta",
         "marker": {
          "color": "#FFA15A",
          "pattern": {
           "shape": ""
          }
         },
         "name": "placenta",
         "offsetgroup": "placenta",
         "orientation": "v",
         "showlegend": true,
         "textposition": "auto",
         "type": "bar",
         "x": [
          "placenta"
         ],
         "xaxis": "x",
         "y": [
          6
         ],
         "yaxis": "y"
        },
        {
         "alignmentgroup": "True",
         "hovertemplate": "Primary Site=%{x}<br>Count Mutation IDs=%{y}<extra></extra>",
         "legendgroup": "bone",
         "marker": {
          "color": "#19d3f3",
          "pattern": {
           "shape": ""
          }
         },
         "name": "bone",
         "offsetgroup": "bone",
         "orientation": "v",
         "showlegend": true,
         "textposition": "auto",
         "type": "bar",
         "x": [
          "bone"
         ],
         "xaxis": "x",
         "y": [
          6
         ],
         "yaxis": "y"
        },
        {
         "alignmentgroup": "True",
         "hovertemplate": "Primary Site=%{x}<br>Count Mutation IDs=%{y}<extra></extra>",
         "legendgroup": "testis",
         "marker": {
          "color": "#FF6692",
          "pattern": {
           "shape": ""
          }
         },
         "name": "testis",
         "offsetgroup": "testis",
         "orientation": "v",
         "showlegend": true,
         "textposition": "auto",
         "type": "bar",
         "x": [
          "testis"
         ],
         "xaxis": "x",
         "y": [
          3
         ],
         "yaxis": "y"
        }
       ],
       "layout": {
        "barmode": "relative",
        "height": 600,
        "legend": {
         "title": {
          "text": "Primary Site"
         },
         "tracegroupgap": 0
        },
        "showlegend": false,
        "template": {
         "data": {
          "bar": [
           {
            "error_x": {
             "color": "#2a3f5f"
            },
            "error_y": {
             "color": "#2a3f5f"
            },
            "marker": {
             "line": {
              "color": "#E5ECF6",
              "width": 0.5
             },
             "pattern": {
              "fillmode": "overlay",
              "size": 10,
              "solidity": 0.2
             }
            },
            "type": "bar"
           }
          ],
          "barpolar": [
           {
            "marker": {
             "line": {
              "color": "#E5ECF6",
              "width": 0.5
             },
             "pattern": {
              "fillmode": "overlay",
              "size": 10,
              "solidity": 0.2
             }
            },
            "type": "barpolar"
           }
          ],
          "carpet": [
           {
            "aaxis": {
             "endlinecolor": "#2a3f5f",
             "gridcolor": "white",
             "linecolor": "white",
             "minorgridcolor": "white",
             "startlinecolor": "#2a3f5f"
            },
            "baxis": {
             "endlinecolor": "#2a3f5f",
             "gridcolor": "white",
             "linecolor": "white",
             "minorgridcolor": "white",
             "startlinecolor": "#2a3f5f"
            },
            "type": "carpet"
           }
          ],
          "choropleth": [
           {
            "colorbar": {
             "outlinewidth": 0,
             "ticks": ""
            },
            "type": "choropleth"
           }
          ],
          "contour": [
           {
            "colorbar": {
             "outlinewidth": 0,
             "ticks": ""
            },
            "colorscale": [
             [
              0,
              "#0d0887"
             ],
             [
              0.1111111111111111,
              "#46039f"
             ],
             [
              0.2222222222222222,
              "#7201a8"
             ],
             [
              0.3333333333333333,
              "#9c179e"
             ],
             [
              0.4444444444444444,
              "#bd3786"
             ],
             [
              0.5555555555555556,
              "#d8576b"
             ],
             [
              0.6666666666666666,
              "#ed7953"
             ],
             [
              0.7777777777777778,
              "#fb9f3a"
             ],
             [
              0.8888888888888888,
              "#fdca26"
             ],
             [
              1,
              "#f0f921"
             ]
            ],
            "type": "contour"
           }
          ],
          "contourcarpet": [
           {
            "colorbar": {
             "outlinewidth": 0,
             "ticks": ""
            },
            "type": "contourcarpet"
           }
          ],
          "heatmap": [
           {
            "colorbar": {
             "outlinewidth": 0,
             "ticks": ""
            },
            "colorscale": [
             [
              0,
              "#0d0887"
             ],
             [
              0.1111111111111111,
              "#46039f"
             ],
             [
              0.2222222222222222,
              "#7201a8"
             ],
             [
              0.3333333333333333,
              "#9c179e"
             ],
             [
              0.4444444444444444,
              "#bd3786"
             ],
             [
              0.5555555555555556,
              "#d8576b"
             ],
             [
              0.6666666666666666,
              "#ed7953"
             ],
             [
              0.7777777777777778,
              "#fb9f3a"
             ],
             [
              0.8888888888888888,
              "#fdca26"
             ],
             [
              1,
              "#f0f921"
             ]
            ],
            "type": "heatmap"
           }
          ],
          "heatmapgl": [
           {
            "colorbar": {
             "outlinewidth": 0,
             "ticks": ""
            },
            "colorscale": [
             [
              0,
              "#0d0887"
             ],
             [
              0.1111111111111111,
              "#46039f"
             ],
             [
              0.2222222222222222,
              "#7201a8"
             ],
             [
              0.3333333333333333,
              "#9c179e"
             ],
             [
              0.4444444444444444,
              "#bd3786"
             ],
             [
              0.5555555555555556,
              "#d8576b"
             ],
             [
              0.6666666666666666,
              "#ed7953"
             ],
             [
              0.7777777777777778,
              "#fb9f3a"
             ],
             [
              0.8888888888888888,
              "#fdca26"
             ],
             [
              1,
              "#f0f921"
             ]
            ],
            "type": "heatmapgl"
           }
          ],
          "histogram": [
           {
            "marker": {
             "pattern": {
              "fillmode": "overlay",
              "size": 10,
              "solidity": 0.2
             }
            },
            "type": "histogram"
           }
          ],
          "histogram2d": [
           {
            "colorbar": {
             "outlinewidth": 0,
             "ticks": ""
            },
            "colorscale": [
             [
              0,
              "#0d0887"
             ],
             [
              0.1111111111111111,
              "#46039f"
             ],
             [
              0.2222222222222222,
              "#7201a8"
             ],
             [
              0.3333333333333333,
              "#9c179e"
             ],
             [
              0.4444444444444444,
              "#bd3786"
             ],
             [
              0.5555555555555556,
              "#d8576b"
             ],
             [
              0.6666666666666666,
              "#ed7953"
             ],
             [
              0.7777777777777778,
              "#fb9f3a"
             ],
             [
              0.8888888888888888,
              "#fdca26"
             ],
             [
              1,
              "#f0f921"
             ]
            ],
            "type": "histogram2d"
           }
          ],
          "histogram2dcontour": [
           {
            "colorbar": {
             "outlinewidth": 0,
             "ticks": ""
            },
            "colorscale": [
             [
              0,
              "#0d0887"
             ],
             [
              0.1111111111111111,
              "#46039f"
             ],
             [
              0.2222222222222222,
              "#7201a8"
             ],
             [
              0.3333333333333333,
              "#9c179e"
             ],
             [
              0.4444444444444444,
              "#bd3786"
             ],
             [
              0.5555555555555556,
              "#d8576b"
             ],
             [
              0.6666666666666666,
              "#ed7953"
             ],
             [
              0.7777777777777778,
              "#fb9f3a"
             ],
             [
              0.8888888888888888,
              "#fdca26"
             ],
             [
              1,
              "#f0f921"
             ]
            ],
            "type": "histogram2dcontour"
           }
          ],
          "mesh3d": [
           {
            "colorbar": {
             "outlinewidth": 0,
             "ticks": ""
            },
            "type": "mesh3d"
           }
          ],
          "parcoords": [
           {
            "line": {
             "colorbar": {
              "outlinewidth": 0,
              "ticks": ""
             }
            },
            "type": "parcoords"
           }
          ],
          "pie": [
           {
            "automargin": true,
            "type": "pie"
           }
          ],
          "scatter": [
           {
            "fillpattern": {
             "fillmode": "overlay",
             "size": 10,
             "solidity": 0.2
            },
            "type": "scatter"
           }
          ],
          "scatter3d": [
           {
            "line": {
             "colorbar": {
              "outlinewidth": 0,
              "ticks": ""
             }
            },
            "marker": {
             "colorbar": {
              "outlinewidth": 0,
              "ticks": ""
             }
            },
            "type": "scatter3d"
           }
          ],
          "scattercarpet": [
           {
            "marker": {
             "colorbar": {
              "outlinewidth": 0,
              "ticks": ""
             }
            },
            "type": "scattercarpet"
           }
          ],
          "scattergeo": [
           {
            "marker": {
             "colorbar": {
              "outlinewidth": 0,
              "ticks": ""
             }
            },
            "type": "scattergeo"
           }
          ],
          "scattergl": [
           {
            "marker": {
             "colorbar": {
              "outlinewidth": 0,
              "ticks": ""
             }
            },
            "type": "scattergl"
           }
          ],
          "scattermapbox": [
           {
            "marker": {
             "colorbar": {
              "outlinewidth": 0,
              "ticks": ""
             }
            },
            "type": "scattermapbox"
           }
          ],
          "scatterpolar": [
           {
            "marker": {
             "colorbar": {
              "outlinewidth": 0,
              "ticks": ""
             }
            },
            "type": "scatterpolar"
           }
          ],
          "scatterpolargl": [
           {
            "marker": {
             "colorbar": {
              "outlinewidth": 0,
              "ticks": ""
             }
            },
            "type": "scatterpolargl"
           }
          ],
          "scatterternary": [
           {
            "marker": {
             "colorbar": {
              "outlinewidth": 0,
              "ticks": ""
             }
            },
            "type": "scatterternary"
           }
          ],
          "surface": [
           {
            "colorbar": {
             "outlinewidth": 0,
             "ticks": ""
            },
            "colorscale": [
             [
              0,
              "#0d0887"
             ],
             [
              0.1111111111111111,
              "#46039f"
             ],
             [
              0.2222222222222222,
              "#7201a8"
             ],
             [
              0.3333333333333333,
              "#9c179e"
             ],
             [
              0.4444444444444444,
              "#bd3786"
             ],
             [
              0.5555555555555556,
              "#d8576b"
             ],
             [
              0.6666666666666666,
              "#ed7953"
             ],
             [
              0.7777777777777778,
              "#fb9f3a"
             ],
             [
              0.8888888888888888,
              "#fdca26"
             ],
             [
              1,
              "#f0f921"
             ]
            ],
            "type": "surface"
           }
          ],
          "table": [
           {
            "cells": {
             "fill": {
              "color": "#EBF0F8"
             },
             "line": {
              "color": "white"
             }
            },
            "header": {
             "fill": {
              "color": "#C8D4E3"
             },
             "line": {
              "color": "white"
             }
            },
            "type": "table"
           }
          ]
         },
         "layout": {
          "annotationdefaults": {
           "arrowcolor": "#2a3f5f",
           "arrowhead": 0,
           "arrowwidth": 1
          },
          "autotypenumbers": "strict",
          "coloraxis": {
           "colorbar": {
            "outlinewidth": 0,
            "ticks": ""
           }
          },
          "colorscale": {
           "diverging": [
            [
             0,
             "#8e0152"
            ],
            [
             0.1,
             "#c51b7d"
            ],
            [
             0.2,
             "#de77ae"
            ],
            [
             0.3,
             "#f1b6da"
            ],
            [
             0.4,
             "#fde0ef"
            ],
            [
             0.5,
             "#f7f7f7"
            ],
            [
             0.6,
             "#e6f5d0"
            ],
            [
             0.7,
             "#b8e186"
            ],
            [
             0.8,
             "#7fbc41"
            ],
            [
             0.9,
             "#4d9221"
            ],
            [
             1,
             "#276419"
            ]
           ],
           "sequential": [
            [
             0,
             "#0d0887"
            ],
            [
             0.1111111111111111,
             "#46039f"
            ],
            [
             0.2222222222222222,
             "#7201a8"
            ],
            [
             0.3333333333333333,
             "#9c179e"
            ],
            [
             0.4444444444444444,
             "#bd3786"
            ],
            [
             0.5555555555555556,
             "#d8576b"
            ],
            [
             0.6666666666666666,
             "#ed7953"
            ],
            [
             0.7777777777777778,
             "#fb9f3a"
            ],
            [
             0.8888888888888888,
             "#fdca26"
            ],
            [
             1,
             "#f0f921"
            ]
           ],
           "sequentialminus": [
            [
             0,
             "#0d0887"
            ],
            [
             0.1111111111111111,
             "#46039f"
            ],
            [
             0.2222222222222222,
             "#7201a8"
            ],
            [
             0.3333333333333333,
             "#9c179e"
            ],
            [
             0.4444444444444444,
             "#bd3786"
            ],
            [
             0.5555555555555556,
             "#d8576b"
            ],
            [
             0.6666666666666666,
             "#ed7953"
            ],
            [
             0.7777777777777778,
             "#fb9f3a"
            ],
            [
             0.8888888888888888,
             "#fdca26"
            ],
            [
             1,
             "#f0f921"
            ]
           ]
          },
          "colorway": [
           "#636efa",
           "#EF553B",
           "#00cc96",
           "#ab63fa",
           "#FFA15A",
           "#19d3f3",
           "#FF6692",
           "#B6E880",
           "#FF97FF",
           "#FECB52"
          ],
          "font": {
           "color": "#2a3f5f"
          },
          "geo": {
           "bgcolor": "white",
           "lakecolor": "white",
           "landcolor": "#E5ECF6",
           "showlakes": true,
           "showland": true,
           "subunitcolor": "white"
          },
          "hoverlabel": {
           "align": "left"
          },
          "hovermode": "closest",
          "mapbox": {
           "style": "light"
          },
          "paper_bgcolor": "white",
          "plot_bgcolor": "#E5ECF6",
          "polar": {
           "angularaxis": {
            "gridcolor": "white",
            "linecolor": "white",
            "ticks": ""
           },
           "bgcolor": "#E5ECF6",
           "radialaxis": {
            "gridcolor": "white",
            "linecolor": "white",
            "ticks": ""
           }
          },
          "scene": {
           "xaxis": {
            "backgroundcolor": "#E5ECF6",
            "gridcolor": "white",
            "gridwidth": 2,
            "linecolor": "white",
            "showbackground": true,
            "ticks": "",
            "zerolinecolor": "white"
           },
           "yaxis": {
            "backgroundcolor": "#E5ECF6",
            "gridcolor": "white",
            "gridwidth": 2,
            "linecolor": "white",
            "showbackground": true,
            "ticks": "",
            "zerolinecolor": "white"
           },
           "zaxis": {
            "backgroundcolor": "#E5ECF6",
            "gridcolor": "white",
            "gridwidth": 2,
            "linecolor": "white",
            "showbackground": true,
            "ticks": "",
            "zerolinecolor": "white"
           }
          },
          "shapedefaults": {
           "line": {
            "color": "#2a3f5f"
           }
          },
          "ternary": {
           "aaxis": {
            "gridcolor": "white",
            "linecolor": "white",
            "ticks": ""
           },
           "baxis": {
            "gridcolor": "white",
            "linecolor": "white",
            "ticks": ""
           },
           "bgcolor": "#E5ECF6",
           "caxis": {
            "gridcolor": "white",
            "linecolor": "white",
            "ticks": ""
           }
          },
          "title": {
           "x": 0.05
          },
          "xaxis": {
           "automargin": true,
           "gridcolor": "white",
           "linecolor": "white",
           "ticks": "",
           "title": {
            "standoff": 15
           },
           "zerolinecolor": "white",
           "zerolinewidth": 2
          },
          "yaxis": {
           "automargin": true,
           "gridcolor": "white",
           "linecolor": "white",
           "ticks": "",
           "title": {
            "standoff": 15
           },
           "zerolinecolor": "white",
           "zerolinewidth": 2
          }
         }
        },
        "title": {
         "text": "Distribution of mutations by primary site"
        },
        "width": 1200,
        "xaxis": {
         "anchor": "y",
         "autorange": true,
         "categoryarray": [
          "central_nervous_system",
          "skin",
          "large_intestine",
          "lung",
          "stomach",
          "liver",
          "breast",
          "upper_aerodigestive_tract",
          "endometrium",
          "haematopoietic_and_lymphoid_tissue",
          "urinary_tract",
          "kidney",
          "oesophagus",
          "prostate",
          "cervix",
          "pancreas",
          "ovary",
          "biliary_tract",
          "soft_tissue",
          "NS",
          "small_intestine",
          "thyroid",
          "salivary_gland",
          "autonomic_ganglia",
          "placenta",
          "bone",
          "testis"
         ],
         "categoryorder": "array",
         "domain": [
          0,
          1
         ],
         "range": [
          -0.5,
          26.5
         ],
         "tickangle": 45,
         "title": {
          "text": "Primary Site"
         },
         "type": "category"
        },
        "yaxis": {
         "anchor": "x",
         "autorange": true,
         "domain": [
          0,
          1
         ],
         "range": [
          0,
          496.8421052631579
         ],
         "title": {
          "text": "Count Mutation IDs"
         },
         "type": "linear"
        }
       }
      },
      "image/png": "[encoded data removed]",
      "text/html": [
       "<div>                            <div id=\"eaeea681-9542-4c57-ab42-140bc8a3d60d\" class=\"plotly-graph-div\" style=\"height:600px; width:1200px;\"></div>            <script type=\"text/javascript\">                require([\"plotly\"], function(Plotly) {                    window.PLOTLYENV=window.PLOTLYENV || {};                                    if (document.getElementById(\"eaeea681-9542-4c57-ab42-140bc8a3d60d\")) {                    Plotly.newPlot(                        \"eaeea681-9542-4c57-ab42-140bc8a3d60d\",                        [{\"alignmentgroup\":\"True\",\"hovertemplate\":\"Primary Site=%{x}\\u003cbr\\u003eCount Mutation IDs=%{y}\\u003cextra\\u003e\\u003c\\u002fextra\\u003e\",\"legendgroup\":\"central_nervous_system\",\"marker\":{\"color\":\"#636efa\",\"pattern\":{\"shape\":\"\"}},\"name\":\"central_nervous_system\",\"offsetgroup\":\"central_nervous_system\",\"orientation\":\"v\",\"showlegend\":true,\"textposition\":\"auto\",\"x\":[\"central_nervous_system\"],\"xaxis\":\"x\",\"y\":[472],\"yaxis\":\"y\",\"type\":\"bar\"},{\"alignmentgroup\":\"True\",\"hovertemplate\":\"Primary Site=%{x}\\u003cbr\\u003eCount Mutation IDs=%{y}\\u003cextra\\u003e\\u003c\\u002fextra\\u003e\",\"legendgroup\":\"skin\",\"marker\":{\"color\":\"#EF553B\",\"pattern\":{\"shape\":\"\"}},\"name\":\"skin\",\"offsetgroup\":\"skin\",\"orientation\":\"v\",\"showlegend\":true,\"textposition\":\"auto\",\"x\":[\"skin\"],\"xaxis\":\"x\",\"y\":[392],\"yaxis\":\"y\",\"type\":\"bar\"},{\"alignmentgroup\":\"True\",\"hovertemplate\":\"Primary Site=%{x}\\u003cbr\\u003eCount Mutation IDs=%{y}\\u003cextra\\u003e\\u003c\\u002fextra\\u003e\",\"legendgroup\":\"large_intestine\",\"marker\":{\"color\":\"#00cc96\",\"pattern\":{\"shape\":\"\"}},\"name\":\"large_intestine\",\"offsetgroup\":\"large_intestine\",\"orientation\":\"v\",\"showlegend\":true,\"textposition\":\"auto\",\"x\":[\"large_intestine\"],\"xaxis\":\"x\",\"y\":[326],\"yaxis\":\"y\",\"type\":\"bar\"},{\"alignmentgroup\":\"True\",\"hovertemplate\":\"Primary Site=%{x}\\u003cbr\\u003eCount Mutation IDs=%{y}\\u003cextra\\u003e\\u003c\\u002fextra\\u003e\",\"legendgroup\":\"lung\",\"marker\":{\"color\":\"#ab63fa\",\"pattern\":{\"shape\":\"\"}},\"name\":\"lung\",\"offsetgroup\":\"lung\",\"orientation\":\"v\",\"showlegend\":true,\"textposition\":\"auto\",\"x\":[\"lung\"],\"xaxis\":\"x\",\"y\":[273],\"yaxis\":\"y\",\"type\":\"bar\"},{\"alignmentgroup\":\"True\",\"hovertemplate\":\"Primary Site=%{x}\\u003cbr\\u003eCount Mutation IDs=%{y}\\u003cextra\\u003e\\u003c\\u002fextra\\u003e\",\"legendgroup\":\"stomach\",\"marker\":{\"color\":\"#FFA15A\",\"pattern\":{\"shape\":\"\"}},\"name\":\"stomach\",\"offsetgroup\":\"stomach\",\"orientation\":\"v\",\"showlegend\":true,\"textposition\":\"auto\",\"x\":[\"stomach\"],\"xaxis\":\"x\",\"y\":[173],\"yaxis\":\"y\",\"type\":\"bar\"},{\"alignmentgroup\":\"True\",\"hovertemplate\":\"Primary Site=%{x}\\u003cbr\\u003eCount Mutation IDs=%{y}\\u003cextra\\u003e\\u003c\\u002fextra\\u003e\",\"legendgroup\":\"liver\",\"marker\":{\"color\":\"#19d3f3\",\"pattern\":{\"shape\":\"\"}},\"name\":\"liver\",\"offsetgroup\":\"liver\",\"orientation\":\"v\",\"showlegend\":true,\"textposition\":\"auto\",\"x\":[\"liver\"],\"xaxis\":\"x\",\"y\":[156],\"yaxis\":\"y\",\"type\":\"bar\"},{\"alignmentgroup\":\"True\",\"hovertemplate\":\"Primary Site=%{x}\\u003cbr\\u003eCount Mutation IDs=%{y}\\u003cextra\\u003e\\u003c\\u002fextra\\u003e\",\"legendgroup\":\"breast\",\"marker\":{\"color\":\"#FF6692\",\"pattern\":{\"shape\":\"\"}},\"name\":\"breast\",\"offsetgroup\":\"breast\",\"orientation\":\"v\",\"showlegend\":true,\"textposition\":\"auto\",\"x\":[\"breast\"],\"xaxis\":\"x\",\"y\":[129],\"yaxis\":\"y\",\"type\":\"bar\"},{\"alignmentgroup\":\"True\",\"hovertemplate\":\"Primary Site=%{x}\\u003cbr\\u003eCount Mutation IDs=%{y}\\u003cextra\\u003e\\u003c\\u002fextra\\u003e\",\"legendgroup\":\"upper_aerodigestive_tract\",\"marker\":{\"color\":\"#B6E880\",\"pattern\":{\"shape\":\"\"}},\"name\":\"upper_aerodigestive_tract\",\"offsetgroup\":\"upper_aerodigestive_tract\",\"orientation\":\"v\",\"showlegend\":true,\"textposition\":\"auto\",\"x\":[\"upper_aerodigestive_tract\"],\"xaxis\":\"x\",\"y\":[110],\"yaxis\":\"y\",\"type\":\"bar\"},{\"alignmentgroup\":\"True\",\"hovertemplate\":\"Primary Site=%{x}\\u003cbr\\u003eCount Mutation IDs=%{y}\\u003cextra\\u003e\\u003c\\u002fextra\\u003e\",\"legendgroup\":\"endometrium\",\"marker\":{\"color\":\"#FF97FF\",\"pattern\":{\"shape\":\"\"}},\"name\":\"endometrium\",\"offsetgroup\":\"endometrium\",\"orientation\":\"v\",\"showlegend\":true,\"textposition\":\"auto\",\"x\":[\"endometrium\"],\"xaxis\":\"x\",\"y\":[102],\"yaxis\":\"y\",\"type\":\"bar\"},{\"alignmentgroup\":\"True\",\"hovertemplate\":\"Primary Site=%{x}\\u003cbr\\u003eCount Mutation IDs=%{y}\\u003cextra\\u003e\\u003c\\u002fextra\\u003e\",\"legendgroup\":\"haematopoietic_and_lymphoid_tissue\",\"marker\":{\"color\":\"#FECB52\",\"pattern\":{\"shape\":\"\"}},\"name\":\"haematopoietic_and_lymphoid_tissue\",\"offsetgroup\":\"haematopoietic_and_lymphoid_tissue\",\"orientation\":\"v\",\"showlegend\":true,\"textposition\":\"auto\",\"x\":[\"haematopoietic_and_lymphoid_tissue\"],\"xaxis\":\"x\",\"y\":[90],\"yaxis\":\"y\",\"type\":\"bar\"},{\"alignmentgroup\":\"True\",\"hovertemplate\":\"Primary Site=%{x}\\u003cbr\\u003eCount Mutation IDs=%{y}\\u003cextra\\u003e\\u003c\\u002fextra\\u003e\",\"legendgroup\":\"urinary_tract\",\"marker\":{\"color\":\"#636efa\",\"pattern\":{\"shape\":\"\"}},\"name\":\"urinary_tract\",\"offsetgroup\":\"urinary_tract\",\"orientation\":\"v\",\"showlegend\":true,\"textposition\":\"auto\",\"x\":[\"urinary_tract\"],\"xaxis\":\"x\",\"y\":[53],\"yaxis\":\"y\",\"type\":\"bar\"},{\"alignmentgroup\":\"True\",\"hovertemplate\":\"Primary Site=%{x}\\u003cbr\\u003eCount Mutation IDs=%{y}\\u003cextra\\u003e\\u003c\\u002fextra\\u003e\",\"legendgroup\":\"kidney\",\"marker\":{\"color\":\"#EF553B\",\"pattern\":{\"shape\":\"\"}},\"name\":\"kidney\",\"offsetgroup\":\"kidney\",\"orientation\":\"v\",\"showlegend\":true,\"textposition\":\"auto\",\"x\":[\"kidney\"],\"xaxis\":\"x\",\"y\":[41],\"yaxis\":\"y\",\"type\":\"bar\"},{\"alignmentgroup\":\"True\",\"hovertemplate\":\"Primary Site=%{x}\\u003cbr\\u003eCount Mutation IDs=%{y}\\u003cextra\\u003e\\u003c\\u002fextra\\u003e\",\"legendgroup\":\"oesophagus\",\"marker\":{\"color\":\"#00cc96\",\"pattern\":{\"shape\":\"\"}},\"name\":\"oesophagus\",\"offsetgroup\":\"oesophagus\",\"orientation\":\"v\",\"showlegend\":true,\"textposition\":\"auto\",\"x\":[\"oesophagus\"],\"xaxis\":\"x\",\"y\":[37],\"yaxis\":\"y\",\"type\":\"bar\"},{\"alignmentgroup\":\"True\",\"hovertemplate\":\"Primary Site=%{x}\\u003cbr\\u003eCount Mutation IDs=%{y}\\u003cextra\\u003e\\u003c\\u002fextra\\u003e\",\"legendgroup\":\"prostate\",\"marker\":{\"color\":\"#ab63fa\",\"pattern\":{\"shape\":\"\"}},\"name\":\"prostate\",\"offsetgroup\":\"prostate\",\"orientation\":\"v\",\"showlegend\":true,\"textposition\":\"auto\",\"x\":[\"prostate\"],\"xaxis\":\"x\",\"y\":[36],\"yaxis\":\"y\",\"type\":\"bar\"},{\"alignmentgroup\":\"True\",\"hovertemplate\":\"Primary Site=%{x}\\u003cbr\\u003eCount Mutation IDs=%{y}\\u003cextra\\u003e\\u003c\\u002fextra\\u003e\",\"legendgroup\":\"cervix\",\"marker\":{\"color\":\"#FFA15A\",\"pattern\":{\"shape\":\"\"}},\"name\":\"cervix\",\"offsetgroup\":\"cervix\",\"orientation\":\"v\",\"showlegend\":true,\"textposition\":\"auto\",\"x\":[\"cervix\"],\"xaxis\":\"x\",\"y\":[33],\"yaxis\":\"y\",\"type\":\"bar\"},{\"alignmentgroup\":\"True\",\"hovertemplate\":\"Primary Site=%{x}\\u003cbr\\u003eCount Mutation IDs=%{y}\\u003cextra\\u003e\\u003c\\u002fextra\\u003e\",\"legendgroup\":\"pancreas\",\"marker\":{\"color\":\"#19d3f3\",\"pattern\":{\"shape\":\"\"}},\"name\":\"pancreas\",\"offsetgroup\":\"pancreas\",\"orientation\":\"v\",\"showlegend\":true,\"textposition\":\"auto\",\"x\":[\"pancreas\"],\"xaxis\":\"x\",\"y\":[31],\"yaxis\":\"y\",\"type\":\"bar\"},{\"alignmentgroup\":\"True\",\"hovertemplate\":\"Primary Site=%{x}\\u003cbr\\u003eCount Mutation IDs=%{y}\\u003cextra\\u003e\\u003c\\u002fextra\\u003e\",\"legendgroup\":\"ovary\",\"marker\":{\"color\":\"#FF6692\",\"pattern\":{\"shape\":\"\"}},\"name\":\"ovary\",\"offsetgroup\":\"ovary\",\"orientation\":\"v\",\"showlegend\":true,\"textposition\":\"auto\",\"x\":[\"ovary\"],\"xaxis\":\"x\",\"y\":[27],\"yaxis\":\"y\",\"type\":\"bar\"},{\"alignmentgroup\":\"True\",\"hovertemplate\":\"Primary Site=%{x}\\u003cbr\\u003eCount Mutation IDs=%{y}\\u003cextra\\u003e\\u003c\\u002fextra\\u003e\",\"legendgroup\":\"biliary_tract\",\"marker\":{\"color\":\"#B6E880\",\"pattern\":{\"shape\":\"\"}},\"name\":\"biliary_tract\",\"offsetgroup\":\"biliary_tract\",\"orientation\":\"v\",\"showlegend\":true,\"textposition\":\"auto\",\"x\":[\"biliary_tract\"],\"xaxis\":\"x\",\"y\":[25],\"yaxis\":\"y\",\"type\":\"bar\"},{\"alignmentgroup\":\"True\",\"hovertemplate\":\"Primary Site=%{x}\\u003cbr\\u003eCount Mutation IDs=%{y}\\u003cextra\\u003e\\u003c\\u002fextra\\u003e\",\"legendgroup\":\"soft_tissue\",\"marker\":{\"color\":\"#FF97FF\",\"pattern\":{\"shape\":\"\"}},\"name\":\"soft_tissue\",\"offsetgroup\":\"soft_tissue\",\"orientation\":\"v\",\"showlegend\":true,\"textposition\":\"auto\",\"x\":[\"soft_tissue\"],\"xaxis\":\"x\",\"y\":[21],\"yaxis\":\"y\",\"type\":\"bar\"},{\"alignmentgroup\":\"True\",\"hovertemplate\":\"Primary Site=%{x}\\u003cbr\\u003eCount Mutation IDs=%{y}\\u003cextra\\u003e\\u003c\\u002fextra\\u003e\",\"legendgroup\":\"NS\",\"marker\":{\"color\":\"#FECB52\",\"pattern\":{\"shape\":\"\"}},\"name\":\"NS\",\"offsetgroup\":\"NS\",\"orientation\":\"v\",\"showlegend\":true,\"textposition\":\"auto\",\"x\":[\"NS\"],\"xaxis\":\"x\",\"y\":[21],\"yaxis\":\"y\",\"type\":\"bar\"},{\"alignmentgroup\":\"True\",\"hovertemplate\":\"Primary Site=%{x}\\u003cbr\\u003eCount Mutation IDs=%{y}\\u003cextra\\u003e\\u003c\\u002fextra\\u003e\",\"legendgroup\":\"small_intestine\",\"marker\":{\"color\":\"#636efa\",\"pattern\":{\"shape\":\"\"}},\"name\":\"small_intestine\",\"offsetgroup\":\"small_intestine\",\"orientation\":\"v\",\"showlegend\":true,\"textposition\":\"auto\",\"x\":[\"small_intestine\"],\"xaxis\":\"x\",\"y\":[15],\"yaxis\":\"y\",\"type\":\"bar\"},{\"alignmentgroup\":\"True\",\"hovertemplate\":\"Primary Site=%{x}\\u003cbr\\u003eCount Mutation IDs=%{y}\\u003cextra\\u003e\\u003c\\u002fextra\\u003e\",\"legendgroup\":\"thyroid\",\"marker\":{\"color\":\"#EF553B\",\"pattern\":{\"shape\":\"\"}},\"name\":\"thyroid\",\"offsetgroup\":\"thyroid\",\"orientation\":\"v\",\"showlegend\":true,\"textposition\":\"auto\",\"x\":[\"thyroid\"],\"xaxis\":\"x\",\"y\":[12],\"yaxis\":\"y\",\"type\":\"bar\"},{\"alignmentgroup\":\"True\",\"hovertemplate\":\"Primary Site=%{x}\\u003cbr\\u003eCount Mutation IDs=%{y}\\u003cextra\\u003e\\u003c\\u002fextra\\u003e\",\"legendgroup\":\"salivary_gland\",\"marker\":{\"color\":\"#00cc96\",\"pattern\":{\"shape\":\"\"}},\"name\":\"salivary_gland\",\"offsetgroup\":\"salivary_gland\",\"orientation\":\"v\",\"showlegend\":true,\"textposition\":\"auto\",\"x\":[\"salivary_gland\"],\"xaxis\":\"x\",\"y\":[7],\"yaxis\":\"y\",\"type\":\"bar\"},{\"alignmentgroup\":\"True\",\"hovertemplate\":\"Primary Site=%{x}\\u003cbr\\u003eCount Mutation IDs=%{y}\\u003cextra\\u003e\\u003c\\u002fextra\\u003e\",\"legendgroup\":\"autonomic_ganglia\",\"marker\":{\"color\":\"#ab63fa\",\"pattern\":{\"shape\":\"\"}},\"name\":\"autonomic_ganglia\",\"offsetgroup\":\"autonomic_ganglia\",\"orientation\":\"v\",\"showlegend\":true,\"textposition\":\"auto\",\"x\":[\"autonomic_ganglia\"],\"xaxis\":\"x\",\"y\":[6],\"yaxis\":\"y\",\"type\":\"bar\"},{\"alignmentgroup\":\"True\",\"hovertemplate\":\"Primary Site=%{x}\\u003cbr\\u003eCount Mutation IDs=%{y}\\u003cextra\\u003e\\u003c\\u002fextra\\u003e\",\"legendgroup\":\"placenta\",\"marker\":{\"color\":\"#FFA15A\",\"pattern\":{\"shape\":\"\"}},\"name\":\"placenta\",\"offsetgroup\":\"placenta\",\"orientation\":\"v\",\"showlegend\":true,\"textposition\":\"auto\",\"x\":[\"placenta\"],\"xaxis\":\"x\",\"y\":[6],\"yaxis\":\"y\",\"type\":\"bar\"},{\"alignmentgroup\":\"True\",\"hovertemplate\":\"Primary Site=%{x}\\u003cbr\\u003eCount Mutation IDs=%{y}\\u003cextra\\u003e\\u003c\\u002fextra\\u003e\",\"legendgroup\":\"bone\",\"marker\":{\"color\":\"#19d3f3\",\"pattern\":{\"shape\":\"\"}},\"name\":\"bone\",\"offsetgroup\":\"bone\",\"orientation\":\"v\",\"showlegend\":true,\"textposition\":\"auto\",\"x\":[\"bone\"],\"xaxis\":\"x\",\"y\":[6],\"yaxis\":\"y\",\"type\":\"bar\"},{\"alignmentgroup\":\"True\",\"hovertemplate\":\"Primary Site=%{x}\\u003cbr\\u003eCount Mutation IDs=%{y}\\u003cextra\\u003e\\u003c\\u002fextra\\u003e\",\"legendgroup\":\"testis\",\"marker\":{\"color\":\"#FF6692\",\"pattern\":{\"shape\":\"\"}},\"name\":\"testis\",\"offsetgroup\":\"testis\",\"orientation\":\"v\",\"showlegend\":true,\"textposition\":\"auto\",\"x\":[\"testis\"],\"xaxis\":\"x\",\"y\":[3],\"yaxis\":\"y\",\"type\":\"bar\"}],                        {\"template\":{\"data\":{\"histogram2dcontour\":[{\"type\":\"histogram2dcontour\",\"colorbar\":{\"outlinewidth\":0,\"ticks\":\"\"},\"colorscale\":[[0.0,\"#0d0887\"],[0.1111111111111111,\"#46039f\"],[0.2222222222222222,\"#7201a8\"],[0.3333333333333333,\"#9c179e\"],[0.4444444444444444,\"#bd3786\"],[0.5555555555555556,\"#d8576b\"],[0.6666666666666666,\"#ed7953\"],[0.7777777777777778,\"#fb9f3a\"],[0.8888888888888888,\"#fdca26\"],[1.0,\"#f0f921\"]]}],\"choropleth\":[{\"type\":\"choropleth\",\"colorbar\":{\"outlinewidth\":0,\"ticks\":\"\"}}],\"histogram2d\":[{\"type\":\"histogram2d\",\"colorbar\":{\"outlinewidth\":0,\"ticks\":\"\"},\"colorscale\":[[0.0,\"#0d0887\"],[0.1111111111111111,\"#46039f\"],[0.2222222222222222,\"#7201a8\"],[0.3333333333333333,\"#9c179e\"],[0.4444444444444444,\"#bd3786\"],[0.5555555555555556,\"#d8576b\"],[0.6666666666666666,\"#ed7953\"],[0.7777777777777778,\"#fb9f3a\"],[0.8888888888888888,\"#fdca26\"],[1.0,\"#f0f921\"]]}],\"heatmap\":[{\"type\":\"heatmap\",\"colorbar\":{\"outlinewidth\":0,\"ticks\":\"\"},\"colorscale\":[[0.0,\"#0d0887\"],[0.1111111111111111,\"#46039f\"],[0.2222222222222222,\"#7201a8\"],[0.3333333333333333,\"#9c179e\"],[0.4444444444444444,\"#bd3786\"],[0.5555555555555556,\"#d8576b\"],[0.6666666666666666,\"#ed7953\"],[0.7777777777777778,\"#fb9f3a\"],[0.8888888888888888,\"#fdca26\"],[1.0,\"#f0f921\"]]}],\"heatmapgl\":[{\"type\":\"heatmapgl\",\"colorbar\":{\"outlinewidth\":0,\"ticks\":\"\"},\"colorscale\":[[0.0,\"#0d0887\"],[0.1111111111111111,\"#46039f\"],[0.2222222222222222,\"#7201a8\"],[0.3333333333333333,\"#9c179e\"],[0.4444444444444444,\"#bd3786\"],[0.5555555555555556,\"#d8576b\"],[0.6666666666666666,\"#ed7953\"],[0.7777777777777778,\"#fb9f3a\"],[0.8888888888888888,\"#fdca26\"],[1.0,\"#f0f921\"]]}],\"contourcarpet\":[{\"type\":\"contourcarpet\",\"colorbar\":{\"outlinewidth\":0,\"ticks\":\"\"}}],\"contour\":[{\"type\":\"contour\",\"colorbar\":{\"outlinewidth\":0,\"ticks\":\"\"},\"colorscale\":[[0.0,\"#0d0887\"],[0.1111111111111111,\"#46039f\"],[0.2222222222222222,\"#7201a8\"],[0.3333333333333333,\"#9c179e\"],[0.4444444444444444,\"#bd3786\"],[0.5555555555555556,\"#d8576b\"],[0.6666666666666666,\"#ed7953\"],[0.7777777777777778,\"#fb9f3a\"],[0.8888888888888888,\"#fdca26\"],[1.0,\"#f0f921\"]]}],\"surface\":[{\"type\":\"surface\",\"colorbar\":{\"outlinewidth\":0,\"ticks\":\"\"},\"colorscale\":[[0.0,\"#0d0887\"],[0.1111111111111111,\"#46039f\"],[0.2222222222222222,\"#7201a8\"],[0.3333333333333333,\"#9c179e\"],[0.4444444444444444,\"#bd3786\"],[0.5555555555555556,\"#d8576b\"],[0.6666666666666666,\"#ed7953\"],[0.7777777777777778,\"#fb9f3a\"],[0.8888888888888888,\"#fdca26\"],[1.0,\"#f0f921\"]]}],\"mesh3d\":[{\"type\":\"mesh3d\",\"colorbar\":{\"outlinewidth\":0,\"ticks\":\"\"}}],\"scatter\":[{\"fillpattern\":{\"fillmode\":\"overlay\",\"size\":10,\"solidity\":0.2},\"type\":\"scatter\"}],\"parcoords\":[{\"type\":\"parcoords\",\"line\":{\"colorbar\":{\"outlinewidth\":0,\"ticks\":\"\"}}}],\"scatterpolargl\":[{\"type\":\"scatterpolargl\",\"marker\":{\"colorbar\":{\"outlinewidth\":0,\"ticks\":\"\"}}}],\"bar\":[{\"error_x\":{\"color\":\"#2a3f5f\"},\"error_y\":{\"color\":\"#2a3f5f\"},\"marker\":{\"line\":{\"color\":\"#E5ECF6\",\"width\":0.5},\"pattern\":{\"fillmode\":\"overlay\",\"size\":10,\"solidity\":0.2}},\"type\":\"bar\"}],\"scattergeo\":[{\"type\":\"scattergeo\",\"marker\":{\"colorbar\":{\"outlinewidth\":0,\"ticks\":\"\"}}}],\"scatterpolar\":[{\"type\":\"scatterpolar\",\"marker\":{\"colorbar\":{\"outlinewidth\":0,\"ticks\":\"\"}}}],\"histogram\":[{\"marker\":{\"pattern\":{\"fillmode\":\"overlay\",\"size\":10,\"solidity\":0.2}},\"type\":\"histogram\"}],\"scattergl\":[{\"type\":\"scattergl\",\"marker\":{\"colorbar\":{\"outlinewidth\":0,\"ticks\":\"\"}}}],\"scatter3d\":[{\"type\":\"scatter3d\",\"line\":{\"colorbar\":{\"outlinewidth\":0,\"ticks\":\"\"}},\"marker\":{\"colorbar\":{\"outlinewidth\":0,\"ticks\":\"\"}}}],\"scattermapbox\":[{\"type\":\"scattermapbox\",\"marker\":{\"colorbar\":{\"outlinewidth\":0,\"ticks\":\"\"}}}],\"scatterternary\":[{\"type\":\"scatterternary\",\"marker\":{\"colorbar\":{\"outlinewidth\":0,\"ticks\":\"\"}}}],\"scattercarpet\":[{\"type\":\"scattercarpet\",\"marker\":{\"colorbar\":{\"outlinewidth\":0,\"ticks\":\"\"}}}],\"carpet\":[{\"aaxis\":{\"endlinecolor\":\"#2a3f5f\",\"gridcolor\":\"white\",\"linecolor\":\"white\",\"minorgridcolor\":\"white\",\"startlinecolor\":\"#2a3f5f\"},\"baxis\":{\"endlinecolor\":\"#2a3f5f\",\"gridcolor\":\"white\",\"linecolor\":\"white\",\"minorgridcolor\":\"white\",\"startlinecolor\":\"#2a3f5f\"},\"type\":\"carpet\"}],\"table\":[{\"cells\":{\"fill\":{\"color\":\"#EBF0F8\"},\"line\":{\"color\":\"white\"}},\"header\":{\"fill\":{\"color\":\"#C8D4E3\"},\"line\":{\"color\":\"white\"}},\"type\":\"table\"}],\"barpolar\":[{\"marker\":{\"line\":{\"color\":\"#E5ECF6\",\"width\":0.5},\"pattern\":{\"fillmode\":\"overlay\",\"size\":10,\"solidity\":0.2}},\"type\":\"barpolar\"}],\"pie\":[{\"automargin\":true,\"type\":\"pie\"}]},\"layout\":{\"autotypenumbers\":\"strict\",\"colorway\":[\"#636efa\",\"#EF553B\",\"#00cc96\",\"#ab63fa\",\"#FFA15A\",\"#19d3f3\",\"#FF6692\",\"#B6E880\",\"#FF97FF\",\"#FECB52\"],\"font\":{\"color\":\"#2a3f5f\"},\"hovermode\":\"closest\",\"hoverlabel\":{\"align\":\"left\"},\"paper_bgcolor\":\"white\",\"plot_bgcolor\":\"#E5ECF6\",\"polar\":{\"bgcolor\":\"#E5ECF6\",\"angularaxis\":{\"gridcolor\":\"white\",\"linecolor\":\"white\",\"ticks\":\"\"},\"radialaxis\":{\"gridcolor\":\"white\",\"linecolor\":\"white\",\"ticks\":\"\"}},\"ternary\":{\"bgcolor\":\"#E5ECF6\",\"aaxis\":{\"gridcolor\":\"white\",\"linecolor\":\"white\",\"ticks\":\"\"},\"baxis\":{\"gridcolor\":\"white\",\"linecolor\":\"white\",\"ticks\":\"\"},\"caxis\":{\"gridcolor\":\"white\",\"linecolor\":\"white\",\"ticks\":\"\"}},\"coloraxis\":{\"colorbar\":{\"outlinewidth\":0,\"ticks\":\"\"}},\"colorscale\":{\"sequential\":[[0.0,\"#0d0887\"],[0.1111111111111111,\"#46039f\"],[0.2222222222222222,\"#7201a8\"],[0.3333333333333333,\"#9c179e\"],[0.4444444444444444,\"#bd3786\"],[0.5555555555555556,\"#d8576b\"],[0.6666666666666666,\"#ed7953\"],[0.7777777777777778,\"#fb9f3a\"],[0.8888888888888888,\"#fdca26\"],[1.0,\"#f0f921\"]],\"sequentialminus\":[[0.0,\"#0d0887\"],[0.1111111111111111,\"#46039f\"],[0.2222222222222222,\"#7201a8\"],[0.3333333333333333,\"#9c179e\"],[0.4444444444444444,\"#bd3786\"],[0.5555555555555556,\"#d8576b\"],[0.6666666666666666,\"#ed7953\"],[0.7777777777777778,\"#fb9f3a\"],[0.8888888888888888,\"#fdca26\"],[1.0,\"#f0f921\"]],\"diverging\":[[0,\"#8e0152\"],[0.1,\"#c51b7d\"],[0.2,\"#de77ae\"],[0.3,\"#f1b6da\"],[0.4,\"#fde0ef\"],[0.5,\"#f7f7f7\"],[0.6,\"#e6f5d0\"],[0.7,\"#b8e186\"],[0.8,\"#7fbc41\"],[0.9,\"#4d9221\"],[1,\"#276419\"]]},\"xaxis\":{\"gridcolor\":\"white\",\"linecolor\":\"white\",\"ticks\":\"\",\"title\":{\"standoff\":15},\"zerolinecolor\":\"white\",\"automargin\":true,\"zerolinewidth\":2},\"yaxis\":{\"gridcolor\":\"white\",\"linecolor\":\"white\",\"ticks\":\"\",\"title\":{\"standoff\":15},\"zerolinecolor\":\"white\",\"automargin\":true,\"zerolinewidth\":2},\"scene\":{\"xaxis\":{\"backgroundcolor\":\"#E5ECF6\",\"gridcolor\":\"white\",\"linecolor\":\"white\",\"showbackground\":true,\"ticks\":\"\",\"zerolinecolor\":\"white\",\"gridwidth\":2},\"yaxis\":{\"backgroundcolor\":\"#E5ECF6\",\"gridcolor\":\"white\",\"linecolor\":\"white\",\"showbackground\":true,\"ticks\":\"\",\"zerolinecolor\":\"white\",\"gridwidth\":2},\"zaxis\":{\"backgroundcolor\":\"#E5ECF6\",\"gridcolor\":\"white\",\"linecolor\":\"white\",\"showbackground\":true,\"ticks\":\"\",\"zerolinecolor\":\"white\",\"gridwidth\":2}},\"shapedefaults\":{\"line\":{\"color\":\"#2a3f5f\"}},\"annotationdefaults\":{\"arrowcolor\":\"#2a3f5f\",\"arrowhead\":0,\"arrowwidth\":1},\"geo\":{\"bgcolor\":\"white\",\"landcolor\":\"#E5ECF6\",\"subunitcolor\":\"white\",\"showland\":true,\"showlakes\":true,\"lakecolor\":\"white\"},\"title\":{\"x\":0.05},\"mapbox\":{\"style\":\"light\"}}},\"xaxis\":{\"anchor\":\"y\",\"domain\":[0.0,1.0],\"title\":{\"text\":\"Primary Site\"},\"categoryorder\":\"array\",\"categoryarray\":[\"central_nervous_system\",\"skin\",\"large_intestine\",\"lung\",\"stomach\",\"liver\",\"breast\",\"upper_aerodigestive_tract\",\"endometrium\",\"haematopoietic_and_lymphoid_tissue\",\"urinary_tract\",\"kidney\",\"oesophagus\",\"prostate\",\"cervix\",\"pancreas\",\"ovary\",\"biliary_tract\",\"soft_tissue\",\"NS\",\"small_intestine\",\"thyroid\",\"salivary_gland\",\"autonomic_ganglia\",\"placenta\",\"bone\",\"testis\"],\"tickangle\":45},\"yaxis\":{\"anchor\":\"x\",\"domain\":[0.0,1.0],\"title\":{\"text\":\"Count Mutation IDs\"}},\"legend\":{\"title\":{\"text\":\"Primary Site\"},\"tracegroupgap\":0},\"title\":{\"text\":\"Distribution of mutations by primary site\"},\"barmode\":\"relative\",\"height\":600,\"width\":1200,\"showlegend\":false},                        {\"responsive\": true}                    ).then(function(){\n",
       "                            \n",
       "var gd = document.getElementById('eaeea681-9542-4c57-ab42-140bc8a3d60d');\n",
       "var x = new MutationObserver(function (mutations, observer) {{\n",
       "        var display = window.getComputedStyle(gd).display;\n",
       "        if (!display || display === 'none') {{\n",
       "            console.log([gd, 'removed!']);\n",
       "            Plotly.purge(gd);\n",
       "            observer.disconnect();\n",
       "        }}\n",
       "}});\n",
       "\n",
       "// Listen for the removal of the full notebook cells\n",
       "var notebookContainer = gd.closest('#notebook-container');\n",
       "if (notebookContainer) {{\n",
       "    x.observe(notebookContainer, {childList: true});\n",
       "}}\n",
       "\n",
       "// Listen for the clearing of the current output cell\n",
       "var outputEl = gd.closest('.output');\n",
       "if (outputEl) {{\n",
       "    x.observe(outputEl, {childList: true});\n",
       "}}\n",
       "\n",
       "                        })                };                });            </script>        </div>"
      ]
     },
     "metadata": {},
     "output_type": "display_data"
    }
   ],
   "source": [
    "\n",
    "grouped_data_sorted = grouped_data.sort_values(by='COUNT_MUTATION_IDs', ascending=False)\n",
    "\n",
    "fig = px.bar(grouped_data_sorted, x='PRIMARY_SITE', y='COUNT_MUTATION_IDs', \n",
    "             title='Distribution of mutations by primary site', \n",
    "             labels={'COUNT_MUTATION_IDs': 'Count Mutation IDs', 'PRIMARY_SITE': 'Primary Site'},\n",
    "             color=\"PRIMARY_SITE\",\n",
    "             width=1200, height=600)\n",
    "\n",
    "fig.update_layout(xaxis={'tickangle': 45}, showlegend=False)\n",
    "\n",
    "fig.show()\n"
   ]
  },
  {
   "cell_type": "code",
   "execution_count": 56,
   "id": "ac4367fc-4ffb-4954-a071-453e3c7d91aa",
   "metadata": {},
   "outputs": [],
   "source": [
    "def visualize_py(group: str, rep: str = 'merged'):\n",
    "    #pymol_ex= '/Applications/PyMOL.app/Contents/MacOS/PyMOL'\n",
    "    \n",
    "    \n",
    "    if group.endswith('ca2+'):\n",
    "        # load trajectory on its own structure and edit through pymol script\n",
    "        print ('ca2+ present: loading whole system\\n')\n",
    "        if group.startswith('CKK'):\n",
    "            pymol_script= \"/Users/fede/Desktop/Lab/Git/lab/CaTEV/CKK_ca2+.py\"\n",
    "        if group.startswith('M13'):\n",
    "            pymol_script= \"/Users/fede/Desktop/Lab/Git/lab/CaTEV/M13_ca2+.py\"        \n",
    "\n",
    "        py_command = [\n",
    "            pymol_ex,\n",
    "            '-d',\n",
    "            f'{memory_opt}; load {workdir}/{group}/{rep}/step3_input.gro; ' \\\n",
    "            f'load_traj {workdir}/{group}/{rep}/mdtrj_{rep}_syst_fit.xtc, start=1, stop=-1, interval=1 ',\n",
    "            pymol_script\n",
    "        ]\n",
    "        \n",
    "    else:\n",
    "        # load trajectory onto .pse session  \n",
    "        print ('ca2+ absent: loading protein only\\n')\n",
    "        if group.startswith('CKK'):\n",
    "            pymol_session= \"/Users/fede/Desktop/Lab/Git/lab/CaTEV/CaTEV_CKK_scFLARE2.pse\"\n",
    "        if group.startswith('M13'):\n",
    "            pymol_session= \"/Users/fede/Desktop/Lab/Git/lab/CaTEV/CaTEV_M13_scFLARE2.pse\"        \n",
    "    \n",
    "        py_command = [\n",
    "            pymol_ex,\n",
    "            pymol_session,\n",
    "            '-d',\n",
    "            f'{memory_opt}; load_traj {workdir}/{group}/{rep}/mdtrj_{rep}_prot_fit.xtc, CATEV_{group[:3]}, 1, start=1, stop=-1, interval=1; zoom',\n",
    "        ]\n",
    "    \n",
    "    print (\" \".join(py_command))\n",
    "    # Start pymol as a separate process and detach it from the Python script, then wait for it to complete\n",
    "    process = subprocess.run(py_command, text=True, stdout=subprocess.PIPE, stderr=subprocess.PIPE, stdin=subprocess.PIPE, preexec_fn=os.setpgrp)\n",
    "    #process.wait()"
   ]
  },
  {
   "cell_type": "code",
   "execution_count": 96,
   "id": "98673213-bf6f-406b-bcdb-6b7e4a2c25a3",
   "metadata": {
    "collapsed": true,
    "jupyter": {
     "outputs_hidden": true
    }
   },
   "outputs": [
    {
     "data": {
      "text/html": [
       "<div>\n",
       "<style scoped>\n",
       "    .dataframe tbody tr th:only-of-type {\n",
       "        vertical-align: middle;\n",
       "    }\n",
       "\n",
       "    .dataframe tbody tr th {\n",
       "        vertical-align: top;\n",
       "    }\n",
       "\n",
       "    .dataframe thead th {\n",
       "        text-align: right;\n",
       "    }\n",
       "</style>\n",
       "<table border=\"1\" class=\"dataframe\">\n",
       "  <thead>\n",
       "    <tr style=\"text-align: right;\">\n",
       "      <th></th>\n",
       "      <th>Type</th>\n",
       "      <th>GeneSymbol</th>\n",
       "      <th>ClinicalSignificance</th>\n",
       "      <th>PhenotypeList</th>\n",
       "      <th>Assembly</th>\n",
       "      <th>ChromosomeAccession</th>\n",
       "      <th>Original_AA</th>\n",
       "      <th>Modified_AA</th>\n",
       "      <th>Position</th>\n",
       "      <th>Genomic_location</th>\n",
       "      <th>gnomad_aa_change</th>\n",
       "    </tr>\n",
       "  </thead>\n",
       "  <tbody>\n",
       "    <tr>\n",
       "      <th>30259</th>\n",
       "      <td>single nucleotide variant</td>\n",
       "      <td>EGFR</td>\n",
       "      <td>drug response</td>\n",
       "      <td>Adenocarcinoma of lung, response to tyrosine k...</td>\n",
       "      <td>GRCh37</td>\n",
       "      <td>NC_000007.13</td>\n",
       "      <td>Leu</td>\n",
       "      <td>Arg</td>\n",
       "      <td>858</td>\n",
       "      <td>7:55259515</td>\n",
       "      <td>p.Leu858Arg</td>\n",
       "    </tr>\n",
       "    <tr>\n",
       "      <th>30263</th>\n",
       "      <td>single nucleotide variant</td>\n",
       "      <td>EGFR</td>\n",
       "      <td>Pathogenic/Likely pathogenic; drug response</td>\n",
       "      <td>Nonsmall cell lung cancer, response to tyrosin...</td>\n",
       "      <td>GRCh37</td>\n",
       "      <td>NC_000007.13</td>\n",
       "      <td>Gly</td>\n",
       "      <td>Cys</td>\n",
       "      <td>719</td>\n",
       "      <td>7:55241707</td>\n",
       "      <td>p.Gly719Cys</td>\n",
       "    </tr>\n",
       "    <tr>\n",
       "      <th>30265</th>\n",
       "      <td>single nucleotide variant</td>\n",
       "      <td>EGFR</td>\n",
       "      <td>Uncertain significance; drug response</td>\n",
       "      <td>Nonsmall cell lung cancer, response to tyrosin...</td>\n",
       "      <td>GRCh37</td>\n",
       "      <td>NC_000007.13</td>\n",
       "      <td>Gly</td>\n",
       "      <td>Ser</td>\n",
       "      <td>719</td>\n",
       "      <td>7:55241707</td>\n",
       "      <td>p.Gly719Ser</td>\n",
       "    </tr>\n",
       "    <tr>\n",
       "      <th>30267</th>\n",
       "      <td>single nucleotide variant</td>\n",
       "      <td>EGFR</td>\n",
       "      <td>drug response</td>\n",
       "      <td>Nonsmall cell lung cancer, resistance to tyros...</td>\n",
       "      <td>GRCh37</td>\n",
       "      <td>NC_000007.13</td>\n",
       "      <td>Thr</td>\n",
       "      <td>Met</td>\n",
       "      <td>790</td>\n",
       "      <td>7:55249071</td>\n",
       "      <td>p.Thr790Met</td>\n",
       "    </tr>\n",
       "    <tr>\n",
       "      <th>56361</th>\n",
       "      <td>single nucleotide variant</td>\n",
       "      <td>EGFR</td>\n",
       "      <td>Uncertain significance</td>\n",
       "      <td>not specified</td>\n",
       "      <td>GRCh37</td>\n",
       "      <td>NC_000007.13</td>\n",
       "      <td>Val</td>\n",
       "      <td>Leu</td>\n",
       "      <td>689</td>\n",
       "      <td>7:55241617</td>\n",
       "      <td>p.Val689Leu</td>\n",
       "    </tr>\n",
       "    <tr>\n",
       "      <th>...</th>\n",
       "      <td>...</td>\n",
       "      <td>...</td>\n",
       "      <td>...</td>\n",
       "      <td>...</td>\n",
       "      <td>...</td>\n",
       "      <td>...</td>\n",
       "      <td>...</td>\n",
       "      <td>...</td>\n",
       "      <td>...</td>\n",
       "      <td>...</td>\n",
       "      <td>...</td>\n",
       "    </tr>\n",
       "    <tr>\n",
       "      <th>5470225</th>\n",
       "      <td>single nucleotide variant</td>\n",
       "      <td>EGFR</td>\n",
       "      <td>Uncertain significance</td>\n",
       "      <td>EGFR-related lung cancer</td>\n",
       "      <td>GRCh37</td>\n",
       "      <td>NC_000007.13</td>\n",
       "      <td>Met</td>\n",
       "      <td>Thr</td>\n",
       "      <td>1002</td>\n",
       "      <td>7:55268939</td>\n",
       "      <td>p.Met1002Thr</td>\n",
       "    </tr>\n",
       "    <tr>\n",
       "      <th>5474521</th>\n",
       "      <td>single nucleotide variant</td>\n",
       "      <td>EGFR</td>\n",
       "      <td>Uncertain significance</td>\n",
       "      <td>EGFR-related lung cancer</td>\n",
       "      <td>GRCh37</td>\n",
       "      <td>NC_000007.13</td>\n",
       "      <td>Arg</td>\n",
       "      <td>Pro</td>\n",
       "      <td>23</td>\n",
       "      <td>7:55087038</td>\n",
       "      <td>p.Arg23Pro</td>\n",
       "    </tr>\n",
       "    <tr>\n",
       "      <th>5475753</th>\n",
       "      <td>single nucleotide variant</td>\n",
       "      <td>EGFR</td>\n",
       "      <td>Uncertain significance</td>\n",
       "      <td>EGFR-related lung cancer</td>\n",
       "      <td>GRCh37</td>\n",
       "      <td>NC_000007.13</td>\n",
       "      <td>His</td>\n",
       "      <td>Tyr</td>\n",
       "      <td>1156</td>\n",
       "      <td>7:55273143</td>\n",
       "      <td>p.His1156Tyr</td>\n",
       "    </tr>\n",
       "    <tr>\n",
       "      <th>5476979</th>\n",
       "      <td>single nucleotide variant</td>\n",
       "      <td>EGFR</td>\n",
       "      <td>Uncertain significance</td>\n",
       "      <td>EGFR-related lung cancer</td>\n",
       "      <td>GRCh37</td>\n",
       "      <td>NC_000007.13</td>\n",
       "      <td>Gly</td>\n",
       "      <td>Asp</td>\n",
       "      <td>288</td>\n",
       "      <td>7:55221819</td>\n",
       "      <td>p.Gly288Asp</td>\n",
       "    </tr>\n",
       "    <tr>\n",
       "      <th>5479419</th>\n",
       "      <td>single nucleotide variant</td>\n",
       "      <td>EGFR</td>\n",
       "      <td>Uncertain significance</td>\n",
       "      <td>EGFR-related lung cancer</td>\n",
       "      <td>GRCh37</td>\n",
       "      <td>NC_000007.13</td>\n",
       "      <td>Ile</td>\n",
       "      <td>Val</td>\n",
       "      <td>941</td>\n",
       "      <td>7:55266529</td>\n",
       "      <td>p.Ile941Val</td>\n",
       "    </tr>\n",
       "  </tbody>\n",
       "</table>\n",
       "<p>1331 rows × 11 columns</p>\n",
       "</div>"
      ],
      "text/plain": [
       "                              Type GeneSymbol  \\\n",
       "30259    single nucleotide variant       EGFR   \n",
       "30263    single nucleotide variant       EGFR   \n",
       "30265    single nucleotide variant       EGFR   \n",
       "30267    single nucleotide variant       EGFR   \n",
       "56361    single nucleotide variant       EGFR   \n",
       "...                            ...        ...   \n",
       "5470225  single nucleotide variant       EGFR   \n",
       "5474521  single nucleotide variant       EGFR   \n",
       "5475753  single nucleotide variant       EGFR   \n",
       "5476979  single nucleotide variant       EGFR   \n",
       "5479419  single nucleotide variant       EGFR   \n",
       "\n",
       "                                ClinicalSignificance  \\\n",
       "30259                                  drug response   \n",
       "30263    Pathogenic/Likely pathogenic; drug response   \n",
       "30265          Uncertain significance; drug response   \n",
       "30267                                  drug response   \n",
       "56361                         Uncertain significance   \n",
       "...                                              ...   \n",
       "5470225                       Uncertain significance   \n",
       "5474521                       Uncertain significance   \n",
       "5475753                       Uncertain significance   \n",
       "5476979                       Uncertain significance   \n",
       "5479419                       Uncertain significance   \n",
       "\n",
       "                                             PhenotypeList Assembly  \\\n",
       "30259    Adenocarcinoma of lung, response to tyrosine k...   GRCh37   \n",
       "30263    Nonsmall cell lung cancer, response to tyrosin...   GRCh37   \n",
       "30265    Nonsmall cell lung cancer, response to tyrosin...   GRCh37   \n",
       "30267    Nonsmall cell lung cancer, resistance to tyros...   GRCh37   \n",
       "56361                                        not specified   GRCh37   \n",
       "...                                                    ...      ...   \n",
       "5470225                           EGFR-related lung cancer   GRCh37   \n",
       "5474521                           EGFR-related lung cancer   GRCh37   \n",
       "5475753                           EGFR-related lung cancer   GRCh37   \n",
       "5476979                           EGFR-related lung cancer   GRCh37   \n",
       "5479419                           EGFR-related lung cancer   GRCh37   \n",
       "\n",
       "        ChromosomeAccession Original_AA Modified_AA  Position  \\\n",
       "30259          NC_000007.13         Leu         Arg       858   \n",
       "30263          NC_000007.13         Gly         Cys       719   \n",
       "30265          NC_000007.13         Gly         Ser       719   \n",
       "30267          NC_000007.13         Thr         Met       790   \n",
       "56361          NC_000007.13         Val         Leu       689   \n",
       "...                     ...         ...         ...       ...   \n",
       "5470225        NC_000007.13         Met         Thr      1002   \n",
       "5474521        NC_000007.13         Arg         Pro        23   \n",
       "5475753        NC_000007.13         His         Tyr      1156   \n",
       "5476979        NC_000007.13         Gly         Asp       288   \n",
       "5479419        NC_000007.13         Ile         Val       941   \n",
       "\n",
       "        Genomic_location gnomad_aa_change  \n",
       "30259         7:55259515      p.Leu858Arg  \n",
       "30263         7:55241707      p.Gly719Cys  \n",
       "30265         7:55241707      p.Gly719Ser  \n",
       "30267         7:55249071      p.Thr790Met  \n",
       "56361         7:55241617      p.Val689Leu  \n",
       "...                  ...              ...  \n",
       "5470225       7:55268939     p.Met1002Thr  \n",
       "5474521       7:55087038       p.Arg23Pro  \n",
       "5475753       7:55273143     p.His1156Tyr  \n",
       "5476979       7:55221819      p.Gly288Asp  \n",
       "5479419       7:55266529      p.Ile941Val  \n",
       "\n",
       "[1331 rows x 11 columns]"
      ]
     },
     "execution_count": 96,
     "metadata": {},
     "output_type": "execute_result"
    }
   ],
   "source": [
    "mmcluster._get_clinvar_mutations()"
   ]
  },
  {
   "cell_type": "code",
   "execution_count": 8,
   "id": "6d6c2eda-38fa-4a04-ac41-012fa51baf27",
   "metadata": {
    "jupyter": {
     "source_hidden": true
    }
   },
   "outputs": [
    {
     "name": "stdout",
     "output_type": "stream",
     "text": [
      "name 'get_cosmic_mutations' is not defined\n"
     ]
    },
    {
     "ename": "NameError",
     "evalue": "name 'save_DataFrame_to_csv' is not defined",
     "output_type": "error",
     "traceback": [
      "\u001b[0;31m---------------------------------------------------------------------------\u001b[0m",
      "\u001b[0;31mNameError\u001b[0m                                 Traceback (most recent call last)",
      "Cell \u001b[0;32mIn[8], line 11\u001b[0m\n\u001b[1;32m      9\u001b[0m     \u001b[38;5;28mprint\u001b[39m(error)\n\u001b[1;32m     10\u001b[0m \u001b[38;5;66;03m#we save it in the folder for the protein outside of monomer / pos at the base level. \u001b[39;00m\n\u001b[0;32m---> 11\u001b[0m \u001b[43msave_DataFrame_to_csv\u001b[49m(cosmic_df, path, \u001b[38;5;124m\"\u001b[39m\u001b[38;5;124mcosmic_mutations\u001b[39m\u001b[38;5;124m\"\u001b[39m)\n\u001b[1;32m     12\u001b[0m \u001b[38;5;66;03m# Step 2: Map gnomad mutations\u001b[39;00m\n\u001b[1;32m     13\u001b[0m \u001b[38;5;28;01mtry\u001b[39;00m:\n",
      "\u001b[0;31mNameError\u001b[0m: name 'save_DataFrame_to_csv' is not defined"
     ]
    }
   ],
   "source": [
    "# Initialize variables to avoid errors\n",
    "updated_clinvar_df = cbioport_df = cosmic_df = gnomad_df = clinvar_df = gnomad_mut_dict = gnomad_mutation_dict = None\n",
    "\n",
    "    \n",
    "# Step 1: Cosmic mutations\n",
    "try:\n",
    "    cosmic_df = get_cosmic_mutations(gene_name=main_prot_name)\n",
    "except Exception as error:\n",
    "    print(error)\n",
    "#we save it in the folder for the protein outside of monomer / pos at the base level. \n",
    "save_DataFrame_to_csv(cosmic_df, path, \"cosmic_mutations\")\n",
    "# Step 2: Map gnomad mutations\n",
    "try:\n",
    "    gnomad_table_path = map_gnomad(Gene_name=main_prot_name, outpath=oligo_state_to_check)\n",
    "    gnomad_df, gnomad_mutation_dict = gnomad_to_pandas(Gene_name=main_prot_name, path_to_tsv=gnomad_table_path, fasta_seq=main_prot_seq)\n",
    "except Exception as error:\n",
    "    print(error)\n",
    "\n",
    "save_DataFrame_to_csv(gnomad_df, path, \"gnomad_mutations\")\n",
    "# Step 3: Gather mutations from clinvar\n",
    "try:\n",
    "    clinvar_df = map_clinvar(Gene_name=main_prot_name)\n",
    "    clinvar_map_outpath = f\"{path}/clinvar_intermediate.csv\"\n",
    "except Exception as error:\n",
    "    print(error)\n",
    "\n",
    "save_DataFrame_to_csv(clinvar_df, path, \"clinvar_intermediate\")\n",
    "# Step 4: Map clinvar to gnomad\n",
    "try:\n",
    "    list_to_be_searched, clinvar_df = map_clinvar_to_gnomad_1(Gene_name=main_prot_name, clinvar_df=clinvar_df,\n",
    "                                                              gnomad_mut_dict=gnomad_mutation_dict, clinvar_mapped_df_path=clinvar_map_outpath)\n",
    "except Exception as error:\n",
    "    print(error)\n",
    "    # Update clinvar muts that were found 1 step before.\n",
    "    try:\n",
    "        updated_clinvar_df = update_clinvar_muts_based_on_gnomad(clinvar_df=clinvar_df, gnomad_dict=gnomad_mutation_dict)\n",
    "    except Exception as error:\n",
    "        print(error)\n",
    "\n",
    "save_DataFrame_to_csv(updated_clinvar_df, path, \"clinvar_mutations\")\n",
    "# Step 5: Fetch additional info from cbioportal\n",
    "try:\n",
    "    gene_name = get_hugo_name(uniprot_id)\n",
    "    print(f\"This is gene name in hugo: {gene_name}\")\n",
    "    cbioport_df = get_cbioportal_info(gene_name=gene_name)\n",
    "    save_DataFrame_to_csv(cbioport_df, path, \"cbioport_mutations\")\n",
    "except Exception as error:\n",
    "    print(error)\n",
    "\n",
    "# Print shapes (if available)\n",
    "DataFrames = [cosmic_df, updated_clinvar_df, gnomad_df, cbioport_df]\n",
    "for df in DataFrames:\n",
    "    try:\n",
    "        print(f\"This is df shape: {df.shape}\")\n",
    "    except Exception as error:\n",
    "        print(error)"
   ]
  },
  {
   "cell_type": "code",
   "execution_count": null,
   "id": "a7a926ab-942c-449b-abc9-fbf3c5399fef",
   "metadata": {},
   "outputs": [],
   "source": []
  }
 ],
 "metadata": {
  "kernelspec": {
   "display_name": "Python 3 (ipykernel)",
   "language": "python",
   "name": "python3"
  },
  "language_info": {
   "codemirror_mode": {
    "name": "ipython",
    "version": 3
   },
   "file_extension": ".py",
   "mimetype": "text/x-python",
   "name": "python",
   "nbconvert_exporter": "python",
   "pygments_lexer": "ipython3",
   "version": "3.10.13"
  }
 },
 "nbformat": 4,
 "nbformat_minor": 5
}
