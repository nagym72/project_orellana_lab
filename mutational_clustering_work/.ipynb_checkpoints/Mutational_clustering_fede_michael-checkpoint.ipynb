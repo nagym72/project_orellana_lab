{
 "cells": [
  {
   "cell_type": "markdown",
   "id": "0d76882f-629a-47ec-9fca-3e42eff41150",
   "metadata": {},
   "source": [
    "### List of Imports"
   ]
  },
  {
   "cell_type": "code",
   "execution_count": 1,
   "id": "91b45735-f5e8-4081-a9c8-60a0729c7ec2",
   "metadata": {},
   "outputs": [],
   "source": [
    "import os\n",
    "import gc\n",
    "import time\n",
    "import subprocess\n",
    "import warnings\n",
    "import requests\n",
    "import colorsys\n",
    "import pandas as pd\n",
    "import numpy as np\n",
    "import pandas as pd\n",
    "from Bio.PDB import Selection, NeighborSearch\n",
    "from collections import defaultdict\n",
    "from Bio.PDB import PDBParser\n",
    "import dask.dataframe as dd\n",
    "import matplotlib.pyplot as plt\n",
    "import plotly.express as px"
   ]
  },
  {
   "cell_type": "markdown",
   "id": "0b264d59-9364-4f0f-85b0-514f880e420f",
   "metadata": {},
   "source": [
    "# Paths definition"
   ]
  },
  {
   "cell_type": "code",
   "execution_count": 5,
   "id": "cbcfbb06-2ad3-453a-b971-43b391976fcd",
   "metadata": {},
   "outputs": [],
   "source": [
    "'''\n",
    "General File structure should be something like:\n",
    "https://tree.nathanfriend.io/?s=(%27opGHs!(%27fancy8~fullPath!fJse~trailingSlash8~rootDot8)~K(%27K%27work_dir5C0QD64Swissprot.DB4OthA_files_for_Mlookup_in_d6.DB--IntAmediates4F_protein_mulGple_seq2.Ji4summary_staGsGcs29quJity2_df93-Results4*Mdf9*MplotsL*4*additHJ4*5Pymol_output-Example4screenshotL35PDBsQ4D6_parsA_s7%204NeighbFhood_clustAA.py43-3-%27)~vAsiH!%271%27)*%20%20-5*0HsAvaGH2_Jignment3...%2F4-*5%5Cn*6atabase7cripts8!true9.csv4AerFourGtiHonJalKsFce!L.png4Mc0_Q-S7-%01QMLKJHGFA987654320-*\n",
    ".\n",
    "└── work_dir/\n",
    "    ├── Conservation/\n",
    "    │   ├── Scripts\n",
    "    │   ├── Database/\n",
    "    │   │   ├── Swissprot.DB\n",
    "    │   │   └── Other_files_for_conservation_lookup_in_database.DB\n",
    "    │   ├── Intermediates/\n",
    "    │   │   ├── our_protein_multiple_seq_alignment.ali\n",
    "    │   │   ├── summary_statistics_alignment.csv\n",
    "    │   │   ├── quality_alignment_df.csv\n",
    "    │   │   └── .../\n",
    "    │   └── Results/\n",
    "    │       ├── conservation_df.csv\n",
    "    │       ├── conservation_plots.png\n",
    "    │       └── additonal\n",
    "    ├── Pymol_output/\n",
    "    │   └── Example/\n",
    "    │       ├── screenshot.png\n",
    "    │       └── .../\n",
    "    └── PDBs/\n",
    "        ├── Scripts/\n",
    "        │   ├── Database_parser_scripts \n",
    "        │   ├── Neighbourhood_clusterer.py\n",
    "        │   └── .../\n",
    "        └── .../\n",
    "\n",
    "'''\n",
    "\n",
    "# User dependent paths (must be passed as arguments)\n",
    "work_dir= \"/Users/fede/Desktop/Lab/Git/project_orellana_lab/mutational_clustering_work\"\n",
    "out_dir= \"/Users/fede/Desktop/Lab/Projects/mutational_clustering\"\n",
    "cosmic_genome_screens_mutant_tsv=\"/Users/fede/Heavyfiles/Cosmic_GenomeScreensMutant_Tsv_v99_GRCh37/Cosmic_GenomeScreensMutant_v99_GRCh37.tsv\"\n",
    "clinvar_variant_summary_txt=\"/Users/fede/Heavyfiles/clinvar_variant_summary.txt\"\n",
    "pymol_executable= '/opt/homebrew/Caskroom/miniforge/base/envs/env_mutclust/bin/pymol'\n",
    "egfr_pdb= \"/Users/fede/Desktop/Lab/Projects/EGFR/data/models_Arkhipov/EGFR_monomer_nomem.pdb\"\n",
    "lox5_pdb= \"/Users/fede/Desktop/Lab/Projects/5-LOX/Data/model/5lox_model.pdb\"\n",
    "\n",
    "# User independent paths (repo files)\n",
    "cosmic_classification= f\"{work_dir}/Cosmic_Classification_v99_GRCh37.tsv\"\n",
    "cosmic_transcripts= f\"{work_dir}/Cosmic_Transcripts_v99_GRCh37.tsv\"\n",
    "\n",
    "# Other paths\n",
    "test_pdb=f\"{work_dir}/1yoh.pdb\"\n"
   ]
  },
  {
   "cell_type": "markdown",
   "id": "7d958fc9-7d66-4fad-b288-da0b3ca7336e",
   "metadata": {
    "jp-MarkdownHeadingCollapsed": true
   },
   "source": [
    "# Pre-processing Class\n",
    "\n",
    "Retrieves mutations from databases\n",
    "\n",
    "Cosmic filters based on:\n",
    "- Gene name\n",
    "- Canonical transcript only\n",
    "- Missense mutations only\n",
    "- Known mutation significance \n",
    "\n",
    "Initialized with either:\n",
    "- gene_name\n",
    "- uniprot_id\n",
    "\n",
    "> To do:\n",
    ">  - Generalize from cosmic output to one raw all-databases output"
   ]
  },
  {
   "cell_type": "code",
   "execution_count": 6,
   "id": "78f13819-7199-4034-82b6-ea0f04df25bb",
   "metadata": {
    "scrolled": true
   },
   "outputs": [],
   "source": [
    "class PreProcesser:\n",
    "    def __init__(self, work_dir=None, out_dir=None, \n",
    "                 cosmic_genome_screens_mutant_tsv=None,\n",
    "                 cosmic_classification=None,\n",
    "                 cosmic_transcripts= None,\n",
    "                 clinvar_variant_summary_txt=None, \n",
    "                 uniprot_id= None,\n",
    "                 gene_name= None,\n",
    "                 logging=True):\n",
    "        \n",
    "        self.work_dir = work_dir #the directory we want to work in\n",
    "        self.log_dir = logging # we want to store log results for whatever we do.\n",
    "        self.out_dir= out_dir\n",
    "        self.cosmic_classification = cosmic_classification\n",
    "        self.cosmic_transcripts= cosmic_transcripts\n",
    "        self.cosmic_genome_screens_mutant_tsv= cosmic_genome_screens_mutant_tsv\n",
    "        self.clinvar_variant_summary_txt= clinvar_variant_summary_txt\n",
    "        self.uniprot_id= uniprot_id\n",
    "        self.gene_name= gene_name\n",
    "        self.cosmic_raw= None\n",
    "        self.cosmic_processed= None\n",
    "        self.cosmic_tissue_position= None\n",
    "        self.cosmic_tissue_grouped= None\n",
    "\n",
    "        # convert to gene name if uniprot_id\n",
    "        self.genename_or_uniprotid()\n",
    "        \n",
    "    def genename_or_uniprotid(self):\n",
    "        \"\"\"\n",
    "        if uniprot_id is provided to the class, this is always converted \n",
    "        to gene name\n",
    "        \"\"\"\n",
    "        if self.gene_name is not None:\n",
    "            pass\n",
    "        elif self.uniprot_id is not None:\n",
    "            self.gene_name = self._get_gene_name(self.uniprot_id)\n",
    "        else:\n",
    "            raise ValueError(\"Either uniprot_id or gene_name must be provided\")\n",
    "\n",
    "    def _get_gene_name(self, uniprot_id:str):\n",
    "        \"\"\"\n",
    "        returns gene name from uniprot id\n",
    "        \"\"\"\n",
    "    \n",
    "        fields = \"gene_primary\"\n",
    "        \n",
    "        URL = f\"https://rest.uniprot.org/uniprotkb/search?format=tsv&fields={fields}&query={uniprot_id}\"\n",
    "        resp = self._get_url(URL)\n",
    "        resp = resp.text\n",
    "        resp = resp.split(\"\\n\")\n",
    "\n",
    "        if not resp[1]:\n",
    "            raise ValueError(\"No gene name found for this Uniprot ID\")\n",
    "\n",
    "        if resp[2]:\n",
    "            #ambigous result\n",
    "            warnings.warn(\"Gene name search resulted in more than one hit:\\n\" + str(resp[1:]))\n",
    "            \n",
    "        return resp[1]\n",
    "\n",
    "    def _visualize_clusters_pymol(self, pdb:str) -> None:\n",
    "        \"\"\"\n",
    "        Utility function to visualize cluster in pymol.\n",
    "        \"\"\"\n",
    "        \n",
    "        #from pymol import cmd\n",
    "        pass\n",
    "\n",
    "    def _plot_clusters(self, pdb:str) -> object:\n",
    "        \"\"\"\n",
    "        Helper function to plot some statistics or quick interactive plots to investigate clustering.\n",
    "        Mostly thought about pyplot or plotly interactive plots i.e alignment where we can see the conservation etc.\n",
    "        https://plotly.com/python/alignment-chart/\n",
    "        \"\"\"\n",
    "\n",
    "    def compute_neighbours(self, pdb:str, cutoff=8.0) -> pd.DataFrame:\n",
    "\n",
    "        parser= PDBParser()\n",
    "        # Initialize parser and retrieve structure\n",
    "        structure = parser.get_structure(\"default\", pdb)\n",
    "        atom_list = Selection.unfold_entities(structure, \"A\")  # Retrieve all atoms\n",
    "    \n",
    "        # Initialize NeighborSearch with all atoms and prepare to store results\n",
    "        ns = NeighborSearch(atom_list)\n",
    "        neighbour_dict = defaultdict(set)  # Use set to avoid duplicates\n",
    "    \n",
    "        # Define list of standard amino acids to exclude solvents and ligands\n",
    "        aa_lst = [\n",
    "            \"VAL\", \"ALA\", \"GLY\", \"TRP\", \"ARG\", \"LYS\", \"LEU\", \"ILE\", \"ASP\", \"ASN\",\n",
    "            \"GLN\", \"GLU\", \"PRO\", \"TYR\", \"PHE\", \"SER\", \"THR\", \"CYS\", \"MET\", \"HIS\"\n",
    "        ]\n",
    "    \n",
    "        # Search for neighboring residues for each atom\n",
    "        for atom in atom_list:\n",
    "            residue = atom.get_parent()\n",
    "            res_name = residue.get_resname()\n",
    "            res_id = residue.get_id()[1]\n",
    "    \n",
    "            # Skip non-amino acid residues\n",
    "            if res_name not in aa_lst:\n",
    "                continue\n",
    "    \n",
    "            # Search for neighboring residues within the cutoff distance\n",
    "            for neighbour in ns.search(atom.get_coord(), cutoff, \"R\"):\n",
    "                neighbour_id = neighbour.get_id()[1]\n",
    "                if neighbour_id != res_id:  # Exclude the residue itself\n",
    "                    neighbour_dict[res_name + str(res_id)].add(neighbour_id)\n",
    "    \n",
    "            \n",
    "        # Convert the neighbor dictionary to a list of tuples\n",
    "        neighbour_data = [(res_id, ' '.join(map(str, sorted(neighbours)))) for res_id, neighbours in neighbour_dict.items()]\n",
    "\n",
    "        # Create a pandas DataFrame\n",
    "        df_neighbours = pd.DataFrame(neighbour_data, columns=['Residue_ID', 'Neighbours'])\n",
    "        return df_neighbours\n",
    "    \n",
    "\n",
    "    def conservation(self, uniprot_id):\n",
    "        '''Gets 3 different types of Conservation:\n",
    "        - Shannon conservation: \n",
    "        Shannon entropy. \n",
    "        Higher values indicate lower conservation and greater variability at the site.\n",
    "        \n",
    "        - Relative conservation:\n",
    "        Kullback-Leibler divergence.\n",
    "        Higher values indicate greater conservation and lower variability at the site.\n",
    "        \n",
    "        - Lockless conservation\n",
    "        Evolutionary conservation parameter defined by Lockless and Ranganathan (1999). \n",
    "        Higher values indicate greater conservation and lower variability at the site.\n",
    "        '''\n",
    "\n",
    "        if self.log_dir and not os.path.exists(self.log_dir):\n",
    "            os.makedirs(self.log_dir)\n",
    "        \n",
    "        mmseq_fasta_result = self._mmseq_multi_fasta(uniprot_id=uniprot_id, outdir=self.work_dir)\n",
    "        #get 3 different conservation scores in a pandas df.\n",
    "        conserv_df = self._get_conservation(path_to_msa=mmseq_fasta_result)\n",
    "        self.conservation_df = conserv_df\n",
    "\n",
    "        conserv_df.to_csv(f\"{self.log_dir}/conservation_df.csv\")\n",
    "\n",
    "        \n",
    "    def _mmseq_multi_fasta(self, uniprot_id:str, outdir:str, \n",
    "                      sensitivity=7, filter_msa=0,\n",
    "                     query_id = 0.6):\n",
    "        \"\"\"\n",
    "        uniprot_id: The unique uniprot identifier used to fetch the corresponding fasta file that will be used as a template for mmseq2\n",
    "        outdir: location where result files will be stored.\n",
    "        sensitivity: mmseq2 specific parameter that goes from 1-7. The higher the more sensitive the search.\n",
    "        filter_msa = 0 default. if 1 hits are stricter.\n",
    "        query_id = 0.6 [0, 1]  the higher the more identity with query is retrieved. 1 means ONLY the query hits while 0 means take everything possible.\n",
    "        \"\"\"\n",
    "\n",
    "        #we blast with this fasta as query.\n",
    "        trgt_fasta_seq = self._get_gene_fasta(uniprot_id)\n",
    "        #Make outdir for all required files.\n",
    "        #we need to write it out to file.\n",
    "        with open(f\"{self.work_dir}/{uniprot_id}_fasta.fa\", \"w\") as fasta_out:\n",
    "            fasta_out.write(f\">{uniprot_id}\\n\")\n",
    "            fasta_out.write(trgt_fasta_seq)\n",
    "\n",
    "        #fetch pre downloaded database from a parent folder.\n",
    "        msa_file = None\n",
    "        new_location = None\n",
    "        try:\n",
    "            DB_storage_location = f\"{work_dir}\"\n",
    "            #shutil.copy(previous_path, savepath)\n",
    "            bash_curl_cmd = f\"mmseqs createdb {self.work_dir}/{uniprot_id}_fasta.fa {DB_storage_location}/query_fastaDB\" \n",
    "            bash_curl_cmd_rdy = bash_curl_cmd.split()\n",
    "            #run first cmd which setups query database based on our input fasta file\n",
    "            result_setup_query_db = run(bash_curl_cmd_rdy, stdout=PIPE, stderr=PIPE, \n",
    "                                 universal_newlines=True)\n",
    "            bash_curl_cmd_2 = f\"mmseqs search {DB_storage_location}/query_fastaDB {DB_storage_location}/swiss_DB {DB_storage_location}/result_DB {DB_storage_location}/tmp -s {sensitivity}\"    \n",
    "            bash_curl_cmd_rdy_2 = bash_curl_cmd_2.split()\n",
    "            #run 2nd cmd which blasts against swiss_DB and generates the resultDB (i.e our hits that were found)\n",
    "            result_setup_blast_db = run(bash_curl_cmd_rdy_2, stdout=PIPE, stderr=PIPE, \n",
    "                                 universal_newlines=True)\n",
    "            #mmseqs convert2fasta DB_clu_rep DB_clu_rep.fasta\n",
    "            bash_curl_cmd_5 = f\"mmseqs result2msa {DB_storage_location}/query_fastaDB {DB_storage_location}/swiss_DB {DB_storage_location}/result_DB {DB_storage_location}/{uniprot_id}_out.fasta --msa-format-mode 3 --filter-msa {filter_msa} --qid {query_id}\" \n",
    "            bash_curl_cmd_5_rdy = bash_curl_cmd_5.split()\n",
    "            result_setup_msa_convert = run(bash_curl_cmd_5_rdy, stdout=PIPE, stderr=PIPE, \n",
    "                                 universal_newlines=True)\n",
    "            #delete last line.. required.\n",
    "            sed_cmd = f'sed -e 1,4d -e $d {DB_storage_location}/{uniprot_id}_out.fasta'        \n",
    "            bash_curl_cmd_6_rdy = sed_cmd.split()\n",
    "            #f\"{DB_storage_location}/{uniprot_id}_new_out.fasta\"\n",
    "            with open(f\"{DB_storage_location}/{uniprot_id}_new_out.fasta\", \"w\") as new_fasta:\n",
    "                result_truncation = run(bash_curl_cmd_6_rdy, stdout=new_fasta, stderr=PIPE, \n",
    "                                 universal_newlines=True)\n",
    "            # Specify the path to your MSA file\n",
    "            msa_file = f\"{DB_storage_location}/{uniprot_id}_new_out.fasta\"\n",
    "            #transfer the meta file to another location and delete useless files.\n",
    "            # we need to delete : all uniprot* files. \n",
    "            # all query*. All result* \n",
    "            new_location = f\"{self.work_dir}/{uniprot_id}.fasta\"\n",
    "            shutil.copy(msa_file, new_location)\n",
    "            #remove_files_and_dirs_msa(DB_storage_location, uniprot_id=uniprot_id)\n",
    "            \n",
    "        except Exception as error:\n",
    "            print(error)\n",
    "        #we want the path to msa_file for downstream analysis.\n",
    "        return new_location\n",
    "\n",
    "    def _get_gene_fasta(self, uniprot_id:str):\n",
    "        '''\n",
    "        Helper function to grab the sequence \n",
    "        based on the Uniprot ID\n",
    "        '''\n",
    "        fields = \"sequence\"\n",
    "        URL = f\"https://rest.uniprot.org/uniprotkb/search?format=fasta&fields={fields}&query={uniprot_id}\"\n",
    "        resp = self._get_url(URL)\n",
    "        resp = resp.iter_lines(decode_unicode=True)\n",
    "        seq = \"\"\n",
    "        i = 0\n",
    "        for lines in resp:\n",
    "            if i > 0:\n",
    "                seq += lines\n",
    "            i += 1\n",
    "        return seq\n",
    "\n",
    "    def _get_conservation(self, path_to_msa:str):    \n",
    "        '''\n",
    "        Helper function to compute 3 different types of conservation.\n",
    "        \n",
    "        - Shannon conservation: \n",
    "        Shannon entropy. \n",
    "        Higher values indicate lower conservation and greater variability at the site.\n",
    "        \n",
    "        - Relative conservation:\n",
    "        Kullback-Leibler divergence.\n",
    "        Higher values indicate greater conservation and lower variability at the site.\n",
    "        \n",
    "        - Lockless conservation\n",
    "        Evolutionary conservation parameter defined by Lockless and Ranganathan (1999). \n",
    "        Higher values indicate greater conservation and lower variability at the site.\n",
    "        '''\n",
    "        canal = Canal(fastafile=path_to_msa, #Multiple sequence alignment (MSA) of homologous sequences\n",
    "          ref=0, #Position of reference sequence in MSA, use first sequence always\n",
    "          startcount=0, # ALways 0 because our seqs are always from 1 - end\n",
    "          verbose=False) # no verbosity \n",
    "    \n",
    "        result_cons = canal.analysis(method=\"all\")\n",
    "        return result_cons\n",
    "\n",
    "    def _get_url(self, url):\n",
    "        '''Helper function that uses requests for Downloads.'''\n",
    "        try:\n",
    "            response = requests.get(url)  \n",
    "            if not response.ok:\n",
    "                print(response.text)\n",
    "        except:\n",
    "            response.raise_for_status()\n",
    "            #sys.exit() \n",
    "        return response\n",
    "\n",
    "    def _get_cosmic_mutations(self, **kwargs)->pd.DataFrame:\n",
    "        \"\"\"\n",
    "        retrieves mutations from cosmic database from gene name (or uniprot id from higher level)\n",
    "        \"\"\"\n",
    "        print (\"Fetching Cosmic mutations..\")\n",
    "        start_time= time.time()\n",
    "        path=self.cosmic_genome_screens_mutant_tsv             \n",
    "\n",
    "        #default columns we want to retrieve. can be changed / added through kwargs later\n",
    "        usecols=['GENE_SYMBOL', 'TRANSCRIPT_ACCESSION',\n",
    "         'MUTATION_AA', 'MUTATION_DESCRIPTION', 'CHROMOSOME', \n",
    "                 'GENOME_START', 'GENOME_STOP', 'COSMIC_PHENOTYPE_ID', 'MUTATION_SOMATIC_STATUS', 'GENOMIC_MUTATION_ID', 'MUTATION_ID']\n",
    "\n",
    "        df = dd.read_csv(path, sep=\"\\t\", dtype={'CHROMOSOME': 'object', \n",
    "        'GENOME_START': 'float64',\n",
    "       'GENOME_STOP': 'float64'}, usecols=usecols)  #specify dtype / usecols to minimize memory usage required through load in.\n",
    "\n",
    "\n",
    "        #we need to switch these tuples and then map the 1letter aa code to 3letter aa \n",
    "        #for later compatibility.\n",
    "        lst =  [('Val',\"V\"), ('Ile',\"I\"), ('Leu',\"L\"), ('Glu',\"E\"), ('Gln',\"Q\"),\n",
    "                    ('Asp',\"D\"), ('Asn',\"N\"), ('His',\"H\"), ('Trp',\"W\"), ('Phe',\"F\"), ('Tyr',\"Y\"), \n",
    "                    ('Arg',\"R\"), ('Lys',\"K\"), ('Ser',\"S\"), ('Thr',\"T\"), ('Met',\"M\"), ('Ala',\"A\"), \n",
    "                    ('Gly',\"G\"), ('Pro',\"P\"), ('Cys',\"C\")]\n",
    "        \n",
    "        lst = [(y, x) for x, y in lst] #switch y and x position for convinience\n",
    "\n",
    "        canonical_aas = defaultdict(lambda: \"X\", lst) #default if key not found = \"X\"\n",
    "\n",
    "        #filtering based on \"missense\" mutation. this can be tricky and sometimes messy but lets stick with that\n",
    "        df_re = df[df[\"MUTATION_DESCRIPTION\"].str.contains(\"missense\")]\n",
    "\n",
    "        #filter for gene name\n",
    "        df_re = df_re[df_re[\"GENE_SYMBOL\"] == f\"{self.gene_name}\"]\n",
    "        \n",
    "        #retrieve relevant information\n",
    "        meta = ('Gene name', 'str') \n",
    "        df_re['CHROMOSOME'] = df_re['CHROMOSOME'].astype('object')\n",
    "        df_re['WT_AA'] = df_re['MUTATION_AA'].str[2].apply(lambda x: canonical_aas[x], meta=meta)\n",
    "        df_re['MUTATION_POSITION'] = df_re['MUTATION_AA'].str[3:-1]\n",
    "        df_re['MUTATED_AA'] = df_re['MUTATION_AA'].str[-1].apply(lambda x: canonical_aas[x], meta=meta)\n",
    "\n",
    "        #redundant so we drop it\n",
    "        df_re = df_re.drop(\"MUTATION_AA\", axis=1)\n",
    "\n",
    "        #now we use compute() which finally does the computation (before all actions were \"lazy\" computations\n",
    "        # so we dont actually need the RAM. now we do it though.)\n",
    "        cosmic_df = df_re.compute()\n",
    "    \n",
    "        cosmic_df[\"GENOME_START\"] = cosmic_df[\"GENOME_START\"].astype(int)\n",
    "        cosmic_df[\"GENOME_STOP\"] = cosmic_df[\"GENOME_STOP\"].astype(int)\n",
    "\n",
    "        #Filter for canonical only transcripts\n",
    "        transcripts_df= pd.read_csv(self.cosmic_transcripts, sep=\"\\t\")\n",
    "        cosmic_df= pd.merge(cosmic_df, transcripts_df[['TRANSCRIPT_ACCESSION', 'IS_CANONICAL']], on='TRANSCRIPT_ACCESSION', how='left')\n",
    "        cosmic_df= cosmic_df[cosmic_df[\"IS_CANONICAL\"] == \"y\"]\n",
    "        cosmic_df= cosmic_df.drop(\"IS_CANONICAL\", axis=1)\n",
    "\n",
    "        #Primary site is not directly retrievable\n",
    "        #Fetch primary site from classification file based on cosmic_phenotype_id and merge\n",
    "        columns_to_merge = ['COSMIC_PHENOTYPE_ID', 'PRIMARY_SITE', 'SITE_SUBTYPE_1', 'PRIMARY_HISTOLOGY', 'HISTOLOGY_SUBTYPE_1', 'HISTOLOGY_SUBTYPE_2']\n",
    "        classification_df = pd.read_csv(self.cosmic_classification, sep='\\t')\n",
    "        cosmic_df = pd.merge(cosmic_df, classification_df[columns_to_merge], on='COSMIC_PHENOTYPE_ID', how='left')\n",
    "\n",
    "        #Drop when ambigous position (more than one position reported, very rare) \n",
    "        cosmic_df['MUTATION_POSITION'] = pd.to_numeric(cosmic_df['MUTATION_POSITION'], errors='coerce')\n",
    "        cosmic_df = cosmic_df.dropna(subset=['MUTATION_POSITION'])\n",
    "\n",
    "        #Drop when MUTATION_SOMATIC_STATUS = Variant of unknown origin (lack of normal tissue control) \n",
    "        cosmic_df = cosmic_df.drop(cosmic_df[cosmic_df['MUTATION_SOMATIC_STATUS'] == 'Variant of unknown origin'].index)\n",
    "        \n",
    "        #Sorting rules\n",
    "        cosmic_df['MUTATION_POSITION'] = cosmic_df['MUTATION_POSITION'].astype(int)\n",
    "        cosmic_df = cosmic_df.sort_values(['MUTATION_POSITION', 'MUTATED_AA', 'GENOMIC_MUTATION_ID'], ascending=True)\n",
    "\n",
    "    \n",
    "        end_time= time.time()\n",
    "        exec_time= end_time - start_time\n",
    "        print (f\"{len(cosmic_df)} mutations found\")\n",
    "        print (f\"Execution time: {exec_time:.2f} seconds\")\n",
    "    \n",
    "        return cosmic_df\n",
    "\n",
    "    def _get_gnomad_mutations(self, gnomad_data_table_path:str, **kwargs)-> pd.DataFrame:\n",
    "        \"\"\"Documentation.\n",
    "        Currently this part does not convert the result to a df.\n",
    "        I will implement it and return a pandas DF\n",
    "\n",
    "        Please Fede let me do this. I really want to do this, don't touch it.\n",
    "        I got this I can't wait.\n",
    "        I'm the Gnomad master! Yay!\n",
    "        \"\"\"\n",
    "        mt = hl.read_matrix_table(path)  #matrix table because df would not work with such large data.\n",
    "\n",
    "\n",
    "        #string based search because there is NO API for gnomAD.\n",
    "        substring1 = self.gene_name\n",
    "        substring2 = \"missense\"\n",
    "        \n",
    "        mt = mt.annotate_rows(Gene_names=mt.info.vep.map(\n",
    "            lambda x: x.split(\"\\|\")[3]) ,\n",
    "                          type_of_change = mt.info.vep.map(\n",
    "            lambda x: x.split(\"\\|\")[1]) , \n",
    "                          AA_change = mt.info.vep.map(\n",
    "            lambda x: x.split(\"\\|\")[11]) , \n",
    "                          ENST_identifier= mt.info.vep.map(\n",
    "            lambda x: x.split(\"\\|\")[6])\n",
    "    \n",
    "        ) \n",
    "                 \n",
    "        filtered_mt_2 = mt.filter_rows(\n",
    "        #hl.any(lambda x: hl.str(x).contains(substring3), mt.AA_change)\n",
    "        hl.any(lambda x: hl.str(x).contains(substring1), mt.info.vep) &\n",
    "        hl.any(lambda x: hl.str(x).contains(substring2), mt.info.vep)\n",
    "        \n",
    "        )\n",
    "                         \n",
    "        filtered_mt_3 = filtered_mt_2.annotate_rows(\n",
    "            Allele_count_int = filtered_mt_2.info.AC,\n",
    "            Allele_frequency_float = filtered_mt_2.info.AF,\n",
    "            Allele_number_int = filtered_mt_2.info.AN,\n",
    "            Gene_name_str = _replace_empty(filtered_mt_2.Gene_names), \n",
    "            Mutation_change_str = _replace_empty(filtered_mt_2.AA_change),\n",
    "            Type_of_change_str = _replace_empty(filtered_mt_2.type_of_change))\n",
    "        \n",
    "        #this can be again regulated later trough kwargs**\n",
    "        rows_to_keep = [\"Gene_name_str\", \"Mutation_change_str\", \"Type_of_change_str\", \"Allele_count_int\",\n",
    "                    \"Allele_frequency_float\", \"Allele_number_int\"]\n",
    "    \n",
    "    \n",
    "        selected_rows = filtered_mt_3.select_rows(\n",
    "            Allele_count_int=filtered_mt_3.Allele_count_int,\n",
    "            Allele_frequency_float=filtered_mt_3.Allele_frequency_float,\n",
    "            Allele_number_int=filtered_mt_3.Allele_number_int,\n",
    "            Gene_name_str=hl.str(filtered_mt_3.Gene_name_str),\n",
    "            Mutation_change_str=hl.str(filtered_mt_3.Mutation_change_str),\n",
    "            Type_of_change_str=hl.str(filtered_mt_3.Type_of_change_str)\n",
    "                )\n",
    "    \n",
    "        save_buffer = selected_rows.select_rows(*rows_to_keep)\n",
    "        select_rows_out = save_buffer.rows()\n",
    "\n",
    "        return (select_rows_out)\n",
    "        #part missing to convert to pandas DF.\n",
    "        \n",
    "        #return pd.DataFrame() \n",
    "\n",
    "    def _get_clinvar_mutations(self, **kwargs)-> pd.DataFrame:\n",
    "        \"\"\"\n",
    "        Documentation missing.\n",
    "        \"\"\"\n",
    "        \n",
    "        #can be regulated through kwargs\n",
    "        use_cols = [\"Type\", \"Name\", \"GeneSymbol\",\n",
    "           \"ClinicalSignificance\", \"PhenotypeList\",\n",
    "           \"Assembly\", \"ChromosomeAccession\", \n",
    "           \"Chromosome\", \"Start\", \"Stop\"]\n",
    "        \n",
    "        #this here as well / mapping needed to save memory at load in.\n",
    "        column_data_types = {\n",
    "        \"Type\": str,\n",
    "        \"Name\": str,\n",
    "        \"GeneSymbol\": str,\n",
    "        \"ClinicalSignificance\": str,\n",
    "        \"PhenotypeList\": str,\n",
    "        \"Assembly\": str,\n",
    "        \"ChromosomeAccession\": str,\n",
    "        \"Chromosome\": str,\n",
    "        \"Start\": int,\n",
    "        \"Stop\": int\n",
    "        }\n",
    "\n",
    "        #lets read in the clinvar all var file.\n",
    "        df_work = pd.read_csv(self.clinvar_variant_summary_txt, sep=\"\\t\", usecols=use_cols, dtype=column_data_types)\n",
    "    \n",
    "        df_work.loc[:, \"AA_change\"] = df_work[\"Name\"].str.split().str.get(-1)\n",
    "        df_work.loc[:, \"AA_change\"] = df_work[\"AA_change\"].str.replace(\"(\", \"\")\n",
    "        df_work.loc[:, \"AA_change\"] = df_work[\"AA_change\"].str.replace(\")\", \"\")\n",
    "        \n",
    "        df_work.loc[:,\"Original_AA\"] = df_work[\"AA_change\"].str[2:5]\n",
    "        df_work.loc[:,\"Modified_AA\"] = df_work[\"AA_change\"].str[-3:]\n",
    "        df_work['Position'] = pd.to_numeric(df_work['AA_change'].str[5:-3], errors='coerce')\n",
    "        \n",
    "        # Drop rows with NaN values in the 'Position' column\n",
    "        df_work.dropna(subset=['Position'], inplace=True)\n",
    "        df_work['Position'] = df_work['Position'].astype(int)\n",
    "        \n",
    "        df_work[\"Genomic_location\"] = df_work[\"Chromosome\"] + \":\" + df_work[\"Start\"].astype(str)\n",
    "        df_work[\"gnomad_aa_change\"] = \"p.\" + df_work[\"Original_AA\"] + df_work[\"Position\"].astype(str) + df_work[\"Modified_AA\"]\n",
    "        \n",
    "        df_work = df_work.drop(\"AA_change\", axis=1)\n",
    "        df_work = df_work.drop(\"Name\", axis=1)\n",
    "        df_work = df_work.drop(\"Chromosome\", axis=1)\n",
    "        df_work = df_work.drop(\"Start\", axis=1)\n",
    "        df_work = df_work.drop(\"Stop\", axis=1)\n",
    "        \n",
    "        \n",
    "        accepted_residues = [\"Ala\", \"Gly\", \"Ser\", \"Leu\", \"Pro\",\n",
    "                        \"Ile\", \"Val\", \"Phe\", \"Tyr\", \"Trp\",\n",
    "                         \"His\", \"Thr\", \"Asn\", \"Gln\", \"Asp\", \n",
    "                         \"Glu\",\"Cys\", \"Met\", \"Lys\", \"Arg\"]\n",
    "        \n",
    "        #filtering based on our Gene name.\n",
    "        df_clinvar = df_work[(df_work[\"Type\"] == \"single nucleotide variant\") & \n",
    "            (df_work[\"GeneSymbol\"] == self.gene_name) &\n",
    "            (df_work[\"Assembly\"] == \"GRCh37\") & \n",
    "            (df_work['Original_AA'].isin(accepted_residues)) &\n",
    "            (df_work['Modified_AA'].isin(accepted_residues)) ]\n",
    "        \n",
    "        #export\n",
    "\n",
    "        df_clinvar=df_clinvar.sort_values('Position', ascending=True)\n",
    "        \n",
    "        return df_clinvar\n",
    "\n",
    "    def fetch_mutations(self, **kwargs):\n",
    "        #cosmic\n",
    "        if 'cosmic' in kwargs and kwargs['cosmic']:\n",
    "            cosmic_df=self._get_cosmic_mutations()\n",
    "            self.cosmic_raw=cosmic_df\n",
    "          \n",
    "        #clinvar\n",
    "        if 'clinvar' in kwargs and kwargs['clinvar']:\n",
    "            clinvar_df=self._get_clinvar_mutations()\n",
    "            self.clinvar_df=clinvar_df\n",
    "\n",
    "#pre_processer = PreProcesser(work_dir=work_dir, out_dir=out_dir,\n",
    "#                                cosmic_classification=cosmic_classification, \n",
    "#                                cosmic_genome_screens_mutant_tsv=cosmic_genome_screens_mutant_tsv,\n",
    "#                                clinvar_variant_summary_txt=clinvar_variant_summary_txt,\n",
    "#                                uniprot_id=\"P09917\"\n",
    "#                               )\n",
    "\n",
    "#EXAMPLE USAGE\n",
    "#pre_processer.compute_neighbours(test_pdb)\n",
    "#pre_processer.fetch_mutations(cosmic=True)\n",
    "#pre_processer.cosmic_raw.head()"
   ]
  },
  {
   "cell_type": "markdown",
   "id": "8de384a6-ed8f-4f76-a391-356b2d942834",
   "metadata": {},
   "source": [
    "# Processing Class\n",
    "Takes ONE input raw dataframe (one for all dataframes)\n",
    "\n",
    "TO DO: implement a check that excludes non-canonical residues for each positions"
   ]
  },
  {
   "cell_type": "code",
   "execution_count": 40,
   "id": "443f1497-ec30-4146-8ccc-12c07e299f48",
   "metadata": {
    "scrolled": true
   },
   "outputs": [],
   "source": [
    "class Processer:\n",
    "    def __init__(self, raw_df: pd.DataFrame):\n",
    "        self.raw_df=raw_df\n",
    "        self.tissue_position_df= None\n",
    "        self.tissue_grouped_df= None\n",
    "        self.tissue_aspecific_df= None\n",
    "\n",
    "    def _filter_by_mutation(self, WT_AA, MUTATION_POSITION, MUTATED_AA, df):\n",
    "        filtered_df= df[(df[\"WT_AA\"] == WT_AA) & \n",
    "                              (df[\"MUTATION_POSITION\"] == MUTATION_POSITION) & \n",
    "                              (df[\"MUTATED_AA\"] == MUTATED_AA)]\n",
    "    \n",
    "        print (\"Filtered for \"+WT_AA+\"_\"+str(MUTATION_POSITION)+\"_\"+MUTATED_AA+\"\\nResulting mutation count:\", len (filtered_df))\n",
    "        return filtered_df\n",
    "\n",
    "    def _filter_by_histology(self, histology, df):\n",
    "        filtered_df= df[(df[\"PRIMARY_HISTOLOGY\"].str.contains(histology) | df[\"HISTOLOGY_SUBTYPE_1\"].str.contains(histology))]\n",
    "\n",
    "        print (f\"Filtered for histology or primary istology containing: {histology}\"+\"\\nResulting mutation count:\", len (filtered_df))\n",
    "        return filtered_df\n",
    "        \n",
    "    def process_mutations(self, **kwargs):\n",
    "        if self.raw_df is None or self.raw_df.empty:\n",
    "            raise ValueError(\"self.raw_df was not computed or is empty. Please compute it before processing.\")\n",
    "\n",
    "\n",
    "        \n",
    "        if 'filter_by_mutation' in kwargs:\n",
    "            self.raw_df=self._filter_by_mutation(*kwargs[\"filter_by_mutation\"], df=self.raw_df)\n",
    "\n",
    "        if 'filter_by_histology' in kwargs:\n",
    "            self.raw_df=self._filter_by_histology(*kwargs[\"filter_by_histology\"], df=self.raw_df)\n",
    "        \n",
    "        # Drop MUTATION_SOMATIC_STATUS (we keep both confirmed and reported in another sample as somatic. Unknown was previously filtered out)\n",
    "        processed_df=self.raw_df.drop([\"MUTATION_SOMATIC_STATUS\", 'COSMIC_PHENOTYPE_ID', 'SITE_SUBTYPE_1', 'PRIMARY_HISTOLOGY', 'HISTOLOGY_SUBTYPE_1', 'HISTOLOGY_SUBTYPE_2'], axis=1)\n",
    "        # Collapse duplicate rows based on all columns (these are just different samples) \n",
    "        #duplicate_mask = processed_df.duplicated()\n",
    "        processed_df = processed_df.groupby(processed_df.columns.tolist()).size().reset_index(name='SAMPLES')\n",
    "\n",
    "        if 'raw' not in kwargs:\n",
    "            del self.raw_df\n",
    "            gc.collect()\n",
    "        \n",
    "        def tissue_position_processing(processed_df: pd.DataFrame) -> pd.DataFrame: \n",
    "            \"\"\"\n",
    "            TO DO\n",
    "            this df can keep track of the wild-type amino acid and groupy it\n",
    "            \"\"\"\n",
    "            \n",
    "            # TISSUE SPECIFIC DF, POSITION PER POSITION\n",
    "            selected_columns = [\"MUTATION_ID\", \"MUTATION_POSITION\", \"PRIMARY_SITE\", \"SAMPLES\"]\n",
    "            tissue_position_df = processed_df[selected_columns]\n",
    "            tissue_position_df = tissue_position_df.sort_values([\"PRIMARY_SITE\", 'MUTATION_POSITION', \"MUTATION_ID\"], ascending=True)\n",
    "            # Group by mutation position and primary site, count how many unique MUTATION_IDs were collapsed, sum SAMPLES\n",
    "            tissue_position_df = tissue_position_df.groupby(['MUTATION_POSITION', 'PRIMARY_SITE']).agg(\n",
    "                {'MUTATION_ID': 'nunique', 'SAMPLES': 'sum'}).reset_index().rename(columns={'MUTATION_ID': 'COUNT_MUTATION_IDs', 'SAMPLES': 'SAMPLES_TOT'})\n",
    "            ## Introduce samples per mutation\n",
    "            tissue_position_df['SAMPLES_DIV_COUNT'] = tissue_position_df['SAMPLES_TOT'] / tissue_position_df['COUNT_MUTATION_IDs']\n",
    "            tissue_position_df= tissue_position_df.sort_values([\"PRIMARY_SITE\", \"MUTATION_POSITION\"], ascending=True)\n",
    "            #tissue_position_df = tissue_position_df.drop(columns=['SAMPLES_DIV_COUNT'])\n",
    "            # PYMOL 3D CLUSTERING OUT HERE\n",
    "            del processed_df\n",
    "            gc.collect()\n",
    "            return tissue_position_df\n",
    "\n",
    "        def tissue_grouped_processing(tissue_position_df: pd.DataFrame) -> pd.DataFrame:\n",
    "            #TISSUE SPECIFIC DF, GROUPED BY POSITION\n",
    "            tissue_grouped_df = tissue_position_df.groupby('PRIMARY_SITE').agg(\n",
    "                MUTATION_POSITIONS=('MUTATION_POSITION', 'nunique'),\n",
    "                COUNT_MUTATION_IDs=('COUNT_MUTATION_IDs', 'sum'),\n",
    "                SAMPLES_TOT=('SAMPLES_TOT', 'sum')\n",
    "                ).reset_index()            \n",
    "            tissue_grouped_df.rename(columns={'MUTATION_POSITION': 'MUTATION_POSITIONS'}, inplace=True)\n",
    "            tissue_grouped_df[\"SAMPLES_DIV_COUNT\"]= (tissue_grouped_df[\"SAMPLES_TOT\"]/tissue_grouped_df[\"COUNT_MUTATION_IDs\"]).round(2)\n",
    "            \n",
    "            return tissue_grouped_df\n",
    "\n",
    "        def tissue_aspecific_processing(tissue_position_df: pd.DataFrame) -> pd.DataFrame:            \n",
    "            #TISSUE ASPECIFIC DF\n",
    "            tissue_aspecific_df= tissue_position_df.drop(['PRIMARY_SITE', 'SAMPLES_DIV_COUNT'], axis=1)\n",
    "            tissue_aspecific_df = tissue_aspecific_df.groupby('MUTATION_POSITION').agg({\n",
    "                'COUNT_MUTATION_IDs': 'sum',\n",
    "                'SAMPLES_TOT': 'sum'\n",
    "            }).reset_index()\n",
    "            return tissue_aspecific_df\n",
    "\n",
    "        \"\"\"               LOGIC\n",
    "        \n",
    "        process_mutations (preliminary processing)\n",
    "            └── tissue_position_processing\n",
    "                ├── tissue_grouped_processing\n",
    "                └── tissue_aspecific_processing\n",
    "        \"\"\"\n",
    "\n",
    "        if 'tissue_position' in kwargs:\n",
    "            self.tissue_position_df=tissue_position_processing(processed_df= processed_df)\n",
    "            \n",
    "            print (\"Created tissue position dataframe\")\n",
    "            \n",
    "        if 'tissue_grouped' in kwargs:\n",
    "            if self.tissue_position_df is None or self.tissue_position_df.empty:\n",
    "                self.tissue_position_df= tissue_position_processing(processed_df= processed_df)\n",
    "                \n",
    "            self.tissue_grouped_df= tissue_grouped_processing(tissue_position_df= self.tissue_position_df)\n",
    "            if 'tissue_position' not in kwargs: \n",
    "                del self.tissue_position_df\n",
    "                gc.collect()\n",
    "\n",
    "            print (\"Created tissue grouped dataframe\")\n",
    "            \n",
    "        if 'tissue_aspecific' in kwargs:\n",
    "            if self.tissue_position_df is None or self.tissue_position_df.empty:\n",
    "                self.tissue_position_df= tissue_position_processing(processed_df= processed_df)\n",
    "\n",
    "            self.tissue_aspecific_df= tissue_aspecific_processing(tissue_position_df= self.tissue_position_df)\n",
    "            if 'tissue_position' not in kwargs: \n",
    "                del self.tissue_position_df\n",
    "                gc.collect()\n",
    "\n",
    "            print (\"Created tissue aspecific dataframe\")\n",
    "\n",
    "\n",
    "#EXAMPLE USAGE\n",
    "#processer= Processer(raw_df=pre_processer.cosmic_raw)\n",
    "#processer.process_mutations(tissue_aspecific=True)\n",
    "#processer.tissue_aspecific_df.head()"
   ]
  },
  {
   "cell_type": "markdown",
   "id": "7e7872c6-8427-4b0c-9882-9e38bb408cdc",
   "metadata": {},
   "source": [
    "# 3D Visualizing Class"
   ]
  },
  {
   "cell_type": "code",
   "execution_count": 8,
   "id": "3e84e688-8c8d-47eb-86ac-2a87284a526f",
   "metadata": {
    "scrolled": true
   },
   "outputs": [],
   "source": [
    "class Visualizer:\n",
    "    def __init__(self, pdb: str, shift: int, pymol_executable: str, tissue_position_df=None, radius_divider: int=5):\n",
    "        self.work_dir = work_dir\n",
    "        self.out_dir= out_dir\n",
    "        self.pdb= pdb\n",
    "        self.shift= shift\n",
    "        self.pymol_ex= pymol_executable\n",
    "        self.tissue_position_df = tissue_position_df\n",
    "        self.radius_divider= radius_divider\n",
    "        \n",
    "        pathname, extension = os.path.splitext(self.pdb)\n",
    "        moleculename = pathname.split('/')[-1]\n",
    "        self.tumor_heterogeneity_script = f'{out_dir}/tumor_heterogeneity_{moleculename}.py'\n",
    "        self.tumor_frequency_script = f'{out_dir}/tumor_frequency_{moleculename}.py'\n",
    "    \n",
    "    def pymol_cluster_heterogeneity(self, export:bool= True):\n",
    "        \"\"\"\n",
    "        Mutations are plotted by number of unique mutation IDs\n",
    "        \"\"\"\n",
    "        if self.tissue_position_df is None or self.tissue_position_df.empty:\n",
    "            raise ValueError (\"tissue_position_df was not computed or is empty. Please compute it before visualizing\")\n",
    "    \n",
    "        lines = []\n",
    "        #automatize shift\n",
    "        \n",
    "        \n",
    "        for _, row in self.tissue_position_df.iterrows():\n",
    "            primary_site = row['PRIMARY_SITE']\n",
    "            canonical_position = row['MUTATION_POSITION']\n",
    "            structure_position = canonical_position + self.shift\n",
    "            count_mutation_ids = row['COUNT_MUTATION_IDs']\n",
    "            line = f'cmd.pseudoatom(\"{primary_site}\", \"{structure_position}/CA\", vdw={count_mutation_ids/self.radius_divider}, label=\"{canonical_position} - {count_mutation_ids}\")'\n",
    "            lines.append(line)\n",
    "        \n",
    "        lines.append(f\"\"\"cmd.show (\"spheres\", \"not {moleculename}\")\"\"\")\n",
    "        lines.append(f\"\"\"cmd.spectrum (\"count\", \"rainbow\", \"not {moleculename}\")\"\"\")\n",
    "        lines.append(f\"\"\"cmd.spectrum (\"count\", \"rainbow\", \"{moleculename}\")\"\"\")\n",
    "        lines.append(f\"\"\"cmd.hide (\"labels\")\"\"\")\n",
    "        #lines.append(f\"\"\"cmd.show_as (\"surface\", \"{moleculename}\")\"\"\")\n",
    "        lines.append(f\"\"\"cmd.set (\"transparency\", \"0.8\", \"{moleculename}\")\"\"\")\n",
    "        lines.append(f\"\"\"cmd.set (\"cartoon_transparency\", \"0.8\", \"{moleculename}\")\"\"\")\n",
    "        lines.append(f\"\"\"movie.add_roll(32.0,axis='y',start=1)\"\"\")\n",
    "        #lines.append(f\"\"\"cmd.set (\"label_color\", \"rainbow\", \"not {moleculename}\")\"\"\")\n",
    "    \n",
    "        # Write the lines to a text file\n",
    "        if export:\n",
    "            with open(self.tumor_heterogeneity_script, 'w') as file:\n",
    "                for line in lines:\n",
    "                    file.write(line + '\\n')\n",
    "            print(f\"Lines exported to 'tumor_heterogeneity.py'.\")\n",
    "\n",
    "    def pymol_cluster_frequency(self, export:bool= True):\n",
    "        if self.tissue_position_df is None or self.tissue_position_df.empty:\n",
    "            raise ValueError (\"tissue_position_df was not computed or is empty. Please compute it before visualizing\")\n",
    "    \n",
    "        lines = []\n",
    "        #automatize shift\n",
    "        pathname, extension = os.path.splitext(self.pdb)\n",
    "        moleculename = pathname.split('/')[-1]\n",
    "        \n",
    "        for _, row in self.tissue_position_df.iterrows():\n",
    "            primary_site = row['PRIMARY_SITE']\n",
    "            canonical_position = row['MUTATION_POSITION']\n",
    "            structure_position = canonical_position + self.shift\n",
    "            count_mutation_frequency = row['SAMPLES_TOT']\n",
    "            line = f'cmd.pseudoatom(\"{primary_site}\", \"{structure_position}/CA\", vdw={count_mutation_frequency/self.radius_divider}, label=\"{canonical_position} - {count_mutation_frequency}\")'\n",
    "            lines.append(line)\n",
    "        \n",
    "        lines.append(f\"\"\"cmd.show (\"spheres\", \"not {moleculename}\")\"\"\")\n",
    "        lines.append(f\"\"\"cmd.spectrum (\"count\", \"rainbow\", \"not {moleculename}\")\"\"\")\n",
    "        lines.append(f\"\"\"cmd.spectrum (\"count\", \"rainbow\", \"{moleculename}\")\"\"\")\n",
    "        lines.append(f\"\"\"cmd.hide (\"labels\")\"\"\")\n",
    "        #lines.append(f\"\"\"cmd.show_as (\"surface\", \"{moleculename}\")\"\"\")\n",
    "        lines.append(f\"\"\"cmd.set (\"transparency\", \"0.8\", \"{moleculename}\")\"\"\")\n",
    "        lines.append(f\"\"\"cmd.set (\"cartoon_transparency\", \"0.8\", \"{moleculename}\")\"\"\")\n",
    "        lines.append(f\"\"\"movie.add_roll(32.0,axis='y',start=1)\"\"\")\n",
    "        #lines.append(f\"\"\"cmd.set (\"label_color\", \"rainbow\", \"not {moleculename}\")\"\"\")\n",
    "    \n",
    "        # Write the lines to a text file\n",
    "        if export:\n",
    "            with open(self.tumor_frequency_script, 'w') as file:\n",
    "                for line in lines:\n",
    "                    file.write(line + '\\n')\n",
    "            print(f\"Lines exported to 'tumor_frequency.py'.\")\n",
    "        \n",
    "    def pymol_launcher(self, pymol_script: str):    \n",
    "        memory_opt= 'set defer_builds_mode, 3'\n",
    "        py_command = [\n",
    "                self.pymol_ex,\n",
    "                '-d',\n",
    "                f'{memory_opt}; load {self.pdb}',\n",
    "                pymol_script\n",
    "            ]\n",
    "        print (\" \".join(py_command))\n",
    "        # Start pymol as a separate process and detach it from the Python script, then wait for it to complete\n",
    "        process = subprocess.run(py_command, text=True, stdout=subprocess.PIPE, stderr=subprocess.PIPE, stdin=subprocess.PIPE, preexec_fn=os.setpgrp)\n",
    "\n",
    "    def visualize(self, **kwargs):\n",
    "        if \"tumor_heterogeneity\" in kwargs and kwargs['tumor_heterogeneity']:\n",
    "            self.pymol_cluster_heterogeneity(export= True)\n",
    "            self.pymol_launcher(pymol_script=self.tumor_heterogeneity_script)\n",
    "        if \"tumor_frequency\" in kwargs and kwargs['tumor_frequency']:\n",
    "            self.pymol_cluster_frequency(export= True)\n",
    "            self.pymol_launcher(pymol_script=self.tumor_frequency_script)\n",
    "\n",
    "\n",
    "# EGFR shift is 24\n",
    "\n",
    "#visualizer=Visualizer(pdb=egfr_pdb, shift= 24, \n",
    "#                      pymol_executable= pymol_executable, \n",
    "#                      tissue_position_df=processer.tissue_position_df)\n",
    "\n",
    "#visualizer=Visualizer(pdb=lox5_pdb, shift= 0, \n",
    "#                      pymol_executable= pymol_executable, \n",
    "#                      tissue_position_df=processer.tissue_position_df)"
   ]
  },
  {
   "cell_type": "markdown",
   "id": "61f83c30-24b2-42dd-9083-2ccb222a111f",
   "metadata": {},
   "source": [
    "# Export Class"
   ]
  },
  {
   "cell_type": "code",
   "execution_count": 9,
   "id": "6460179c-123a-4e2d-b2ef-775d9e830343",
   "metadata": {},
   "outputs": [],
   "source": [
    "class Exporter:\n",
    "    def __init__(self, out_dir, \n",
    "                 gene_name: str,\n",
    "                 raw_df: pd.DataFrame= None,\n",
    "                 tissue_position_df: pd.DataFrame= None,\n",
    "                tissue_grouped_df: pd.DataFrame= None,\n",
    "                tissue_aspecific_df: pd.DataFrame= None):\n",
    "\n",
    "        self.gene_name= gene_name\n",
    "        self.out_dir= out_dir   \n",
    "        self.raw= raw_df\n",
    "        self.tissue_grouped= tissue_grouped_df\n",
    "        self.tissue_position= tissue_position_df\n",
    "        self.tissue_aspecific= tissue_aspecific_df\n",
    "    \n",
    "    def export(self, **kwargs):\n",
    "        \"valid: raw, tissue_grouped, tissue_position, tissue_aspecific\"\n",
    "        for key in kwargs:\n",
    "            df= getattr(self, key)\n",
    "            if df is not None:\n",
    "                 df.to_csv(os.path.join(self.out_dir, f'df_{self.gene_name}_{key}.tsv'), sep='\\t', index=False)\n",
    "            else:\n",
    "                 raise ValueError(f\"self.{key} was not computed. Please compute it before exporting.\")\n",
    "                    "
   ]
  },
  {
   "cell_type": "markdown",
   "id": "7b9b060d-0806-4b1c-a5ec-39266aa4a75f",
   "metadata": {},
   "source": [
    "# EGFR"
   ]
  },
  {
   "cell_type": "code",
   "execution_count": 10,
   "id": "41d09f89-c19b-4ab8-b339-13d202465ec6",
   "metadata": {},
   "outputs": [
    {
     "name": "stdout",
     "output_type": "stream",
     "text": [
      "EGFR\n",
      "Fetching Cosmic mutations..\n",
      "911 mutations found\n",
      "Execution time: 64.45 seconds\n"
     ]
    }
   ],
   "source": [
    "pre_processer = PreProcesser(work_dir=work_dir, out_dir=out_dir,\n",
    "                                cosmic_classification=cosmic_classification,\n",
    "                                cosmic_transcripts=cosmic_transcripts,\n",
    "                                cosmic_genome_screens_mutant_tsv=cosmic_genome_screens_mutant_tsv,\n",
    "                                clinvar_variant_summary_txt=clinvar_variant_summary_txt,\n",
    "                                gene_name=\"EGFR\"\n",
    "                               )\n",
    "print (pre_processer.gene_name)\n",
    "pre_processer.fetch_mutations(cosmic=True)"
   ]
  },
  {
   "cell_type": "code",
   "execution_count": 41,
   "id": "9e82950e-31ef-4eca-b7a4-1d48d95b4583",
   "metadata": {},
   "outputs": [
    {
     "name": "stdout",
     "output_type": "stream",
     "text": [
      "Filtered for histology or primary istology containing: astrocytoma\n",
      "Resulting mutation count: 212\n",
      "Created tissue position dataframe\n",
      "Created tissue grouped dataframe\n",
      "Created tissue aspecific dataframe\n"
     ]
    }
   ],
   "source": [
    "processer= Processer(raw_df=pre_processer.cosmic_raw)\n",
    "processer.process_mutations(tissue_position=True, tissue_grouped=True, tissue_aspecific= True, filter_by_histology=[\"astrocytoma\"], raw=True)"
   ]
  },
  {
   "cell_type": "code",
   "execution_count": 42,
   "id": "22ccaa6b-fc5a-4347-a7d2-499fdbb7e68b",
   "metadata": {},
   "outputs": [
    {
     "data": {
      "text/html": [
       "<div>\n",
       "<style scoped>\n",
       "    .dataframe tbody tr th:only-of-type {\n",
       "        vertical-align: middle;\n",
       "    }\n",
       "\n",
       "    .dataframe tbody tr th {\n",
       "        vertical-align: top;\n",
       "    }\n",
       "\n",
       "    .dataframe thead th {\n",
       "        text-align: right;\n",
       "    }\n",
       "</style>\n",
       "<table border=\"1\" class=\"dataframe\">\n",
       "  <thead>\n",
       "    <tr style=\"text-align: right;\">\n",
       "      <th></th>\n",
       "      <th>GENE_SYMBOL</th>\n",
       "      <th>TRANSCRIPT_ACCESSION</th>\n",
       "      <th>COSMIC_PHENOTYPE_ID</th>\n",
       "      <th>GENOMIC_MUTATION_ID</th>\n",
       "      <th>MUTATION_ID</th>\n",
       "      <th>MUTATION_DESCRIPTION</th>\n",
       "      <th>CHROMOSOME</th>\n",
       "      <th>GENOME_START</th>\n",
       "      <th>GENOME_STOP</th>\n",
       "      <th>MUTATION_SOMATIC_STATUS</th>\n",
       "      <th>WT_AA</th>\n",
       "      <th>MUTATION_POSITION</th>\n",
       "      <th>MUTATED_AA</th>\n",
       "      <th>PRIMARY_SITE</th>\n",
       "      <th>SITE_SUBTYPE_1</th>\n",
       "      <th>PRIMARY_HISTOLOGY</th>\n",
       "      <th>HISTOLOGY_SUBTYPE_1</th>\n",
       "      <th>HISTOLOGY_SUBTYPE_2</th>\n",
       "    </tr>\n",
       "  </thead>\n",
       "  <tbody>\n",
       "    <tr>\n",
       "      <th>729</th>\n",
       "      <td>EGFR</td>\n",
       "      <td>ENST00000275493.2</td>\n",
       "      <td>COSO28245232</td>\n",
       "      <td>COSV99286086</td>\n",
       "      <td>24047475</td>\n",
       "      <td>missense_variant</td>\n",
       "      <td>7</td>\n",
       "      <td>55210023</td>\n",
       "      <td>55210023</td>\n",
       "      <td>Confirmed somatic variant</td>\n",
       "      <td>Glu</td>\n",
       "      <td>45</td>\n",
       "      <td>Lys</td>\n",
       "      <td>central_nervous_system</td>\n",
       "      <td>brain</td>\n",
       "      <td>glioma</td>\n",
       "      <td>astrocytoma_Grade_IV</td>\n",
       "      <td>glioblastoma_multiforme</td>\n",
       "    </tr>\n",
       "    <tr>\n",
       "      <th>186</th>\n",
       "      <td>EGFR</td>\n",
       "      <td>ENST00000275493.2</td>\n",
       "      <td>COSO28245232</td>\n",
       "      <td>COSV51846086</td>\n",
       "      <td>24024984</td>\n",
       "      <td>missense_variant</td>\n",
       "      <td>7</td>\n",
       "      <td>55210068</td>\n",
       "      <td>55210068</td>\n",
       "      <td>Confirmed somatic variant</td>\n",
       "      <td>Val</td>\n",
       "      <td>60</td>\n",
       "      <td>Met</td>\n",
       "      <td>central_nervous_system</td>\n",
       "      <td>brain</td>\n",
       "      <td>glioma</td>\n",
       "      <td>astrocytoma_Grade_IV</td>\n",
       "      <td>glioblastoma_multiforme</td>\n",
       "    </tr>\n",
       "    <tr>\n",
       "      <th>899</th>\n",
       "      <td>EGFR</td>\n",
       "      <td>ENST00000275493.2</td>\n",
       "      <td>COSO28245232</td>\n",
       "      <td>COSV51765770</td>\n",
       "      <td>24010584</td>\n",
       "      <td>missense_variant</td>\n",
       "      <td>7</td>\n",
       "      <td>55210075</td>\n",
       "      <td>55210075</td>\n",
       "      <td>Reported in another cancer sample as somatic</td>\n",
       "      <td>Leu</td>\n",
       "      <td>62</td>\n",
       "      <td>Arg</td>\n",
       "      <td>central_nervous_system</td>\n",
       "      <td>brain</td>\n",
       "      <td>glioma</td>\n",
       "      <td>astrocytoma_Grade_IV</td>\n",
       "      <td>glioblastoma_multiforme</td>\n",
       "    </tr>\n",
       "    <tr>\n",
       "      <th>902</th>\n",
       "      <td>EGFR</td>\n",
       "      <td>ENST00000275493.2</td>\n",
       "      <td>COSO28245232</td>\n",
       "      <td>COSV51765770</td>\n",
       "      <td>24010584</td>\n",
       "      <td>missense_variant</td>\n",
       "      <td>7</td>\n",
       "      <td>55210075</td>\n",
       "      <td>55210075</td>\n",
       "      <td>Confirmed somatic variant</td>\n",
       "      <td>Leu</td>\n",
       "      <td>62</td>\n",
       "      <td>Arg</td>\n",
       "      <td>central_nervous_system</td>\n",
       "      <td>brain</td>\n",
       "      <td>glioma</td>\n",
       "      <td>astrocytoma_Grade_IV</td>\n",
       "      <td>glioblastoma_multiforme</td>\n",
       "    </tr>\n",
       "    <tr>\n",
       "      <th>904</th>\n",
       "      <td>EGFR</td>\n",
       "      <td>ENST00000275493.2</td>\n",
       "      <td>COSO60055232</td>\n",
       "      <td>COSV51765770</td>\n",
       "      <td>24010584</td>\n",
       "      <td>missense_variant</td>\n",
       "      <td>7</td>\n",
       "      <td>55210075</td>\n",
       "      <td>55210075</td>\n",
       "      <td>Confirmed somatic variant</td>\n",
       "      <td>Leu</td>\n",
       "      <td>62</td>\n",
       "      <td>Arg</td>\n",
       "      <td>central_nervous_system</td>\n",
       "      <td>thalamus</td>\n",
       "      <td>glioma</td>\n",
       "      <td>astrocytoma_Grade_IV</td>\n",
       "      <td>glioblastoma_multiforme</td>\n",
       "    </tr>\n",
       "    <tr>\n",
       "      <th>...</th>\n",
       "      <td>...</td>\n",
       "      <td>...</td>\n",
       "      <td>...</td>\n",
       "      <td>...</td>\n",
       "      <td>...</td>\n",
       "      <td>...</td>\n",
       "      <td>...</td>\n",
       "      <td>...</td>\n",
       "      <td>...</td>\n",
       "      <td>...</td>\n",
       "      <td>...</td>\n",
       "      <td>...</td>\n",
       "      <td>...</td>\n",
       "      <td>...</td>\n",
       "      <td>...</td>\n",
       "      <td>...</td>\n",
       "      <td>...</td>\n",
       "      <td>...</td>\n",
       "    </tr>\n",
       "    <tr>\n",
       "      <th>68</th>\n",
       "      <td>EGFR</td>\n",
       "      <td>ENST00000275493.2</td>\n",
       "      <td>COSO28245232</td>\n",
       "      <td>COSV51769451</td>\n",
       "      <td>24038771</td>\n",
       "      <td>missense_variant</td>\n",
       "      <td>7</td>\n",
       "      <td>55259548</td>\n",
       "      <td>55259548</td>\n",
       "      <td>Confirmed somatic variant</td>\n",
       "      <td>Tyr</td>\n",
       "      <td>869</td>\n",
       "      <td>Cys</td>\n",
       "      <td>central_nervous_system</td>\n",
       "      <td>brain</td>\n",
       "      <td>glioma</td>\n",
       "      <td>astrocytoma_Grade_IV</td>\n",
       "      <td>glioblastoma_multiforme</td>\n",
       "    </tr>\n",
       "    <tr>\n",
       "      <th>841</th>\n",
       "      <td>EGFR</td>\n",
       "      <td>ENST00000275493.2</td>\n",
       "      <td>COSO28245232</td>\n",
       "      <td>COSV51772666</td>\n",
       "      <td>24029777</td>\n",
       "      <td>missense_variant,splice_region_variant</td>\n",
       "      <td>7</td>\n",
       "      <td>55268881</td>\n",
       "      <td>55268881</td>\n",
       "      <td>Confirmed somatic variant</td>\n",
       "      <td>Gly</td>\n",
       "      <td>983</td>\n",
       "      <td>Arg</td>\n",
       "      <td>central_nervous_system</td>\n",
       "      <td>brain</td>\n",
       "      <td>glioma</td>\n",
       "      <td>astrocytoma_Grade_IV</td>\n",
       "      <td>glioblastoma_multiforme</td>\n",
       "    </tr>\n",
       "    <tr>\n",
       "      <th>674</th>\n",
       "      <td>EGFR</td>\n",
       "      <td>ENST00000275493.2</td>\n",
       "      <td>COSO28245232</td>\n",
       "      <td>COSV99288542</td>\n",
       "      <td>24080307</td>\n",
       "      <td>missense_variant</td>\n",
       "      <td>7</td>\n",
       "      <td>55268966</td>\n",
       "      <td>55268966</td>\n",
       "      <td>Confirmed somatic variant</td>\n",
       "      <td>Val</td>\n",
       "      <td>1011</td>\n",
       "      <td>Glu</td>\n",
       "      <td>central_nervous_system</td>\n",
       "      <td>brain</td>\n",
       "      <td>glioma</td>\n",
       "      <td>astrocytoma_Grade_IV</td>\n",
       "      <td>glioblastoma_multiforme</td>\n",
       "    </tr>\n",
       "    <tr>\n",
       "      <th>635</th>\n",
       "      <td>EGFR</td>\n",
       "      <td>ENST00000275493.2</td>\n",
       "      <td>COSO28245232</td>\n",
       "      <td>COSV99286091</td>\n",
       "      <td>24047484</td>\n",
       "      <td>missense_variant</td>\n",
       "      <td>7</td>\n",
       "      <td>55269042</td>\n",
       "      <td>55269042</td>\n",
       "      <td>Confirmed somatic variant</td>\n",
       "      <td>Ser</td>\n",
       "      <td>1036</td>\n",
       "      <td>Arg</td>\n",
       "      <td>central_nervous_system</td>\n",
       "      <td>brain</td>\n",
       "      <td>glioma</td>\n",
       "      <td>astrocytoma_Grade_IV</td>\n",
       "      <td>glioblastoma_multiforme</td>\n",
       "    </tr>\n",
       "    <tr>\n",
       "      <th>402</th>\n",
       "      <td>EGFR</td>\n",
       "      <td>ENST00000275493.2</td>\n",
       "      <td>COSO28245232</td>\n",
       "      <td>COSV51808309</td>\n",
       "      <td>24063819</td>\n",
       "      <td>missense_variant</td>\n",
       "      <td>7</td>\n",
       "      <td>55273227</td>\n",
       "      <td>55273227</td>\n",
       "      <td>Confirmed somatic variant</td>\n",
       "      <td>Asn</td>\n",
       "      <td>1184</td>\n",
       "      <td>Asp</td>\n",
       "      <td>central_nervous_system</td>\n",
       "      <td>brain</td>\n",
       "      <td>glioma</td>\n",
       "      <td>astrocytoma_Grade_IV</td>\n",
       "      <td>glioblastoma_multiforme</td>\n",
       "    </tr>\n",
       "  </tbody>\n",
       "</table>\n",
       "<p>212 rows × 18 columns</p>\n",
       "</div>"
      ],
      "text/plain": [
       "    GENE_SYMBOL TRANSCRIPT_ACCESSION COSMIC_PHENOTYPE_ID GENOMIC_MUTATION_ID  \\\n",
       "729        EGFR    ENST00000275493.2        COSO28245232        COSV99286086   \n",
       "186        EGFR    ENST00000275493.2        COSO28245232        COSV51846086   \n",
       "899        EGFR    ENST00000275493.2        COSO28245232        COSV51765770   \n",
       "902        EGFR    ENST00000275493.2        COSO28245232        COSV51765770   \n",
       "904        EGFR    ENST00000275493.2        COSO60055232        COSV51765770   \n",
       "..          ...                  ...                 ...                 ...   \n",
       "68         EGFR    ENST00000275493.2        COSO28245232        COSV51769451   \n",
       "841        EGFR    ENST00000275493.2        COSO28245232        COSV51772666   \n",
       "674        EGFR    ENST00000275493.2        COSO28245232        COSV99288542   \n",
       "635        EGFR    ENST00000275493.2        COSO28245232        COSV99286091   \n",
       "402        EGFR    ENST00000275493.2        COSO28245232        COSV51808309   \n",
       "\n",
       "     MUTATION_ID                    MUTATION_DESCRIPTION CHROMOSOME  \\\n",
       "729     24047475                        missense_variant          7   \n",
       "186     24024984                        missense_variant          7   \n",
       "899     24010584                        missense_variant          7   \n",
       "902     24010584                        missense_variant          7   \n",
       "904     24010584                        missense_variant          7   \n",
       "..           ...                                     ...        ...   \n",
       "68      24038771                        missense_variant          7   \n",
       "841     24029777  missense_variant,splice_region_variant          7   \n",
       "674     24080307                        missense_variant          7   \n",
       "635     24047484                        missense_variant          7   \n",
       "402     24063819                        missense_variant          7   \n",
       "\n",
       "     GENOME_START  GENOME_STOP                       MUTATION_SOMATIC_STATUS  \\\n",
       "729      55210023     55210023                     Confirmed somatic variant   \n",
       "186      55210068     55210068                     Confirmed somatic variant   \n",
       "899      55210075     55210075  Reported in another cancer sample as somatic   \n",
       "902      55210075     55210075                     Confirmed somatic variant   \n",
       "904      55210075     55210075                     Confirmed somatic variant   \n",
       "..            ...          ...                                           ...   \n",
       "68       55259548     55259548                     Confirmed somatic variant   \n",
       "841      55268881     55268881                     Confirmed somatic variant   \n",
       "674      55268966     55268966                     Confirmed somatic variant   \n",
       "635      55269042     55269042                     Confirmed somatic variant   \n",
       "402      55273227     55273227                     Confirmed somatic variant   \n",
       "\n",
       "    WT_AA  MUTATION_POSITION MUTATED_AA            PRIMARY_SITE  \\\n",
       "729   Glu                 45        Lys  central_nervous_system   \n",
       "186   Val                 60        Met  central_nervous_system   \n",
       "899   Leu                 62        Arg  central_nervous_system   \n",
       "902   Leu                 62        Arg  central_nervous_system   \n",
       "904   Leu                 62        Arg  central_nervous_system   \n",
       "..    ...                ...        ...                     ...   \n",
       "68    Tyr                869        Cys  central_nervous_system   \n",
       "841   Gly                983        Arg  central_nervous_system   \n",
       "674   Val               1011        Glu  central_nervous_system   \n",
       "635   Ser               1036        Arg  central_nervous_system   \n",
       "402   Asn               1184        Asp  central_nervous_system   \n",
       "\n",
       "    SITE_SUBTYPE_1 PRIMARY_HISTOLOGY   HISTOLOGY_SUBTYPE_1  \\\n",
       "729          brain            glioma  astrocytoma_Grade_IV   \n",
       "186          brain            glioma  astrocytoma_Grade_IV   \n",
       "899          brain            glioma  astrocytoma_Grade_IV   \n",
       "902          brain            glioma  astrocytoma_Grade_IV   \n",
       "904       thalamus            glioma  astrocytoma_Grade_IV   \n",
       "..             ...               ...                   ...   \n",
       "68           brain            glioma  astrocytoma_Grade_IV   \n",
       "841          brain            glioma  astrocytoma_Grade_IV   \n",
       "674          brain            glioma  astrocytoma_Grade_IV   \n",
       "635          brain            glioma  astrocytoma_Grade_IV   \n",
       "402          brain            glioma  astrocytoma_Grade_IV   \n",
       "\n",
       "         HISTOLOGY_SUBTYPE_2  \n",
       "729  glioblastoma_multiforme  \n",
       "186  glioblastoma_multiforme  \n",
       "899  glioblastoma_multiforme  \n",
       "902  glioblastoma_multiforme  \n",
       "904  glioblastoma_multiforme  \n",
       "..                       ...  \n",
       "68   glioblastoma_multiforme  \n",
       "841  glioblastoma_multiforme  \n",
       "674  glioblastoma_multiforme  \n",
       "635  glioblastoma_multiforme  \n",
       "402  glioblastoma_multiforme  \n",
       "\n",
       "[212 rows x 18 columns]"
      ]
     },
     "execution_count": 42,
     "metadata": {},
     "output_type": "execute_result"
    }
   ],
   "source": [
    "processer.raw_df"
   ]
  },
  {
   "cell_type": "code",
   "execution_count": 91,
   "id": "ad4dadf3-09c7-4f50-b7a1-4f7cd8ce477b",
   "metadata": {},
   "outputs": [],
   "source": [
    "#visualizer=Visualizer(pdb=egfr_pdb, shift= 24, \n",
    "#                      pymol_executable= pymol_executable, \n",
    "#                      tissue_position_df=processer.tissue_position_df,\n",
    "#                      radius_divider= 50)\n",
    "#visualizer.visualize(tumor_frequency=True)"
   ]
  },
  {
   "cell_type": "code",
   "execution_count": 153,
   "id": "4b81dd6f-79c6-4cb1-8bc3-4fcb58f00951",
   "metadata": {},
   "outputs": [],
   "source": [
    "exporter=Exporter(out_dir=out_dir,\n",
    "                  gene_name= pre_processer.gene_name,\n",
    "                  raw_df= pre_processer.cosmic_raw,\n",
    "                  tissue_position_df= processer.tissue_position_df,\n",
    "                 tissue_aspecific_df= processer.tissue_aspecific_df,\n",
    "                 tissue_grouped_df= processer.tissue_grouped_df)\n",
    "exporter.export(raw=True, tissue_position=True, tissue_grouped=True, tissue_aspecific=True)"
   ]
  },
  {
   "cell_type": "markdown",
   "id": "048d83be-33dd-42d5-88db-18a397d80bba",
   "metadata": {},
   "source": [
    "# 5-LOX"
   ]
  },
  {
   "cell_type": "code",
   "execution_count": 20,
   "id": "8bc0f14a-8cd6-419c-978d-04c7063ffbf7",
   "metadata": {},
   "outputs": [
    {
     "name": "stdout",
     "output_type": "stream",
     "text": [
      "ALOX5\n"
     ]
    },
    {
     "ename": "KeyboardInterrupt",
     "evalue": "",
     "output_type": "error",
     "traceback": [
      "\u001b[0;31m---------------------------------------------------------------------------\u001b[0m",
      "\u001b[0;31mKeyboardInterrupt\u001b[0m                         Traceback (most recent call last)",
      "Cell \u001b[0;32mIn[20], line 8\u001b[0m\n\u001b[1;32m      1\u001b[0m pre_processer \u001b[38;5;241m=\u001b[39m PreProcesser(work_dir\u001b[38;5;241m=\u001b[39mwork_dir, out_dir\u001b[38;5;241m=\u001b[39mout_dir,\n\u001b[1;32m      2\u001b[0m                                 cosmic_classification\u001b[38;5;241m=\u001b[39mcosmic_classification, \n\u001b[1;32m      3\u001b[0m                                 cosmic_genome_screens_mutant_tsv\u001b[38;5;241m=\u001b[39mcosmic_genome_screens_mutant_tsv,\n\u001b[1;32m      4\u001b[0m                                 clinvar_variant_summary_txt\u001b[38;5;241m=\u001b[39mclinvar_variant_summary_txt,\n\u001b[1;32m      5\u001b[0m                                 uniprot_id\u001b[38;5;241m=\u001b[39m\u001b[38;5;124m\"\u001b[39m\u001b[38;5;124mP09917\u001b[39m\u001b[38;5;124m\"\u001b[39m\n\u001b[1;32m      6\u001b[0m                                )\n\u001b[1;32m      7\u001b[0m \u001b[38;5;28mprint\u001b[39m (pre_processer\u001b[38;5;241m.\u001b[39mgene_name)\n\u001b[0;32m----> 8\u001b[0m \u001b[43mpre_processer\u001b[49m\u001b[38;5;241;43m.\u001b[39;49m\u001b[43mfetch_mutations\u001b[49m\u001b[43m(\u001b[49m\u001b[43mcosmic\u001b[49m\u001b[38;5;241;43m=\u001b[39;49m\u001b[38;5;28;43;01mTrue\u001b[39;49;00m\u001b[43m)\u001b[49m\n\u001b[1;32m      9\u001b[0m processer\u001b[38;5;241m=\u001b[39m Processer(raw_df\u001b[38;5;241m=\u001b[39mpre_processer\u001b[38;5;241m.\u001b[39mcosmic_raw)\n\u001b[1;32m     10\u001b[0m processer\u001b[38;5;241m.\u001b[39mprocess_mutations(tissue_position\u001b[38;5;241m=\u001b[39m\u001b[38;5;28;01mTrue\u001b[39;00m)\n",
      "Cell \u001b[0;32mIn[15], line 464\u001b[0m, in \u001b[0;36mPreProcesser.fetch_mutations\u001b[0;34m(self, **kwargs)\u001b[0m\n\u001b[1;32m    461\u001b[0m \u001b[38;5;28;01mdef\u001b[39;00m \u001b[38;5;21mfetch_mutations\u001b[39m(\u001b[38;5;28mself\u001b[39m, \u001b[38;5;241m*\u001b[39m\u001b[38;5;241m*\u001b[39mkwargs):\n\u001b[1;32m    462\u001b[0m     \u001b[38;5;66;03m#cosmic\u001b[39;00m\n\u001b[1;32m    463\u001b[0m     \u001b[38;5;28;01mif\u001b[39;00m \u001b[38;5;124m'\u001b[39m\u001b[38;5;124mcosmic\u001b[39m\u001b[38;5;124m'\u001b[39m \u001b[38;5;129;01min\u001b[39;00m kwargs \u001b[38;5;129;01mand\u001b[39;00m kwargs[\u001b[38;5;124m'\u001b[39m\u001b[38;5;124mcosmic\u001b[39m\u001b[38;5;124m'\u001b[39m]:\n\u001b[0;32m--> 464\u001b[0m         cosmic_df\u001b[38;5;241m=\u001b[39m\u001b[38;5;28;43mself\u001b[39;49m\u001b[38;5;241;43m.\u001b[39;49m\u001b[43m_get_cosmic_mutations\u001b[49m\u001b[43m(\u001b[49m\u001b[43m)\u001b[49m\n\u001b[1;32m    465\u001b[0m         \u001b[38;5;28mself\u001b[39m\u001b[38;5;241m.\u001b[39mcosmic_raw\u001b[38;5;241m=\u001b[39mcosmic_df\n\u001b[1;32m    467\u001b[0m     \u001b[38;5;66;03m#clinvar\u001b[39;00m\n",
      "Cell \u001b[0;32mIn[15], line 302\u001b[0m, in \u001b[0;36mPreProcesser._get_cosmic_mutations\u001b[0;34m(self, **kwargs)\u001b[0m\n\u001b[1;32m    298\u001b[0m df_re \u001b[38;5;241m=\u001b[39m df_re\u001b[38;5;241m.\u001b[39mdrop(\u001b[38;5;124m\"\u001b[39m\u001b[38;5;124mMUTATION_AA\u001b[39m\u001b[38;5;124m\"\u001b[39m, axis\u001b[38;5;241m=\u001b[39m\u001b[38;5;241m1\u001b[39m)\n\u001b[1;32m    300\u001b[0m \u001b[38;5;66;03m#now we use compute() which finally does the computation (before all actions were \"lazy\" computations\u001b[39;00m\n\u001b[1;32m    301\u001b[0m \u001b[38;5;66;03m# so we dont actually need the RAM. now we do it though.)\u001b[39;00m\n\u001b[0;32m--> 302\u001b[0m cosmic_df \u001b[38;5;241m=\u001b[39m \u001b[43mdf_re\u001b[49m\u001b[38;5;241;43m.\u001b[39;49m\u001b[43mcompute\u001b[49m\u001b[43m(\u001b[49m\u001b[43m)\u001b[49m\n\u001b[1;32m    304\u001b[0m cosmic_df[\u001b[38;5;124m\"\u001b[39m\u001b[38;5;124mGENOME_START\u001b[39m\u001b[38;5;124m\"\u001b[39m] \u001b[38;5;241m=\u001b[39m cosmic_df[\u001b[38;5;124m\"\u001b[39m\u001b[38;5;124mGENOME_START\u001b[39m\u001b[38;5;124m\"\u001b[39m]\u001b[38;5;241m.\u001b[39mastype(\u001b[38;5;28mint\u001b[39m)\n\u001b[1;32m    305\u001b[0m cosmic_df[\u001b[38;5;124m\"\u001b[39m\u001b[38;5;124mGENOME_STOP\u001b[39m\u001b[38;5;124m\"\u001b[39m] \u001b[38;5;241m=\u001b[39m cosmic_df[\u001b[38;5;124m\"\u001b[39m\u001b[38;5;124mGENOME_STOP\u001b[39m\u001b[38;5;124m\"\u001b[39m]\u001b[38;5;241m.\u001b[39mastype(\u001b[38;5;28mint\u001b[39m)\n",
      "File \u001b[0;32m/opt/homebrew/Caskroom/miniforge/base/envs/env_mutclust/lib/python3.10/site-packages/dask_expr/_collection.py:452\u001b[0m, in \u001b[0;36mFrameBase.compute\u001b[0;34m(self, fuse, **kwargs)\u001b[0m\n\u001b[1;32m    450\u001b[0m     out \u001b[38;5;241m=\u001b[39m out\u001b[38;5;241m.\u001b[39mrepartition(npartitions\u001b[38;5;241m=\u001b[39m\u001b[38;5;241m1\u001b[39m)\n\u001b[1;32m    451\u001b[0m out \u001b[38;5;241m=\u001b[39m out\u001b[38;5;241m.\u001b[39moptimize(fuse\u001b[38;5;241m=\u001b[39mfuse)\n\u001b[0;32m--> 452\u001b[0m \u001b[38;5;28;01mreturn\u001b[39;00m \u001b[43mDaskMethodsMixin\u001b[49m\u001b[38;5;241;43m.\u001b[39;49m\u001b[43mcompute\u001b[49m\u001b[43m(\u001b[49m\u001b[43mout\u001b[49m\u001b[43m,\u001b[49m\u001b[43m \u001b[49m\u001b[38;5;241;43m*\u001b[39;49m\u001b[38;5;241;43m*\u001b[39;49m\u001b[43mkwargs\u001b[49m\u001b[43m)\u001b[49m\n",
      "File \u001b[0;32m/opt/homebrew/Caskroom/miniforge/base/envs/env_mutclust/lib/python3.10/site-packages/dask/base.py:375\u001b[0m, in \u001b[0;36mDaskMethodsMixin.compute\u001b[0;34m(self, **kwargs)\u001b[0m\n\u001b[1;32m    351\u001b[0m \u001b[38;5;28;01mdef\u001b[39;00m \u001b[38;5;21mcompute\u001b[39m(\u001b[38;5;28mself\u001b[39m, \u001b[38;5;241m*\u001b[39m\u001b[38;5;241m*\u001b[39mkwargs):\n\u001b[1;32m    352\u001b[0m \u001b[38;5;250m    \u001b[39m\u001b[38;5;124;03m\"\"\"Compute this dask collection\u001b[39;00m\n\u001b[1;32m    353\u001b[0m \n\u001b[1;32m    354\u001b[0m \u001b[38;5;124;03m    This turns a lazy Dask collection into its in-memory equivalent.\u001b[39;00m\n\u001b[0;32m   (...)\u001b[0m\n\u001b[1;32m    373\u001b[0m \u001b[38;5;124;03m    dask.compute\u001b[39;00m\n\u001b[1;32m    374\u001b[0m \u001b[38;5;124;03m    \"\"\"\u001b[39;00m\n\u001b[0;32m--> 375\u001b[0m     (result,) \u001b[38;5;241m=\u001b[39m \u001b[43mcompute\u001b[49m\u001b[43m(\u001b[49m\u001b[38;5;28;43mself\u001b[39;49m\u001b[43m,\u001b[49m\u001b[43m \u001b[49m\u001b[43mtraverse\u001b[49m\u001b[38;5;241;43m=\u001b[39;49m\u001b[38;5;28;43;01mFalse\u001b[39;49;00m\u001b[43m,\u001b[49m\u001b[43m \u001b[49m\u001b[38;5;241;43m*\u001b[39;49m\u001b[38;5;241;43m*\u001b[39;49m\u001b[43mkwargs\u001b[49m\u001b[43m)\u001b[49m\n\u001b[1;32m    376\u001b[0m     \u001b[38;5;28;01mreturn\u001b[39;00m result\n",
      "File \u001b[0;32m/opt/homebrew/Caskroom/miniforge/base/envs/env_mutclust/lib/python3.10/site-packages/dask/base.py:661\u001b[0m, in \u001b[0;36mcompute\u001b[0;34m(traverse, optimize_graph, scheduler, get, *args, **kwargs)\u001b[0m\n\u001b[1;32m    658\u001b[0m     postcomputes\u001b[38;5;241m.\u001b[39mappend(x\u001b[38;5;241m.\u001b[39m__dask_postcompute__())\n\u001b[1;32m    660\u001b[0m \u001b[38;5;28;01mwith\u001b[39;00m shorten_traceback():\n\u001b[0;32m--> 661\u001b[0m     results \u001b[38;5;241m=\u001b[39m \u001b[43mschedule\u001b[49m\u001b[43m(\u001b[49m\u001b[43mdsk\u001b[49m\u001b[43m,\u001b[49m\u001b[43m \u001b[49m\u001b[43mkeys\u001b[49m\u001b[43m,\u001b[49m\u001b[43m \u001b[49m\u001b[38;5;241;43m*\u001b[39;49m\u001b[38;5;241;43m*\u001b[39;49m\u001b[43mkwargs\u001b[49m\u001b[43m)\u001b[49m\n\u001b[1;32m    663\u001b[0m \u001b[38;5;28;01mreturn\u001b[39;00m repack([f(r, \u001b[38;5;241m*\u001b[39ma) \u001b[38;5;28;01mfor\u001b[39;00m r, (f, a) \u001b[38;5;129;01min\u001b[39;00m \u001b[38;5;28mzip\u001b[39m(results, postcomputes)])\n",
      "File \u001b[0;32m/opt/homebrew/Caskroom/miniforge/base/envs/env_mutclust/lib/python3.10/queue.py:171\u001b[0m, in \u001b[0;36mQueue.get\u001b[0;34m(self, block, timeout)\u001b[0m\n\u001b[1;32m    169\u001b[0m \u001b[38;5;28;01melif\u001b[39;00m timeout \u001b[38;5;129;01mis\u001b[39;00m \u001b[38;5;28;01mNone\u001b[39;00m:\n\u001b[1;32m    170\u001b[0m     \u001b[38;5;28;01mwhile\u001b[39;00m \u001b[38;5;129;01mnot\u001b[39;00m \u001b[38;5;28mself\u001b[39m\u001b[38;5;241m.\u001b[39m_qsize():\n\u001b[0;32m--> 171\u001b[0m         \u001b[38;5;28;43mself\u001b[39;49m\u001b[38;5;241;43m.\u001b[39;49m\u001b[43mnot_empty\u001b[49m\u001b[38;5;241;43m.\u001b[39;49m\u001b[43mwait\u001b[49m\u001b[43m(\u001b[49m\u001b[43m)\u001b[49m\n\u001b[1;32m    172\u001b[0m \u001b[38;5;28;01melif\u001b[39;00m timeout \u001b[38;5;241m<\u001b[39m \u001b[38;5;241m0\u001b[39m:\n\u001b[1;32m    173\u001b[0m     \u001b[38;5;28;01mraise\u001b[39;00m \u001b[38;5;167;01mValueError\u001b[39;00m(\u001b[38;5;124m\"\u001b[39m\u001b[38;5;124m'\u001b[39m\u001b[38;5;124mtimeout\u001b[39m\u001b[38;5;124m'\u001b[39m\u001b[38;5;124m must be a non-negative number\u001b[39m\u001b[38;5;124m\"\u001b[39m)\n",
      "File \u001b[0;32m/opt/homebrew/Caskroom/miniforge/base/envs/env_mutclust/lib/python3.10/threading.py:320\u001b[0m, in \u001b[0;36mCondition.wait\u001b[0;34m(self, timeout)\u001b[0m\n\u001b[1;32m    318\u001b[0m \u001b[38;5;28;01mtry\u001b[39;00m:    \u001b[38;5;66;03m# restore state no matter what (e.g., KeyboardInterrupt)\u001b[39;00m\n\u001b[1;32m    319\u001b[0m     \u001b[38;5;28;01mif\u001b[39;00m timeout \u001b[38;5;129;01mis\u001b[39;00m \u001b[38;5;28;01mNone\u001b[39;00m:\n\u001b[0;32m--> 320\u001b[0m         \u001b[43mwaiter\u001b[49m\u001b[38;5;241;43m.\u001b[39;49m\u001b[43macquire\u001b[49m\u001b[43m(\u001b[49m\u001b[43m)\u001b[49m\n\u001b[1;32m    321\u001b[0m         gotit \u001b[38;5;241m=\u001b[39m \u001b[38;5;28;01mTrue\u001b[39;00m\n\u001b[1;32m    322\u001b[0m     \u001b[38;5;28;01melse\u001b[39;00m:\n",
      "\u001b[0;31mKeyboardInterrupt\u001b[0m: "
     ]
    }
   ],
   "source": [
    "pre_processer = PreProcesser(work_dir=work_dir, out_dir=out_dir,\n",
    "                                cosmic_classification=cosmic_classification, \n",
    "                                cosmic_genome_screens_mutant_tsv=cosmic_genome_screens_mutant_tsv,\n",
    "                                clinvar_variant_summary_txt=clinvar_variant_summary_txt,\n",
    "                                uniprot_id=\"P09917\"\n",
    "                               )\n",
    "print (pre_processer.gene_name)\n",
    "pre_processer.fetch_mutations(cosmic=True)\n",
    "processer= Processer(raw_df=pre_processer.cosmic_raw)\n",
    "processer.process_mutations(tissue_position=True)\n",
    "visualizer=Visualizer(pdb=lox5_pdb, shift= 0, \n",
    "                      pymol_executable= pymol_executable, \n",
    "                      tissue_position_df=processer.tissue_position_df,\n",
    "                     radius_divider=5)\n",
    "\n",
    "exporter=Exporter(out_dir=out_dir,\n",
    "                  gene_name= pre_processer.gene_name,\n",
    "                  raw_df= pre_processer.cosmic_raw,\n",
    "                 tissue_aspecific_df= processer.tissue_aspecific_df,\n",
    "                 tissue_grouped_df= processer.tissue_grouped_df)\n",
    "\n",
    "visualizer.visualize(tumor_frequency=True)"
   ]
  },
  {
   "cell_type": "markdown",
   "id": "4bb4376a-38fe-4c15-b97d-895a57a45ae7",
   "metadata": {
    "jp-MarkdownHeadingCollapsed": true
   },
   "source": [
    "# Plotting Class"
   ]
  },
  {
   "cell_type": "code",
   "execution_count": 23,
   "id": "28e9214e-c752-48f3-bde2-a3e13c4cd384",
   "metadata": {
    "jupyter": {
     "source_hidden": true
    }
   },
   "outputs": [
    {
     "data": {
      "application/vnd.plotly.v1+json": {
       "config": {
        "plotlyServerURL": "https://plot.ly"
       },
       "data": [
        {
         "domain": {
          "x": [
           0,
           1
          ],
          "y": [
           0,
           1
          ]
         },
         "hovertemplate": "PRIMARY_SITE=%{label}<br>COUNT_MUTATION_IDs=%{value}<extra></extra>",
         "labels": [
          "NS",
          "adrenal_gland",
          "biliary_tract",
          "breast",
          "central_nervous_system",
          "cervix",
          "endometrium",
          "haematopoietic_and_lymphoid_tissue",
          "kidney",
          "large_intestine",
          "liver",
          "lung",
          "oesophagus",
          "ovary",
          "pancreas",
          "prostate",
          "skin",
          "small_intestine",
          "soft_tissue",
          "stomach",
          "testis",
          "thyroid",
          "upper_aerodigestive_tract",
          "urinary_tract"
         ],
         "legendgroup": "",
         "name": "",
         "showlegend": true,
         "textinfo": "none",
         "type": "pie",
         "values": [
          16,
          2,
          3,
          6,
          8,
          6,
          35,
          12,
          10,
          84,
          16,
          75,
          12,
          2,
          10,
          8,
          161,
          2,
          3,
          36,
          2,
          13,
          16,
          12
         ]
        }
       ],
       "layout": {
        "height": 600,
        "legend": {
         "tracegroupgap": 0
        },
        "template": {
         "data": {
          "bar": [
           {
            "error_x": {
             "color": "#2a3f5f"
            },
            "error_y": {
             "color": "#2a3f5f"
            },
            "marker": {
             "line": {
              "color": "#E5ECF6",
              "width": 0.5
             },
             "pattern": {
              "fillmode": "overlay",
              "size": 10,
              "solidity": 0.2
             }
            },
            "type": "bar"
           }
          ],
          "barpolar": [
           {
            "marker": {
             "line": {
              "color": "#E5ECF6",
              "width": 0.5
             },
             "pattern": {
              "fillmode": "overlay",
              "size": 10,
              "solidity": 0.2
             }
            },
            "type": "barpolar"
           }
          ],
          "carpet": [
           {
            "aaxis": {
             "endlinecolor": "#2a3f5f",
             "gridcolor": "white",
             "linecolor": "white",
             "minorgridcolor": "white",
             "startlinecolor": "#2a3f5f"
            },
            "baxis": {
             "endlinecolor": "#2a3f5f",
             "gridcolor": "white",
             "linecolor": "white",
             "minorgridcolor": "white",
             "startlinecolor": "#2a3f5f"
            },
            "type": "carpet"
           }
          ],
          "choropleth": [
           {
            "colorbar": {
             "outlinewidth": 0,
             "ticks": ""
            },
            "type": "choropleth"
           }
          ],
          "contour": [
           {
            "colorbar": {
             "outlinewidth": 0,
             "ticks": ""
            },
            "colorscale": [
             [
              0,
              "#0d0887"
             ],
             [
              0.1111111111111111,
              "#46039f"
             ],
             [
              0.2222222222222222,
              "#7201a8"
             ],
             [
              0.3333333333333333,
              "#9c179e"
             ],
             [
              0.4444444444444444,
              "#bd3786"
             ],
             [
              0.5555555555555556,
              "#d8576b"
             ],
             [
              0.6666666666666666,
              "#ed7953"
             ],
             [
              0.7777777777777778,
              "#fb9f3a"
             ],
             [
              0.8888888888888888,
              "#fdca26"
             ],
             [
              1,
              "#f0f921"
             ]
            ],
            "type": "contour"
           }
          ],
          "contourcarpet": [
           {
            "colorbar": {
             "outlinewidth": 0,
             "ticks": ""
            },
            "type": "contourcarpet"
           }
          ],
          "heatmap": [
           {
            "colorbar": {
             "outlinewidth": 0,
             "ticks": ""
            },
            "colorscale": [
             [
              0,
              "#0d0887"
             ],
             [
              0.1111111111111111,
              "#46039f"
             ],
             [
              0.2222222222222222,
              "#7201a8"
             ],
             [
              0.3333333333333333,
              "#9c179e"
             ],
             [
              0.4444444444444444,
              "#bd3786"
             ],
             [
              0.5555555555555556,
              "#d8576b"
             ],
             [
              0.6666666666666666,
              "#ed7953"
             ],
             [
              0.7777777777777778,
              "#fb9f3a"
             ],
             [
              0.8888888888888888,
              "#fdca26"
             ],
             [
              1,
              "#f0f921"
             ]
            ],
            "type": "heatmap"
           }
          ],
          "heatmapgl": [
           {
            "colorbar": {
             "outlinewidth": 0,
             "ticks": ""
            },
            "colorscale": [
             [
              0,
              "#0d0887"
             ],
             [
              0.1111111111111111,
              "#46039f"
             ],
             [
              0.2222222222222222,
              "#7201a8"
             ],
             [
              0.3333333333333333,
              "#9c179e"
             ],
             [
              0.4444444444444444,
              "#bd3786"
             ],
             [
              0.5555555555555556,
              "#d8576b"
             ],
             [
              0.6666666666666666,
              "#ed7953"
             ],
             [
              0.7777777777777778,
              "#fb9f3a"
             ],
             [
              0.8888888888888888,
              "#fdca26"
             ],
             [
              1,
              "#f0f921"
             ]
            ],
            "type": "heatmapgl"
           }
          ],
          "histogram": [
           {
            "marker": {
             "pattern": {
              "fillmode": "overlay",
              "size": 10,
              "solidity": 0.2
             }
            },
            "type": "histogram"
           }
          ],
          "histogram2d": [
           {
            "colorbar": {
             "outlinewidth": 0,
             "ticks": ""
            },
            "colorscale": [
             [
              0,
              "#0d0887"
             ],
             [
              0.1111111111111111,
              "#46039f"
             ],
             [
              0.2222222222222222,
              "#7201a8"
             ],
             [
              0.3333333333333333,
              "#9c179e"
             ],
             [
              0.4444444444444444,
              "#bd3786"
             ],
             [
              0.5555555555555556,
              "#d8576b"
             ],
             [
              0.6666666666666666,
              "#ed7953"
             ],
             [
              0.7777777777777778,
              "#fb9f3a"
             ],
             [
              0.8888888888888888,
              "#fdca26"
             ],
             [
              1,
              "#f0f921"
             ]
            ],
            "type": "histogram2d"
           }
          ],
          "histogram2dcontour": [
           {
            "colorbar": {
             "outlinewidth": 0,
             "ticks": ""
            },
            "colorscale": [
             [
              0,
              "#0d0887"
             ],
             [
              0.1111111111111111,
              "#46039f"
             ],
             [
              0.2222222222222222,
              "#7201a8"
             ],
             [
              0.3333333333333333,
              "#9c179e"
             ],
             [
              0.4444444444444444,
              "#bd3786"
             ],
             [
              0.5555555555555556,
              "#d8576b"
             ],
             [
              0.6666666666666666,
              "#ed7953"
             ],
             [
              0.7777777777777778,
              "#fb9f3a"
             ],
             [
              0.8888888888888888,
              "#fdca26"
             ],
             [
              1,
              "#f0f921"
             ]
            ],
            "type": "histogram2dcontour"
           }
          ],
          "mesh3d": [
           {
            "colorbar": {
             "outlinewidth": 0,
             "ticks": ""
            },
            "type": "mesh3d"
           }
          ],
          "parcoords": [
           {
            "line": {
             "colorbar": {
              "outlinewidth": 0,
              "ticks": ""
             }
            },
            "type": "parcoords"
           }
          ],
          "pie": [
           {
            "automargin": true,
            "type": "pie"
           }
          ],
          "scatter": [
           {
            "fillpattern": {
             "fillmode": "overlay",
             "size": 10,
             "solidity": 0.2
            },
            "type": "scatter"
           }
          ],
          "scatter3d": [
           {
            "line": {
             "colorbar": {
              "outlinewidth": 0,
              "ticks": ""
             }
            },
            "marker": {
             "colorbar": {
              "outlinewidth": 0,
              "ticks": ""
             }
            },
            "type": "scatter3d"
           }
          ],
          "scattercarpet": [
           {
            "marker": {
             "colorbar": {
              "outlinewidth": 0,
              "ticks": ""
             }
            },
            "type": "scattercarpet"
           }
          ],
          "scattergeo": [
           {
            "marker": {
             "colorbar": {
              "outlinewidth": 0,
              "ticks": ""
             }
            },
            "type": "scattergeo"
           }
          ],
          "scattergl": [
           {
            "marker": {
             "colorbar": {
              "outlinewidth": 0,
              "ticks": ""
             }
            },
            "type": "scattergl"
           }
          ],
          "scattermapbox": [
           {
            "marker": {
             "colorbar": {
              "outlinewidth": 0,
              "ticks": ""
             }
            },
            "type": "scattermapbox"
           }
          ],
          "scatterpolar": [
           {
            "marker": {
             "colorbar": {
              "outlinewidth": 0,
              "ticks": ""
             }
            },
            "type": "scatterpolar"
           }
          ],
          "scatterpolargl": [
           {
            "marker": {
             "colorbar": {
              "outlinewidth": 0,
              "ticks": ""
             }
            },
            "type": "scatterpolargl"
           }
          ],
          "scatterternary": [
           {
            "marker": {
             "colorbar": {
              "outlinewidth": 0,
              "ticks": ""
             }
            },
            "type": "scatterternary"
           }
          ],
          "surface": [
           {
            "colorbar": {
             "outlinewidth": 0,
             "ticks": ""
            },
            "colorscale": [
             [
              0,
              "#0d0887"
             ],
             [
              0.1111111111111111,
              "#46039f"
             ],
             [
              0.2222222222222222,
              "#7201a8"
             ],
             [
              0.3333333333333333,
              "#9c179e"
             ],
             [
              0.4444444444444444,
              "#bd3786"
             ],
             [
              0.5555555555555556,
              "#d8576b"
             ],
             [
              0.6666666666666666,
              "#ed7953"
             ],
             [
              0.7777777777777778,
              "#fb9f3a"
             ],
             [
              0.8888888888888888,
              "#fdca26"
             ],
             [
              1,
              "#f0f921"
             ]
            ],
            "type": "surface"
           }
          ],
          "table": [
           {
            "cells": {
             "fill": {
              "color": "#EBF0F8"
             },
             "line": {
              "color": "white"
             }
            },
            "header": {
             "fill": {
              "color": "#C8D4E3"
             },
             "line": {
              "color": "white"
             }
            },
            "type": "table"
           }
          ]
         },
         "layout": {
          "annotationdefaults": {
           "arrowcolor": "#2a3f5f",
           "arrowhead": 0,
           "arrowwidth": 1
          },
          "autotypenumbers": "strict",
          "coloraxis": {
           "colorbar": {
            "outlinewidth": 0,
            "ticks": ""
           }
          },
          "colorscale": {
           "diverging": [
            [
             0,
             "#8e0152"
            ],
            [
             0.1,
             "#c51b7d"
            ],
            [
             0.2,
             "#de77ae"
            ],
            [
             0.3,
             "#f1b6da"
            ],
            [
             0.4,
             "#fde0ef"
            ],
            [
             0.5,
             "#f7f7f7"
            ],
            [
             0.6,
             "#e6f5d0"
            ],
            [
             0.7,
             "#b8e186"
            ],
            [
             0.8,
             "#7fbc41"
            ],
            [
             0.9,
             "#4d9221"
            ],
            [
             1,
             "#276419"
            ]
           ],
           "sequential": [
            [
             0,
             "#0d0887"
            ],
            [
             0.1111111111111111,
             "#46039f"
            ],
            [
             0.2222222222222222,
             "#7201a8"
            ],
            [
             0.3333333333333333,
             "#9c179e"
            ],
            [
             0.4444444444444444,
             "#bd3786"
            ],
            [
             0.5555555555555556,
             "#d8576b"
            ],
            [
             0.6666666666666666,
             "#ed7953"
            ],
            [
             0.7777777777777778,
             "#fb9f3a"
            ],
            [
             0.8888888888888888,
             "#fdca26"
            ],
            [
             1,
             "#f0f921"
            ]
           ],
           "sequentialminus": [
            [
             0,
             "#0d0887"
            ],
            [
             0.1111111111111111,
             "#46039f"
            ],
            [
             0.2222222222222222,
             "#7201a8"
            ],
            [
             0.3333333333333333,
             "#9c179e"
            ],
            [
             0.4444444444444444,
             "#bd3786"
            ],
            [
             0.5555555555555556,
             "#d8576b"
            ],
            [
             0.6666666666666666,
             "#ed7953"
            ],
            [
             0.7777777777777778,
             "#fb9f3a"
            ],
            [
             0.8888888888888888,
             "#fdca26"
            ],
            [
             1,
             "#f0f921"
            ]
           ]
          },
          "colorway": [
           "#636efa",
           "#EF553B",
           "#00cc96",
           "#ab63fa",
           "#FFA15A",
           "#19d3f3",
           "#FF6692",
           "#B6E880",
           "#FF97FF",
           "#FECB52"
          ],
          "font": {
           "color": "#2a3f5f"
          },
          "geo": {
           "bgcolor": "white",
           "lakecolor": "white",
           "landcolor": "#E5ECF6",
           "showlakes": true,
           "showland": true,
           "subunitcolor": "white"
          },
          "hoverlabel": {
           "align": "left"
          },
          "hovermode": "closest",
          "mapbox": {
           "style": "light"
          },
          "paper_bgcolor": "white",
          "plot_bgcolor": "#E5ECF6",
          "polar": {
           "angularaxis": {
            "gridcolor": "white",
            "linecolor": "white",
            "ticks": ""
           },
           "bgcolor": "#E5ECF6",
           "radialaxis": {
            "gridcolor": "white",
            "linecolor": "white",
            "ticks": ""
           }
          },
          "scene": {
           "xaxis": {
            "backgroundcolor": "#E5ECF6",
            "gridcolor": "white",
            "gridwidth": 2,
            "linecolor": "white",
            "showbackground": true,
            "ticks": "",
            "zerolinecolor": "white"
           },
           "yaxis": {
            "backgroundcolor": "#E5ECF6",
            "gridcolor": "white",
            "gridwidth": 2,
            "linecolor": "white",
            "showbackground": true,
            "ticks": "",
            "zerolinecolor": "white"
           },
           "zaxis": {
            "backgroundcolor": "#E5ECF6",
            "gridcolor": "white",
            "gridwidth": 2,
            "linecolor": "white",
            "showbackground": true,
            "ticks": "",
            "zerolinecolor": "white"
           }
          },
          "shapedefaults": {
           "line": {
            "color": "#2a3f5f"
           }
          },
          "ternary": {
           "aaxis": {
            "gridcolor": "white",
            "linecolor": "white",
            "ticks": ""
           },
           "baxis": {
            "gridcolor": "white",
            "linecolor": "white",
            "ticks": ""
           },
           "bgcolor": "#E5ECF6",
           "caxis": {
            "gridcolor": "white",
            "linecolor": "white",
            "ticks": ""
           }
          },
          "title": {
           "x": 0.05
          },
          "xaxis": {
           "automargin": true,
           "gridcolor": "white",
           "linecolor": "white",
           "ticks": "",
           "title": {
            "standoff": 15
           },
           "zerolinecolor": "white",
           "zerolinewidth": 2
          },
          "yaxis": {
           "automargin": true,
           "gridcolor": "white",
           "linecolor": "white",
           "ticks": "",
           "title": {
            "standoff": 15
           },
           "zerolinecolor": "white",
           "zerolinewidth": 2
          }
         }
        },
        "title": {
         "text": "Distribution of mutations by primary site"
        },
        "width": 800
       }
      },
      "image/png": "[encoded data removed]",
      "text/html": [
       "<div>                            <div id=\"856b744f-51f6-4ce1-9cba-5f1c813fcb7b\" class=\"plotly-graph-div\" style=\"height:600px; width:800px;\"></div>            <script type=\"text/javascript\">                require([\"plotly\"], function(Plotly) {                    window.PLOTLYENV=window.PLOTLYENV || {};                                    if (document.getElementById(\"856b744f-51f6-4ce1-9cba-5f1c813fcb7b\")) {                    Plotly.newPlot(                        \"856b744f-51f6-4ce1-9cba-5f1c813fcb7b\",                        [{\"domain\":{\"x\":[0.0,1.0],\"y\":[0.0,1.0]},\"hovertemplate\":\"PRIMARY_SITE=%{label}\\u003cbr\\u003eCOUNT_MUTATION_IDs=%{value}\\u003cextra\\u003e\\u003c\\u002fextra\\u003e\",\"labels\":[\"NS\",\"adrenal_gland\",\"biliary_tract\",\"breast\",\"central_nervous_system\",\"cervix\",\"endometrium\",\"haematopoietic_and_lymphoid_tissue\",\"kidney\",\"large_intestine\",\"liver\",\"lung\",\"oesophagus\",\"ovary\",\"pancreas\",\"prostate\",\"skin\",\"small_intestine\",\"soft_tissue\",\"stomach\",\"testis\",\"thyroid\",\"upper_aerodigestive_tract\",\"urinary_tract\"],\"legendgroup\":\"\",\"name\":\"\",\"showlegend\":true,\"values\":[16,2,3,6,8,6,35,12,10,84,16,75,12,2,10,8,161,2,3,36,2,13,16,12],\"type\":\"pie\",\"textinfo\":\"none\"}],                        {\"template\":{\"data\":{\"histogram2dcontour\":[{\"type\":\"histogram2dcontour\",\"colorbar\":{\"outlinewidth\":0,\"ticks\":\"\"},\"colorscale\":[[0.0,\"#0d0887\"],[0.1111111111111111,\"#46039f\"],[0.2222222222222222,\"#7201a8\"],[0.3333333333333333,\"#9c179e\"],[0.4444444444444444,\"#bd3786\"],[0.5555555555555556,\"#d8576b\"],[0.6666666666666666,\"#ed7953\"],[0.7777777777777778,\"#fb9f3a\"],[0.8888888888888888,\"#fdca26\"],[1.0,\"#f0f921\"]]}],\"choropleth\":[{\"type\":\"choropleth\",\"colorbar\":{\"outlinewidth\":0,\"ticks\":\"\"}}],\"histogram2d\":[{\"type\":\"histogram2d\",\"colorbar\":{\"outlinewidth\":0,\"ticks\":\"\"},\"colorscale\":[[0.0,\"#0d0887\"],[0.1111111111111111,\"#46039f\"],[0.2222222222222222,\"#7201a8\"],[0.3333333333333333,\"#9c179e\"],[0.4444444444444444,\"#bd3786\"],[0.5555555555555556,\"#d8576b\"],[0.6666666666666666,\"#ed7953\"],[0.7777777777777778,\"#fb9f3a\"],[0.8888888888888888,\"#fdca26\"],[1.0,\"#f0f921\"]]}],\"heatmap\":[{\"type\":\"heatmap\",\"colorbar\":{\"outlinewidth\":0,\"ticks\":\"\"},\"colorscale\":[[0.0,\"#0d0887\"],[0.1111111111111111,\"#46039f\"],[0.2222222222222222,\"#7201a8\"],[0.3333333333333333,\"#9c179e\"],[0.4444444444444444,\"#bd3786\"],[0.5555555555555556,\"#d8576b\"],[0.6666666666666666,\"#ed7953\"],[0.7777777777777778,\"#fb9f3a\"],[0.8888888888888888,\"#fdca26\"],[1.0,\"#f0f921\"]]}],\"heatmapgl\":[{\"type\":\"heatmapgl\",\"colorbar\":{\"outlinewidth\":0,\"ticks\":\"\"},\"colorscale\":[[0.0,\"#0d0887\"],[0.1111111111111111,\"#46039f\"],[0.2222222222222222,\"#7201a8\"],[0.3333333333333333,\"#9c179e\"],[0.4444444444444444,\"#bd3786\"],[0.5555555555555556,\"#d8576b\"],[0.6666666666666666,\"#ed7953\"],[0.7777777777777778,\"#fb9f3a\"],[0.8888888888888888,\"#fdca26\"],[1.0,\"#f0f921\"]]}],\"contourcarpet\":[{\"type\":\"contourcarpet\",\"colorbar\":{\"outlinewidth\":0,\"ticks\":\"\"}}],\"contour\":[{\"type\":\"contour\",\"colorbar\":{\"outlinewidth\":0,\"ticks\":\"\"},\"colorscale\":[[0.0,\"#0d0887\"],[0.1111111111111111,\"#46039f\"],[0.2222222222222222,\"#7201a8\"],[0.3333333333333333,\"#9c179e\"],[0.4444444444444444,\"#bd3786\"],[0.5555555555555556,\"#d8576b\"],[0.6666666666666666,\"#ed7953\"],[0.7777777777777778,\"#fb9f3a\"],[0.8888888888888888,\"#fdca26\"],[1.0,\"#f0f921\"]]}],\"surface\":[{\"type\":\"surface\",\"colorbar\":{\"outlinewidth\":0,\"ticks\":\"\"},\"colorscale\":[[0.0,\"#0d0887\"],[0.1111111111111111,\"#46039f\"],[0.2222222222222222,\"#7201a8\"],[0.3333333333333333,\"#9c179e\"],[0.4444444444444444,\"#bd3786\"],[0.5555555555555556,\"#d8576b\"],[0.6666666666666666,\"#ed7953\"],[0.7777777777777778,\"#fb9f3a\"],[0.8888888888888888,\"#fdca26\"],[1.0,\"#f0f921\"]]}],\"mesh3d\":[{\"type\":\"mesh3d\",\"colorbar\":{\"outlinewidth\":0,\"ticks\":\"\"}}],\"scatter\":[{\"fillpattern\":{\"fillmode\":\"overlay\",\"size\":10,\"solidity\":0.2},\"type\":\"scatter\"}],\"parcoords\":[{\"type\":\"parcoords\",\"line\":{\"colorbar\":{\"outlinewidth\":0,\"ticks\":\"\"}}}],\"scatterpolargl\":[{\"type\":\"scatterpolargl\",\"marker\":{\"colorbar\":{\"outlinewidth\":0,\"ticks\":\"\"}}}],\"bar\":[{\"error_x\":{\"color\":\"#2a3f5f\"},\"error_y\":{\"color\":\"#2a3f5f\"},\"marker\":{\"line\":{\"color\":\"#E5ECF6\",\"width\":0.5},\"pattern\":{\"fillmode\":\"overlay\",\"size\":10,\"solidity\":0.2}},\"type\":\"bar\"}],\"scattergeo\":[{\"type\":\"scattergeo\",\"marker\":{\"colorbar\":{\"outlinewidth\":0,\"ticks\":\"\"}}}],\"scatterpolar\":[{\"type\":\"scatterpolar\",\"marker\":{\"colorbar\":{\"outlinewidth\":0,\"ticks\":\"\"}}}],\"histogram\":[{\"marker\":{\"pattern\":{\"fillmode\":\"overlay\",\"size\":10,\"solidity\":0.2}},\"type\":\"histogram\"}],\"scattergl\":[{\"type\":\"scattergl\",\"marker\":{\"colorbar\":{\"outlinewidth\":0,\"ticks\":\"\"}}}],\"scatter3d\":[{\"type\":\"scatter3d\",\"line\":{\"colorbar\":{\"outlinewidth\":0,\"ticks\":\"\"}},\"marker\":{\"colorbar\":{\"outlinewidth\":0,\"ticks\":\"\"}}}],\"scattermapbox\":[{\"type\":\"scattermapbox\",\"marker\":{\"colorbar\":{\"outlinewidth\":0,\"ticks\":\"\"}}}],\"scatterternary\":[{\"type\":\"scatterternary\",\"marker\":{\"colorbar\":{\"outlinewidth\":0,\"ticks\":\"\"}}}],\"scattercarpet\":[{\"type\":\"scattercarpet\",\"marker\":{\"colorbar\":{\"outlinewidth\":0,\"ticks\":\"\"}}}],\"carpet\":[{\"aaxis\":{\"endlinecolor\":\"#2a3f5f\",\"gridcolor\":\"white\",\"linecolor\":\"white\",\"minorgridcolor\":\"white\",\"startlinecolor\":\"#2a3f5f\"},\"baxis\":{\"endlinecolor\":\"#2a3f5f\",\"gridcolor\":\"white\",\"linecolor\":\"white\",\"minorgridcolor\":\"white\",\"startlinecolor\":\"#2a3f5f\"},\"type\":\"carpet\"}],\"table\":[{\"cells\":{\"fill\":{\"color\":\"#EBF0F8\"},\"line\":{\"color\":\"white\"}},\"header\":{\"fill\":{\"color\":\"#C8D4E3\"},\"line\":{\"color\":\"white\"}},\"type\":\"table\"}],\"barpolar\":[{\"marker\":{\"line\":{\"color\":\"#E5ECF6\",\"width\":0.5},\"pattern\":{\"fillmode\":\"overlay\",\"size\":10,\"solidity\":0.2}},\"type\":\"barpolar\"}],\"pie\":[{\"automargin\":true,\"type\":\"pie\"}]},\"layout\":{\"autotypenumbers\":\"strict\",\"colorway\":[\"#636efa\",\"#EF553B\",\"#00cc96\",\"#ab63fa\",\"#FFA15A\",\"#19d3f3\",\"#FF6692\",\"#B6E880\",\"#FF97FF\",\"#FECB52\"],\"font\":{\"color\":\"#2a3f5f\"},\"hovermode\":\"closest\",\"hoverlabel\":{\"align\":\"left\"},\"paper_bgcolor\":\"white\",\"plot_bgcolor\":\"#E5ECF6\",\"polar\":{\"bgcolor\":\"#E5ECF6\",\"angularaxis\":{\"gridcolor\":\"white\",\"linecolor\":\"white\",\"ticks\":\"\"},\"radialaxis\":{\"gridcolor\":\"white\",\"linecolor\":\"white\",\"ticks\":\"\"}},\"ternary\":{\"bgcolor\":\"#E5ECF6\",\"aaxis\":{\"gridcolor\":\"white\",\"linecolor\":\"white\",\"ticks\":\"\"},\"baxis\":{\"gridcolor\":\"white\",\"linecolor\":\"white\",\"ticks\":\"\"},\"caxis\":{\"gridcolor\":\"white\",\"linecolor\":\"white\",\"ticks\":\"\"}},\"coloraxis\":{\"colorbar\":{\"outlinewidth\":0,\"ticks\":\"\"}},\"colorscale\":{\"sequential\":[[0.0,\"#0d0887\"],[0.1111111111111111,\"#46039f\"],[0.2222222222222222,\"#7201a8\"],[0.3333333333333333,\"#9c179e\"],[0.4444444444444444,\"#bd3786\"],[0.5555555555555556,\"#d8576b\"],[0.6666666666666666,\"#ed7953\"],[0.7777777777777778,\"#fb9f3a\"],[0.8888888888888888,\"#fdca26\"],[1.0,\"#f0f921\"]],\"sequentialminus\":[[0.0,\"#0d0887\"],[0.1111111111111111,\"#46039f\"],[0.2222222222222222,\"#7201a8\"],[0.3333333333333333,\"#9c179e\"],[0.4444444444444444,\"#bd3786\"],[0.5555555555555556,\"#d8576b\"],[0.6666666666666666,\"#ed7953\"],[0.7777777777777778,\"#fb9f3a\"],[0.8888888888888888,\"#fdca26\"],[1.0,\"#f0f921\"]],\"diverging\":[[0,\"#8e0152\"],[0.1,\"#c51b7d\"],[0.2,\"#de77ae\"],[0.3,\"#f1b6da\"],[0.4,\"#fde0ef\"],[0.5,\"#f7f7f7\"],[0.6,\"#e6f5d0\"],[0.7,\"#b8e186\"],[0.8,\"#7fbc41\"],[0.9,\"#4d9221\"],[1,\"#276419\"]]},\"xaxis\":{\"gridcolor\":\"white\",\"linecolor\":\"white\",\"ticks\":\"\",\"title\":{\"standoff\":15},\"zerolinecolor\":\"white\",\"automargin\":true,\"zerolinewidth\":2},\"yaxis\":{\"gridcolor\":\"white\",\"linecolor\":\"white\",\"ticks\":\"\",\"title\":{\"standoff\":15},\"zerolinecolor\":\"white\",\"automargin\":true,\"zerolinewidth\":2},\"scene\":{\"xaxis\":{\"backgroundcolor\":\"#E5ECF6\",\"gridcolor\":\"white\",\"linecolor\":\"white\",\"showbackground\":true,\"ticks\":\"\",\"zerolinecolor\":\"white\",\"gridwidth\":2},\"yaxis\":{\"backgroundcolor\":\"#E5ECF6\",\"gridcolor\":\"white\",\"linecolor\":\"white\",\"showbackground\":true,\"ticks\":\"\",\"zerolinecolor\":\"white\",\"gridwidth\":2},\"zaxis\":{\"backgroundcolor\":\"#E5ECF6\",\"gridcolor\":\"white\",\"linecolor\":\"white\",\"showbackground\":true,\"ticks\":\"\",\"zerolinecolor\":\"white\",\"gridwidth\":2}},\"shapedefaults\":{\"line\":{\"color\":\"#2a3f5f\"}},\"annotationdefaults\":{\"arrowcolor\":\"#2a3f5f\",\"arrowhead\":0,\"arrowwidth\":1},\"geo\":{\"bgcolor\":\"white\",\"landcolor\":\"#E5ECF6\",\"subunitcolor\":\"white\",\"showland\":true,\"showlakes\":true,\"lakecolor\":\"white\"},\"title\":{\"x\":0.05},\"mapbox\":{\"style\":\"light\"}}},\"legend\":{\"tracegroupgap\":0},\"title\":{\"text\":\"Distribution of mutations by primary site\"},\"width\":800,\"height\":600},                        {\"responsive\": true}                    ).then(function(){\n",
       "                            \n",
       "var gd = document.getElementById('856b744f-51f6-4ce1-9cba-5f1c813fcb7b');\n",
       "var x = new MutationObserver(function (mutations, observer) {{\n",
       "        var display = window.getComputedStyle(gd).display;\n",
       "        if (!display || display === 'none') {{\n",
       "            console.log([gd, 'removed!']);\n",
       "            Plotly.purge(gd);\n",
       "            observer.disconnect();\n",
       "        }}\n",
       "}});\n",
       "\n",
       "// Listen for the removal of the full notebook cells\n",
       "var notebookContainer = gd.closest('#notebook-container');\n",
       "if (notebookContainer) {{\n",
       "    x.observe(notebookContainer, {childList: true});\n",
       "}}\n",
       "\n",
       "// Listen for the clearing of the current output cell\n",
       "var outputEl = gd.closest('.output');\n",
       "if (outputEl) {{\n",
       "    x.observe(outputEl, {childList: true});\n",
       "}}\n",
       "\n",
       "                        })                };                });            </script>        </div>"
      ]
     },
     "metadata": {},
     "output_type": "display_data"
    }
   ],
   "source": [
    "fig = px.pie(processer.tissue_grouped_df, values='COUNT_MUTATION_IDs', names='PRIMARY_SITE', title='Distribution of mutations by primary site')\n",
    "#fig.update_traces(textinfo='value+percent')\n",
    "fig.update_traces(textinfo='none')\n",
    "fig.update_layout(width=800, height=600)\n",
    "fig.show()"
   ]
  },
  {
   "cell_type": "code",
   "execution_count": 22,
   "id": "faaa8da6-4096-4ae6-91e7-9424114bedd4",
   "metadata": {
    "jupyter": {
     "source_hidden": true
    }
   },
   "outputs": [
    {
     "data": {
      "application/vnd.plotly.v1+json": {
       "config": {
        "plotlyServerURL": "https://plot.ly"
       },
       "data": [
        {
         "alignmentgroup": "True",
         "hovertemplate": "Primary Site=%{x}<br>Count Mutation IDs=%{y}<extra></extra>",
         "legendgroup": "skin",
         "marker": {
          "color": "#636efa",
          "pattern": {
           "shape": ""
          }
         },
         "name": "skin",
         "offsetgroup": "skin",
         "orientation": "v",
         "showlegend": true,
         "textposition": "auto",
         "type": "bar",
         "x": [
          "skin"
         ],
         "xaxis": "x",
         "y": [
          161
         ],
         "yaxis": "y"
        },
        {
         "alignmentgroup": "True",
         "hovertemplate": "Primary Site=%{x}<br>Count Mutation IDs=%{y}<extra></extra>",
         "legendgroup": "large_intestine",
         "marker": {
          "color": "#EF553B",
          "pattern": {
           "shape": ""
          }
         },
         "name": "large_intestine",
         "offsetgroup": "large_intestine",
         "orientation": "v",
         "showlegend": true,
         "textposition": "auto",
         "type": "bar",
         "x": [
          "large_intestine"
         ],
         "xaxis": "x",
         "y": [
          84
         ],
         "yaxis": "y"
        },
        {
         "alignmentgroup": "True",
         "hovertemplate": "Primary Site=%{x}<br>Count Mutation IDs=%{y}<extra></extra>",
         "legendgroup": "lung",
         "marker": {
          "color": "#00cc96",
          "pattern": {
           "shape": ""
          }
         },
         "name": "lung",
         "offsetgroup": "lung",
         "orientation": "v",
         "showlegend": true,
         "textposition": "auto",
         "type": "bar",
         "x": [
          "lung"
         ],
         "xaxis": "x",
         "y": [
          75
         ],
         "yaxis": "y"
        },
        {
         "alignmentgroup": "True",
         "hovertemplate": "Primary Site=%{x}<br>Count Mutation IDs=%{y}<extra></extra>",
         "legendgroup": "stomach",
         "marker": {
          "color": "#ab63fa",
          "pattern": {
           "shape": ""
          }
         },
         "name": "stomach",
         "offsetgroup": "stomach",
         "orientation": "v",
         "showlegend": true,
         "textposition": "auto",
         "type": "bar",
         "x": [
          "stomach"
         ],
         "xaxis": "x",
         "y": [
          36
         ],
         "yaxis": "y"
        },
        {
         "alignmentgroup": "True",
         "hovertemplate": "Primary Site=%{x}<br>Count Mutation IDs=%{y}<extra></extra>",
         "legendgroup": "endometrium",
         "marker": {
          "color": "#FFA15A",
          "pattern": {
           "shape": ""
          }
         },
         "name": "endometrium",
         "offsetgroup": "endometrium",
         "orientation": "v",
         "showlegend": true,
         "textposition": "auto",
         "type": "bar",
         "x": [
          "endometrium"
         ],
         "xaxis": "x",
         "y": [
          35
         ],
         "yaxis": "y"
        },
        {
         "alignmentgroup": "True",
         "hovertemplate": "Primary Site=%{x}<br>Count Mutation IDs=%{y}<extra></extra>",
         "legendgroup": "NS",
         "marker": {
          "color": "#19d3f3",
          "pattern": {
           "shape": ""
          }
         },
         "name": "NS",
         "offsetgroup": "NS",
         "orientation": "v",
         "showlegend": true,
         "textposition": "auto",
         "type": "bar",
         "x": [
          "NS"
         ],
         "xaxis": "x",
         "y": [
          16
         ],
         "yaxis": "y"
        },
        {
         "alignmentgroup": "True",
         "hovertemplate": "Primary Site=%{x}<br>Count Mutation IDs=%{y}<extra></extra>",
         "legendgroup": "upper_aerodigestive_tract",
         "marker": {
          "color": "#FF6692",
          "pattern": {
           "shape": ""
          }
         },
         "name": "upper_aerodigestive_tract",
         "offsetgroup": "upper_aerodigestive_tract",
         "orientation": "v",
         "showlegend": true,
         "textposition": "auto",
         "type": "bar",
         "x": [
          "upper_aerodigestive_tract"
         ],
         "xaxis": "x",
         "y": [
          16
         ],
         "yaxis": "y"
        },
        {
         "alignmentgroup": "True",
         "hovertemplate": "Primary Site=%{x}<br>Count Mutation IDs=%{y}<extra></extra>",
         "legendgroup": "liver",
         "marker": {
          "color": "#B6E880",
          "pattern": {
           "shape": ""
          }
         },
         "name": "liver",
         "offsetgroup": "liver",
         "orientation": "v",
         "showlegend": true,
         "textposition": "auto",
         "type": "bar",
         "x": [
          "liver"
         ],
         "xaxis": "x",
         "y": [
          16
         ],
         "yaxis": "y"
        },
        {
         "alignmentgroup": "True",
         "hovertemplate": "Primary Site=%{x}<br>Count Mutation IDs=%{y}<extra></extra>",
         "legendgroup": "thyroid",
         "marker": {
          "color": "#FF97FF",
          "pattern": {
           "shape": ""
          }
         },
         "name": "thyroid",
         "offsetgroup": "thyroid",
         "orientation": "v",
         "showlegend": true,
         "textposition": "auto",
         "type": "bar",
         "x": [
          "thyroid"
         ],
         "xaxis": "x",
         "y": [
          13
         ],
         "yaxis": "y"
        },
        {
         "alignmentgroup": "True",
         "hovertemplate": "Primary Site=%{x}<br>Count Mutation IDs=%{y}<extra></extra>",
         "legendgroup": "oesophagus",
         "marker": {
          "color": "#FECB52",
          "pattern": {
           "shape": ""
          }
         },
         "name": "oesophagus",
         "offsetgroup": "oesophagus",
         "orientation": "v",
         "showlegend": true,
         "textposition": "auto",
         "type": "bar",
         "x": [
          "oesophagus"
         ],
         "xaxis": "x",
         "y": [
          12
         ],
         "yaxis": "y"
        },
        {
         "alignmentgroup": "True",
         "hovertemplate": "Primary Site=%{x}<br>Count Mutation IDs=%{y}<extra></extra>",
         "legendgroup": "haematopoietic_and_lymphoid_tissue",
         "marker": {
          "color": "#636efa",
          "pattern": {
           "shape": ""
          }
         },
         "name": "haematopoietic_and_lymphoid_tissue",
         "offsetgroup": "haematopoietic_and_lymphoid_tissue",
         "orientation": "v",
         "showlegend": true,
         "textposition": "auto",
         "type": "bar",
         "x": [
          "haematopoietic_and_lymphoid_tissue"
         ],
         "xaxis": "x",
         "y": [
          12
         ],
         "yaxis": "y"
        },
        {
         "alignmentgroup": "True",
         "hovertemplate": "Primary Site=%{x}<br>Count Mutation IDs=%{y}<extra></extra>",
         "legendgroup": "urinary_tract",
         "marker": {
          "color": "#EF553B",
          "pattern": {
           "shape": ""
          }
         },
         "name": "urinary_tract",
         "offsetgroup": "urinary_tract",
         "orientation": "v",
         "showlegend": true,
         "textposition": "auto",
         "type": "bar",
         "x": [
          "urinary_tract"
         ],
         "xaxis": "x",
         "y": [
          12
         ],
         "yaxis": "y"
        },
        {
         "alignmentgroup": "True",
         "hovertemplate": "Primary Site=%{x}<br>Count Mutation IDs=%{y}<extra></extra>",
         "legendgroup": "kidney",
         "marker": {
          "color": "#00cc96",
          "pattern": {
           "shape": ""
          }
         },
         "name": "kidney",
         "offsetgroup": "kidney",
         "orientation": "v",
         "showlegend": true,
         "textposition": "auto",
         "type": "bar",
         "x": [
          "kidney"
         ],
         "xaxis": "x",
         "y": [
          10
         ],
         "yaxis": "y"
        },
        {
         "alignmentgroup": "True",
         "hovertemplate": "Primary Site=%{x}<br>Count Mutation IDs=%{y}<extra></extra>",
         "legendgroup": "pancreas",
         "marker": {
          "color": "#ab63fa",
          "pattern": {
           "shape": ""
          }
         },
         "name": "pancreas",
         "offsetgroup": "pancreas",
         "orientation": "v",
         "showlegend": true,
         "textposition": "auto",
         "type": "bar",
         "x": [
          "pancreas"
         ],
         "xaxis": "x",
         "y": [
          10
         ],
         "yaxis": "y"
        },
        {
         "alignmentgroup": "True",
         "hovertemplate": "Primary Site=%{x}<br>Count Mutation IDs=%{y}<extra></extra>",
         "legendgroup": "prostate",
         "marker": {
          "color": "#FFA15A",
          "pattern": {
           "shape": ""
          }
         },
         "name": "prostate",
         "offsetgroup": "prostate",
         "orientation": "v",
         "showlegend": true,
         "textposition": "auto",
         "type": "bar",
         "x": [
          "prostate"
         ],
         "xaxis": "x",
         "y": [
          8
         ],
         "yaxis": "y"
        },
        {
         "alignmentgroup": "True",
         "hovertemplate": "Primary Site=%{x}<br>Count Mutation IDs=%{y}<extra></extra>",
         "legendgroup": "central_nervous_system",
         "marker": {
          "color": "#19d3f3",
          "pattern": {
           "shape": ""
          }
         },
         "name": "central_nervous_system",
         "offsetgroup": "central_nervous_system",
         "orientation": "v",
         "showlegend": true,
         "textposition": "auto",
         "type": "bar",
         "x": [
          "central_nervous_system"
         ],
         "xaxis": "x",
         "y": [
          8
         ],
         "yaxis": "y"
        },
        {
         "alignmentgroup": "True",
         "hovertemplate": "Primary Site=%{x}<br>Count Mutation IDs=%{y}<extra></extra>",
         "legendgroup": "cervix",
         "marker": {
          "color": "#FF6692",
          "pattern": {
           "shape": ""
          }
         },
         "name": "cervix",
         "offsetgroup": "cervix",
         "orientation": "v",
         "showlegend": true,
         "textposition": "auto",
         "type": "bar",
         "x": [
          "cervix"
         ],
         "xaxis": "x",
         "y": [
          6
         ],
         "yaxis": "y"
        },
        {
         "alignmentgroup": "True",
         "hovertemplate": "Primary Site=%{x}<br>Count Mutation IDs=%{y}<extra></extra>",
         "legendgroup": "breast",
         "marker": {
          "color": "#B6E880",
          "pattern": {
           "shape": ""
          }
         },
         "name": "breast",
         "offsetgroup": "breast",
         "orientation": "v",
         "showlegend": true,
         "textposition": "auto",
         "type": "bar",
         "x": [
          "breast"
         ],
         "xaxis": "x",
         "y": [
          6
         ],
         "yaxis": "y"
        },
        {
         "alignmentgroup": "True",
         "hovertemplate": "Primary Site=%{x}<br>Count Mutation IDs=%{y}<extra></extra>",
         "legendgroup": "soft_tissue",
         "marker": {
          "color": "#FF97FF",
          "pattern": {
           "shape": ""
          }
         },
         "name": "soft_tissue",
         "offsetgroup": "soft_tissue",
         "orientation": "v",
         "showlegend": true,
         "textposition": "auto",
         "type": "bar",
         "x": [
          "soft_tissue"
         ],
         "xaxis": "x",
         "y": [
          3
         ],
         "yaxis": "y"
        },
        {
         "alignmentgroup": "True",
         "hovertemplate": "Primary Site=%{x}<br>Count Mutation IDs=%{y}<extra></extra>",
         "legendgroup": "biliary_tract",
         "marker": {
          "color": "#FECB52",
          "pattern": {
           "shape": ""
          }
         },
         "name": "biliary_tract",
         "offsetgroup": "biliary_tract",
         "orientation": "v",
         "showlegend": true,
         "textposition": "auto",
         "type": "bar",
         "x": [
          "biliary_tract"
         ],
         "xaxis": "x",
         "y": [
          3
         ],
         "yaxis": "y"
        },
        {
         "alignmentgroup": "True",
         "hovertemplate": "Primary Site=%{x}<br>Count Mutation IDs=%{y}<extra></extra>",
         "legendgroup": "adrenal_gland",
         "marker": {
          "color": "#636efa",
          "pattern": {
           "shape": ""
          }
         },
         "name": "adrenal_gland",
         "offsetgroup": "adrenal_gland",
         "orientation": "v",
         "showlegend": true,
         "textposition": "auto",
         "type": "bar",
         "x": [
          "adrenal_gland"
         ],
         "xaxis": "x",
         "y": [
          2
         ],
         "yaxis": "y"
        },
        {
         "alignmentgroup": "True",
         "hovertemplate": "Primary Site=%{x}<br>Count Mutation IDs=%{y}<extra></extra>",
         "legendgroup": "ovary",
         "marker": {
          "color": "#EF553B",
          "pattern": {
           "shape": ""
          }
         },
         "name": "ovary",
         "offsetgroup": "ovary",
         "orientation": "v",
         "showlegend": true,
         "textposition": "auto",
         "type": "bar",
         "x": [
          "ovary"
         ],
         "xaxis": "x",
         "y": [
          2
         ],
         "yaxis": "y"
        },
        {
         "alignmentgroup": "True",
         "hovertemplate": "Primary Site=%{x}<br>Count Mutation IDs=%{y}<extra></extra>",
         "legendgroup": "small_intestine",
         "marker": {
          "color": "#00cc96",
          "pattern": {
           "shape": ""
          }
         },
         "name": "small_intestine",
         "offsetgroup": "small_intestine",
         "orientation": "v",
         "showlegend": true,
         "textposition": "auto",
         "type": "bar",
         "x": [
          "small_intestine"
         ],
         "xaxis": "x",
         "y": [
          2
         ],
         "yaxis": "y"
        },
        {
         "alignmentgroup": "True",
         "hovertemplate": "Primary Site=%{x}<br>Count Mutation IDs=%{y}<extra></extra>",
         "legendgroup": "testis",
         "marker": {
          "color": "#ab63fa",
          "pattern": {
           "shape": ""
          }
         },
         "name": "testis",
         "offsetgroup": "testis",
         "orientation": "v",
         "showlegend": true,
         "textposition": "auto",
         "type": "bar",
         "x": [
          "testis"
         ],
         "xaxis": "x",
         "y": [
          2
         ],
         "yaxis": "y"
        }
       ],
       "layout": {
        "barmode": "relative",
        "height": 600,
        "legend": {
         "title": {
          "text": "Primary Site"
         },
         "tracegroupgap": 0
        },
        "showlegend": true,
        "template": {
         "data": {
          "bar": [
           {
            "error_x": {
             "color": "#2a3f5f"
            },
            "error_y": {
             "color": "#2a3f5f"
            },
            "marker": {
             "line": {
              "color": "#E5ECF6",
              "width": 0.5
             },
             "pattern": {
              "fillmode": "overlay",
              "size": 10,
              "solidity": 0.2
             }
            },
            "type": "bar"
           }
          ],
          "barpolar": [
           {
            "marker": {
             "line": {
              "color": "#E5ECF6",
              "width": 0.5
             },
             "pattern": {
              "fillmode": "overlay",
              "size": 10,
              "solidity": 0.2
             }
            },
            "type": "barpolar"
           }
          ],
          "carpet": [
           {
            "aaxis": {
             "endlinecolor": "#2a3f5f",
             "gridcolor": "white",
             "linecolor": "white",
             "minorgridcolor": "white",
             "startlinecolor": "#2a3f5f"
            },
            "baxis": {
             "endlinecolor": "#2a3f5f",
             "gridcolor": "white",
             "linecolor": "white",
             "minorgridcolor": "white",
             "startlinecolor": "#2a3f5f"
            },
            "type": "carpet"
           }
          ],
          "choropleth": [
           {
            "colorbar": {
             "outlinewidth": 0,
             "ticks": ""
            },
            "type": "choropleth"
           }
          ],
          "contour": [
           {
            "colorbar": {
             "outlinewidth": 0,
             "ticks": ""
            },
            "colorscale": [
             [
              0,
              "#0d0887"
             ],
             [
              0.1111111111111111,
              "#46039f"
             ],
             [
              0.2222222222222222,
              "#7201a8"
             ],
             [
              0.3333333333333333,
              "#9c179e"
             ],
             [
              0.4444444444444444,
              "#bd3786"
             ],
             [
              0.5555555555555556,
              "#d8576b"
             ],
             [
              0.6666666666666666,
              "#ed7953"
             ],
             [
              0.7777777777777778,
              "#fb9f3a"
             ],
             [
              0.8888888888888888,
              "#fdca26"
             ],
             [
              1,
              "#f0f921"
             ]
            ],
            "type": "contour"
           }
          ],
          "contourcarpet": [
           {
            "colorbar": {
             "outlinewidth": 0,
             "ticks": ""
            },
            "type": "contourcarpet"
           }
          ],
          "heatmap": [
           {
            "colorbar": {
             "outlinewidth": 0,
             "ticks": ""
            },
            "colorscale": [
             [
              0,
              "#0d0887"
             ],
             [
              0.1111111111111111,
              "#46039f"
             ],
             [
              0.2222222222222222,
              "#7201a8"
             ],
             [
              0.3333333333333333,
              "#9c179e"
             ],
             [
              0.4444444444444444,
              "#bd3786"
             ],
             [
              0.5555555555555556,
              "#d8576b"
             ],
             [
              0.6666666666666666,
              "#ed7953"
             ],
             [
              0.7777777777777778,
              "#fb9f3a"
             ],
             [
              0.8888888888888888,
              "#fdca26"
             ],
             [
              1,
              "#f0f921"
             ]
            ],
            "type": "heatmap"
           }
          ],
          "heatmapgl": [
           {
            "colorbar": {
             "outlinewidth": 0,
             "ticks": ""
            },
            "colorscale": [
             [
              0,
              "#0d0887"
             ],
             [
              0.1111111111111111,
              "#46039f"
             ],
             [
              0.2222222222222222,
              "#7201a8"
             ],
             [
              0.3333333333333333,
              "#9c179e"
             ],
             [
              0.4444444444444444,
              "#bd3786"
             ],
             [
              0.5555555555555556,
              "#d8576b"
             ],
             [
              0.6666666666666666,
              "#ed7953"
             ],
             [
              0.7777777777777778,
              "#fb9f3a"
             ],
             [
              0.8888888888888888,
              "#fdca26"
             ],
             [
              1,
              "#f0f921"
             ]
            ],
            "type": "heatmapgl"
           }
          ],
          "histogram": [
           {
            "marker": {
             "pattern": {
              "fillmode": "overlay",
              "size": 10,
              "solidity": 0.2
             }
            },
            "type": "histogram"
           }
          ],
          "histogram2d": [
           {
            "colorbar": {
             "outlinewidth": 0,
             "ticks": ""
            },
            "colorscale": [
             [
              0,
              "#0d0887"
             ],
             [
              0.1111111111111111,
              "#46039f"
             ],
             [
              0.2222222222222222,
              "#7201a8"
             ],
             [
              0.3333333333333333,
              "#9c179e"
             ],
             [
              0.4444444444444444,
              "#bd3786"
             ],
             [
              0.5555555555555556,
              "#d8576b"
             ],
             [
              0.6666666666666666,
              "#ed7953"
             ],
             [
              0.7777777777777778,
              "#fb9f3a"
             ],
             [
              0.8888888888888888,
              "#fdca26"
             ],
             [
              1,
              "#f0f921"
             ]
            ],
            "type": "histogram2d"
           }
          ],
          "histogram2dcontour": [
           {
            "colorbar": {
             "outlinewidth": 0,
             "ticks": ""
            },
            "colorscale": [
             [
              0,
              "#0d0887"
             ],
             [
              0.1111111111111111,
              "#46039f"
             ],
             [
              0.2222222222222222,
              "#7201a8"
             ],
             [
              0.3333333333333333,
              "#9c179e"
             ],
             [
              0.4444444444444444,
              "#bd3786"
             ],
             [
              0.5555555555555556,
              "#d8576b"
             ],
             [
              0.6666666666666666,
              "#ed7953"
             ],
             [
              0.7777777777777778,
              "#fb9f3a"
             ],
             [
              0.8888888888888888,
              "#fdca26"
             ],
             [
              1,
              "#f0f921"
             ]
            ],
            "type": "histogram2dcontour"
           }
          ],
          "mesh3d": [
           {
            "colorbar": {
             "outlinewidth": 0,
             "ticks": ""
            },
            "type": "mesh3d"
           }
          ],
          "parcoords": [
           {
            "line": {
             "colorbar": {
              "outlinewidth": 0,
              "ticks": ""
             }
            },
            "type": "parcoords"
           }
          ],
          "pie": [
           {
            "automargin": true,
            "type": "pie"
           }
          ],
          "scatter": [
           {
            "fillpattern": {
             "fillmode": "overlay",
             "size": 10,
             "solidity": 0.2
            },
            "type": "scatter"
           }
          ],
          "scatter3d": [
           {
            "line": {
             "colorbar": {
              "outlinewidth": 0,
              "ticks": ""
             }
            },
            "marker": {
             "colorbar": {
              "outlinewidth": 0,
              "ticks": ""
             }
            },
            "type": "scatter3d"
           }
          ],
          "scattercarpet": [
           {
            "marker": {
             "colorbar": {
              "outlinewidth": 0,
              "ticks": ""
             }
            },
            "type": "scattercarpet"
           }
          ],
          "scattergeo": [
           {
            "marker": {
             "colorbar": {
              "outlinewidth": 0,
              "ticks": ""
             }
            },
            "type": "scattergeo"
           }
          ],
          "scattergl": [
           {
            "marker": {
             "colorbar": {
              "outlinewidth": 0,
              "ticks": ""
             }
            },
            "type": "scattergl"
           }
          ],
          "scattermapbox": [
           {
            "marker": {
             "colorbar": {
              "outlinewidth": 0,
              "ticks": ""
             }
            },
            "type": "scattermapbox"
           }
          ],
          "scatterpolar": [
           {
            "marker": {
             "colorbar": {
              "outlinewidth": 0,
              "ticks": ""
             }
            },
            "type": "scatterpolar"
           }
          ],
          "scatterpolargl": [
           {
            "marker": {
             "colorbar": {
              "outlinewidth": 0,
              "ticks": ""
             }
            },
            "type": "scatterpolargl"
           }
          ],
          "scatterternary": [
           {
            "marker": {
             "colorbar": {
              "outlinewidth": 0,
              "ticks": ""
             }
            },
            "type": "scatterternary"
           }
          ],
          "surface": [
           {
            "colorbar": {
             "outlinewidth": 0,
             "ticks": ""
            },
            "colorscale": [
             [
              0,
              "#0d0887"
             ],
             [
              0.1111111111111111,
              "#46039f"
             ],
             [
              0.2222222222222222,
              "#7201a8"
             ],
             [
              0.3333333333333333,
              "#9c179e"
             ],
             [
              0.4444444444444444,
              "#bd3786"
             ],
             [
              0.5555555555555556,
              "#d8576b"
             ],
             [
              0.6666666666666666,
              "#ed7953"
             ],
             [
              0.7777777777777778,
              "#fb9f3a"
             ],
             [
              0.8888888888888888,
              "#fdca26"
             ],
             [
              1,
              "#f0f921"
             ]
            ],
            "type": "surface"
           }
          ],
          "table": [
           {
            "cells": {
             "fill": {
              "color": "#EBF0F8"
             },
             "line": {
              "color": "white"
             }
            },
            "header": {
             "fill": {
              "color": "#C8D4E3"
             },
             "line": {
              "color": "white"
             }
            },
            "type": "table"
           }
          ]
         },
         "layout": {
          "annotationdefaults": {
           "arrowcolor": "#2a3f5f",
           "arrowhead": 0,
           "arrowwidth": 1
          },
          "autotypenumbers": "strict",
          "coloraxis": {
           "colorbar": {
            "outlinewidth": 0,
            "ticks": ""
           }
          },
          "colorscale": {
           "diverging": [
            [
             0,
             "#8e0152"
            ],
            [
             0.1,
             "#c51b7d"
            ],
            [
             0.2,
             "#de77ae"
            ],
            [
             0.3,
             "#f1b6da"
            ],
            [
             0.4,
             "#fde0ef"
            ],
            [
             0.5,
             "#f7f7f7"
            ],
            [
             0.6,
             "#e6f5d0"
            ],
            [
             0.7,
             "#b8e186"
            ],
            [
             0.8,
             "#7fbc41"
            ],
            [
             0.9,
             "#4d9221"
            ],
            [
             1,
             "#276419"
            ]
           ],
           "sequential": [
            [
             0,
             "#0d0887"
            ],
            [
             0.1111111111111111,
             "#46039f"
            ],
            [
             0.2222222222222222,
             "#7201a8"
            ],
            [
             0.3333333333333333,
             "#9c179e"
            ],
            [
             0.4444444444444444,
             "#bd3786"
            ],
            [
             0.5555555555555556,
             "#d8576b"
            ],
            [
             0.6666666666666666,
             "#ed7953"
            ],
            [
             0.7777777777777778,
             "#fb9f3a"
            ],
            [
             0.8888888888888888,
             "#fdca26"
            ],
            [
             1,
             "#f0f921"
            ]
           ],
           "sequentialminus": [
            [
             0,
             "#0d0887"
            ],
            [
             0.1111111111111111,
             "#46039f"
            ],
            [
             0.2222222222222222,
             "#7201a8"
            ],
            [
             0.3333333333333333,
             "#9c179e"
            ],
            [
             0.4444444444444444,
             "#bd3786"
            ],
            [
             0.5555555555555556,
             "#d8576b"
            ],
            [
             0.6666666666666666,
             "#ed7953"
            ],
            [
             0.7777777777777778,
             "#fb9f3a"
            ],
            [
             0.8888888888888888,
             "#fdca26"
            ],
            [
             1,
             "#f0f921"
            ]
           ]
          },
          "colorway": [
           "#636efa",
           "#EF553B",
           "#00cc96",
           "#ab63fa",
           "#FFA15A",
           "#19d3f3",
           "#FF6692",
           "#B6E880",
           "#FF97FF",
           "#FECB52"
          ],
          "font": {
           "color": "#2a3f5f"
          },
          "geo": {
           "bgcolor": "white",
           "lakecolor": "white",
           "landcolor": "#E5ECF6",
           "showlakes": true,
           "showland": true,
           "subunitcolor": "white"
          },
          "hoverlabel": {
           "align": "left"
          },
          "hovermode": "closest",
          "mapbox": {
           "style": "light"
          },
          "paper_bgcolor": "white",
          "plot_bgcolor": "#E5ECF6",
          "polar": {
           "angularaxis": {
            "gridcolor": "white",
            "linecolor": "white",
            "ticks": ""
           },
           "bgcolor": "#E5ECF6",
           "radialaxis": {
            "gridcolor": "white",
            "linecolor": "white",
            "ticks": ""
           }
          },
          "scene": {
           "xaxis": {
            "backgroundcolor": "#E5ECF6",
            "gridcolor": "white",
            "gridwidth": 2,
            "linecolor": "white",
            "showbackground": true,
            "ticks": "",
            "zerolinecolor": "white"
           },
           "yaxis": {
            "backgroundcolor": "#E5ECF6",
            "gridcolor": "white",
            "gridwidth": 2,
            "linecolor": "white",
            "showbackground": true,
            "ticks": "",
            "zerolinecolor": "white"
           },
           "zaxis": {
            "backgroundcolor": "#E5ECF6",
            "gridcolor": "white",
            "gridwidth": 2,
            "linecolor": "white",
            "showbackground": true,
            "ticks": "",
            "zerolinecolor": "white"
           }
          },
          "shapedefaults": {
           "line": {
            "color": "#2a3f5f"
           }
          },
          "ternary": {
           "aaxis": {
            "gridcolor": "white",
            "linecolor": "white",
            "ticks": ""
           },
           "baxis": {
            "gridcolor": "white",
            "linecolor": "white",
            "ticks": ""
           },
           "bgcolor": "#E5ECF6",
           "caxis": {
            "gridcolor": "white",
            "linecolor": "white",
            "ticks": ""
           }
          },
          "title": {
           "x": 0.05
          },
          "xaxis": {
           "automargin": true,
           "gridcolor": "white",
           "linecolor": "white",
           "ticks": "",
           "title": {
            "standoff": 15
           },
           "zerolinecolor": "white",
           "zerolinewidth": 2
          },
          "yaxis": {
           "automargin": true,
           "gridcolor": "white",
           "linecolor": "white",
           "ticks": "",
           "title": {
            "standoff": 15
           },
           "zerolinecolor": "white",
           "zerolinewidth": 2
          }
         }
        },
        "title": {
         "text": "Distribution of mutations by primary site"
        },
        "width": 1200,
        "xaxis": {
         "anchor": "y",
         "autorange": true,
         "categoryarray": [
          "skin",
          "large_intestine",
          "lung",
          "stomach",
          "endometrium",
          "NS",
          "upper_aerodigestive_tract",
          "liver",
          "thyroid",
          "oesophagus",
          "haematopoietic_and_lymphoid_tissue",
          "urinary_tract",
          "kidney",
          "pancreas",
          "prostate",
          "central_nervous_system",
          "cervix",
          "breast",
          "soft_tissue",
          "biliary_tract",
          "adrenal_gland",
          "ovary",
          "small_intestine",
          "testis"
         ],
         "categoryorder": "array",
         "domain": [
          0,
          1
         ],
         "range": [
          -0.5,
          23.5
         ],
         "tickangle": 45,
         "title": {
          "text": "Primary Site"
         },
         "type": "category"
        },
        "yaxis": {
         "anchor": "x",
         "autorange": true,
         "domain": [
          0,
          1
         ],
         "range": [
          0,
          169.4736842105263
         ],
         "title": {
          "text": "Count Mutation IDs"
         },
         "type": "linear"
        }
       }
      },
      "image/png": "[encoded data removed]",
      "text/html": [
       "<div>                            <div id=\"ac538a9f-df33-4a85-8b17-9c3a1898830a\" class=\"plotly-graph-div\" style=\"height:600px; width:1200px;\"></div>            <script type=\"text/javascript\">                require([\"plotly\"], function(Plotly) {                    window.PLOTLYENV=window.PLOTLYENV || {};                                    if (document.getElementById(\"ac538a9f-df33-4a85-8b17-9c3a1898830a\")) {                    Plotly.newPlot(                        \"ac538a9f-df33-4a85-8b17-9c3a1898830a\",                        [{\"alignmentgroup\":\"True\",\"hovertemplate\":\"Primary Site=%{x}\\u003cbr\\u003eCount Mutation IDs=%{y}\\u003cextra\\u003e\\u003c\\u002fextra\\u003e\",\"legendgroup\":\"skin\",\"marker\":{\"color\":\"#636efa\",\"pattern\":{\"shape\":\"\"}},\"name\":\"skin\",\"offsetgroup\":\"skin\",\"orientation\":\"v\",\"showlegend\":true,\"textposition\":\"auto\",\"x\":[\"skin\"],\"xaxis\":\"x\",\"y\":[161],\"yaxis\":\"y\",\"type\":\"bar\"},{\"alignmentgroup\":\"True\",\"hovertemplate\":\"Primary Site=%{x}\\u003cbr\\u003eCount Mutation IDs=%{y}\\u003cextra\\u003e\\u003c\\u002fextra\\u003e\",\"legendgroup\":\"large_intestine\",\"marker\":{\"color\":\"#EF553B\",\"pattern\":{\"shape\":\"\"}},\"name\":\"large_intestine\",\"offsetgroup\":\"large_intestine\",\"orientation\":\"v\",\"showlegend\":true,\"textposition\":\"auto\",\"x\":[\"large_intestine\"],\"xaxis\":\"x\",\"y\":[84],\"yaxis\":\"y\",\"type\":\"bar\"},{\"alignmentgroup\":\"True\",\"hovertemplate\":\"Primary Site=%{x}\\u003cbr\\u003eCount Mutation IDs=%{y}\\u003cextra\\u003e\\u003c\\u002fextra\\u003e\",\"legendgroup\":\"lung\",\"marker\":{\"color\":\"#00cc96\",\"pattern\":{\"shape\":\"\"}},\"name\":\"lung\",\"offsetgroup\":\"lung\",\"orientation\":\"v\",\"showlegend\":true,\"textposition\":\"auto\",\"x\":[\"lung\"],\"xaxis\":\"x\",\"y\":[75],\"yaxis\":\"y\",\"type\":\"bar\"},{\"alignmentgroup\":\"True\",\"hovertemplate\":\"Primary Site=%{x}\\u003cbr\\u003eCount Mutation IDs=%{y}\\u003cextra\\u003e\\u003c\\u002fextra\\u003e\",\"legendgroup\":\"stomach\",\"marker\":{\"color\":\"#ab63fa\",\"pattern\":{\"shape\":\"\"}},\"name\":\"stomach\",\"offsetgroup\":\"stomach\",\"orientation\":\"v\",\"showlegend\":true,\"textposition\":\"auto\",\"x\":[\"stomach\"],\"xaxis\":\"x\",\"y\":[36],\"yaxis\":\"y\",\"type\":\"bar\"},{\"alignmentgroup\":\"True\",\"hovertemplate\":\"Primary Site=%{x}\\u003cbr\\u003eCount Mutation IDs=%{y}\\u003cextra\\u003e\\u003c\\u002fextra\\u003e\",\"legendgroup\":\"endometrium\",\"marker\":{\"color\":\"#FFA15A\",\"pattern\":{\"shape\":\"\"}},\"name\":\"endometrium\",\"offsetgroup\":\"endometrium\",\"orientation\":\"v\",\"showlegend\":true,\"textposition\":\"auto\",\"x\":[\"endometrium\"],\"xaxis\":\"x\",\"y\":[35],\"yaxis\":\"y\",\"type\":\"bar\"},{\"alignmentgroup\":\"True\",\"hovertemplate\":\"Primary Site=%{x}\\u003cbr\\u003eCount Mutation IDs=%{y}\\u003cextra\\u003e\\u003c\\u002fextra\\u003e\",\"legendgroup\":\"NS\",\"marker\":{\"color\":\"#19d3f3\",\"pattern\":{\"shape\":\"\"}},\"name\":\"NS\",\"offsetgroup\":\"NS\",\"orientation\":\"v\",\"showlegend\":true,\"textposition\":\"auto\",\"x\":[\"NS\"],\"xaxis\":\"x\",\"y\":[16],\"yaxis\":\"y\",\"type\":\"bar\"},{\"alignmentgroup\":\"True\",\"hovertemplate\":\"Primary Site=%{x}\\u003cbr\\u003eCount Mutation IDs=%{y}\\u003cextra\\u003e\\u003c\\u002fextra\\u003e\",\"legendgroup\":\"upper_aerodigestive_tract\",\"marker\":{\"color\":\"#FF6692\",\"pattern\":{\"shape\":\"\"}},\"name\":\"upper_aerodigestive_tract\",\"offsetgroup\":\"upper_aerodigestive_tract\",\"orientation\":\"v\",\"showlegend\":true,\"textposition\":\"auto\",\"x\":[\"upper_aerodigestive_tract\"],\"xaxis\":\"x\",\"y\":[16],\"yaxis\":\"y\",\"type\":\"bar\"},{\"alignmentgroup\":\"True\",\"hovertemplate\":\"Primary Site=%{x}\\u003cbr\\u003eCount Mutation IDs=%{y}\\u003cextra\\u003e\\u003c\\u002fextra\\u003e\",\"legendgroup\":\"liver\",\"marker\":{\"color\":\"#B6E880\",\"pattern\":{\"shape\":\"\"}},\"name\":\"liver\",\"offsetgroup\":\"liver\",\"orientation\":\"v\",\"showlegend\":true,\"textposition\":\"auto\",\"x\":[\"liver\"],\"xaxis\":\"x\",\"y\":[16],\"yaxis\":\"y\",\"type\":\"bar\"},{\"alignmentgroup\":\"True\",\"hovertemplate\":\"Primary Site=%{x}\\u003cbr\\u003eCount Mutation IDs=%{y}\\u003cextra\\u003e\\u003c\\u002fextra\\u003e\",\"legendgroup\":\"thyroid\",\"marker\":{\"color\":\"#FF97FF\",\"pattern\":{\"shape\":\"\"}},\"name\":\"thyroid\",\"offsetgroup\":\"thyroid\",\"orientation\":\"v\",\"showlegend\":true,\"textposition\":\"auto\",\"x\":[\"thyroid\"],\"xaxis\":\"x\",\"y\":[13],\"yaxis\":\"y\",\"type\":\"bar\"},{\"alignmentgroup\":\"True\",\"hovertemplate\":\"Primary Site=%{x}\\u003cbr\\u003eCount Mutation IDs=%{y}\\u003cextra\\u003e\\u003c\\u002fextra\\u003e\",\"legendgroup\":\"oesophagus\",\"marker\":{\"color\":\"#FECB52\",\"pattern\":{\"shape\":\"\"}},\"name\":\"oesophagus\",\"offsetgroup\":\"oesophagus\",\"orientation\":\"v\",\"showlegend\":true,\"textposition\":\"auto\",\"x\":[\"oesophagus\"],\"xaxis\":\"x\",\"y\":[12],\"yaxis\":\"y\",\"type\":\"bar\"},{\"alignmentgroup\":\"True\",\"hovertemplate\":\"Primary Site=%{x}\\u003cbr\\u003eCount Mutation IDs=%{y}\\u003cextra\\u003e\\u003c\\u002fextra\\u003e\",\"legendgroup\":\"haematopoietic_and_lymphoid_tissue\",\"marker\":{\"color\":\"#636efa\",\"pattern\":{\"shape\":\"\"}},\"name\":\"haematopoietic_and_lymphoid_tissue\",\"offsetgroup\":\"haematopoietic_and_lymphoid_tissue\",\"orientation\":\"v\",\"showlegend\":true,\"textposition\":\"auto\",\"x\":[\"haematopoietic_and_lymphoid_tissue\"],\"xaxis\":\"x\",\"y\":[12],\"yaxis\":\"y\",\"type\":\"bar\"},{\"alignmentgroup\":\"True\",\"hovertemplate\":\"Primary Site=%{x}\\u003cbr\\u003eCount Mutation IDs=%{y}\\u003cextra\\u003e\\u003c\\u002fextra\\u003e\",\"legendgroup\":\"urinary_tract\",\"marker\":{\"color\":\"#EF553B\",\"pattern\":{\"shape\":\"\"}},\"name\":\"urinary_tract\",\"offsetgroup\":\"urinary_tract\",\"orientation\":\"v\",\"showlegend\":true,\"textposition\":\"auto\",\"x\":[\"urinary_tract\"],\"xaxis\":\"x\",\"y\":[12],\"yaxis\":\"y\",\"type\":\"bar\"},{\"alignmentgroup\":\"True\",\"hovertemplate\":\"Primary Site=%{x}\\u003cbr\\u003eCount Mutation IDs=%{y}\\u003cextra\\u003e\\u003c\\u002fextra\\u003e\",\"legendgroup\":\"kidney\",\"marker\":{\"color\":\"#00cc96\",\"pattern\":{\"shape\":\"\"}},\"name\":\"kidney\",\"offsetgroup\":\"kidney\",\"orientation\":\"v\",\"showlegend\":true,\"textposition\":\"auto\",\"x\":[\"kidney\"],\"xaxis\":\"x\",\"y\":[10],\"yaxis\":\"y\",\"type\":\"bar\"},{\"alignmentgroup\":\"True\",\"hovertemplate\":\"Primary Site=%{x}\\u003cbr\\u003eCount Mutation IDs=%{y}\\u003cextra\\u003e\\u003c\\u002fextra\\u003e\",\"legendgroup\":\"pancreas\",\"marker\":{\"color\":\"#ab63fa\",\"pattern\":{\"shape\":\"\"}},\"name\":\"pancreas\",\"offsetgroup\":\"pancreas\",\"orientation\":\"v\",\"showlegend\":true,\"textposition\":\"auto\",\"x\":[\"pancreas\"],\"xaxis\":\"x\",\"y\":[10],\"yaxis\":\"y\",\"type\":\"bar\"},{\"alignmentgroup\":\"True\",\"hovertemplate\":\"Primary Site=%{x}\\u003cbr\\u003eCount Mutation IDs=%{y}\\u003cextra\\u003e\\u003c\\u002fextra\\u003e\",\"legendgroup\":\"prostate\",\"marker\":{\"color\":\"#FFA15A\",\"pattern\":{\"shape\":\"\"}},\"name\":\"prostate\",\"offsetgroup\":\"prostate\",\"orientation\":\"v\",\"showlegend\":true,\"textposition\":\"auto\",\"x\":[\"prostate\"],\"xaxis\":\"x\",\"y\":[8],\"yaxis\":\"y\",\"type\":\"bar\"},{\"alignmentgroup\":\"True\",\"hovertemplate\":\"Primary Site=%{x}\\u003cbr\\u003eCount Mutation IDs=%{y}\\u003cextra\\u003e\\u003c\\u002fextra\\u003e\",\"legendgroup\":\"central_nervous_system\",\"marker\":{\"color\":\"#19d3f3\",\"pattern\":{\"shape\":\"\"}},\"name\":\"central_nervous_system\",\"offsetgroup\":\"central_nervous_system\",\"orientation\":\"v\",\"showlegend\":true,\"textposition\":\"auto\",\"x\":[\"central_nervous_system\"],\"xaxis\":\"x\",\"y\":[8],\"yaxis\":\"y\",\"type\":\"bar\"},{\"alignmentgroup\":\"True\",\"hovertemplate\":\"Primary Site=%{x}\\u003cbr\\u003eCount Mutation IDs=%{y}\\u003cextra\\u003e\\u003c\\u002fextra\\u003e\",\"legendgroup\":\"cervix\",\"marker\":{\"color\":\"#FF6692\",\"pattern\":{\"shape\":\"\"}},\"name\":\"cervix\",\"offsetgroup\":\"cervix\",\"orientation\":\"v\",\"showlegend\":true,\"textposition\":\"auto\",\"x\":[\"cervix\"],\"xaxis\":\"x\",\"y\":[6],\"yaxis\":\"y\",\"type\":\"bar\"},{\"alignmentgroup\":\"True\",\"hovertemplate\":\"Primary Site=%{x}\\u003cbr\\u003eCount Mutation IDs=%{y}\\u003cextra\\u003e\\u003c\\u002fextra\\u003e\",\"legendgroup\":\"breast\",\"marker\":{\"color\":\"#B6E880\",\"pattern\":{\"shape\":\"\"}},\"name\":\"breast\",\"offsetgroup\":\"breast\",\"orientation\":\"v\",\"showlegend\":true,\"textposition\":\"auto\",\"x\":[\"breast\"],\"xaxis\":\"x\",\"y\":[6],\"yaxis\":\"y\",\"type\":\"bar\"},{\"alignmentgroup\":\"True\",\"hovertemplate\":\"Primary Site=%{x}\\u003cbr\\u003eCount Mutation IDs=%{y}\\u003cextra\\u003e\\u003c\\u002fextra\\u003e\",\"legendgroup\":\"soft_tissue\",\"marker\":{\"color\":\"#FF97FF\",\"pattern\":{\"shape\":\"\"}},\"name\":\"soft_tissue\",\"offsetgroup\":\"soft_tissue\",\"orientation\":\"v\",\"showlegend\":true,\"textposition\":\"auto\",\"x\":[\"soft_tissue\"],\"xaxis\":\"x\",\"y\":[3],\"yaxis\":\"y\",\"type\":\"bar\"},{\"alignmentgroup\":\"True\",\"hovertemplate\":\"Primary Site=%{x}\\u003cbr\\u003eCount Mutation IDs=%{y}\\u003cextra\\u003e\\u003c\\u002fextra\\u003e\",\"legendgroup\":\"biliary_tract\",\"marker\":{\"color\":\"#FECB52\",\"pattern\":{\"shape\":\"\"}},\"name\":\"biliary_tract\",\"offsetgroup\":\"biliary_tract\",\"orientation\":\"v\",\"showlegend\":true,\"textposition\":\"auto\",\"x\":[\"biliary_tract\"],\"xaxis\":\"x\",\"y\":[3],\"yaxis\":\"y\",\"type\":\"bar\"},{\"alignmentgroup\":\"True\",\"hovertemplate\":\"Primary Site=%{x}\\u003cbr\\u003eCount Mutation IDs=%{y}\\u003cextra\\u003e\\u003c\\u002fextra\\u003e\",\"legendgroup\":\"adrenal_gland\",\"marker\":{\"color\":\"#636efa\",\"pattern\":{\"shape\":\"\"}},\"name\":\"adrenal_gland\",\"offsetgroup\":\"adrenal_gland\",\"orientation\":\"v\",\"showlegend\":true,\"textposition\":\"auto\",\"x\":[\"adrenal_gland\"],\"xaxis\":\"x\",\"y\":[2],\"yaxis\":\"y\",\"type\":\"bar\"},{\"alignmentgroup\":\"True\",\"hovertemplate\":\"Primary Site=%{x}\\u003cbr\\u003eCount Mutation IDs=%{y}\\u003cextra\\u003e\\u003c\\u002fextra\\u003e\",\"legendgroup\":\"ovary\",\"marker\":{\"color\":\"#EF553B\",\"pattern\":{\"shape\":\"\"}},\"name\":\"ovary\",\"offsetgroup\":\"ovary\",\"orientation\":\"v\",\"showlegend\":true,\"textposition\":\"auto\",\"x\":[\"ovary\"],\"xaxis\":\"x\",\"y\":[2],\"yaxis\":\"y\",\"type\":\"bar\"},{\"alignmentgroup\":\"True\",\"hovertemplate\":\"Primary Site=%{x}\\u003cbr\\u003eCount Mutation IDs=%{y}\\u003cextra\\u003e\\u003c\\u002fextra\\u003e\",\"legendgroup\":\"small_intestine\",\"marker\":{\"color\":\"#00cc96\",\"pattern\":{\"shape\":\"\"}},\"name\":\"small_intestine\",\"offsetgroup\":\"small_intestine\",\"orientation\":\"v\",\"showlegend\":true,\"textposition\":\"auto\",\"x\":[\"small_intestine\"],\"xaxis\":\"x\",\"y\":[2],\"yaxis\":\"y\",\"type\":\"bar\"},{\"alignmentgroup\":\"True\",\"hovertemplate\":\"Primary Site=%{x}\\u003cbr\\u003eCount Mutation IDs=%{y}\\u003cextra\\u003e\\u003c\\u002fextra\\u003e\",\"legendgroup\":\"testis\",\"marker\":{\"color\":\"#ab63fa\",\"pattern\":{\"shape\":\"\"}},\"name\":\"testis\",\"offsetgroup\":\"testis\",\"orientation\":\"v\",\"showlegend\":true,\"textposition\":\"auto\",\"x\":[\"testis\"],\"xaxis\":\"x\",\"y\":[2],\"yaxis\":\"y\",\"type\":\"bar\"}],                        {\"template\":{\"data\":{\"histogram2dcontour\":[{\"type\":\"histogram2dcontour\",\"colorbar\":{\"outlinewidth\":0,\"ticks\":\"\"},\"colorscale\":[[0.0,\"#0d0887\"],[0.1111111111111111,\"#46039f\"],[0.2222222222222222,\"#7201a8\"],[0.3333333333333333,\"#9c179e\"],[0.4444444444444444,\"#bd3786\"],[0.5555555555555556,\"#d8576b\"],[0.6666666666666666,\"#ed7953\"],[0.7777777777777778,\"#fb9f3a\"],[0.8888888888888888,\"#fdca26\"],[1.0,\"#f0f921\"]]}],\"choropleth\":[{\"type\":\"choropleth\",\"colorbar\":{\"outlinewidth\":0,\"ticks\":\"\"}}],\"histogram2d\":[{\"type\":\"histogram2d\",\"colorbar\":{\"outlinewidth\":0,\"ticks\":\"\"},\"colorscale\":[[0.0,\"#0d0887\"],[0.1111111111111111,\"#46039f\"],[0.2222222222222222,\"#7201a8\"],[0.3333333333333333,\"#9c179e\"],[0.4444444444444444,\"#bd3786\"],[0.5555555555555556,\"#d8576b\"],[0.6666666666666666,\"#ed7953\"],[0.7777777777777778,\"#fb9f3a\"],[0.8888888888888888,\"#fdca26\"],[1.0,\"#f0f921\"]]}],\"heatmap\":[{\"type\":\"heatmap\",\"colorbar\":{\"outlinewidth\":0,\"ticks\":\"\"},\"colorscale\":[[0.0,\"#0d0887\"],[0.1111111111111111,\"#46039f\"],[0.2222222222222222,\"#7201a8\"],[0.3333333333333333,\"#9c179e\"],[0.4444444444444444,\"#bd3786\"],[0.5555555555555556,\"#d8576b\"],[0.6666666666666666,\"#ed7953\"],[0.7777777777777778,\"#fb9f3a\"],[0.8888888888888888,\"#fdca26\"],[1.0,\"#f0f921\"]]}],\"heatmapgl\":[{\"type\":\"heatmapgl\",\"colorbar\":{\"outlinewidth\":0,\"ticks\":\"\"},\"colorscale\":[[0.0,\"#0d0887\"],[0.1111111111111111,\"#46039f\"],[0.2222222222222222,\"#7201a8\"],[0.3333333333333333,\"#9c179e\"],[0.4444444444444444,\"#bd3786\"],[0.5555555555555556,\"#d8576b\"],[0.6666666666666666,\"#ed7953\"],[0.7777777777777778,\"#fb9f3a\"],[0.8888888888888888,\"#fdca26\"],[1.0,\"#f0f921\"]]}],\"contourcarpet\":[{\"type\":\"contourcarpet\",\"colorbar\":{\"outlinewidth\":0,\"ticks\":\"\"}}],\"contour\":[{\"type\":\"contour\",\"colorbar\":{\"outlinewidth\":0,\"ticks\":\"\"},\"colorscale\":[[0.0,\"#0d0887\"],[0.1111111111111111,\"#46039f\"],[0.2222222222222222,\"#7201a8\"],[0.3333333333333333,\"#9c179e\"],[0.4444444444444444,\"#bd3786\"],[0.5555555555555556,\"#d8576b\"],[0.6666666666666666,\"#ed7953\"],[0.7777777777777778,\"#fb9f3a\"],[0.8888888888888888,\"#fdca26\"],[1.0,\"#f0f921\"]]}],\"surface\":[{\"type\":\"surface\",\"colorbar\":{\"outlinewidth\":0,\"ticks\":\"\"},\"colorscale\":[[0.0,\"#0d0887\"],[0.1111111111111111,\"#46039f\"],[0.2222222222222222,\"#7201a8\"],[0.3333333333333333,\"#9c179e\"],[0.4444444444444444,\"#bd3786\"],[0.5555555555555556,\"#d8576b\"],[0.6666666666666666,\"#ed7953\"],[0.7777777777777778,\"#fb9f3a\"],[0.8888888888888888,\"#fdca26\"],[1.0,\"#f0f921\"]]}],\"mesh3d\":[{\"type\":\"mesh3d\",\"colorbar\":{\"outlinewidth\":0,\"ticks\":\"\"}}],\"scatter\":[{\"fillpattern\":{\"fillmode\":\"overlay\",\"size\":10,\"solidity\":0.2},\"type\":\"scatter\"}],\"parcoords\":[{\"type\":\"parcoords\",\"line\":{\"colorbar\":{\"outlinewidth\":0,\"ticks\":\"\"}}}],\"scatterpolargl\":[{\"type\":\"scatterpolargl\",\"marker\":{\"colorbar\":{\"outlinewidth\":0,\"ticks\":\"\"}}}],\"bar\":[{\"error_x\":{\"color\":\"#2a3f5f\"},\"error_y\":{\"color\":\"#2a3f5f\"},\"marker\":{\"line\":{\"color\":\"#E5ECF6\",\"width\":0.5},\"pattern\":{\"fillmode\":\"overlay\",\"size\":10,\"solidity\":0.2}},\"type\":\"bar\"}],\"scattergeo\":[{\"type\":\"scattergeo\",\"marker\":{\"colorbar\":{\"outlinewidth\":0,\"ticks\":\"\"}}}],\"scatterpolar\":[{\"type\":\"scatterpolar\",\"marker\":{\"colorbar\":{\"outlinewidth\":0,\"ticks\":\"\"}}}],\"histogram\":[{\"marker\":{\"pattern\":{\"fillmode\":\"overlay\",\"size\":10,\"solidity\":0.2}},\"type\":\"histogram\"}],\"scattergl\":[{\"type\":\"scattergl\",\"marker\":{\"colorbar\":{\"outlinewidth\":0,\"ticks\":\"\"}}}],\"scatter3d\":[{\"type\":\"scatter3d\",\"line\":{\"colorbar\":{\"outlinewidth\":0,\"ticks\":\"\"}},\"marker\":{\"colorbar\":{\"outlinewidth\":0,\"ticks\":\"\"}}}],\"scattermapbox\":[{\"type\":\"scattermapbox\",\"marker\":{\"colorbar\":{\"outlinewidth\":0,\"ticks\":\"\"}}}],\"scatterternary\":[{\"type\":\"scatterternary\",\"marker\":{\"colorbar\":{\"outlinewidth\":0,\"ticks\":\"\"}}}],\"scattercarpet\":[{\"type\":\"scattercarpet\",\"marker\":{\"colorbar\":{\"outlinewidth\":0,\"ticks\":\"\"}}}],\"carpet\":[{\"aaxis\":{\"endlinecolor\":\"#2a3f5f\",\"gridcolor\":\"white\",\"linecolor\":\"white\",\"minorgridcolor\":\"white\",\"startlinecolor\":\"#2a3f5f\"},\"baxis\":{\"endlinecolor\":\"#2a3f5f\",\"gridcolor\":\"white\",\"linecolor\":\"white\",\"minorgridcolor\":\"white\",\"startlinecolor\":\"#2a3f5f\"},\"type\":\"carpet\"}],\"table\":[{\"cells\":{\"fill\":{\"color\":\"#EBF0F8\"},\"line\":{\"color\":\"white\"}},\"header\":{\"fill\":{\"color\":\"#C8D4E3\"},\"line\":{\"color\":\"white\"}},\"type\":\"table\"}],\"barpolar\":[{\"marker\":{\"line\":{\"color\":\"#E5ECF6\",\"width\":0.5},\"pattern\":{\"fillmode\":\"overlay\",\"size\":10,\"solidity\":0.2}},\"type\":\"barpolar\"}],\"pie\":[{\"automargin\":true,\"type\":\"pie\"}]},\"layout\":{\"autotypenumbers\":\"strict\",\"colorway\":[\"#636efa\",\"#EF553B\",\"#00cc96\",\"#ab63fa\",\"#FFA15A\",\"#19d3f3\",\"#FF6692\",\"#B6E880\",\"#FF97FF\",\"#FECB52\"],\"font\":{\"color\":\"#2a3f5f\"},\"hovermode\":\"closest\",\"hoverlabel\":{\"align\":\"left\"},\"paper_bgcolor\":\"white\",\"plot_bgcolor\":\"#E5ECF6\",\"polar\":{\"bgcolor\":\"#E5ECF6\",\"angularaxis\":{\"gridcolor\":\"white\",\"linecolor\":\"white\",\"ticks\":\"\"},\"radialaxis\":{\"gridcolor\":\"white\",\"linecolor\":\"white\",\"ticks\":\"\"}},\"ternary\":{\"bgcolor\":\"#E5ECF6\",\"aaxis\":{\"gridcolor\":\"white\",\"linecolor\":\"white\",\"ticks\":\"\"},\"baxis\":{\"gridcolor\":\"white\",\"linecolor\":\"white\",\"ticks\":\"\"},\"caxis\":{\"gridcolor\":\"white\",\"linecolor\":\"white\",\"ticks\":\"\"}},\"coloraxis\":{\"colorbar\":{\"outlinewidth\":0,\"ticks\":\"\"}},\"colorscale\":{\"sequential\":[[0.0,\"#0d0887\"],[0.1111111111111111,\"#46039f\"],[0.2222222222222222,\"#7201a8\"],[0.3333333333333333,\"#9c179e\"],[0.4444444444444444,\"#bd3786\"],[0.5555555555555556,\"#d8576b\"],[0.6666666666666666,\"#ed7953\"],[0.7777777777777778,\"#fb9f3a\"],[0.8888888888888888,\"#fdca26\"],[1.0,\"#f0f921\"]],\"sequentialminus\":[[0.0,\"#0d0887\"],[0.1111111111111111,\"#46039f\"],[0.2222222222222222,\"#7201a8\"],[0.3333333333333333,\"#9c179e\"],[0.4444444444444444,\"#bd3786\"],[0.5555555555555556,\"#d8576b\"],[0.6666666666666666,\"#ed7953\"],[0.7777777777777778,\"#fb9f3a\"],[0.8888888888888888,\"#fdca26\"],[1.0,\"#f0f921\"]],\"diverging\":[[0,\"#8e0152\"],[0.1,\"#c51b7d\"],[0.2,\"#de77ae\"],[0.3,\"#f1b6da\"],[0.4,\"#fde0ef\"],[0.5,\"#f7f7f7\"],[0.6,\"#e6f5d0\"],[0.7,\"#b8e186\"],[0.8,\"#7fbc41\"],[0.9,\"#4d9221\"],[1,\"#276419\"]]},\"xaxis\":{\"gridcolor\":\"white\",\"linecolor\":\"white\",\"ticks\":\"\",\"title\":{\"standoff\":15},\"zerolinecolor\":\"white\",\"automargin\":true,\"zerolinewidth\":2},\"yaxis\":{\"gridcolor\":\"white\",\"linecolor\":\"white\",\"ticks\":\"\",\"title\":{\"standoff\":15},\"zerolinecolor\":\"white\",\"automargin\":true,\"zerolinewidth\":2},\"scene\":{\"xaxis\":{\"backgroundcolor\":\"#E5ECF6\",\"gridcolor\":\"white\",\"linecolor\":\"white\",\"showbackground\":true,\"ticks\":\"\",\"zerolinecolor\":\"white\",\"gridwidth\":2},\"yaxis\":{\"backgroundcolor\":\"#E5ECF6\",\"gridcolor\":\"white\",\"linecolor\":\"white\",\"showbackground\":true,\"ticks\":\"\",\"zerolinecolor\":\"white\",\"gridwidth\":2},\"zaxis\":{\"backgroundcolor\":\"#E5ECF6\",\"gridcolor\":\"white\",\"linecolor\":\"white\",\"showbackground\":true,\"ticks\":\"\",\"zerolinecolor\":\"white\",\"gridwidth\":2}},\"shapedefaults\":{\"line\":{\"color\":\"#2a3f5f\"}},\"annotationdefaults\":{\"arrowcolor\":\"#2a3f5f\",\"arrowhead\":0,\"arrowwidth\":1},\"geo\":{\"bgcolor\":\"white\",\"landcolor\":\"#E5ECF6\",\"subunitcolor\":\"white\",\"showland\":true,\"showlakes\":true,\"lakecolor\":\"white\"},\"title\":{\"x\":0.05},\"mapbox\":{\"style\":\"light\"}}},\"xaxis\":{\"anchor\":\"y\",\"domain\":[0.0,1.0],\"title\":{\"text\":\"Primary Site\"},\"categoryorder\":\"array\",\"categoryarray\":[\"skin\",\"large_intestine\",\"lung\",\"stomach\",\"endometrium\",\"NS\",\"upper_aerodigestive_tract\",\"liver\",\"thyroid\",\"oesophagus\",\"haematopoietic_and_lymphoid_tissue\",\"urinary_tract\",\"kidney\",\"pancreas\",\"prostate\",\"central_nervous_system\",\"cervix\",\"breast\",\"soft_tissue\",\"biliary_tract\",\"adrenal_gland\",\"ovary\",\"small_intestine\",\"testis\"],\"tickangle\":45},\"yaxis\":{\"anchor\":\"x\",\"domain\":[0.0,1.0],\"title\":{\"text\":\"Count Mutation IDs\"}},\"legend\":{\"title\":{\"text\":\"Primary Site\"},\"tracegroupgap\":0},\"title\":{\"text\":\"Distribution of mutations by primary site\"},\"barmode\":\"relative\",\"height\":600,\"width\":1200,\"showlegend\":true},                        {\"responsive\": true}                    ).then(function(){\n",
       "                            \n",
       "var gd = document.getElementById('ac538a9f-df33-4a85-8b17-9c3a1898830a');\n",
       "var x = new MutationObserver(function (mutations, observer) {{\n",
       "        var display = window.getComputedStyle(gd).display;\n",
       "        if (!display || display === 'none') {{\n",
       "            console.log([gd, 'removed!']);\n",
       "            Plotly.purge(gd);\n",
       "            observer.disconnect();\n",
       "        }}\n",
       "}});\n",
       "\n",
       "// Listen for the removal of the full notebook cells\n",
       "var notebookContainer = gd.closest('#notebook-container');\n",
       "if (notebookContainer) {{\n",
       "    x.observe(notebookContainer, {childList: true});\n",
       "}}\n",
       "\n",
       "// Listen for the clearing of the current output cell\n",
       "var outputEl = gd.closest('.output');\n",
       "if (outputEl) {{\n",
       "    x.observe(outputEl, {childList: true});\n",
       "}}\n",
       "\n",
       "                        })                };                });            </script>        </div>"
      ]
     },
     "metadata": {},
     "output_type": "display_data"
    }
   ],
   "source": [
    "tissue_grouped_df_sorted = processer.tissue_grouped_df.sort_values(by='COUNT_MUTATION_IDs', ascending=False)\n",
    "\n",
    "fig = px.bar(tissue_grouped_df_sorted, x='PRIMARY_SITE', y='COUNT_MUTATION_IDs', \n",
    "             title='Distribution of mutations by primary site', \n",
    "             labels={'COUNT_MUTATION_IDs': 'Count Mutation IDs', 'PRIMARY_SITE': 'Primary Site'},\n",
    "             color=\"PRIMARY_SITE\",\n",
    "             width=1200, height=600)\n",
    "fig.update_layout(xaxis={'tickangle': 45}, showlegend=True)\n",
    "#transparent background\n",
    "#fig.update_layout(plot_bgcolor='rgba(0,0,0,0)', paper_bgcolor='rgba(0,0,0,0)')\n",
    "\n",
    "fig.show()"
   ]
  },
  {
   "cell_type": "code",
   "execution_count": 21,
   "id": "f356027c-a994-4afe-a096-8f796e81b2b1",
   "metadata": {
    "jupyter": {
     "source_hidden": true
    }
   },
   "outputs": [
    {
     "data": {
      "application/vnd.plotly.v1+json": {
       "config": {
        "plotlyServerURL": "https://plot.ly"
       },
       "data": [
        {
         "alignmentgroup": "True",
         "hovertemplate": "Type=COUNT_MUTATION_IDs<br>Primary Site=%{x}<br>Count=%{y}<extra></extra>",
         "legendgroup": "COUNT_MUTATION_IDs",
         "marker": {
          "color": "blue",
          "pattern": {
           "shape": ""
          }
         },
         "name": "COUNT_MUTATION_IDs",
         "offsetgroup": "COUNT_MUTATION_IDs",
         "orientation": "v",
         "showlegend": true,
         "textposition": "auto",
         "type": "bar",
         "x": [
          "skin",
          "large_intestine",
          "lung",
          "stomach",
          "endometrium",
          "NS",
          "upper_aerodigestive_tract",
          "liver",
          "thyroid",
          "oesophagus",
          "haematopoietic_and_lymphoid_tissue",
          "urinary_tract",
          "kidney",
          "pancreas",
          "prostate",
          "central_nervous_system",
          "cervix",
          "breast",
          "soft_tissue",
          "biliary_tract",
          "adrenal_gland",
          "ovary",
          "small_intestine",
          "testis"
         ],
         "xaxis": "x",
         "y": [
          161,
          84,
          75,
          36,
          35,
          16,
          16,
          16,
          13,
          12,
          12,
          12,
          10,
          10,
          8,
          8,
          6,
          6,
          3,
          3,
          2,
          2,
          2,
          2
         ],
         "yaxis": "y"
        },
        {
         "alignmentgroup": "True",
         "hovertemplate": "Type=SAMPLES_TOT<br>Primary Site=%{x}<br>Count=%{y}<extra></extra>",
         "legendgroup": "SAMPLES_TOT",
         "marker": {
          "color": "red",
          "pattern": {
           "shape": ""
          }
         },
         "name": "SAMPLES_TOT",
         "offsetgroup": "SAMPLES_TOT",
         "orientation": "v",
         "showlegend": true,
         "textposition": "auto",
         "type": "bar",
         "x": [
          "skin",
          "large_intestine",
          "lung",
          "stomach",
          "endometrium",
          "NS",
          "upper_aerodigestive_tract",
          "liver",
          "thyroid",
          "oesophagus",
          "haematopoietic_and_lymphoid_tissue",
          "urinary_tract",
          "kidney",
          "pancreas",
          "prostate",
          "central_nervous_system",
          "cervix",
          "breast",
          "soft_tissue",
          "biliary_tract",
          "adrenal_gland",
          "ovary",
          "small_intestine",
          "testis"
         ],
         "xaxis": "x",
         "y": [
          204,
          110,
          79,
          36,
          37,
          16,
          18,
          26,
          18,
          16,
          12,
          12,
          10,
          14,
          8,
          12,
          6,
          6,
          3,
          3,
          2,
          2,
          2,
          2
         ],
         "yaxis": "y"
        }
       ],
       "layout": {
        "barmode": "group",
        "height": 600,
        "legend": {
         "title": {
          "text": "Type"
         },
         "tracegroupgap": 0
        },
        "showlegend": true,
        "template": {
         "data": {
          "bar": [
           {
            "error_x": {
             "color": "#2a3f5f"
            },
            "error_y": {
             "color": "#2a3f5f"
            },
            "marker": {
             "line": {
              "color": "#E5ECF6",
              "width": 0.5
             },
             "pattern": {
              "fillmode": "overlay",
              "size": 10,
              "solidity": 0.2
             }
            },
            "type": "bar"
           }
          ],
          "barpolar": [
           {
            "marker": {
             "line": {
              "color": "#E5ECF6",
              "width": 0.5
             },
             "pattern": {
              "fillmode": "overlay",
              "size": 10,
              "solidity": 0.2
             }
            },
            "type": "barpolar"
           }
          ],
          "carpet": [
           {
            "aaxis": {
             "endlinecolor": "#2a3f5f",
             "gridcolor": "white",
             "linecolor": "white",
             "minorgridcolor": "white",
             "startlinecolor": "#2a3f5f"
            },
            "baxis": {
             "endlinecolor": "#2a3f5f",
             "gridcolor": "white",
             "linecolor": "white",
             "minorgridcolor": "white",
             "startlinecolor": "#2a3f5f"
            },
            "type": "carpet"
           }
          ],
          "choropleth": [
           {
            "colorbar": {
             "outlinewidth": 0,
             "ticks": ""
            },
            "type": "choropleth"
           }
          ],
          "contour": [
           {
            "colorbar": {
             "outlinewidth": 0,
             "ticks": ""
            },
            "colorscale": [
             [
              0,
              "#0d0887"
             ],
             [
              0.1111111111111111,
              "#46039f"
             ],
             [
              0.2222222222222222,
              "#7201a8"
             ],
             [
              0.3333333333333333,
              "#9c179e"
             ],
             [
              0.4444444444444444,
              "#bd3786"
             ],
             [
              0.5555555555555556,
              "#d8576b"
             ],
             [
              0.6666666666666666,
              "#ed7953"
             ],
             [
              0.7777777777777778,
              "#fb9f3a"
             ],
             [
              0.8888888888888888,
              "#fdca26"
             ],
             [
              1,
              "#f0f921"
             ]
            ],
            "type": "contour"
           }
          ],
          "contourcarpet": [
           {
            "colorbar": {
             "outlinewidth": 0,
             "ticks": ""
            },
            "type": "contourcarpet"
           }
          ],
          "heatmap": [
           {
            "colorbar": {
             "outlinewidth": 0,
             "ticks": ""
            },
            "colorscale": [
             [
              0,
              "#0d0887"
             ],
             [
              0.1111111111111111,
              "#46039f"
             ],
             [
              0.2222222222222222,
              "#7201a8"
             ],
             [
              0.3333333333333333,
              "#9c179e"
             ],
             [
              0.4444444444444444,
              "#bd3786"
             ],
             [
              0.5555555555555556,
              "#d8576b"
             ],
             [
              0.6666666666666666,
              "#ed7953"
             ],
             [
              0.7777777777777778,
              "#fb9f3a"
             ],
             [
              0.8888888888888888,
              "#fdca26"
             ],
             [
              1,
              "#f0f921"
             ]
            ],
            "type": "heatmap"
           }
          ],
          "heatmapgl": [
           {
            "colorbar": {
             "outlinewidth": 0,
             "ticks": ""
            },
            "colorscale": [
             [
              0,
              "#0d0887"
             ],
             [
              0.1111111111111111,
              "#46039f"
             ],
             [
              0.2222222222222222,
              "#7201a8"
             ],
             [
              0.3333333333333333,
              "#9c179e"
             ],
             [
              0.4444444444444444,
              "#bd3786"
             ],
             [
              0.5555555555555556,
              "#d8576b"
             ],
             [
              0.6666666666666666,
              "#ed7953"
             ],
             [
              0.7777777777777778,
              "#fb9f3a"
             ],
             [
              0.8888888888888888,
              "#fdca26"
             ],
             [
              1,
              "#f0f921"
             ]
            ],
            "type": "heatmapgl"
           }
          ],
          "histogram": [
           {
            "marker": {
             "pattern": {
              "fillmode": "overlay",
              "size": 10,
              "solidity": 0.2
             }
            },
            "type": "histogram"
           }
          ],
          "histogram2d": [
           {
            "colorbar": {
             "outlinewidth": 0,
             "ticks": ""
            },
            "colorscale": [
             [
              0,
              "#0d0887"
             ],
             [
              0.1111111111111111,
              "#46039f"
             ],
             [
              0.2222222222222222,
              "#7201a8"
             ],
             [
              0.3333333333333333,
              "#9c179e"
             ],
             [
              0.4444444444444444,
              "#bd3786"
             ],
             [
              0.5555555555555556,
              "#d8576b"
             ],
             [
              0.6666666666666666,
              "#ed7953"
             ],
             [
              0.7777777777777778,
              "#fb9f3a"
             ],
             [
              0.8888888888888888,
              "#fdca26"
             ],
             [
              1,
              "#f0f921"
             ]
            ],
            "type": "histogram2d"
           }
          ],
          "histogram2dcontour": [
           {
            "colorbar": {
             "outlinewidth": 0,
             "ticks": ""
            },
            "colorscale": [
             [
              0,
              "#0d0887"
             ],
             [
              0.1111111111111111,
              "#46039f"
             ],
             [
              0.2222222222222222,
              "#7201a8"
             ],
             [
              0.3333333333333333,
              "#9c179e"
             ],
             [
              0.4444444444444444,
              "#bd3786"
             ],
             [
              0.5555555555555556,
              "#d8576b"
             ],
             [
              0.6666666666666666,
              "#ed7953"
             ],
             [
              0.7777777777777778,
              "#fb9f3a"
             ],
             [
              0.8888888888888888,
              "#fdca26"
             ],
             [
              1,
              "#f0f921"
             ]
            ],
            "type": "histogram2dcontour"
           }
          ],
          "mesh3d": [
           {
            "colorbar": {
             "outlinewidth": 0,
             "ticks": ""
            },
            "type": "mesh3d"
           }
          ],
          "parcoords": [
           {
            "line": {
             "colorbar": {
              "outlinewidth": 0,
              "ticks": ""
             }
            },
            "type": "parcoords"
           }
          ],
          "pie": [
           {
            "automargin": true,
            "type": "pie"
           }
          ],
          "scatter": [
           {
            "fillpattern": {
             "fillmode": "overlay",
             "size": 10,
             "solidity": 0.2
            },
            "type": "scatter"
           }
          ],
          "scatter3d": [
           {
            "line": {
             "colorbar": {
              "outlinewidth": 0,
              "ticks": ""
             }
            },
            "marker": {
             "colorbar": {
              "outlinewidth": 0,
              "ticks": ""
             }
            },
            "type": "scatter3d"
           }
          ],
          "scattercarpet": [
           {
            "marker": {
             "colorbar": {
              "outlinewidth": 0,
              "ticks": ""
             }
            },
            "type": "scattercarpet"
           }
          ],
          "scattergeo": [
           {
            "marker": {
             "colorbar": {
              "outlinewidth": 0,
              "ticks": ""
             }
            },
            "type": "scattergeo"
           }
          ],
          "scattergl": [
           {
            "marker": {
             "colorbar": {
              "outlinewidth": 0,
              "ticks": ""
             }
            },
            "type": "scattergl"
           }
          ],
          "scattermapbox": [
           {
            "marker": {
             "colorbar": {
              "outlinewidth": 0,
              "ticks": ""
             }
            },
            "type": "scattermapbox"
           }
          ],
          "scatterpolar": [
           {
            "marker": {
             "colorbar": {
              "outlinewidth": 0,
              "ticks": ""
             }
            },
            "type": "scatterpolar"
           }
          ],
          "scatterpolargl": [
           {
            "marker": {
             "colorbar": {
              "outlinewidth": 0,
              "ticks": ""
             }
            },
            "type": "scatterpolargl"
           }
          ],
          "scatterternary": [
           {
            "marker": {
             "colorbar": {
              "outlinewidth": 0,
              "ticks": ""
             }
            },
            "type": "scatterternary"
           }
          ],
          "surface": [
           {
            "colorbar": {
             "outlinewidth": 0,
             "ticks": ""
            },
            "colorscale": [
             [
              0,
              "#0d0887"
             ],
             [
              0.1111111111111111,
              "#46039f"
             ],
             [
              0.2222222222222222,
              "#7201a8"
             ],
             [
              0.3333333333333333,
              "#9c179e"
             ],
             [
              0.4444444444444444,
              "#bd3786"
             ],
             [
              0.5555555555555556,
              "#d8576b"
             ],
             [
              0.6666666666666666,
              "#ed7953"
             ],
             [
              0.7777777777777778,
              "#fb9f3a"
             ],
             [
              0.8888888888888888,
              "#fdca26"
             ],
             [
              1,
              "#f0f921"
             ]
            ],
            "type": "surface"
           }
          ],
          "table": [
           {
            "cells": {
             "fill": {
              "color": "#EBF0F8"
             },
             "line": {
              "color": "white"
             }
            },
            "header": {
             "fill": {
              "color": "#C8D4E3"
             },
             "line": {
              "color": "white"
             }
            },
            "type": "table"
           }
          ]
         },
         "layout": {
          "annotationdefaults": {
           "arrowcolor": "#2a3f5f",
           "arrowhead": 0,
           "arrowwidth": 1
          },
          "autotypenumbers": "strict",
          "coloraxis": {
           "colorbar": {
            "outlinewidth": 0,
            "ticks": ""
           }
          },
          "colorscale": {
           "diverging": [
            [
             0,
             "#8e0152"
            ],
            [
             0.1,
             "#c51b7d"
            ],
            [
             0.2,
             "#de77ae"
            ],
            [
             0.3,
             "#f1b6da"
            ],
            [
             0.4,
             "#fde0ef"
            ],
            [
             0.5,
             "#f7f7f7"
            ],
            [
             0.6,
             "#e6f5d0"
            ],
            [
             0.7,
             "#b8e186"
            ],
            [
             0.8,
             "#7fbc41"
            ],
            [
             0.9,
             "#4d9221"
            ],
            [
             1,
             "#276419"
            ]
           ],
           "sequential": [
            [
             0,
             "#0d0887"
            ],
            [
             0.1111111111111111,
             "#46039f"
            ],
            [
             0.2222222222222222,
             "#7201a8"
            ],
            [
             0.3333333333333333,
             "#9c179e"
            ],
            [
             0.4444444444444444,
             "#bd3786"
            ],
            [
             0.5555555555555556,
             "#d8576b"
            ],
            [
             0.6666666666666666,
             "#ed7953"
            ],
            [
             0.7777777777777778,
             "#fb9f3a"
            ],
            [
             0.8888888888888888,
             "#fdca26"
            ],
            [
             1,
             "#f0f921"
            ]
           ],
           "sequentialminus": [
            [
             0,
             "#0d0887"
            ],
            [
             0.1111111111111111,
             "#46039f"
            ],
            [
             0.2222222222222222,
             "#7201a8"
            ],
            [
             0.3333333333333333,
             "#9c179e"
            ],
            [
             0.4444444444444444,
             "#bd3786"
            ],
            [
             0.5555555555555556,
             "#d8576b"
            ],
            [
             0.6666666666666666,
             "#ed7953"
            ],
            [
             0.7777777777777778,
             "#fb9f3a"
            ],
            [
             0.8888888888888888,
             "#fdca26"
            ],
            [
             1,
             "#f0f921"
            ]
           ]
          },
          "colorway": [
           "#636efa",
           "#EF553B",
           "#00cc96",
           "#ab63fa",
           "#FFA15A",
           "#19d3f3",
           "#FF6692",
           "#B6E880",
           "#FF97FF",
           "#FECB52"
          ],
          "font": {
           "color": "#2a3f5f"
          },
          "geo": {
           "bgcolor": "white",
           "lakecolor": "white",
           "landcolor": "#E5ECF6",
           "showlakes": true,
           "showland": true,
           "subunitcolor": "white"
          },
          "hoverlabel": {
           "align": "left"
          },
          "hovermode": "closest",
          "mapbox": {
           "style": "light"
          },
          "paper_bgcolor": "white",
          "plot_bgcolor": "#E5ECF6",
          "polar": {
           "angularaxis": {
            "gridcolor": "white",
            "linecolor": "white",
            "ticks": ""
           },
           "bgcolor": "#E5ECF6",
           "radialaxis": {
            "gridcolor": "white",
            "linecolor": "white",
            "ticks": ""
           }
          },
          "scene": {
           "xaxis": {
            "backgroundcolor": "#E5ECF6",
            "gridcolor": "white",
            "gridwidth": 2,
            "linecolor": "white",
            "showbackground": true,
            "ticks": "",
            "zerolinecolor": "white"
           },
           "yaxis": {
            "backgroundcolor": "#E5ECF6",
            "gridcolor": "white",
            "gridwidth": 2,
            "linecolor": "white",
            "showbackground": true,
            "ticks": "",
            "zerolinecolor": "white"
           },
           "zaxis": {
            "backgroundcolor": "#E5ECF6",
            "gridcolor": "white",
            "gridwidth": 2,
            "linecolor": "white",
            "showbackground": true,
            "ticks": "",
            "zerolinecolor": "white"
           }
          },
          "shapedefaults": {
           "line": {
            "color": "#2a3f5f"
           }
          },
          "ternary": {
           "aaxis": {
            "gridcolor": "white",
            "linecolor": "white",
            "ticks": ""
           },
           "baxis": {
            "gridcolor": "white",
            "linecolor": "white",
            "ticks": ""
           },
           "bgcolor": "#E5ECF6",
           "caxis": {
            "gridcolor": "white",
            "linecolor": "white",
            "ticks": ""
           }
          },
          "title": {
           "x": 0.05
          },
          "xaxis": {
           "automargin": true,
           "gridcolor": "white",
           "linecolor": "white",
           "ticks": "",
           "title": {
            "standoff": 15
           },
           "zerolinecolor": "white",
           "zerolinewidth": 2
          },
          "yaxis": {
           "automargin": true,
           "gridcolor": "white",
           "linecolor": "white",
           "ticks": "",
           "title": {
            "standoff": 15
           },
           "zerolinecolor": "white",
           "zerolinewidth": 2
          }
         }
        },
        "title": {
         "text": "Distribution of mutations and samples by primary site"
        },
        "width": 1200,
        "xaxis": {
         "anchor": "y",
         "autorange": true,
         "domain": [
          0,
          1
         ],
         "range": [
          -0.5,
          23.5
         ],
         "tickangle": 45,
         "title": {
          "text": "Primary Site"
         },
         "type": "category"
        },
        "yaxis": {
         "anchor": "x",
         "autorange": true,
         "domain": [
          0,
          1
         ],
         "range": [
          0,
          214.73684210526315
         ],
         "title": {
          "text": "Count"
         },
         "type": "linear"
        }
       }
      },
      "image/png": "[encoded data removed]",
      "text/html": [
       "<div>                            <div id=\"597e02c0-200f-43c0-803e-c6a5951f3b0d\" class=\"plotly-graph-div\" style=\"height:600px; width:1200px;\"></div>            <script type=\"text/javascript\">                require([\"plotly\"], function(Plotly) {                    window.PLOTLYENV=window.PLOTLYENV || {};                                    if (document.getElementById(\"597e02c0-200f-43c0-803e-c6a5951f3b0d\")) {                    Plotly.newPlot(                        \"597e02c0-200f-43c0-803e-c6a5951f3b0d\",                        [{\"alignmentgroup\":\"True\",\"hovertemplate\":\"Type=COUNT_MUTATION_IDs\\u003cbr\\u003ePrimary Site=%{x}\\u003cbr\\u003eCount=%{y}\\u003cextra\\u003e\\u003c\\u002fextra\\u003e\",\"legendgroup\":\"COUNT_MUTATION_IDs\",\"marker\":{\"color\":\"blue\",\"pattern\":{\"shape\":\"\"}},\"name\":\"COUNT_MUTATION_IDs\",\"offsetgroup\":\"COUNT_MUTATION_IDs\",\"orientation\":\"v\",\"showlegend\":true,\"textposition\":\"auto\",\"x\":[\"skin\",\"large_intestine\",\"lung\",\"stomach\",\"endometrium\",\"NS\",\"upper_aerodigestive_tract\",\"liver\",\"thyroid\",\"oesophagus\",\"haematopoietic_and_lymphoid_tissue\",\"urinary_tract\",\"kidney\",\"pancreas\",\"prostate\",\"central_nervous_system\",\"cervix\",\"breast\",\"soft_tissue\",\"biliary_tract\",\"adrenal_gland\",\"ovary\",\"small_intestine\",\"testis\"],\"xaxis\":\"x\",\"y\":[161,84,75,36,35,16,16,16,13,12,12,12,10,10,8,8,6,6,3,3,2,2,2,2],\"yaxis\":\"y\",\"type\":\"bar\"},{\"alignmentgroup\":\"True\",\"hovertemplate\":\"Type=SAMPLES_TOT\\u003cbr\\u003ePrimary Site=%{x}\\u003cbr\\u003eCount=%{y}\\u003cextra\\u003e\\u003c\\u002fextra\\u003e\",\"legendgroup\":\"SAMPLES_TOT\",\"marker\":{\"color\":\"red\",\"pattern\":{\"shape\":\"\"}},\"name\":\"SAMPLES_TOT\",\"offsetgroup\":\"SAMPLES_TOT\",\"orientation\":\"v\",\"showlegend\":true,\"textposition\":\"auto\",\"x\":[\"skin\",\"large_intestine\",\"lung\",\"stomach\",\"endometrium\",\"NS\",\"upper_aerodigestive_tract\",\"liver\",\"thyroid\",\"oesophagus\",\"haematopoietic_and_lymphoid_tissue\",\"urinary_tract\",\"kidney\",\"pancreas\",\"prostate\",\"central_nervous_system\",\"cervix\",\"breast\",\"soft_tissue\",\"biliary_tract\",\"adrenal_gland\",\"ovary\",\"small_intestine\",\"testis\"],\"xaxis\":\"x\",\"y\":[204,110,79,36,37,16,18,26,18,16,12,12,10,14,8,12,6,6,3,3,2,2,2,2],\"yaxis\":\"y\",\"type\":\"bar\"}],                        {\"template\":{\"data\":{\"histogram2dcontour\":[{\"type\":\"histogram2dcontour\",\"colorbar\":{\"outlinewidth\":0,\"ticks\":\"\"},\"colorscale\":[[0.0,\"#0d0887\"],[0.1111111111111111,\"#46039f\"],[0.2222222222222222,\"#7201a8\"],[0.3333333333333333,\"#9c179e\"],[0.4444444444444444,\"#bd3786\"],[0.5555555555555556,\"#d8576b\"],[0.6666666666666666,\"#ed7953\"],[0.7777777777777778,\"#fb9f3a\"],[0.8888888888888888,\"#fdca26\"],[1.0,\"#f0f921\"]]}],\"choropleth\":[{\"type\":\"choropleth\",\"colorbar\":{\"outlinewidth\":0,\"ticks\":\"\"}}],\"histogram2d\":[{\"type\":\"histogram2d\",\"colorbar\":{\"outlinewidth\":0,\"ticks\":\"\"},\"colorscale\":[[0.0,\"#0d0887\"],[0.1111111111111111,\"#46039f\"],[0.2222222222222222,\"#7201a8\"],[0.3333333333333333,\"#9c179e\"],[0.4444444444444444,\"#bd3786\"],[0.5555555555555556,\"#d8576b\"],[0.6666666666666666,\"#ed7953\"],[0.7777777777777778,\"#fb9f3a\"],[0.8888888888888888,\"#fdca26\"],[1.0,\"#f0f921\"]]}],\"heatmap\":[{\"type\":\"heatmap\",\"colorbar\":{\"outlinewidth\":0,\"ticks\":\"\"},\"colorscale\":[[0.0,\"#0d0887\"],[0.1111111111111111,\"#46039f\"],[0.2222222222222222,\"#7201a8\"],[0.3333333333333333,\"#9c179e\"],[0.4444444444444444,\"#bd3786\"],[0.5555555555555556,\"#d8576b\"],[0.6666666666666666,\"#ed7953\"],[0.7777777777777778,\"#fb9f3a\"],[0.8888888888888888,\"#fdca26\"],[1.0,\"#f0f921\"]]}],\"heatmapgl\":[{\"type\":\"heatmapgl\",\"colorbar\":{\"outlinewidth\":0,\"ticks\":\"\"},\"colorscale\":[[0.0,\"#0d0887\"],[0.1111111111111111,\"#46039f\"],[0.2222222222222222,\"#7201a8\"],[0.3333333333333333,\"#9c179e\"],[0.4444444444444444,\"#bd3786\"],[0.5555555555555556,\"#d8576b\"],[0.6666666666666666,\"#ed7953\"],[0.7777777777777778,\"#fb9f3a\"],[0.8888888888888888,\"#fdca26\"],[1.0,\"#f0f921\"]]}],\"contourcarpet\":[{\"type\":\"contourcarpet\",\"colorbar\":{\"outlinewidth\":0,\"ticks\":\"\"}}],\"contour\":[{\"type\":\"contour\",\"colorbar\":{\"outlinewidth\":0,\"ticks\":\"\"},\"colorscale\":[[0.0,\"#0d0887\"],[0.1111111111111111,\"#46039f\"],[0.2222222222222222,\"#7201a8\"],[0.3333333333333333,\"#9c179e\"],[0.4444444444444444,\"#bd3786\"],[0.5555555555555556,\"#d8576b\"],[0.6666666666666666,\"#ed7953\"],[0.7777777777777778,\"#fb9f3a\"],[0.8888888888888888,\"#fdca26\"],[1.0,\"#f0f921\"]]}],\"surface\":[{\"type\":\"surface\",\"colorbar\":{\"outlinewidth\":0,\"ticks\":\"\"},\"colorscale\":[[0.0,\"#0d0887\"],[0.1111111111111111,\"#46039f\"],[0.2222222222222222,\"#7201a8\"],[0.3333333333333333,\"#9c179e\"],[0.4444444444444444,\"#bd3786\"],[0.5555555555555556,\"#d8576b\"],[0.6666666666666666,\"#ed7953\"],[0.7777777777777778,\"#fb9f3a\"],[0.8888888888888888,\"#fdca26\"],[1.0,\"#f0f921\"]]}],\"mesh3d\":[{\"type\":\"mesh3d\",\"colorbar\":{\"outlinewidth\":0,\"ticks\":\"\"}}],\"scatter\":[{\"fillpattern\":{\"fillmode\":\"overlay\",\"size\":10,\"solidity\":0.2},\"type\":\"scatter\"}],\"parcoords\":[{\"type\":\"parcoords\",\"line\":{\"colorbar\":{\"outlinewidth\":0,\"ticks\":\"\"}}}],\"scatterpolargl\":[{\"type\":\"scatterpolargl\",\"marker\":{\"colorbar\":{\"outlinewidth\":0,\"ticks\":\"\"}}}],\"bar\":[{\"error_x\":{\"color\":\"#2a3f5f\"},\"error_y\":{\"color\":\"#2a3f5f\"},\"marker\":{\"line\":{\"color\":\"#E5ECF6\",\"width\":0.5},\"pattern\":{\"fillmode\":\"overlay\",\"size\":10,\"solidity\":0.2}},\"type\":\"bar\"}],\"scattergeo\":[{\"type\":\"scattergeo\",\"marker\":{\"colorbar\":{\"outlinewidth\":0,\"ticks\":\"\"}}}],\"scatterpolar\":[{\"type\":\"scatterpolar\",\"marker\":{\"colorbar\":{\"outlinewidth\":0,\"ticks\":\"\"}}}],\"histogram\":[{\"marker\":{\"pattern\":{\"fillmode\":\"overlay\",\"size\":10,\"solidity\":0.2}},\"type\":\"histogram\"}],\"scattergl\":[{\"type\":\"scattergl\",\"marker\":{\"colorbar\":{\"outlinewidth\":0,\"ticks\":\"\"}}}],\"scatter3d\":[{\"type\":\"scatter3d\",\"line\":{\"colorbar\":{\"outlinewidth\":0,\"ticks\":\"\"}},\"marker\":{\"colorbar\":{\"outlinewidth\":0,\"ticks\":\"\"}}}],\"scattermapbox\":[{\"type\":\"scattermapbox\",\"marker\":{\"colorbar\":{\"outlinewidth\":0,\"ticks\":\"\"}}}],\"scatterternary\":[{\"type\":\"scatterternary\",\"marker\":{\"colorbar\":{\"outlinewidth\":0,\"ticks\":\"\"}}}],\"scattercarpet\":[{\"type\":\"scattercarpet\",\"marker\":{\"colorbar\":{\"outlinewidth\":0,\"ticks\":\"\"}}}],\"carpet\":[{\"aaxis\":{\"endlinecolor\":\"#2a3f5f\",\"gridcolor\":\"white\",\"linecolor\":\"white\",\"minorgridcolor\":\"white\",\"startlinecolor\":\"#2a3f5f\"},\"baxis\":{\"endlinecolor\":\"#2a3f5f\",\"gridcolor\":\"white\",\"linecolor\":\"white\",\"minorgridcolor\":\"white\",\"startlinecolor\":\"#2a3f5f\"},\"type\":\"carpet\"}],\"table\":[{\"cells\":{\"fill\":{\"color\":\"#EBF0F8\"},\"line\":{\"color\":\"white\"}},\"header\":{\"fill\":{\"color\":\"#C8D4E3\"},\"line\":{\"color\":\"white\"}},\"type\":\"table\"}],\"barpolar\":[{\"marker\":{\"line\":{\"color\":\"#E5ECF6\",\"width\":0.5},\"pattern\":{\"fillmode\":\"overlay\",\"size\":10,\"solidity\":0.2}},\"type\":\"barpolar\"}],\"pie\":[{\"automargin\":true,\"type\":\"pie\"}]},\"layout\":{\"autotypenumbers\":\"strict\",\"colorway\":[\"#636efa\",\"#EF553B\",\"#00cc96\",\"#ab63fa\",\"#FFA15A\",\"#19d3f3\",\"#FF6692\",\"#B6E880\",\"#FF97FF\",\"#FECB52\"],\"font\":{\"color\":\"#2a3f5f\"},\"hovermode\":\"closest\",\"hoverlabel\":{\"align\":\"left\"},\"paper_bgcolor\":\"white\",\"plot_bgcolor\":\"#E5ECF6\",\"polar\":{\"bgcolor\":\"#E5ECF6\",\"angularaxis\":{\"gridcolor\":\"white\",\"linecolor\":\"white\",\"ticks\":\"\"},\"radialaxis\":{\"gridcolor\":\"white\",\"linecolor\":\"white\",\"ticks\":\"\"}},\"ternary\":{\"bgcolor\":\"#E5ECF6\",\"aaxis\":{\"gridcolor\":\"white\",\"linecolor\":\"white\",\"ticks\":\"\"},\"baxis\":{\"gridcolor\":\"white\",\"linecolor\":\"white\",\"ticks\":\"\"},\"caxis\":{\"gridcolor\":\"white\",\"linecolor\":\"white\",\"ticks\":\"\"}},\"coloraxis\":{\"colorbar\":{\"outlinewidth\":0,\"ticks\":\"\"}},\"colorscale\":{\"sequential\":[[0.0,\"#0d0887\"],[0.1111111111111111,\"#46039f\"],[0.2222222222222222,\"#7201a8\"],[0.3333333333333333,\"#9c179e\"],[0.4444444444444444,\"#bd3786\"],[0.5555555555555556,\"#d8576b\"],[0.6666666666666666,\"#ed7953\"],[0.7777777777777778,\"#fb9f3a\"],[0.8888888888888888,\"#fdca26\"],[1.0,\"#f0f921\"]],\"sequentialminus\":[[0.0,\"#0d0887\"],[0.1111111111111111,\"#46039f\"],[0.2222222222222222,\"#7201a8\"],[0.3333333333333333,\"#9c179e\"],[0.4444444444444444,\"#bd3786\"],[0.5555555555555556,\"#d8576b\"],[0.6666666666666666,\"#ed7953\"],[0.7777777777777778,\"#fb9f3a\"],[0.8888888888888888,\"#fdca26\"],[1.0,\"#f0f921\"]],\"diverging\":[[0,\"#8e0152\"],[0.1,\"#c51b7d\"],[0.2,\"#de77ae\"],[0.3,\"#f1b6da\"],[0.4,\"#fde0ef\"],[0.5,\"#f7f7f7\"],[0.6,\"#e6f5d0\"],[0.7,\"#b8e186\"],[0.8,\"#7fbc41\"],[0.9,\"#4d9221\"],[1,\"#276419\"]]},\"xaxis\":{\"gridcolor\":\"white\",\"linecolor\":\"white\",\"ticks\":\"\",\"title\":{\"standoff\":15},\"zerolinecolor\":\"white\",\"automargin\":true,\"zerolinewidth\":2},\"yaxis\":{\"gridcolor\":\"white\",\"linecolor\":\"white\",\"ticks\":\"\",\"title\":{\"standoff\":15},\"zerolinecolor\":\"white\",\"automargin\":true,\"zerolinewidth\":2},\"scene\":{\"xaxis\":{\"backgroundcolor\":\"#E5ECF6\",\"gridcolor\":\"white\",\"linecolor\":\"white\",\"showbackground\":true,\"ticks\":\"\",\"zerolinecolor\":\"white\",\"gridwidth\":2},\"yaxis\":{\"backgroundcolor\":\"#E5ECF6\",\"gridcolor\":\"white\",\"linecolor\":\"white\",\"showbackground\":true,\"ticks\":\"\",\"zerolinecolor\":\"white\",\"gridwidth\":2},\"zaxis\":{\"backgroundcolor\":\"#E5ECF6\",\"gridcolor\":\"white\",\"linecolor\":\"white\",\"showbackground\":true,\"ticks\":\"\",\"zerolinecolor\":\"white\",\"gridwidth\":2}},\"shapedefaults\":{\"line\":{\"color\":\"#2a3f5f\"}},\"annotationdefaults\":{\"arrowcolor\":\"#2a3f5f\",\"arrowhead\":0,\"arrowwidth\":1},\"geo\":{\"bgcolor\":\"white\",\"landcolor\":\"#E5ECF6\",\"subunitcolor\":\"white\",\"showland\":true,\"showlakes\":true,\"lakecolor\":\"white\"},\"title\":{\"x\":0.05},\"mapbox\":{\"style\":\"light\"}}},\"xaxis\":{\"anchor\":\"y\",\"domain\":[0.0,1.0],\"title\":{\"text\":\"Primary Site\"},\"tickangle\":45},\"yaxis\":{\"anchor\":\"x\",\"domain\":[0.0,1.0],\"title\":{\"text\":\"Count\"}},\"legend\":{\"title\":{\"text\":\"Type\"},\"tracegroupgap\":0},\"title\":{\"text\":\"Distribution of mutations and samples by primary site\"},\"barmode\":\"group\",\"height\":600,\"width\":1200,\"showlegend\":true},                        {\"responsive\": true}                    ).then(function(){\n",
       "                            \n",
       "var gd = document.getElementById('597e02c0-200f-43c0-803e-c6a5951f3b0d');\n",
       "var x = new MutationObserver(function (mutations, observer) {{\n",
       "        var display = window.getComputedStyle(gd).display;\n",
       "        if (!display || display === 'none') {{\n",
       "            console.log([gd, 'removed!']);\n",
       "            Plotly.purge(gd);\n",
       "            observer.disconnect();\n",
       "        }}\n",
       "}});\n",
       "\n",
       "// Listen for the removal of the full notebook cells\n",
       "var notebookContainer = gd.closest('#notebook-container');\n",
       "if (notebookContainer) {{\n",
       "    x.observe(notebookContainer, {childList: true});\n",
       "}}\n",
       "\n",
       "// Listen for the clearing of the current output cell\n",
       "var outputEl = gd.closest('.output');\n",
       "if (outputEl) {{\n",
       "    x.observe(outputEl, {childList: true});\n",
       "}}\n",
       "\n",
       "                        })                };                });            </script>        </div>"
      ]
     },
     "metadata": {},
     "output_type": "display_data"
    }
   ],
   "source": [
    "\n",
    "tissue_grouped_df_sorted = processer.tissue_grouped_df.sort_values(by='COUNT_MUTATION_IDs', ascending=False)\n",
    "\n",
    "#fig = px.bar(tissue_grouped_df_sorted, x='PRIMARY_SITE', y='COUNT_MUTATION_IDs', \n",
    "#             title='Distribution of mutations by primary site', \n",
    "#             labels={'COUNT_MUTATION_IDs': 'Count Mutation IDs', 'PRIMARY_SITE': 'Primary Site'},\n",
    "#             color=\"PRIMARY_SITE\",\n",
    "#             width=1200, height=600)\n",
    "\n",
    "fig = px.bar(tissue_grouped_df_sorted, x='PRIMARY_SITE', y=['COUNT_MUTATION_IDs', 'SAMPLES_TOT'], \n",
    "             title='Distribution of mutations and samples by primary site', \n",
    "             labels={'value': 'Count', 'variable': 'Type', 'PRIMARY_SITE': 'Primary Site'},\n",
    "             color_discrete_map={\"COUNT_MUTATION_IDs\": \"blue\", \"SAMPLES_TOT\": \"red\"},\n",
    "             barmode='group',\n",
    "             width=1200, height=600)\n",
    "\n",
    "fig.update_layout(xaxis={'tickangle': 45}, showlegend=True)\n",
    "#transparent background\n",
    "#fig.update_layout(plot_bgcolor='rgba(0,0,0,0)', paper_bgcolor='rgba(0,0,0,0)')\n",
    "\n",
    "fig.show()\n"
   ]
  },
  {
   "cell_type": "markdown",
   "id": "cf749f95-9eb2-45bf-9ccf-14432dfa889b",
   "metadata": {
    "jp-MarkdownHeadingCollapsed": true
   },
   "source": [
    "# Automatic Shifting"
   ]
  },
  {
   "cell_type": "code",
   "execution_count": 49,
   "id": "b8e03d21-5726-431b-8382-477703f3afba",
   "metadata": {},
   "outputs": [],
   "source": [
    "    def parallel_shift_calculation(self):\n",
    "        '''Here we compute the shift according to uniprot or authors\n",
    "        in order to be in line with UNIPROT numbering which is crucial for later renumbering.'''\n",
    "        \n",
    "        pdbs_to_retrieve = [f[0:4] for f in os.listdir(self.work_dir) if f.endswith(\".pdb\")]  \n",
    "        #pdbs_to_retrieve = set(pdbs_to_retrieve) & set(x[:4] for x in self.oligodict.keys()) #here we check the first 4 which is pdb code\n",
    "        link_path = \"https://www.ebi.ac.uk/pdbe/api/mappings/uniprot\"\n",
    "        shift_dict = defaultdict()\n",
    "        \n",
    "        with ThreadPoolExecutor() as executor:\n",
    "            calculate_shift_bound = partial(self._calculate_shift)\n",
    "            tasks = ((link_path, pdb) for pdb in pdbs_to_retrieve)\n",
    "            # Map the bound function to the arguments in parallel\n",
    "            results = executor.map(calculate_shift_bound, tasks)\n",
    "            for result in results:\n",
    "                for keys, vals in result.items():\n",
    "                    shift_dict[keys] = vals\n",
    "                    \n",
    "        self.shifts = shift_dict\n",
    "\n",
    "    def _calculate_shift(self, args):\n",
    "        '''\n",
    "        Helper function to compute the shift.\n",
    "        Args: link_path to UNIPROT page and the pdb path.\n",
    "        '''\n",
    "        link_path, pdb = args\n",
    "        shift_dict = defaultdict()\n",
    "        searchp = f\"{link_path}/{pdb[0:4]}\"\n",
    "        resp = self._get_url(searchp)\n",
    "        resp = resp.json()\n",
    "        for pdb_id, pdb_info in resp.items():\n",
    "            for uniprot_id, uniprot_info in pdb_info['UniProt'].items():\n",
    "                for mapping in uniprot_info['mappings']:\n",
    "                    chain_id = mapping['chain_id']\n",
    "                    unp_start = mapping['unp_start']\n",
    "                    unp_end = mapping['unp_end']\n",
    "                    author_start = mapping['start']['author_residue_number']\n",
    "                    author_end = mapping['end']['author_residue_number']\n",
    "    \n",
    "                    if author_start is None:\n",
    "                        author_start = unp_start\n",
    "                    if author_end is None:\n",
    "                        author_end = unp_end\n",
    "                    shift_start = unp_start - author_start\n",
    "                    shift_end = unp_end - author_end\n",
    "                    shift_dict[f\"{pdb_id}_{chain_id}\"] = shift_start \n",
    "                    \n",
    "        self.shift_dict = shift_dict\n",
    "        return shift_dict\n",
    "\n",
    "    \n",
    "    def parallel_renumbering(self):\n",
    "        '''\n",
    "        Helper function to do parallelized renumbering.\n",
    "        If already renumbered, don't do it again.\n",
    "        '''\n",
    "        if self.renumbered:\n",
    "            print(\"You already renumbered your structures based on shift.\")\n",
    "            return  # Exit the function early\n",
    "\n",
    "        if not self.shifts:\n",
    "            print(\"You first need to obtain shifts which will be used as reference in order to start renumbering.\\nCall .parallel_shift_calculation() first.\")\n",
    "            return  # Exit the function if no shifts are available\n",
    "\n",
    "        # At this point, we know renumbering has not been done and shifts are available\n",
    "        relevant_files = self.chain_seq_dict.keys()\n",
    "        with ProcessPoolExecutor() as executor:\n",
    "            # Using partial to create a function with fixed parameters (shift_dict, path)\n",
    "            renumber_structure_partial = partial(self._renumber_structure, shift_dict=self.shifts, path=self.work_dir)\n",
    "            # Map the renumbering function to each relevant file in parallel\n",
    "            executor.map(renumber_structure_partial, relevant_files)\n",
    "\n",
    "        self.renumbered = True\n",
    "\n",
    "    \n",
    "    def _renumber_structure(self, files, shift_dict, path):\n",
    "        '''Function that is going to apply pdb_shiftres_by_chain.py to each pdb file that is shifted.\n",
    "        Will apply renumbering to ALL structures if you did not set a cutoff previously and applied filter. \n",
    "        If filter applied for resolution will only renumber those structures that are left after filtering.'''\n",
    "        for keys, vals in shift_dict.items():\n",
    "            #dont renumber if there is not shift\n",
    "            if files == keys[0:4] and vals != str(0):\n",
    "                chain = keys[-1]\n",
    "                shift = int(vals)\n",
    "                filepath = f\"{self.work_dir}/{files}.pdb\"\n",
    "                # Should we really shift by shift + 1??? or just shift?\n",
    "                bash_cmd = f\"python {self.script_dir}/pdb_shiftres_by_chain.py {filepath} {shift} {chain}\"\n",
    "                bash_cmd_rdy = bash_cmd.split()\n",
    "            \n",
    "                with open(f\"{filepath}_tmp\", \"w\") as fh_tmp:\n",
    "                    result = run(bash_cmd_rdy, stdout=fh_tmp, stderr=PIPE, universal_newlines=True)\n",
    "                    # Now replace the original one with the temp file.\n",
    "                    os.replace(f\"{filepath}_tmp\", filepath)"
   ]
  },
  {
   "cell_type": "markdown",
   "id": "f1826870-f34f-4744-8030-28133f4ac124",
   "metadata": {},
   "source": [
    "# Other"
   ]
  },
  {
   "cell_type": "code",
   "execution_count": 8,
   "id": "6d6c2eda-38fa-4a04-ac41-012fa51baf27",
   "metadata": {},
   "outputs": [
    {
     "name": "stdout",
     "output_type": "stream",
     "text": [
      "name 'get_cosmic_mutations' is not defined\n"
     ]
    },
    {
     "ename": "NameError",
     "evalue": "name 'save_DataFrame_to_csv' is not defined",
     "output_type": "error",
     "traceback": [
      "\u001b[0;31m---------------------------------------------------------------------------\u001b[0m",
      "\u001b[0;31mNameError\u001b[0m                                 Traceback (most recent call last)",
      "Cell \u001b[0;32mIn[8], line 11\u001b[0m\n\u001b[1;32m      9\u001b[0m     \u001b[38;5;28mprint\u001b[39m(error)\n\u001b[1;32m     10\u001b[0m \u001b[38;5;66;03m#we save it in the folder for the protein outside of monomer / pos at the base level. \u001b[39;00m\n\u001b[0;32m---> 11\u001b[0m \u001b[43msave_DataFrame_to_csv\u001b[49m(cosmic_df, path, \u001b[38;5;124m\"\u001b[39m\u001b[38;5;124mcosmic_mutations\u001b[39m\u001b[38;5;124m\"\u001b[39m)\n\u001b[1;32m     12\u001b[0m \u001b[38;5;66;03m# Step 2: Map gnomad mutations\u001b[39;00m\n\u001b[1;32m     13\u001b[0m \u001b[38;5;28;01mtry\u001b[39;00m:\n",
      "\u001b[0;31mNameError\u001b[0m: name 'save_DataFrame_to_csv' is not defined"
     ]
    }
   ],
   "source": [
    "# Initialize variables to avoid errors\n",
    "updated_clinvar_df = cbioport_df = cosmic_df = gnomad_df = clinvar_df = gnomad_mut_dict = gnomad_mutation_dict = None\n",
    "\n",
    "    \n",
    "# Step 1: Cosmic mutations\n",
    "try:\n",
    "    cosmic_df = get_cosmic_mutations(gene_name=main_prot_name)\n",
    "except Exception as error:\n",
    "    print(error)\n",
    "#we save it in the folder for the protein outside of monomer / pos at the base level. \n",
    "save_DataFrame_to_csv(cosmic_df, path, \"cosmic_mutations\")\n",
    "# Step 2: Map gnomad mutations\n",
    "try:\n",
    "    gnomad_table_path = map_gnomad(Gene_name=main_prot_name, outpath=oligo_state_to_check)\n",
    "    gnomad_df, gnomad_mutation_dict = gnomad_to_pandas(Gene_name=main_prot_name, path_to_tsv=gnomad_table_path, fasta_seq=main_prot_seq)\n",
    "except Exception as error:\n",
    "    print(error)\n",
    "\n",
    "save_DataFrame_to_csv(gnomad_df, path, \"gnomad_mutations\")\n",
    "# Step 3: Gather mutations from clinvar\n",
    "try:\n",
    "    clinvar_df = map_clinvar(Gene_name=main_prot_name)\n",
    "    clinvar_map_outpath = f\"{path}/clinvar_intermediate.csv\"\n",
    "except Exception as error:\n",
    "    print(error)\n",
    "\n",
    "save_DataFrame_to_csv(clinvar_df, path, \"clinvar_intermediate\")\n",
    "# Step 4: Map clinvar to gnomad\n",
    "try:\n",
    "    list_to_be_searched, clinvar_df = map_clinvar_to_gnomad_1(Gene_name=main_prot_name, clinvar_df=clinvar_df,\n",
    "                                                              gnomad_mut_dict=gnomad_mutation_dict, clinvar_mapped_df_path=clinvar_map_outpath)\n",
    "except Exception as error:\n",
    "    print(error)\n",
    "    # Update clinvar muts that were found 1 step before.\n",
    "    try:\n",
    "        updated_clinvar_df = update_clinvar_muts_based_on_gnomad(clinvar_df=clinvar_df, gnomad_dict=gnomad_mutation_dict)\n",
    "    except Exception as error:\n",
    "        print(error)\n",
    "\n",
    "save_DataFrame_to_csv(updated_clinvar_df, path, \"clinvar_mutations\")\n",
    "# Step 5: Fetch additional info from cbioportal\n",
    "try:\n",
    "    gene_name = get_hugo_name(uniprot_id)\n",
    "    print(f\"This is gene name in hugo: {gene_name}\")\n",
    "    cbioport_df = get_cbioportal_info(gene_name=gene_name)\n",
    "    save_DataFrame_to_csv(cbioport_df, path, \"cbioport_mutations\")\n",
    "except Exception as error:\n",
    "    print(error)\n",
    "\n",
    "# Print shapes (if available)\n",
    "DataFrames = [cosmic_df, updated_clinvar_df, gnomad_df, cbioport_df]\n",
    "for df in DataFrames:\n",
    "    try:\n",
    "        print(f\"This is df shape: {df.shape}\")\n",
    "    except Exception as error:\n",
    "        print(error)"
   ]
  },
  {
   "cell_type": "code",
   "execution_count": null,
   "id": "a7a926ab-942c-449b-abc9-fbf3c5399fef",
   "metadata": {},
   "outputs": [],
   "source": []
  }
 ],
 "metadata": {
  "kernelspec": {
   "display_name": "Python 3 (ipykernel)",
   "language": "python",
   "name": "python3"
  },
  "language_info": {
   "codemirror_mode": {
    "name": "ipython",
    "version": 3
   },
   "file_extension": ".py",
   "mimetype": "text/x-python",
   "name": "python",
   "nbconvert_exporter": "python",
   "pygments_lexer": "ipython3",
   "version": "3.10.13"
  }
 },
 "nbformat": 4,
 "nbformat_minor": 5
}
