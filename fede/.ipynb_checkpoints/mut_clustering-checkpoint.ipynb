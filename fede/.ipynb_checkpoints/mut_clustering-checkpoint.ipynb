{
 "cells": [
  {
   "cell_type": "markdown",
   "id": "tB9mHls6TdoW",
   "metadata": {
    "id": "tB9mHls6TdoW"
   },
   "source": [
    "# Mutational Clustering\n",
    "\n",
    "Computes multichain mutational clustering\n",
    "## Input files:\n",
    "* Structure pdb file (cleaned or not)\n",
    "* Cosmic *.csv* file from https://cancer.sanger.ac.uk/cosmic\n",
    ">> *Gene page-> Variants-> Mutations -> Export: csv*\n",
    "* Consurf *.txt* file from https://consurf.tau.ac.il/consurf_index.php\n",
    ">> *Launch job-> View results summary (download)*\n",
    "\n",
    "## Input variables\n",
    "* Consurf file sequence reading option:\n",
    ">* s for SEQRES derived sequence\n",
    ">* a for ATOM derived sequence\n",
    "* Output name\n",
    "* Output directory pathname\n",
    "* Required chain for plotting\n",
    "\n",
    "## Output variables\n",
    "* Count = number of total mutations from Cosmic *.csv* file\n",
    "* Variants = number of variants from Cosmic *.csv* file\n",
    "* CS Score = conservation score from Consurf *.txt* file\n",
    "* W1 Score = Count * CS score /20\n",
    "* Neighbs = number of neighboring residues within 8 Å cutoff\n",
    "* M Neighbs = number of mutated neighbors\n",
    "* Neigh Muts = number of total mutations on neighbors\n",
    "* W2 Score = CS score / 9 * Neigh Muts\n",
    "* W2 Score = normalized W2 Score\n",
    "\n",
    "\n",
    "\n",
    "\n",
    "\n",
    "\n",
    "\n",
    "\n"
   ]
  },
  {
   "cell_type": "code",
   "execution_count": null,
   "id": "f8fb3245-b11b-44ce-bf4c-48f76fae79b9",
   "metadata": {
    "id": "f8fb3245-b11b-44ce-bf4c-48f76fae79b9"
   },
   "outputs": [],
   "source": [
    "#import time\n",
    "#start_time= time.time ()\n",
    "import pandas as pd\n",
    "import numpy as np\n",
    "import re\n",
    "from collections import OrderedDict\n",
    "from scipy.spatial import distance\n",
    "\n",
    "pd.set_option('display.max_columns', None)\n",
    "#pd.set_option('display.width', 300)\n",
    "pd.set_option('display.max_rows', None)\n",
    "#pd.reset_option('all')"
   ]
  },
  {
   "cell_type": "code",
   "execution_count": null,
   "id": "f8bc720d-1259-41e7-8758-e1aaf0132b79",
   "metadata": {
    "colab": {
     "base_uri": "https://localhost:8080/",
     "height": 269
    },
    "id": "f8bc720d-1259-41e7-8758-e1aaf0132b79",
    "outputId": "aed79ab0-fb7b-43f3-caa6-b25ed2af7d5c"
   },
   "outputs": [],
   "source": [
    "filein= input ('Enter PDB file pathname:\\n')\n",
    "with open (filein, 'r') as fin:\n",
    "    wholepdb=fin\n",
    "\n",
    "    colspecs = [(0, 6), (6, 11), (12, 16), (16, 17), (17, 20), (21, 22), (22, 26),\n",
    "            (26, 27), (30, 38), (38, 46), (46, 54), (54, 60), (60, 66), (76, 78),\n",
    "            (78, 80)]\n",
    "\n",
    "    names = ['ATOM', 'serial', 'name', 'altloc', 'resname', 'chainid', 'resseq',\n",
    "         'icode', 'x', 'y', 'z', 'occupancy', 'tempfactor', 'element', 'charge']\n",
    "\n",
    "    pdb = pd.read_fwf(wholepdb, names=names, colspecs=colspecs)\n",
    "\n",
    "    pdb = pdb.loc[pdb['ATOM'] == 'ATOM']\n",
    "    pdb = pdb.loc[pdb['name'] == 'CA']\n",
    "    pdb = pdb.loc[(pdb['altloc'].isna()) | (pdb['altloc']== 'A')]\n",
    "    pdb = pdb.set_index('resseq')\n",
    "    pdb.index = pdb.index.astype(int)\n",
    "\n",
    "pdb.head()"
   ]
  },
  {
   "cell_type": "code",
   "execution_count": null,
   "id": "slyEowiYrJUZ",
   "metadata": {
    "id": "slyEowiYrJUZ"
   },
   "outputs": [],
   "source": [
    "\"\"\" .csv mutation export file in \"\"\"\n",
    "\n",
    "def opencsv(fin, chain):\n",
    "    mut=pd.read_csv(fin, index_col=0)\n",
    "\n",
    "    # dropping the rows having NaN index values\n",
    "\n",
    "    mut = mut[mut.index.notnull()]\n",
    "    mut.index = mut.index.astype(int)\n",
    "    mut = mut.drop(labels=['CDS Mutation', 'AA Mutation', 'Legacy Mutation ID'], axis=1)\n",
    "\n",
    "    # selecting for Missense\n",
    "    mut = mut.loc[mut['Type'].str.contains('Missense')]\n",
    "    mut = mut.drop(labels=['Type'], axis=1)\n",
    "\n",
    "    # adding Variants column\n",
    "    mut['Variants'] = 1\n",
    "\n",
    "    # grouping and summing variants\n",
    "    mut_= mut.groupby(['Position'])[['Count', 'Variants']].sum()\n",
    "\n",
    "    # filling missing residues by PDB index with 0\n",
    "    idx= grouped.get_group(chain).index\n",
    "    cv=mut_.reindex(idx, fill_value=0)\n",
    "    cv.index.names=['Residue']\n",
    "\n",
    "    cv.insert(loc=0, column='Chain', value=grouped.get_group(chain)['chainid'])\n",
    "    cv.index=cv.index.astype(int)\n",
    "\n",
    "    return (cv, mut_)\n",
    "\n",
    "#cv, mut_=opencsv(fin)"
   ]
  },
  {
   "cell_type": "code",
   "execution_count": null,
   "id": "665908da-7643-4c46-9d13-60c4221b3da8",
   "metadata": {
    "colab": {
     "base_uri": "https://localhost:8080/"
    },
    "id": "665908da-7643-4c46-9d13-60c4221b3da8",
    "outputId": "b97c04f3-e078-4515-bb6f-95366ac992b5"
   },
   "outputs": [],
   "source": [
    "grouped = pdb.groupby(pdb['chainid'], sort=False)\n",
    "#grouped.get_group('L')\n",
    "\n",
    "\n",
    "#pdb['chainid'].unique()\n",
    "#print(len(grouped))\n",
    "#x, y= grouped\n",
    "#eug=x[1]\n",
    "\n",
    "chains=[]\n",
    "for name,group in grouped:\n",
    "    chains.append(name)\n",
    "\n",
    "chains"
   ]
  },
  {
   "cell_type": "code",
   "execution_count": null,
   "id": "-7js0sqs5jAx",
   "metadata": {
    "colab": {
     "base_uri": "https://localhost:8080/"
    },
    "id": "-7js0sqs5jAx",
    "outputId": "905c186e-d723-4b4b-d1d6-e880d39bf0bf"
   },
   "outputs": [],
   "source": [
    "opt= input('Select consurf file sequence reading option:\\n\\ts for SEQRES derived sequence\\n\\ta for ATOM derived sequence\\n\\t')\n",
    "if opt != 's' and opt != 'a':\n",
    "    raise ValueError('Please type \"s\" (SEQRES) or \"a\" (ATOM)')\n",
    "\n",
    "def openconsurf (filein):\n",
    "    mylist= list (filein)\n",
    "    mutlist = [line.rstrip ('\\n') for line in mylist]\n",
    "    for ele in mutlist:\n",
    "      if '(normalized)' in ele:\n",
    "        cut= mutlist.index(ele)+1\n",
    "\n",
    "    del mutlist[:cut]\n",
    "    del mutlist[-4:]\n",
    "\n",
    "\n",
    "    def delim():\n",
    "        split=[]\n",
    "\n",
    "        for ele in mutlist:\n",
    "            delimiter='\\t'\n",
    "            t=ele.split(delimiter)\n",
    "            if '-' not in t[2]:\n",
    "                if opt=='s':\n",
    "                  a=t[0].strip(' '), t[5].strip(' *')\n",
    "                if opt=='a':\n",
    "                  res= re.search('\\d+',t[2])\n",
    "                  a=int(res.group()), t[5].strip(' *')\n",
    "                split.append(a)\n",
    "\n",
    "        return split\n",
    "\n",
    "    mcs= (delim())\n",
    "\n",
    "    mc= pd.DataFrame(mcs, columns=['Residue', 'CS score'])\n",
    "    mc['CS score'] = mc['CS score'].astype(int)\n",
    "    mc=mc.set_index(\"Residue\")\n",
    "    mc.index=mc.index.astype(int)\n",
    "\n",
    "    return (mc)\n",
    "\n",
    "#mc= openconsurf (fin)"
   ]
  },
  {
   "cell_type": "code",
   "execution_count": null,
   "id": "f339b728-ca29-4295-98be-c100eaef0847",
   "metadata": {
    "colab": {
     "base_uri": "https://localhost:8080/"
    },
    "id": "f339b728-ca29-4295-98be-c100eaef0847",
    "outputId": "7d524eee-a070-471c-a192-91839cbb7de9"
   },
   "outputs": [],
   "source": [
    "df_dict=OrderedDict()\n",
    "mut_dict=OrderedDict()\n",
    "for ele in chains:\n",
    "\n",
    "    csvin= input ('Enter mutation .csv file path for chain {}:\\n'.format(ele))\n",
    "    with open (csvin, 'r') as fin:\n",
    "     cv, mut_= opencsv(fin, ele)\n",
    "\n",
    "\n",
    "    consurfin= input ('Enter consurf .txt file path for chain {}:\\n'.format(ele))\n",
    "    with open (consurfin, 'r') as fin:\n",
    "      mc= openconsurf(fin)\n",
    "\n",
    "    cvc= pd.concat ([cv, mc], axis=1)\n",
    "    cvc.index.name = None\n",
    "\n",
    "    cvc['W1 score']=(cvc['Count']*cvc['CS score'])/20\n",
    "\n",
    "    df_dict[ele] = cvc\n",
    "    mut_dict[ele] = mut_\n",
    "\n"
   ]
  },
  {
   "cell_type": "code",
   "execution_count": null,
   "id": "iAIMAeYrK3y3",
   "metadata": {
    "id": "iAIMAeYrK3y3"
   },
   "outputs": [],
   "source": [
    "\"\"\" concatenate all dataframes \"\"\"\n",
    "\n",
    "compw1= pd.concat (df_dict.values())\n",
    "#compw1\n"
   ]
  },
  {
   "cell_type": "code",
   "execution_count": null,
   "id": "wpl-7xmBZFcl",
   "metadata": {
    "colab": {
     "base_uri": "https://localhost:8080/",
     "height": 1000
    },
    "id": "wpl-7xmBZFcl",
    "outputId": "a0bda4a2-8134-474c-d640-e0e858cc0947",
    "tags": []
   },
   "outputs": [],
   "source": [
    "compw1=compw1.dropna()\n",
    "compw1"
   ]
  },
  {
   "cell_type": "code",
   "execution_count": null,
   "id": "SrR33vX47qE1",
   "metadata": {
    "colab": {
     "base_uri": "https://localhost:8080/",
     "height": 1000
    },
    "id": "SrR33vX47qE1",
    "outputId": "c408beb0-ccbf-4fa2-f364-09dea7ec3001",
    "tags": []
   },
   "outputs": [],
   "source": [
    "multins=compw1.set_index(['Chain', compw1.index], drop=True)\n",
    "\n",
    "multis=multins.sort_index()\n",
    "multins"
   ]
  },
  {
   "cell_type": "code",
   "execution_count": null,
   "id": "T8GsH3OyZ77v",
   "metadata": {
    "colab": {
     "base_uri": "https://localhost:8080/",
     "height": 1000
    },
    "id": "T8GsH3OyZ77v",
    "outputId": "a4036b91-f852-4c2a-9971-23953fe4b09a",
    "tags": []
   },
   "outputs": [],
   "source": [
    "pdbs=pdb.set_index(['chainid', pdb.index], drop=True)\n",
    "pdbs=pdbs.sort_index()\n",
    "pdbs"
   ]
  },
  {
   "cell_type": "code",
   "execution_count": null,
   "id": "rzYjaeD7FAwq",
   "metadata": {
    "colab": {
     "base_uri": "https://localhost:8080/"
    },
    "id": "rzYjaeD7FAwq",
    "outputId": "9b9c3b14-6437-4793-d2db-38f3645a5d4c"
   },
   "outputs": [],
   "source": [
    "outname = input ('enter output name:\\n')\n",
    "outdir = input ('enter output directory pathname:\\n')"
   ]
  },
  {
   "cell_type": "code",
   "execution_count": null,
   "id": "6b86dd01-6cb5-4bd1-927a-2d8d4ff92563",
   "metadata": {
    "id": "6b86dd01-6cb5-4bd1-927a-2d8d4ff92563"
   },
   "outputs": [],
   "source": [
    "\"\"\" write vmd W1 score visualization state \"\"\"\n",
    "\n",
    "def writevmd ():\n",
    "    data = {\n",
    "        'form1': ' draw sphere \"',\n",
    "        'x': pdbs['x'],\n",
    "        'y': pdbs['y'],\n",
    "        'z': pdbs['z'],\n",
    "        'form2': ' \" ',\n",
    "        'form3': 'radius',\n",
    "        'W score': multis['W1 score'],\n",
    "        'form4': 'resolution 20'\n",
    "    }\n",
    "\n",
    "\n",
    "    vmd=pd.DataFrame(data=data)\n",
    "    vmd=vmd.dropna()\n",
    "    #vmd.index.name = None\n",
    "\n",
    "    vmdout= open('{}/{}_w1.vmd'.format(outdir, outname), 'w')\n",
    "    hd=  ' molecule new\\n display resetview\\n draw color orange\\n'\n",
    "    vmdout.write(hd+vmd.to_string(header= False, index=False))\n",
    "    vmdout.close()\n",
    "\n",
    "writevmd()"
   ]
  },
  {
   "cell_type": "code",
   "execution_count": null,
   "id": "qWqKS1P0_K44",
   "metadata": {
    "colab": {
     "base_uri": "https://localhost:8080/",
     "height": 1000
    },
    "id": "qWqKS1P0_K44",
    "outputId": "53df445c-77c7-42b1-b48a-c38fb7098917"
   },
   "outputs": [],
   "source": [
    "\"\"\" neighboring residues \"\"\"\n",
    "\n",
    "data= {\n",
    "    'chainid': pdb['chainid'],\n",
    "    'x': pdb['x'],\n",
    "    'y': pdb['y'],\n",
    "    'z': pdb['z']}\n",
    "\n",
    "coo=pd.DataFrame(data=data, index=pdb.index)\n",
    "coo=coo.set_index(['chainid',pdb.index.astype(int)], drop= True)\n",
    "coo=coo.sort_index()\n",
    "coo"
   ]
  },
  {
   "cell_type": "code",
   "execution_count": null,
   "id": "ImYym6W192rt",
   "metadata": {
    "id": "ImYym6W192rt"
   },
   "outputs": [],
   "source": [
    "#mfa= coo.loc[('G', 368):('L', 4), :]\n",
    "#mic= mfa.to_numpy()\n",
    "#mfa"
   ]
  },
  {
   "cell_type": "code",
   "execution_count": null,
   "id": "jxcFjr8J4_5Y",
   "metadata": {
    "id": "jxcFjr8J4_5Y"
   },
   "outputs": [],
   "source": [
    "\"\"\" matrix parsing function \"\"\"\n",
    "\n",
    "def ret(din):\n",
    "    d= {} #number of neighbors\n",
    "    dn= {} #number of mut neighbors\n",
    "    l= [] #neigh pairs\n",
    "    df= {} #sum of mutation frequencies on neighbors\n",
    "    for key, value in (din).items():\n",
    "        d[key]=0\n",
    "        dn[key]=0\n",
    "        df[key]=0\n",
    "        for n in (din.index):\n",
    "            if (value[n])>8 or (value[n]) == 0:\n",
    "                continue\n",
    "            else:\n",
    "                d[key] += 1\n",
    "                m = (n, key)\n",
    "                l.append(m)\n",
    "\n",
    "                if multis.loc[n, 'Count'] != 0:\n",
    "                    dn[key] += 1\n",
    "                    df[key] += multis.loc[n, 'Count']\n",
    "\n",
    "            #print (value[n], 'row', n, 'col', key)\n",
    "            #print (d)\n",
    "        #print ('residue:', key)\n",
    "        #print ('neigh=', d[key])\n",
    "    return (d, l, dn, df)\n",
    "\n",
    "#ret(fos)"
   ]
  },
  {
   "cell_type": "code",
   "execution_count": null,
   "id": "WaZ1vsLlSrLg",
   "metadata": {
    "id": "WaZ1vsLlSrLg"
   },
   "outputs": [],
   "source": [
    "\"\"\" building neighboring matrix \"\"\"\n",
    "coo=coo.astype(float)\n",
    "boom= coo.loc[:, ['x','y','z']].to_numpy()\n",
    "#dbr=pd.DataFrame(boom, columns=['x', 'y', 'z'], index=pdb.index)\n",
    "\n",
    "mat=distance.cdist(boom, boom, 'euclidean')\n",
    "\n",
    "matr=pd.DataFrame(mat, columns=coo.index, index=coo.index)"
   ]
  },
  {
   "cell_type": "code",
   "execution_count": null,
   "id": "sPqh5-2sBWjg",
   "metadata": {
    "id": "sPqh5-2sBWjg"
   },
   "outputs": [],
   "source": [
    "neighcount, neigh, mutneighcount, neighfreqs= ret(matr)"
   ]
  },
  {
   "cell_type": "code",
   "execution_count": null,
   "id": "BJnguSDwCcFD",
   "metadata": {
    "id": "BJnguSDwCcFD"
   },
   "outputs": [],
   "source": [
    "multis['Neighbs']=neighcount.values() #number of neighbors\n",
    "multis['M Neighbs']= mutneighcount.values() #number of mut neighbors\n",
    "multis['Neigh Muts']= neighfreqs.values() #sum of mutation frequencies on neighbors\n",
    "multis['W2 Score']= ((multis['CS score']/9)*multis['Neigh Muts']).round(2)\n",
    "\n",
    "for key, value in multis['W2 Score'].items():\n",
    "    if multis.loc[key,'Count'] == 0:\n",
    "        multis.loc[key,'W2 Score'] = 0\n",
    "\n",
    "w2= multis['W2 Score']\n",
    "multis['W2 Norm']= ((w2 - w2.min()) / (w2.max() - (w2.min())) * 100).round(2)"
   ]
  },
  {
   "cell_type": "code",
   "execution_count": null,
   "id": "6DuL5rNRTbyi",
   "metadata": {
    "id": "6DuL5rNRTbyi"
   },
   "outputs": [],
   "source": [
    "\"\"\" export clustering text file \"\"\"\n",
    "\n",
    "def multiout():\n",
    "    multis.index.name = 'Res'\n",
    "    multiout= open('{}/{}_clustering.txt'.format(outdir, outname), 'w')\n",
    "    out= multis.to_string()\n",
    "    multiout.write(out)\n",
    "    multiout.close()\n",
    "\n",
    "multiout()"
   ]
  },
  {
   "cell_type": "code",
   "execution_count": null,
   "id": "YONOW2KNISqu",
   "metadata": {
    "id": "YONOW2KNISqu"
   },
   "outputs": [],
   "source": [
    "\"\"\" export clustering sort by w1 \"\"\"\n",
    "def sortw1out():\n",
    "    sortw1=multis.sort_values(by=['W1 score'], ascending=False)\n",
    "    sortw1out= open('{}/{}_sort_w1.txt'.format(outdir, outname), 'w')\n",
    "    out= sortw1.to_string()\n",
    "    sortw1out.write(out)\n",
    "    sortw1out.close()\n",
    "\n",
    "sortw1out()"
   ]
  },
  {
   "cell_type": "code",
   "execution_count": null,
   "id": "aNN_VvBqO8MA",
   "metadata": {
    "id": "aNN_VvBqO8MA"
   },
   "outputs": [],
   "source": [
    "def sortw2out():\n",
    "    sortw2=multis.sort_values(by=['W2 Score'], ascending=False)\n",
    "    sortw2out= open('{}/{}_sort_w2.txt'.format(outdir, outname), 'w')\n",
    "    out= sortw2.to_string()\n",
    "    sortw2out.write(out)\n",
    "    sortw2out.close()\n",
    "\n",
    "sortw2out()"
   ]
  },
  {
   "cell_type": "code",
   "execution_count": null,
   "id": "eeHn6D2uecL7",
   "metadata": {
    "id": "eeHn6D2uecL7"
   },
   "outputs": [],
   "source": [
    "def sortcount():\n",
    "    sortc=multis.sort_values(by=['Count'], ascending=False)\n",
    "    sortcount= open('{}/{}_sort_count.txt'.format(outdir, outname), 'w')\n",
    "    out= sortc.to_string()\n",
    "    sortcount.write(out)\n",
    "    sortcount.close()\n",
    "\n",
    "sortcount()"
   ]
  },
  {
   "cell_type": "code",
   "execution_count": null,
   "id": "6kXh_qr8UAeq",
   "metadata": {
    "colab": {
     "base_uri": "https://localhost:8080/"
    },
    "id": "6kXh_qr8UAeq",
    "outputId": "7d7654a2-e7fb-41bc-e543-a961da7e7806"
   },
   "outputs": [],
   "source": [
    "import matplotlib.pyplot as plt\n",
    "%matplotlib inline\n",
    "pchain= input ('Input required chain for plotting\\n')\n",
    "pmultis= multis.reset_index(level=[0,1])\n",
    "pmultis.rename(columns = {'level_1':'Residue'}, inplace= True)\n"
   ]
  },
  {
   "cell_type": "code",
   "execution_count": null,
   "id": "LoMomML-abC7",
   "metadata": {
    "colab": {
     "base_uri": "https://localhost:8080/",
     "height": 1000
    },
    "id": "LoMomML-abC7",
    "outputId": "cf2d35bb-e9bd-4a14-988d-0a0d974f0437"
   },
   "outputs": [],
   "source": [
    "mgj=pmultis[pmultis['Chain']== pchain]\n",
    "pcount=mgj.plot(y='Count', x= 'Residue')\n",
    "fout= '{}/{}_plot_count_chain{}.png'.format(outdir, outname, pchain)\n",
    "plt.savefig(fout, dpi=300, facecolor='white', bbox_inches='tight')\n",
    "\n",
    "pw1=mgj.plot(y='W1 score', x= 'Residue')\n",
    "fout= '{}/{}_plot_w1_chain{}.png'.format(outdir, outname, pchain)\n",
    "plt.savefig(fout, dpi=300, facecolor='white', bbox_inches='tight')\n",
    "\n",
    "pw2=mgj.plot(y='W2 Norm', x= 'Residue')\n",
    "fout= '{}/{}_plot_w2_chain{}.png'.format(outdir, outname, pchain)\n",
    "plt.savefig(fout, dpi=300, facecolor='white', bbox_inches='tight')"
   ]
  },
  {
   "cell_type": "code",
   "execution_count": null,
   "id": "jv1fKh7iJg95",
   "metadata": {
    "colab": {
     "base_uri": "https://localhost:8080/",
     "height": 235
    },
    "id": "jv1fKh7iJg95",
    "outputId": "4e41f776-7f60-492f-8416-8b548e34dfed"
   },
   "outputs": [],
   "source": [
    "pdbw2= pdb\n",
    "pdbw2= pdbw2.set_index(['chainid', pdb.index], drop=False)\n",
    "pdbw2= pdbw2.sort_index()\n",
    "mf=pdbw2.index.get_level_values(1)\n",
    "pdbw2.insert(loc=6, column='res', value=mf)\n",
    "pdbw2=pdbw2.drop(labels=['element', 'charge', 'altloc'], axis=1)\n",
    "pdbw2['tempfactor']=multis['W2 Norm']\n",
    "pdbw2['icode']='  '\n",
    "pdbw2['occupancy']='1.00'\n",
    "pdbw2= pdbw2.loc[pdbw2['tempfactor'] != 0]\n",
    "pdbw2['serial']=pdbw2['serial'].astype(int)\n",
    "pdbw2=pdbw2.sort_values('serial')\n",
    "pdbw2.head()"
   ]
  },
  {
   "cell_type": "code",
   "execution_count": null,
   "id": "NDq8dqdEO797",
   "metadata": {
    "id": "NDq8dqdEO797"
   },
   "outputs": [],
   "source": [
    "def pdbw2out():\n",
    "    pdbwout= open('{}/{}_w2.pdb'.format(outdir, outname), 'w')\n",
    "    col_space= {'serial':6, 'name':3, 'resname':4, 'occupancy':5, 'tempfactor':5}\n",
    "    out= pdbw2.to_string(col_space=col_space, header= False, index=False)\n",
    "    pdbwout.write(out)\n",
    "    pdbwout.close()\n",
    "\n",
    "pdbw2out()"
   ]
  }
 ],
 "metadata": {
  "colab": {
   "provenance": []
  },
  "kernelspec": {
   "display_name": "Python 3 (ipykernel)",
   "language": "python",
   "name": "python3"
  },
  "language_info": {
   "codemirror_mode": {
    "name": "ipython",
    "version": 3
   },
   "file_extension": ".py",
   "mimetype": "text/x-python",
   "name": "python",
   "nbconvert_exporter": "python",
   "pygments_lexer": "ipython3",
   "version": "3.10.9"
  }
 },
 "nbformat": 4,
 "nbformat_minor": 5
}
